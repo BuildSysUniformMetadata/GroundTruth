{
 "cells": [
  {
   "cell_type": "code",
   "execution_count": 439,
   "metadata": {
    "collapsed": true
   },
   "outputs": [],
   "source": [
    "# config\n",
    "exampleName=\"IBM_B3\"\n",
    "exampleDescription=\"Example ontology for IBM Building 3, Dublin\"\n",
    "testing=False"
   ]
  },
  {
   "cell_type": "code",
   "execution_count": 440,
   "metadata": {
    "collapsed": false
   },
   "outputs": [],
   "source": [
    "#!pip install rdflib\n",
    "#!pip install pydot2\n",
    "#!pip install pydotplus"
   ]
  },
  {
   "cell_type": "code",
   "execution_count": 441,
   "metadata": {
    "collapsed": false
   },
   "outputs": [],
   "source": [
    "import rdflib\n",
    "from rdflib.namespace import RDFS\n",
    "from rdflib import URIRef, BNode, Literal\n",
    "import re\n",
    "from collections import defaultdict\n",
    "import numpy as np\n",
    "import pandas as pd\n",
    "#import pydot as pydot\n",
    "import networkx as nx\n",
    "from networkx.drawing.nx_pydot import write_dot\n",
    "#import matplotlib.pyplot as plt"
   ]
  },
  {
   "cell_type": "code",
   "execution_count": 442,
   "metadata": {
    "collapsed": false
   },
   "outputs": [
    {
     "name": "stdout",
     "output_type": "stream",
     "text": [
      "13719\n"
     ]
    }
   ],
   "source": [
    "def ns(url):\n",
    "  url = url.replace(\"http://buildsys.org/ontologies/Brick#\", \"\")\n",
    "  url = url.replace(\"http://buildsys.org/ontologies/BrickFrame#\", \"\")\n",
    "  url = url.replace(\"http://buildsys.org/ontologies/BrickTag#\", \"\")\n",
    "  return url\n",
    "\n",
    "BRICKF = rdflib.Namespace('http://buildsys.org/ontologies/BrickFrame#')\n",
    "TAGS   = rdflib.Namespace('http://buildsys.org/ontologies/BrickTag#')\n",
    "TS     = rdflib.Namespace('http://buildsys.org/ontologies/Brick#')\n",
    "\n",
    "g = rdflib.Graph()\n",
    "g.bind( 'bf', BRICKF)\n",
    "g.bind('tag', TAGS)\n",
    "g.bind( 'ts', TS)\n",
    "result = g.parse('../BuildingSchema/BrickFrame.ttl', format='n3')\n",
    "result = g.parse('../BuildingSchema/BrickTag.ttl', format='n3')\n",
    "result = g.parse('../BuildingSchema/Brick.ttl', format='n3')\n",
    "print(len(g))"
   ]
  },
  {
   "cell_type": "markdown",
   "metadata": {},
   "source": [
    "define your own namespace"
   ]
  },
  {
   "cell_type": "code",
   "execution_count": 443,
   "metadata": {
    "collapsed": false
   },
   "outputs": [],
   "source": [
    "MyNS = rdflib.Namespace('http://buildsys.org/ontologies/examples/'+exampleName+'#')\n",
    "g.bind(':', MyNS)"
   ]
  },
  {
   "cell_type": "markdown",
   "metadata": {},
   "source": [
    "### Load TagSets"
   ]
  },
  {
   "cell_type": "code",
   "execution_count": 444,
   "metadata": {
    "collapsed": false
   },
   "outputs": [
    {
     "data": {
      "text/plain": [
       "271"
      ]
     },
     "execution_count": 444,
     "metadata": {},
     "output_type": "execute_result"
    }
   ],
   "source": [
    "qres = g.query(\"\"\"SELECT DISTINCT ?ts WHERE {  ?ts rdfs:subClassOf+ bf:Tag . }\"\"\")\n",
    "brickTags=set()\n",
    "for row in qres:\n",
    "  ts=ns(row['ts'])\n",
    "  brickTags.add(ns(row['ts']))\n",
    "len(brickTags)"
   ]
  },
  {
   "cell_type": "code",
   "execution_count": 445,
   "metadata": {
    "collapsed": false
   },
   "outputs": [
    {
     "data": {
      "text/plain": [
       "758"
      ]
     },
     "execution_count": 445,
     "metadata": {},
     "output_type": "execute_result"
    }
   ],
   "source": [
    "qres = g.query(\"\"\"SELECT DISTINCT ?ts WHERE {  ?ts rdfs:subClassOf+ bf:TagSet . }\"\"\")\n",
    "brickTagSets=set()\n",
    "brickTagSetTags={}\n",
    "for row in qres:\n",
    "  ts=ns(row['ts'])\n",
    "  brickTagSets.add(ts)\n",
    "  brickTagSetTags[ts]=set(ts.split('_'))\n",
    "len(brickTagSets)"
   ]
  },
  {
   "cell_type": "code",
   "execution_count": 446,
   "metadata": {
    "collapsed": false
   },
   "outputs": [
    {
     "data": {
      "text/plain": [
       "6"
      ]
     },
     "execution_count": 446,
     "metadata": {},
     "output_type": "execute_result"
    }
   ],
   "source": [
    "qres = g.query(\"\"\"SELECT DISTINCT ?ts WHERE {  ?ts rdfs:subClassOf+ ts:Location . }\"\"\")\n",
    "loc_tags=set(['Location'])\n",
    "for row in qres:\n",
    "  ts=ns(row['ts'])\n",
    "  loc_tags.add(ts)\n",
    "len(loc_tags)"
   ]
  },
  {
   "cell_type": "code",
   "execution_count": 447,
   "metadata": {
    "collapsed": false
   },
   "outputs": [
    {
     "data": {
      "text/plain": [
       "583"
      ]
     },
     "execution_count": 447,
     "metadata": {},
     "output_type": "execute_result"
    }
   ],
   "source": [
    "qres = g.query(\"\"\"SELECT DISTINCT ?ts WHERE {  ?ts rdfs:subClassOf+ ts:Point . }\"\"\")\n",
    "point_tags=set(['Point'])\n",
    "pointTagSetTags={}\n",
    "for row in qres:\n",
    "  ts=ns(row['ts'])\n",
    "  point_tags.add(ts)\n",
    "  pointTagSetTags[ts]=set(ts.split('_'))\n",
    "len(point_tags)"
   ]
  },
  {
   "cell_type": "code",
   "execution_count": 448,
   "metadata": {
    "collapsed": false
   },
   "outputs": [
    {
     "data": {
      "text/plain": [
       "100"
      ]
     },
     "execution_count": 448,
     "metadata": {},
     "output_type": "execute_result"
    }
   ],
   "source": [
    "qres = g.query(\"\"\"SELECT DISTINCT ?ts WHERE {  ?ts rdfs:subClassOf+ ts:MeasurementProperty . }\"\"\")\n",
    "measurment_tags=set(['MeasurementProperty'])\n",
    "for row in qres:\n",
    "  ts=ns(row['ts'])\n",
    "  measurment_tags.add(ns(row['ts']))\n",
    "len(measurment_tags)"
   ]
  },
  {
   "cell_type": "code",
   "execution_count": 449,
   "metadata": {
    "collapsed": false
   },
   "outputs": [
    {
     "data": {
      "text/plain": [
       "50"
      ]
     },
     "execution_count": 449,
     "metadata": {},
     "output_type": "execute_result"
    }
   ],
   "source": [
    "qres = g.query(\"\"\"SELECT DISTINCT ?ts WHERE {  ?ts rdfs:subClassOf+ ts:Equipment . }\"\"\")\n",
    "asset_tags=set(['Asset'])\n",
    "for row in qres:\n",
    "  ts=ns(row['ts'])\n",
    "  asset_tags.add(ns(row['ts']))\n",
    "len(asset_tags)"
   ]
  },
  {
   "cell_type": "markdown",
   "metadata": {},
   "source": [
    "remove hierachical tags"
   ]
  },
  {
   "cell_type": "code",
   "execution_count": 450,
   "metadata": {
    "collapsed": false
   },
   "outputs": [
    {
     "data": {
      "text/plain": [
       "482"
      ]
     },
     "execution_count": 450,
     "metadata": {},
     "output_type": "execute_result"
    }
   ],
   "source": [
    "qres = g.query(\"\"\"SELECT DISTINCT ?ts WHERE {  ?ts bf:isHierarchical \"\". }\"\"\")\n",
    "for row in qres:\n",
    "  ts=ns(row['ts'])\n",
    "  if ts in brickTags: brickTags.remove(ts)\n",
    "  if ts in brickTagSets: brickTagSets.remove(ts)\n",
    "  if ts in brickTagSetTags: del brickTagSetTags[ts]\n",
    "  if ts in point_tags: point_tags.remove(ts)\n",
    "  if ts in asset_tags: asset_tags.remove(ts)\n",
    "  if ts in measurment_tags: measurment_tags.remove(ts)\n",
    "  if ts in pointTagSetTags: del pointTagSetTags[ts]\n",
    "len(brickTagSets)\n",
    "len(point_tags)"
   ]
  },
  {
   "cell_type": "code",
   "execution_count": null,
   "metadata": {
    "collapsed": false
   },
   "outputs": [],
   "source": []
  },
  {
   "cell_type": "code",
   "execution_count": 451,
   "metadata": {
    "collapsed": false
   },
   "outputs": [],
   "source": [
    "def IndivName(name):\n",
    "  return re.sub(r'\\s','_',re.sub(r'[^\\d\\w\\s]', '', name))"
   ]
  },
  {
   "cell_type": "markdown",
   "metadata": {},
   "source": [
    "### Load Data"
   ]
  },
  {
   "cell_type": "code",
   "execution_count": 452,
   "metadata": {
    "collapsed": false
   },
   "outputs": [
    {
     "data": {
      "text/html": [
       "<div>\n",
       "<table border=\"1\" class=\"dataframe\">\n",
       "  <thead>\n",
       "    <tr style=\"text-align: right;\">\n",
       "      <th></th>\n",
       "      <th>Label</th>\n",
       "      <th>TagSet</th>\n",
       "      <th>AssetType</th>\n",
       "      <th>Asset</th>\n",
       "      <th>AssetParent</th>\n",
       "      <th>City</th>\n",
       "      <th>Building</th>\n",
       "      <th>Wing</th>\n",
       "      <th>Floor</th>\n",
       "      <th>Room</th>\n",
       "      <th>Zone</th>\n",
       "    </tr>\n",
       "  </thead>\n",
       "  <tbody>\n",
       "    <tr>\n",
       "      <th>0</th>\n",
       "      <td>1F_MID_OPENOFF_CO2</td>\n",
       "      <td>Zone_Air_CO2_Sensor</td>\n",
       "      <td>NaN</td>\n",
       "      <td>NaN</td>\n",
       "      <td>NaN</td>\n",
       "      <td>Dublin</td>\n",
       "      <td>B3</td>\n",
       "      <td>SOR42</td>\n",
       "      <td>FirstFloor</td>\n",
       "      <td>OpenOffice</td>\n",
       "      <td>Middle</td>\n",
       "    </tr>\n",
       "    <tr>\n",
       "      <th>1</th>\n",
       "      <td>1F_NRTH_OPENOFF_CO2</td>\n",
       "      <td>Zone_Air_CO2_Sensor</td>\n",
       "      <td>NaN</td>\n",
       "      <td>NaN</td>\n",
       "      <td>NaN</td>\n",
       "      <td>Dublin</td>\n",
       "      <td>B3</td>\n",
       "      <td>SOR42</td>\n",
       "      <td>FirstFloor</td>\n",
       "      <td>OpenOffice</td>\n",
       "      <td>North</td>\n",
       "    </tr>\n",
       "    <tr>\n",
       "      <th>2</th>\n",
       "      <td>1F_STH_OPENOFF_CO2</td>\n",
       "      <td>Zone_Air_CO2_Sensor</td>\n",
       "      <td>NaN</td>\n",
       "      <td>NaN</td>\n",
       "      <td>NaN</td>\n",
       "      <td>Dublin</td>\n",
       "      <td>B3</td>\n",
       "      <td>SOR42</td>\n",
       "      <td>FirstFloor</td>\n",
       "      <td>OpenOffice</td>\n",
       "      <td>South</td>\n",
       "    </tr>\n",
       "    <tr>\n",
       "      <th>3</th>\n",
       "      <td>421_U10_CLG_VLV</td>\n",
       "      <td>FCU_Cooling_Valve_Percentage_Command</td>\n",
       "      <td>FCU</td>\n",
       "      <td>U10</td>\n",
       "      <td>NaN</td>\n",
       "      <td>Dublin</td>\n",
       "      <td>B3</td>\n",
       "      <td>SOR42</td>\n",
       "      <td>FirstFloor</td>\n",
       "      <td>SOR42_1_U10</td>\n",
       "      <td>NaN</td>\n",
       "    </tr>\n",
       "    <tr>\n",
       "      <th>4</th>\n",
       "      <td>421_U10_DAT</td>\n",
       "      <td>FCU_Supply_Air_Temperature_Sensor</td>\n",
       "      <td>FCU</td>\n",
       "      <td>U10</td>\n",
       "      <td>NaN</td>\n",
       "      <td>Dublin</td>\n",
       "      <td>B3</td>\n",
       "      <td>SOR42</td>\n",
       "      <td>FirstFloor</td>\n",
       "      <td>SOR42_1_U10</td>\n",
       "      <td>NaN</td>\n",
       "    </tr>\n",
       "  </tbody>\n",
       "</table>\n",
       "</div>"
      ],
      "text/plain": [
       "                 Label                                TagSet AssetType Asset  \\\n",
       "0   1F_MID_OPENOFF_CO2                   Zone_Air_CO2_Sensor       NaN   NaN   \n",
       "1  1F_NRTH_OPENOFF_CO2                   Zone_Air_CO2_Sensor       NaN   NaN   \n",
       "2   1F_STH_OPENOFF_CO2                   Zone_Air_CO2_Sensor       NaN   NaN   \n",
       "3      421_U10_CLG_VLV  FCU_Cooling_Valve_Percentage_Command       FCU   U10   \n",
       "4          421_U10_DAT     FCU_Supply_Air_Temperature_Sensor       FCU   U10   \n",
       "\n",
       "  AssetParent    City Building   Wing       Floor         Room    Zone  \n",
       "0         NaN  Dublin       B3  SOR42  FirstFloor   OpenOffice  Middle  \n",
       "1         NaN  Dublin       B3  SOR42  FirstFloor   OpenOffice   North  \n",
       "2         NaN  Dublin       B3  SOR42  FirstFloor   OpenOffice   South  \n",
       "3         NaN  Dublin       B3  SOR42  FirstFloor  SOR42_1_U10     NaN  \n",
       "4         NaN  Dublin       B3  SOR42  FirstFloor  SOR42_1_U10     NaN  "
      ]
     },
     "execution_count": 452,
     "metadata": {},
     "output_type": "execute_result"
    }
   ],
   "source": [
    "df=pd.read_csv('IBM_B3_points.csv')\n",
    "if testing: df=df.head(20)\n",
    "df.head()"
   ]
  },
  {
   "cell_type": "markdown",
   "metadata": {},
   "source": [
    "Analyze Dataset"
   ]
  },
  {
   "cell_type": "code",
   "execution_count": 453,
   "metadata": {
    "collapsed": false
   },
   "outputs": [
    {
     "data": {
      "text/plain": [
       "91"
      ]
     },
     "execution_count": 453,
     "metadata": {},
     "output_type": "execute_result"
    }
   ],
   "source": [
    "dfTags=set()\n",
    "dfTagSets=set(pd.unique(df.TagSet.dropna().ravel()))\n",
    "for ts in dfTagSets:\n",
    "  dfTags.update(ts.split('_'))\n",
    "len(dfTags)"
   ]
  },
  {
   "cell_type": "code",
   "execution_count": null,
   "metadata": {
    "collapsed": false
   },
   "outputs": [],
   "source": []
  },
  {
   "cell_type": "code",
   "execution_count": 454,
   "metadata": {
    "collapsed": false
   },
   "outputs": [
    {
     "name": "stdout",
     "output_type": "stream",
     "text": [
      "Missing Tags from Bricks:31\n",
      "{'Circualation', 'Lux', 'Instantations', 'Wireless', 'Incoming', 'External', 'ThermalWheel', 'Accumulated', 'Line', 'In', 'Illumination', 'Elevation', 'Loop', 'Electric', 'Weather', 'Sun', 'Socket', 'Presence', 'Radiation', 'PowerUnit', 'Facade', 'Out', 'Sunblind', 'SRVC', 'Light', 'Footfall', 'Phase', 'Percentage', 'Extract', 'Factor', 'Blind'}\n"
     ]
    }
   ],
   "source": [
    "dfMissingTags=dfTags - brickTags # schemaUsedTags - \n",
    "print(\"Missing Tags from Bricks:\" + str(len(dfMissingTags)))\n",
    "print(dfMissingTags)"
   ]
  },
  {
   "cell_type": "markdown",
   "metadata": {},
   "source": [
    "Find best matching tag sets for the defined ones"
   ]
  },
  {
   "cell_type": "code",
   "execution_count": 455,
   "metadata": {
    "collapsed": false
   },
   "outputs": [
    {
     "name": "stdout",
     "output_type": "stream",
     "text": [
      "Best Zone_Air_CO2_Sensor:['Outside_Air_CO2_Sensor', 'Return_Air_CO2_Sensor']\n",
      "Best FCU_Cooling_Valve_Percentage_Command:['Cooling_Valve_Command']\n",
      "Best FCU_Supply_Air_Temperature_Sensor:['Supply_Air_Temperature_Sensor']\n",
      "Best FCU_Fan_Speed_Sensor_Command:['Return_Fan_Differential_Speed_Sensor']\n",
      "Best FCU_Fault_Sensor:['Luminance_Sensor', 'CO2_Sensor', 'Occupancy_Sensor', 'Energy_Sensor', 'Rain_Sensor', 'Humidity_Sensor', 'Fault_Status', 'Hail_Sensor', 'Frost_Sensor']\n",
      "Best FCU_Heating_Valve_Percentage_Command:['Heating_Valve_Command']\n",
      "Best FCU_Return_Air_Temperature_Sensor:['Return_Air_Temperature_Sensor']\n",
      "Best FCU_Air_Temperature_Setpoint:['Discharge_Air_Temperature_Setpoint', 'Mixed_Air_Temperature_Setpoint', 'Supply_Air_Temperature_Setpoint']\n",
      "Best Light_Load_Electric_Meter:['Power_Meter', 'Water_Meter']\n",
      "Best Socket_Load_Electric_Meter:['Power_Meter', 'Water_Meter']\n",
      "Best Electric_Meter_FCU:['Power_Meter', 'Water_Meter']\n",
      "Best Electric_Meter:['Power_Meter', 'Water_Meter']\n",
      "Best Electric_Meter_Light:['Power_Meter', 'Water_Meter']\n",
      "Best Switch_Emergency_Command:['Emergency_Power_Off_Switch_Command']\n",
      "Best Socket_Load_Wireless_Electric_Meter:['Power_Meter', 'Water_Meter']\n",
      "Best Socket_Load_Blind_Electric_Meter:['Power_Meter', 'Water_Meter']\n",
      "Best Incoming_Water_Meter:['Water_Meter']\n",
      "Best AHU_Cooling_Valve_Percentage_Command:['Cooling_Valve_Command']\n",
      "Best AHU_Enable_Command:['AHU_System_Enable_Command']\n",
      "Best AHU_Heating_Valve_Percentage_Command:['Heating_Valve_Command']\n",
      "Best AHU_Return_Air_Temperature_Sensor:['Return_Air_Temperature_Sensor']\n",
      "Best AHU_Return_Fan_Variable_Speed_Speed_Sensor:['Return_Fan_Differential_Speed_Sensor']\n",
      "Best AHU_Supply_Air_Temperature_Setpoint:['Supply_Air_Temperature_Setpoint']\n",
      "Best AHU_Supply_Air_Temperature_Sensor:['Supply_Air_Temperature_Sensor']\n",
      "Best AHU_Supply_Fan_Variable_Speed_Command:['Supply_Fan_Command']\n",
      "Best AHU_ThermalWheel_Effective_Sensor:['Luminance_Sensor', 'CO2_Sensor', 'Occupancy_Sensor', 'Energy_Sensor', 'Rain_Sensor', 'Humidity_Sensor', 'Hail_Sensor', 'Frost_Sensor']\n",
      "Best Zone_Air_Temperature_Sensor:['Zone_Temperature_Sensor']\n",
      "Best Chilled_Water_Loop_Accumulated_Volume_Meter:['Water_Meter']\n",
      "Best Chilled_Water_Loop_Accumulated_PowerUnit_Meter:['Water_Meter']\n",
      "Best Chilled_Water_Loop_Flow_Meter:['Hot_Water_Flow_Meter']\n",
      "Best Chilled_Water_Loop_Return_Temperature_Sensor:['Chilled_Water_Return_Temperature_Sensor']\n",
      "Best Chilled_Water_Loop_Supply_Temperature_Sensor:['Chilled_Water_Supply_Temperature_Sensor']\n",
      "Best Hot_Water_Loop_Accumulated_Volume_Meter:['Hot_Water_Meter']\n",
      "Best Hot_Water_Loop_Accumulated_PowerUnit_Meter:['Hot_Water_Meter']\n",
      "Best Hot_Water_Loop_Flow_Meter:['Hot_Water_Flow_Meter']\n",
      "Best Hot_Water_Loop_Return_Temperature_Sensor:['Hot_Water_Return_Temperature_Sensor']\n",
      "Best Hot_Water_Loop_Supply_Temperature_Sensor:['Hot_Water_Supply_Temperature_Sensor']\n",
      "Best Extract_Fan_Phase_Meter:['Power_Meter', 'Water_Meter']\n",
      "Best Socket_Load_Phase_Electric_Meter:['Power_Meter', 'Water_Meter']\n",
      "Best AHU_Trace_Heat_Sensor:['Trace_Heat_Sensor']\n",
      "Best Electric_Meter_AHU_Phase:['Power_Meter', 'Water_Meter']\n",
      "Best Cold_Water_Storage_Booster_Pump_Phase_Meter:['Water_Meter']\n",
      "Best Rain_Water_Circualation_Pump_Phase_Meter:['Water_Meter']\n",
      "Best Rain_Water_Control_Pump_Meter:['Water_Meter']\n",
      "Best FCU_Phase_Average_PowerUnit_Electric_Meter:['Power_Meter', 'Water_Meter']\n",
      "Best FCU_Phase_Instantations_PowerUnit_Electric_Meter:['Power_Meter', 'Water_Meter']\n",
      "Best FCU_Phase_Max_PowerUnit_Electric_Meter:['Power_Meter', 'Water_Meter']\n",
      "Best FCU_Frequency_Electric_Meter:['Power_Meter', 'Water_Meter', 'Frequency_Command']\n",
      "Best FCU_Line_Voltage_Electric_Meter:['Power_Meter', 'Water_Meter']\n",
      "Best FCU_Phase_Current_Electric_Meter:['Current_Usage_Meter']\n",
      "Best FCU_Power_Factor_Electric_Meter:['Power_Meter']\n",
      "Best Light_Load_Phase_Average_PowerUnit_Electric_Meter:['Power_Meter', 'Water_Meter']\n",
      "Best Light_Load_Phase_Instantations_PowerUnit_Electric_Meter:['Power_Meter', 'Water_Meter']\n",
      "Best Light_Load_Phase_Max_PowerUnit_Electric_Meter:['Power_Meter', 'Water_Meter']\n",
      "Best Light_Load_Frequency_Electric_Meter:['Power_Meter', 'Water_Meter', 'Frequency_Command']\n",
      "Best Light_Load_Line_Voltage_Electric_Meter:['Power_Meter', 'Water_Meter']\n",
      "Best Light_Load_Phase_Current_Electric_Meter:['Current_Usage_Meter', 'Load_Current_Sensor']\n",
      "Best Light_Load_Power_Factor_Electric_Meter:['Power_Meter']\n",
      "Best Socket_Load_Phase_Average_PowerUnit_Electric_Meter:['Power_Meter', 'Water_Meter']\n",
      "Best Socket_Load_Phase_Instantations_PowerUnit_Electric_Meter:['Power_Meter', 'Water_Meter']\n",
      "Best Socket_Load_Phase_Max_PowerUnit_Electric_Meter:['Power_Meter', 'Water_Meter']\n",
      "Best Socket_Load_Frequency_Electric_Meter:['Power_Meter', 'Water_Meter', 'Frequency_Command']\n",
      "Best Socket_Load_Line_Voltage_Electric_Meter:['Power_Meter', 'Water_Meter']\n",
      "Best Socket_Load_Phase_Current_Electric_Meter:['Current_Usage_Meter', 'Load_Current_Sensor']\n",
      "Best Socket_Load_Power_Factor_Electric_Meter:['Power_Meter']\n",
      "Best Weather_Hail_Sensor:['Hail_Sensor']\n",
      "Best Weather_Outside_Air_Temperature_Sensor:['Outside_Air_Temperature_Sensor']\n",
      "Best Weather_Pressure_Sensor:['Static_Pressure_Sensor']\n",
      "Best Weather_Rain_Sensor:['Rain_Sensor']\n",
      "Best Weather_Rain_Duration_Sensor:['Rain_Duration_Sensor']\n",
      "Best Weather_Relative_Humidity_Sensor:['Relative_Humidity_Sensor']\n",
      "Best Weather_Wind_Speed_Average_Sensor:['Wind_Speed_Sensor']\n",
      "Best Weather_Wind_Speed_Direction_Sensor:['Wind_Direction_Sensor', 'Wind_Speed_Sensor']\n",
      "Best Weather_Wind_Speed_Max_Sensor:['Wind_Speed_Sensor']\n",
      "Best Footfall_In_Sensor:['Luminance_Sensor', 'CO2_Sensor', 'Occupancy_Sensor', 'Energy_Sensor', 'Rain_Sensor', 'Humidity_Sensor', 'Hail_Sensor', 'Frost_Sensor']\n",
      "Best Footfall_Out_Sensor:['Luminance_Sensor', 'CO2_Sensor', 'Occupancy_Sensor', 'Energy_Sensor', 'Rain_Sensor', 'Humidity_Sensor', 'Hail_Sensor', 'Frost_Sensor']\n",
      "Match: Outside_Air_Temperature_Sensor\n",
      "Best Outside_Illumination_Lux_Sensor:['Outside_Enthalpy_Sensor']\n",
      "Best Outside_Radiation_Sensor:['Outside_Enthalpy_Sensor']\n",
      "Best Facade_Sunblind_Sensor:['Luminance_Sensor', 'CO2_Sensor', 'Occupancy_Sensor', 'Energy_Sensor', 'Rain_Sensor', 'Humidity_Sensor', 'Hail_Sensor', 'Frost_Sensor']\n",
      "Best Solar_Radiation_Sensor:['Solar_Radiance_Sensor']\n",
      "Best Sun_Azimuth_Sensor:['Solar_Azimuth_Angle_Sensor']\n",
      "Best Sun_Elevation_Sensor:['Luminance_Sensor', 'CO2_Sensor', 'Occupancy_Sensor', 'Energy_Sensor', 'Rain_Sensor', 'Humidity_Sensor', 'Hail_Sensor', 'Frost_Sensor']\n",
      "Best FCU_Fan_Run_Time_Sensor:['Run_Time_Sensor']\n",
      "Best AHU_Automatic_Mode_Command:['Automatic_Mode_Command']\n",
      "Best AHU_Frost_Open_Sensor:['Frost_Sensor']\n",
      "Best AHU_Return_Heat_Valve_Command:['Return_Heat_Valve_Command']\n",
      "Best AHU_Supply_Fan_Variable_Speed_Sensor:['Supply_Fan_Piezoelectric_Sensor']\n",
      "Best AHU_Supply_Fan_Variable_Speed_Setpoint:['Return_Supply_Fan_Differential_Speed_Setpoint']\n",
      "Best AHU_Supply_Fan_Flow_Status_Sensor:['Supply_Fan_Air_Flow_Sensor']\n",
      "Best External_Fan_Status_Sensor:['Standby_Fan_Status', 'Exhaust_Fan_Status', 'Supply_Fan_Status', 'Return_Fan_Status']\n",
      "Best External_Fan_Variable_Speed_Command:['Speed_Command']\n",
      "Best Water_Meter_Rain:['Water_Meter']\n",
      "Match: Water_Meter\n",
      "Best Zone_Presence_Sensor:['Zone_Temperature_Sensor']\n",
      "Best Electric_Meter_SRVC:['Power_Meter', 'Water_Meter']\n",
      "Best Zone_Illumination_Fault_Sensor:['Zone_Temperature_Sensor']\n",
      "Best Zone_Illumination_Command:['Highest_Zone_Cooling_Command']\n",
      "Best Zone_Illumination_Sensor:['Zone_Temperature_Sensor']\n",
      "Best FCU_Status_Sensor:['Luminance_Sensor', 'CO2_Sensor', 'Pump_Status', 'Occupancy_Sensor', 'Economizer_Status', 'Energy_Sensor', 'Freeze_Status', 'Rain_Sensor', 'Humidity_Sensor', 'Fault_Status', 'Hail_Sensor', 'Frost_Sensor', 'Filter_Status', 'System_Status']\n",
      "Best AHU_Zone_Air_Temperature_Sensor:['Zone_Temperature_Sensor']\n",
      "Best AHU_Return_Fan_Variable_Speed_Percentage_Command:['Return_Fan_Command']\n",
      "Best AHU_Supply_Fan_Variable_Speed_Percentage_Command:['Supply_Fan_Command']\n"
     ]
    }
   ],
   "source": [
    "closestMatches={}\n",
    "fullMatches={}\n",
    "for ts in pd.unique(df.TagSet.dropna().ravel()):\n",
    "  if ts in pointTagSetTags:\n",
    "    closestMatches[ts]=[ts]\n",
    "    fullMatches[ts]=ts\n",
    "    print(\"Match: \"+ts)\n",
    "  else:\n",
    "    tss=set(ts.split('_'))\n",
    "    largestSubset=[]\n",
    "    largestIntersect=0\n",
    "    for ts2 in pointTagSetTags:\n",
    "      inters=tss.intersection(pointTagSetTags[ts2])\n",
    "      if len(inters)>largestIntersect:\n",
    "        largestIntersect=len(inters)\n",
    "        largestSubset=[] # reset largestSubset\n",
    "      if len(inters)==largestIntersect:\n",
    "        largestSubset.append(ts2) # add to the largest sets\n",
    "    smalestSubset=largestSubset\n",
    "    if len(largestSubset)>1:\n",
    "      smalestDiff=len(tss)\n",
    "      smalestSubset=[]\n",
    "      for ts2 in largestSubset:\n",
    "        diffs=pointTagSetTags[ts2] - tss\n",
    "        if len(diffs)<smalestDiff:\n",
    "          smalestDiff=len(diffs)\n",
    "          smalestSubset=[] # reset largestSubset\n",
    "        if len(diffs)==smalestDiff:\n",
    "          smalestSubset.append(ts2) # add to the largest sets\n",
    "    closestMatches[ts]=smalestSubset\n",
    "    print(\"Best \"+ts+\":\"+str(smalestSubset))"
   ]
  },
  {
   "cell_type": "markdown",
   "metadata": {},
   "source": [
    "Manual Mapping based on the results."
   ]
  },
  {
   "cell_type": "code",
   "execution_count": 456,
   "metadata": {
    "collapsed": false
   },
   "outputs": [],
   "source": [
    "myMap={\n",
    "'AHU_Automatic_Mode_Command':'Automatic_Mode_Command',\n",
    "'AHU_Cooling_Valve_Percentage_Command':'Cooling_Valve_Command',\n",
    "'AHU_Enable_Command':'AHU_System_Enable_Command',\n",
    "'AHU_Frost_Open_Sensor':'Frost_Sensor',\n",
    "'AHU_Heating_Valve_Percentage_Command':'Heating_Valve_Command',\n",
    "'AHU_Return_Air_Temperature_Sensor':'Return_Air_Temperature_Sensor',\n",
    "'AHU_Return_Fan_Variable_Speed_Percentage_Command':'Return_Fan_Command',\n",
    "'AHU_Return_Fan_Variable_Speed_Speed_Sensor':'Return_Fan_Differential_Speed_Sensor',\n",
    "'AHU_Return_Heat_Valve_Command':'Return_Heat_Valve_Command',\n",
    "'AHU_Supply_Air_Temperature_Sensor':'Supply_Air_Temperature_Sensor',\n",
    "'AHU_Supply_Air_Temperature_Setpoint':'Supply_Air_Temperature_Setpoint',\n",
    "'AHU_Supply_Fan_Flow_Status_Sensor':'Supply_Fan_Status',\n",
    "'AHU_Supply_Fan_Variable_Speed_Command':'Supply_Fan_Command',\n",
    "'AHU_Supply_Fan_Variable_Speed_Percentage_Command':'Supply_Fan_Command',\n",
    "'AHU_Supply_Fan_Variable_Speed_Sensor':'Motor_Speed',\n",
    "'AHU_Supply_Fan_Variable_Speed_Setpoint':'Return_Supply_Fan_Differential_Speed_Setpoint',\n",
    "'AHU_ThermalWheel_Effective_Sensor':'Heat_Wheel_Supply_Air_Temperature',\n",
    "'AHU_Trace_Heat_Sensor':'Trace_Heat_Sensor',\n",
    "'AHU_Zone_Air_Temperature_Sensor':'Zone_Temperature_Sensor',\n",
    "'Chilled_Water_Loop_Accumulated_PowerUnit_Meter':'Power_Meter',\n",
    "'Chilled_Water_Loop_Accumulated_Volume_Meter':'Water_Meter',\n",
    "'Chilled_Water_Loop_Flow_Meter':'Chilled_Water_Supply_Flow_Sensor',\n",
    "'Chilled_Water_Loop_Return_Temperature_Sensor':'Chilled_Water_Return_Temperature_Sensor',\n",
    "'Chilled_Water_Loop_Supply_Temperature_Sensor':'Chilled_Water_Supply_Temperature_Sensor',\n",
    "'Cold_Water_Storage_Booster_Pump_Phase_Meter':'Power_Meter',\n",
    "'Electric_Meter':'Power_Meter',\n",
    "'Electric_Meter_AHU_Phase':'Power_Meter',\n",
    "'Electric_Meter_FCU':'Power_Meter',\n",
    "'Electric_Meter_Light':'Power_Meter',\n",
    "'Electric_Meter_SRVC':'Power_Meter',\n",
    "'External_Fan_Status_Sensor':'Exhaust_Fan_Status',\n",
    "'External_Fan_Variable_Speed_Command':'Speed_Command',\n",
    "'Extract_Fan_Phase_Meter':'Power_Meter',\n",
    "'FCU_Air_Temperature_Setpoint':'Supply_Air_Temperature_Setpoint',\n",
    "'FCU_Cooling_Valve_Percentage_Command':'Cooling_Valve_Command',\n",
    "'FCU_Fan_Run_Time_Sensor':'Run_Time_Sensor',\n",
    "'FCU_Fan_Speed_Sensor_Command':'Speed_Command',\n",
    "'FCU_Fault_Sensor':'Fault_Status',\n",
    "'FCU_Frequency_Electric_Meter':'Power_Meter',\n",
    "'FCU_Frequency_Electric_Meter':'Power_Meter',\n",
    "'FCU_Heating_Valve_Percentage_Command':'Heating_Valve_Command',\n",
    "'FCU_Line_Voltage_Electric_Meter':'Power_Meter',\n",
    "'FCU_Phase_Average_PowerUnit_Electric_Meter':'Power_Meter',\n",
    "'FCU_Phase_Current_Electric_Meter':'Power_Meter',\n",
    "'FCU_Phase_Instantations_PowerUnit_Electric_Meter':'Power_Meter',\n",
    "'FCU_Phase_Max_PowerUnit_Electric_Meter':'Power_Meter',\n",
    "'FCU_Power_Factor_Electric_Meter':'Power_Meter',\n",
    "'FCU_Return_Air_Temperature_Sensor':'Return_Air_Temperature_Sensor',\n",
    "'FCU_Status_Sensor':'System_Status',\n",
    "'FCU_Supply_Air_Temperature_Sensor':'Supply_Air_Temperature_Sensor',\n",
    "'Facade_Sunblind_Sensor':'Luminance_Sensor',\n",
    "'Footfall_In_Sensor':'Occupancy_Sensor',\n",
    "'Footfall_Out_Sensor':'Occupancy_Sensor',\n",
    "'Hot_Water_Loop_Accumulated_PowerUnit_Meter':'Power_Meter',\n",
    "'Hot_Water_Loop_Accumulated_Volume_Meter':'Hot_Water_Meter',\n",
    "'Hot_Water_Loop_Flow_Meter':'Hot_Water_Meter',\n",
    "'Hot_Water_Loop_Return_Temperature_Sensor':'Hot_Water_Return_Temperature_Sensor',\n",
    "'Hot_Water_Loop_Supply_Temperature_Sensor':'Hot_Water_Supply_Temperature_Sensor',\n",
    "'Incoming_Water_Meter':'Water_Meter',\n",
    "'Light_Load_Electric_Meter':'Power_Meter',\n",
    "'Light_Load_Frequency_Electric_Meter':'Power_Meter',\n",
    "'Light_Load_Line_Voltage_Electric_Meter':'Power_Meter',\n",
    "'Light_Load_Phase_Average_PowerUnit_Electric_Meter':'Power_Meter',\n",
    "'Light_Load_Phase_Current_Electric_Meter':'Power_Meter',\n",
    "'Light_Load_Phase_Instantations_PowerUnit_Electric_Meter':'Power_Meter',\n",
    "'Light_Load_Phase_Max_PowerUnit_Electric_Meter':'Power_Meter',\n",
    "'Light_Load_Power_Factor_Electric_Meter':'Power_Meter',\n",
    "'Outside_Illumination_Lux_Sensor':'Luminance_Sensor',\n",
    "'Outside_Radiation_Sensor':'Solar_Radiance_Sensor',\n",
    "'Rain_Water_Circualation_Pump_Phase_Meter':'Power_Meter',\n",
    "'Rain_Water_Control_Pump_Meter':'Water_Meter',\n",
    "'Socket_Load_Blind_Electric_Meter':'Power_Meter',\n",
    "'Socket_Load_Electric_Meter':'Power_Meter',\n",
    "'Socket_Load_Frequency_Electric_Meter':'Power_Meter',\n",
    "'Socket_Load_Line_Voltage_Electric_Meter':'Power_Meter',\n",
    "'Socket_Load_Phase_Average_PowerUnit_Electric_Meter':'Power_Meter',\n",
    "'Socket_Load_Phase_Current_Electric_Meter':'Power_Meter',\n",
    "'Socket_Load_Phase_Electric_Meter':'Power_Meter',\n",
    "'Socket_Load_Phase_Instantations_PowerUnit_Electric_Meter':'Power_Meter',\n",
    "'Socket_Load_Phase_Max_PowerUnit_Electric_Meter':'Power_Meter',\n",
    "'Socket_Load_Power_Factor_Electric_Meter':'Power_Meter',\n",
    "'Socket_Load_Wireless_Electric_Meter':'Power_Meter',\n",
    "'Solar_Radiation_Sensor':'Solar_Radiance_Sensor',\n",
    "'Sun_Azimuth_Sensor':'Solar_Azimuth_Angle_Sensor',\n",
    "'Sun_Elevation_Sensor':'Solar_Azimuth_Angle',\n",
    "'Switch_Emergency_Command':'Emergency_Power_Off_Switch_Command',\n",
    "'Water_Meter_Rain':'Water_Meter',\n",
    "'Weather_Hail_Sensor':'Hail_Sensor',\n",
    "'Weather_Outside_Air_Temperature_Sensor':'Outside_Air_Temperature_Sensor',\n",
    "'Weather_Pressure_Sensor':'Static_Pressure_Sensor',\n",
    "'Weather_Rain_Duration_Sensor':'Rain_Duration_Sensor',\n",
    "'Weather_Rain_Sensor':'Rain_Sensor',\n",
    "'Weather_Relative_Humidity_Sensor':'Humidity_Sensor',\n",
    "'Weather_Wind_Speed_Average_Sensor':'Wind_Speed_Sensor',\n",
    "'Weather_Wind_Speed_Direction_Sensor':'Wind_Direction_Sensor',\n",
    "'Weather_Wind_Speed_Max_Sensor':'Wind_Speed_Sensor',\n",
    "'Zone_Air_CO2_Sensor':'CO2_Sensor',\n",
    "'Zone_Air_Temperature_Sensor':'Zone_Temperature_Sensor',\n",
    "'Zone_Illumination_Command':'Luminance_Command',\n",
    "'Zone_Illumination_Fault_Sensor':'Luminance_Alarm',\n",
    "'Zone_Illumination_Sensor':'Luminance_Sensor',\n",
    "'Zone_Presence_Sensor':'Occupancy_Sensor'\n",
    "}\n",
    "for ts in myMap: \n",
    "  fullMatches[ts]=myMap[ts]\n",
    "for ts in fullMatches.values():\n",
    "  dfTags.update(ts.split('_'))"
   ]
  },
  {
   "cell_type": "code",
   "execution_count": 457,
   "metadata": {
    "collapsed": false,
    "scrolled": true
   },
   "outputs": [],
   "source": [
    "for ts in closestMatches:\n",
    "  if ts not in fullMatches:\n",
    "    print(ts+\":\"+str(closestMatches[ts]))"
   ]
  },
  {
   "cell_type": "markdown",
   "metadata": {},
   "source": [
    "write header"
   ]
  },
  {
   "cell_type": "code",
   "execution_count": 458,
   "metadata": {
    "collapsed": false
   },
   "outputs": [
    {
     "data": {
      "text/plain": [
       "66"
      ]
     },
     "execution_count": 458,
     "metadata": {},
     "output_type": "execute_result"
    }
   ],
   "source": [
    "fo = open(exampleName+'.ttl', 'w')\n",
    "fo.write(\"\"\"@prefix dc: <http://purl.org/dc/elements/1.1/> .\n",
    "@prefix DUL: <http://www.loa-cnr.it/ontologies/DUL.owl#> .\n",
    "@prefix owl: <http://www.w3.org/2002/07/owl#> .\n",
    "@prefix rdf: <http://www.w3.org/1999/02/22-rdf-syntax-ns#> .\n",
    "@prefix ssn: <http://purl.oclc.org/NET/ssnx/ssn#> .\n",
    "@prefix xml: <http://www.w3.org/XML/1998/namespace> .\n",
    "@prefix xsd: <http://www.w3.org/2001/XMLSchema#> .\n",
    "@prefix rdfs: <http://www.w3.org/2000/01/rdf-schema#> .\n",
    "@prefix skos: <http://www.w3.org/2004/02/skos/core#> .\n",
    "@prefix time: <http://www.w3.org/2006/time#> .\n",
    "@prefix unit: <http://qudt.org/vocab/unit#> .\n",
    "@prefix gbXML: <http://www.gbxml.org/schema#> .\n",
    "@prefix haystack: <http://project-haystack.org/tag/> .\\n\"\"\")\n",
    "fo.write(\"@prefix bf:  <http://buildsys.org/ontologies/BrickFrame#> .\\n\")\n",
    "fo.write(\"@prefix tag: <http://buildsys.org/ontologies/BrickTag#> .\\n\")\n",
    "fo.write(\"@prefix ts:  <http://buildsys.org/ontologies/Brick#> .\\n\")\n",
    "fo.write(\"@prefix : <\"+str(MyNS)+\"> .\\n\\n\")\n",
    "fo.write(\"<\"+str(MyNS).replace(\"#\",\"\")+\">  a owl:Ontology ;\\n\")\n",
    "fo.write(\"\\towl:imports <http://buildsys.org/ontologies/Brick> ;\\n\")\n",
    "fo.write('\\trdfs:comment \"'+exampleDescription+'\"@en .\\n\\n')"
   ]
  },
  {
   "cell_type": "markdown",
   "metadata": {},
   "source": [
    "write locations"
   ]
  },
  {
   "cell_type": "code",
   "execution_count": 459,
   "metadata": {
    "collapsed": false
   },
   "outputs": [],
   "source": [
    "# create location individuals\n",
    "locationCols=[\"City\",\"Building\",\"Wing\",\"Floor\",\"Room\",\"Zone\"]\n",
    "locations={}\n",
    "for col in locationCols:\n",
    "  for indiv in pd.unique(df[col].dropna().ravel()):\n",
    "    if indiv!=\"\":\n",
    "      indivLocName=IndivName(col+\"_\"+indiv)\n",
    "      fo.write(\"\\n :\"+indivLocName+\"  a   tag:\"+col+\";\")\n",
    "      fo.write('\\n\\t\\t\\t rdfs:label \"'+indiv+'\"@en .\\n')\n",
    "      locations[indiv]=indivLocName\n",
    "# add relations\n",
    "for idx in df.index:\n",
    "  for ci in range(1,len(locationCols)):\n",
    "    childIndiv =df.loc[idx,locationCols[ci]]\n",
    "    parentIndiv=df.loc[idx,locationCols[ci-1]]\n",
    "    if childIndiv in locations and parentIndiv in locations:\n",
    "      fo.write(\"\\n :\"+locations[childIndiv]+\"  bf:isPartOf   :\"+locations[parentIndiv]+\".\")\n",
    "      fo.write(\"\\n :\"+locations[parentIndiv]+\"  bf:hasPart   :\"+locations[childIndiv]+\".\\n\")"
   ]
  },
  {
   "cell_type": "markdown",
   "metadata": {},
   "source": [
    "write assets"
   ]
  },
  {
   "cell_type": "code",
   "execution_count": 460,
   "metadata": {
    "collapsed": false
   },
   "outputs": [],
   "source": [
    "# create asset individuals\n",
    "assets={}\n",
    "for idx in df.index:\n",
    "  assetName = str(df.loc[idx, \"Asset\"])\n",
    "  if assetName==\"\" or assetName==\"nan\" or assetName in assets: \n",
    "    continue\n",
    "  assetType = df.loc[idx, \"AssetType\"]\n",
    "  indivLocName=IndivName(assetType+\"_\"+assetName)\n",
    "  fo.write(\"\\n :\"+indivLocName+\"  a   tag:\"+assetType+\";\")\n",
    "  fo.write('\\n\\t\\t\\t rdfs:label \"'+assetName+'\"@en .\\n')\n",
    "  assets[assetName]=indivLocName\n",
    "  assetParent = str(df.loc[idx, \"AssetParent\"])\n",
    "  if assetParent!=\"\" and assetParent!=\"nan\":\n",
    "    if assetParent not in assets:\n",
    "      parentLocName=IndivName(assetType+\"_\"+assetParent)\n",
    "      fo.write(\"\\n :\"+parentLocName+\"  a   tag:\"+assetType+\";\")\n",
    "      fo.write('\\n\\t\\t\\t rdfs:label \"'+assetParent+'\"@en .\\n')\n",
    "      assets[assetParent]=parentLocName\n",
    "    fo.write(\"\\n :\"+assets[assetName]+\"  bf:isPartOf   :\"+assets[assetParent]+\".\")\n",
    "    fo.write(\"\\n :\"+assets[assetParent]+\"  bf:hasPart   :\"+assets[assetName]+\".\\n\")"
   ]
  },
  {
   "cell_type": "markdown",
   "metadata": {},
   "source": [
    "analyze tag sets"
   ]
  },
  {
   "cell_type": "code",
   "execution_count": 461,
   "metadata": {
    "collapsed": false
   },
   "outputs": [],
   "source": [
    "#create individual for tags\n",
    "for tag in dfTags:\n",
    "  if tag in brickTags:\n",
    "    fo.write(\"\\n :\"+tag+\"0  a  tag:\"+tag+\".\\n\")\n",
    "  else:\n",
    "    fo.write(\"\\n :\"+tag+\"  rdfs:subClassOf  bf:Tag.\")\n",
    "    fo.write(\"\\n :\"+tag+\"0  a  :\"+tag+\".\\n\")"
   ]
  },
  {
   "cell_type": "code",
   "execution_count": null,
   "metadata": {
    "collapsed": false
   },
   "outputs": [],
   "source": []
  },
  {
   "cell_type": "code",
   "execution_count": 462,
   "metadata": {
    "collapsed": false
   },
   "outputs": [],
   "source": [
    "for idx in df.index:\n",
    "  pointIndivName = IndivName(df.loc[idx, \"Label\"])\n",
    "  pointType = df.loc[idx, \"TagSet\"]\n",
    "  if pointType in fullMatches:\n",
    "    tags=set(pointType.split('_')) | set(fullMatches[pointType].split('_'))\n",
    "    fo.write(\"\\n :\"+pointIndivName+\"  a  bf:Label, bf:TagSet, ts:\"+fullMatches[pointType]+\";\")\n",
    "  else:\n",
    "    tags=set(pointType.split('_'))\n",
    "    fo.write(\"\\n :\"+pointType+\"  rdfs:subClassOf   bf:TagSet.\")\n",
    "    fo.write(\"\\n :\"+pointIndivName+\"  a   bf:Label, bf:TagSet, :\"+pointType+\";\")\n",
    "  fo.write('\\n \\t\\t\\t rdfs:label \"'+df.loc[idx, \"Label\"]+'\"@en ;')\n",
    "  # write tags\n",
    "  for tag in tags:\n",
    "    fo.write(\"\\n \\t\\t\\t bf:hasTag   :\"+tag+\"0;\")\n",
    "  # write location\n",
    "  loc=df.loc[idx, locationCols].dropna().ravel()[-1]\n",
    "  fo.write(\"\\n \\t\\t\\t bf:isLocatedIn :\"+locations[loc]+'. \\n')\n",
    "  fo.write(\"\\n :\"+locations[loc]+\"  bf:hasPoint  :\"+pointIndivName+\".\")\n",
    "  # write assets\n",
    "  assetName = str(df.loc[idx, \"Asset\"])\n",
    "  if assetName!=\"\" and assetName!=\"nan\":\n",
    "    fo.write(\"\\n :\"+assets[assetName]+\"  bf:hasPoint  :\"+pointIndivName+\".\")\n",
    "    fo.write(\"\\n :\"+pointIndivName+\"  bf:isPointOf  :\"+assets[assetName]+\".\\n\")"
   ]
  },
  {
   "cell_type": "code",
   "execution_count": 463,
   "metadata": {
    "collapsed": false
   },
   "outputs": [],
   "source": [
    "fo.close()"
   ]
  },
  {
   "cell_type": "code",
   "execution_count": null,
   "metadata": {
    "collapsed": true
   },
   "outputs": [],
   "source": []
  },
  {
   "cell_type": "code",
   "execution_count": null,
   "metadata": {
    "collapsed": true
   },
   "outputs": [],
   "source": []
  }
 ],
 "metadata": {
  "kernelspec": {
   "display_name": "Python 3",
   "language": "python",
   "name": "python3"
  },
  "language_info": {
   "codemirror_mode": {
    "name": "ipython",
    "version": 3
   },
   "file_extension": ".py",
   "mimetype": "text/x-python",
   "name": "python",
   "nbconvert_exporter": "python",
   "pygments_lexer": "ipython3",
   "version": "3.5.1"
  }
 },
 "nbformat": 4,
 "nbformat_minor": 0
}
