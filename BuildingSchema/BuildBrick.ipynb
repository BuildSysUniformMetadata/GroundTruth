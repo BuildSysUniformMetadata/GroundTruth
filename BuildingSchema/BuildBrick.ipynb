{
 "cells": [
  {
   "cell_type": "code",
   "execution_count": null,
   "metadata": {
    "collapsed": true
   },
   "outputs": [],
   "source": []
  },
  {
   "cell_type": "code",
   "execution_count": 331,
   "metadata": {
    "collapsed": false
   },
   "outputs": [],
   "source": [
    "#!pip install rdflib\n",
    "#!pip install pydot2\n",
    "#!pip install pydotplus"
   ]
  },
  {
   "cell_type": "code",
   "execution_count": 332,
   "metadata": {
    "collapsed": false
   },
   "outputs": [],
   "source": [
    "import rdflib\n",
    "from rdflib.namespace import RDFS\n",
    "from rdflib import URIRef, BNode, Literal\n",
    "import re\n",
    "from collections import defaultdict\n",
    "import numpy as np\n",
    "import pandas as pd\n",
    "import networkx as nx\n",
    "from networkx.drawing.nx_pydot import write_dot\n",
    "import matplotlib.pyplot as plt"
   ]
  },
  {
   "cell_type": "code",
   "execution_count": 333,
   "metadata": {
    "collapsed": false
   },
   "outputs": [
    {
     "name": "stdout",
     "output_type": "stream",
     "text": [
      "126\n"
     ]
    }
   ],
   "source": [
    "def ns(url):\n",
    "  url = url.replace(\"http://buildsys.org/ontologies/brick#\", \"\")\n",
    "  url = url.replace(\"http://buildsys.org/ontologies/brickFrame#\", \"\")\n",
    "  return url\n",
    "\n",
    "BRICKF = rdflib.Namespace('http://buildsys.org/ontologies/brickFrame#')\n",
    "BRICK  = rdflib.Namespace('http://buildsys.org/ontologies/brick#')\n",
    "TAG    = rdflib.Namespace('http://buildsys.org/ontologies/brickTag#')\n",
    "TAGSET = rdflib.Namespace('http://buildsys.org/ontologies/brickTagSet#')\n",
    "\n",
    "g = rdflib.Graph()\n",
    "g.bind('bf', BRICKF)\n",
    "g.bind('tag', TAG)\n",
    "g.bind('ts', TAGSET)\n",
    "g.bind(':', BRICK)\n",
    "result = g.parse('BrickFrame.ttl', format='n3')\n",
    "print(len(g))"
   ]
  },
  {
   "cell_type": "markdown",
   "metadata": {},
   "source": [
    "### Load Tag and TagSets from Definition"
   ]
  },
  {
   "cell_type": "code",
   "execution_count": 334,
   "metadata": {
    "collapsed": false
   },
   "outputs": [
    {
     "data": {
      "text/html": [
       "<div>\n",
       "<table border=\"1\" class=\"dataframe\">\n",
       "  <thead>\n",
       "    <tr style=\"text-align: right;\">\n",
       "      <th></th>\n",
       "      <th>Dimension</th>\n",
       "      <th>Tag</th>\n",
       "      <th>Definition</th>\n",
       "      <th>Related Terminologies</th>\n",
       "      <th>hasSynonym</th>\n",
       "      <th>Author</th>\n",
       "      <th>Reviewed</th>\n",
       "      <th>Review Count</th>\n",
       "      <th>Comments</th>\n",
       "    </tr>\n",
       "  </thead>\n",
       "  <tbody>\n",
       "    <tr>\n",
       "      <th>0</th>\n",
       "      <td>Equipment</td>\n",
       "      <td>HVAC</td>\n",
       "      <td>NaN</td>\n",
       "      <td>NaN</td>\n",
       "      <td>NaN</td>\n",
       "      <td>NaN</td>\n",
       "      <td>NaN</td>\n",
       "      <td>NaN</td>\n",
       "      <td>NaN</td>\n",
       "    </tr>\n",
       "    <tr>\n",
       "      <th>1</th>\n",
       "      <td>Equipment&gt;Energy&gt;Power</td>\n",
       "      <td>Load</td>\n",
       "      <td>NaN</td>\n",
       "      <td>Eletrical load</td>\n",
       "      <td>NaN</td>\n",
       "      <td>Jason</td>\n",
       "      <td>NaN</td>\n",
       "      <td>NaN</td>\n",
       "      <td>NaN</td>\n",
       "    </tr>\n",
       "    <tr>\n",
       "      <th>2</th>\n",
       "      <td>Equipment&gt;Energy&gt;Power</td>\n",
       "      <td>Bus</td>\n",
       "      <td>A metallic strip or bar (typically copper, bra...</td>\n",
       "      <td>NaN</td>\n",
       "      <td>NaN</td>\n",
       "      <td>Jason</td>\n",
       "      <td>NaN</td>\n",
       "      <td>NaN</td>\n",
       "      <td>NaN</td>\n",
       "    </tr>\n",
       "    <tr>\n",
       "      <th>3</th>\n",
       "      <td>Equipment&gt;Energy&gt;Power</td>\n",
       "      <td>Battery</td>\n",
       "      <td>NaN</td>\n",
       "      <td>NaN</td>\n",
       "      <td>NaN</td>\n",
       "      <td>Jason</td>\n",
       "      <td>NaN</td>\n",
       "      <td>NaN</td>\n",
       "      <td>NaN</td>\n",
       "    </tr>\n",
       "    <tr>\n",
       "      <th>4</th>\n",
       "      <td>Equipment&gt;Energy&gt;Power</td>\n",
       "      <td>Solar</td>\n",
       "      <td>NaN</td>\n",
       "      <td>Solar panel</td>\n",
       "      <td>NaN</td>\n",
       "      <td>Jason</td>\n",
       "      <td>NaN</td>\n",
       "      <td>NaN</td>\n",
       "      <td>NaN</td>\n",
       "    </tr>\n",
       "  </tbody>\n",
       "</table>\n",
       "</div>"
      ],
      "text/plain": [
       "                Dimension      Tag  \\\n",
       "0               Equipment     HVAC   \n",
       "1  Equipment>Energy>Power     Load   \n",
       "2  Equipment>Energy>Power      Bus   \n",
       "3  Equipment>Energy>Power  Battery   \n",
       "4  Equipment>Energy>Power    Solar   \n",
       "\n",
       "                                          Definition Related Terminologies  \\\n",
       "0                                                NaN                   NaN   \n",
       "1                                                NaN        Eletrical load   \n",
       "2  A metallic strip or bar (typically copper, bra...                   NaN   \n",
       "3                                                NaN                   NaN   \n",
       "4                                                NaN           Solar panel   \n",
       "\n",
       "  hasSynonym Author  Reviewed  Review Count Comments  \n",
       "0        NaN    NaN       NaN           NaN      NaN  \n",
       "1        NaN  Jason       NaN           NaN      NaN  \n",
       "2        NaN  Jason       NaN           NaN      NaN  \n",
       "3        NaN  Jason       NaN           NaN      NaN  \n",
       "4        NaN  Jason       NaN           NaN      NaN  "
      ]
     },
     "execution_count": 334,
     "metadata": {},
     "output_type": "execute_result"
    }
   ],
   "source": [
    "dfTags=pd.read_excel('Schema Engineering.xlsx',\"Tags\")\n",
    "schemaTags=set(pd.unique(dfTags.Tag.dropna().ravel()))\n",
    "len(schemaTags)\n",
    "dfTags.head()"
   ]
  },
  {
   "cell_type": "code",
   "execution_count": 335,
   "metadata": {
    "collapsed": false
   },
   "outputs": [
    {
     "data": {
      "text/html": [
       "<div>\n",
       "<table border=\"1\" class=\"dataframe\">\n",
       "  <thead>\n",
       "    <tr style=\"text-align: right;\">\n",
       "      <th></th>\n",
       "      <th>Dimension</th>\n",
       "      <th>TagSet</th>\n",
       "      <th>hasSynonym</th>\n",
       "      <th>Definition</th>\n",
       "      <th>hasUnit</th>\n",
       "      <th>hasAbbreviation</th>\n",
       "      <th>can be named? (can be instantiated?)</th>\n",
       "      <th>can be unnamed? (cannot be instantiated?)</th>\n",
       "      <th>Author</th>\n",
       "      <th>Reviewed</th>\n",
       "      <th>Review Count</th>\n",
       "      <th>Discussion</th>\n",
       "    </tr>\n",
       "  </thead>\n",
       "  <tbody>\n",
       "    <tr>\n",
       "      <th>0</th>\n",
       "      <td>Equipment</td>\n",
       "      <td>Fire Control Panel</td>\n",
       "      <td>FCP</td>\n",
       "      <td>NaN</td>\n",
       "      <td>NaN</td>\n",
       "      <td>FCP</td>\n",
       "      <td>NaN</td>\n",
       "      <td>NaN</td>\n",
       "      <td>Bharath</td>\n",
       "      <td>NaN</td>\n",
       "      <td>NaN</td>\n",
       "      <td>NaN</td>\n",
       "    </tr>\n",
       "    <tr>\n",
       "      <th>1</th>\n",
       "      <td>Equipment&gt;Exhaust</td>\n",
       "      <td>Exhaust Fan</td>\n",
       "      <td>NaN</td>\n",
       "      <td>NaN</td>\n",
       "      <td>NaN</td>\n",
       "      <td>NaN</td>\n",
       "      <td>NaN</td>\n",
       "      <td>NaN</td>\n",
       "      <td>Jason</td>\n",
       "      <td>NaN</td>\n",
       "      <td>NaN</td>\n",
       "      <td>NaN</td>\n",
       "    </tr>\n",
       "    <tr>\n",
       "      <th>2</th>\n",
       "      <td>Equipment&gt;HVAC</td>\n",
       "      <td>Space Heater</td>\n",
       "      <td>NaN</td>\n",
       "      <td>NaN</td>\n",
       "      <td>NaN</td>\n",
       "      <td>NaN</td>\n",
       "      <td>O</td>\n",
       "      <td>X</td>\n",
       "      <td>Jason</td>\n",
       "      <td>NaN</td>\n",
       "      <td>NaN</td>\n",
       "      <td>NaN</td>\n",
       "    </tr>\n",
       "    <tr>\n",
       "      <th>3</th>\n",
       "      <td>Equipment&gt;HVAC</td>\n",
       "      <td>Air Handler Unit</td>\n",
       "      <td>AHU</td>\n",
       "      <td>A device used to regulate and circulate air as...</td>\n",
       "      <td>NaN</td>\n",
       "      <td>AHU</td>\n",
       "      <td>O</td>\n",
       "      <td>X</td>\n",
       "      <td>Joern</td>\n",
       "      <td>NaN</td>\n",
       "      <td>NaN</td>\n",
       "      <td>NaN</td>\n",
       "    </tr>\n",
       "    <tr>\n",
       "      <th>4</th>\n",
       "      <td>Equipment&gt;HVAC</td>\n",
       "      <td>Computer Room Air Conditioning</td>\n",
       "      <td>CRAC</td>\n",
       "      <td>NaN</td>\n",
       "      <td>NaN</td>\n",
       "      <td>CRAC</td>\n",
       "      <td>NaN</td>\n",
       "      <td>NaN</td>\n",
       "      <td>Bharath</td>\n",
       "      <td>NaN</td>\n",
       "      <td>NaN</td>\n",
       "      <td>NaN</td>\n",
       "    </tr>\n",
       "  </tbody>\n",
       "</table>\n",
       "</div>"
      ],
      "text/plain": [
       "           Dimension                          TagSet hasSynonym  \\\n",
       "0          Equipment              Fire Control Panel        FCP   \n",
       "1  Equipment>Exhaust                     Exhaust Fan        NaN   \n",
       "2     Equipment>HVAC                    Space Heater        NaN   \n",
       "3     Equipment>HVAC                Air Handler Unit        AHU   \n",
       "4     Equipment>HVAC  Computer Room Air Conditioning       CRAC   \n",
       "\n",
       "                                          Definition hasUnit hasAbbreviation  \\\n",
       "0                                                NaN     NaN             FCP   \n",
       "1                                                NaN     NaN             NaN   \n",
       "2                                                NaN     NaN             NaN   \n",
       "3  A device used to regulate and circulate air as...     NaN             AHU   \n",
       "4                                                NaN     NaN            CRAC   \n",
       "\n",
       "  can be named? (can be instantiated?)  \\\n",
       "0                                  NaN   \n",
       "1                                  NaN   \n",
       "2                                    O   \n",
       "3                                    O   \n",
       "4                                  NaN   \n",
       "\n",
       "  can be unnamed? (cannot be instantiated?)   Author  Reviewed  Review Count  \\\n",
       "0                                       NaN  Bharath       NaN           NaN   \n",
       "1                                       NaN    Jason       NaN           NaN   \n",
       "2                                         X    Jason       NaN           NaN   \n",
       "3                                         X    Joern       NaN           NaN   \n",
       "4                                       NaN  Bharath       NaN           NaN   \n",
       "\n",
       "  Discussion  \n",
       "0        NaN  \n",
       "1        NaN  \n",
       "2        NaN  \n",
       "3        NaN  \n",
       "4        NaN  "
      ]
     },
     "execution_count": 335,
     "metadata": {},
     "output_type": "execute_result"
    }
   ],
   "source": [
    "dfTagSets=pd.read_excel('Schema Engineering.xlsx',\"TagSets\")\n",
    "schemaTagSets=set()\n",
    "for ts in pd.unique(dfTagSets.TagSet.dropna().ravel()):\n",
    "  schemaTagSets.add(ts.replace(' ','_'))\n",
    "for ts in pd.unique(dfTagSets.hasSynonym.dropna().ravel()):\n",
    "  for ts2 in ts.split(\",\"):\n",
    "   schemaTagSets.add(ts2.replace(' ','_'))\n",
    "len(schemaTagSets)\n",
    "dfTagSets.head()"
   ]
  },
  {
   "cell_type": "code",
   "execution_count": 336,
   "metadata": {
    "collapsed": false
   },
   "outputs": [
    {
     "name": "stdout",
     "output_type": "stream",
     "text": [
      "Missing Tags:1\n",
      "{''}\n"
     ]
    }
   ],
   "source": [
    "schemaUsedTags=set()\n",
    "schemaTagSetTags={}\n",
    "for ts in schemaTagSets:\n",
    "  schemaUsedTags.update(ts.split('_'))\n",
    "  schemaTagSetTags[ts]=set(ts.split('_'))\n",
    "schemaMissingTags=schemaUsedTags - schemaTags\n",
    "print(\"Missing Tags:\" + str(len(schemaMissingTags)))\n",
    "print(schemaMissingTags)"
   ]
  },
  {
   "cell_type": "code",
   "execution_count": 337,
   "metadata": {
    "collapsed": true
   },
   "outputs": [],
   "source": [
    "def IndivName(name):\n",
    "  return re.sub(r'\\s','_',re.sub(r'[^\\d\\w\\s]', '', name))"
   ]
  },
  {
   "cell_type": "code",
   "execution_count": null,
   "metadata": {
    "collapsed": true
   },
   "outputs": [],
   "source": []
  },
  {
   "cell_type": "markdown",
   "metadata": {},
   "source": [
    "### Write Tags"
   ]
  },
  {
   "cell_type": "markdown",
   "metadata": {},
   "source": [
    "write header"
   ]
  },
  {
   "cell_type": "code",
   "execution_count": 338,
   "metadata": {
    "collapsed": false
   },
   "outputs": [
    {
     "data": {
      "text/plain": [
       "44"
      ]
     },
     "execution_count": 338,
     "metadata": {},
     "output_type": "execute_result"
    }
   ],
   "source": [
    "nsTag   = \":\"\n",
    "fo = open('BrickTag.ttl', 'w')\n",
    "fo.write(\"\"\"@prefix dc: <http://purl.org/dc/elements/1.1/> .\n",
    "@prefix DUL: <http://www.loa-cnr.it/ontologies/DUL.owl#> .\n",
    "@prefix owl: <http://www.w3.org/2002/07/owl#> .\n",
    "@prefix rdf: <http://www.w3.org/1999/02/22-rdf-syntax-ns#> .\n",
    "@prefix ssn: <http://purl.oclc.org/NET/ssnx/ssn#> .\n",
    "@prefix xml: <http://www.w3.org/XML/1998/namespace> .\n",
    "@prefix xsd: <http://www.w3.org/2001/XMLSchema#> .\n",
    "@prefix rdfs: <http://www.w3.org/2000/01/rdf-schema#> .\n",
    "@prefix skos: <http://www.w3.org/2004/02/skos/core#> .\n",
    "@prefix time: <http://www.w3.org/2006/time#> .\n",
    "@prefix unit: <http://qudt.org/vocab/unit#> .\n",
    "@prefix gbXML: <http://www.gbxml.org/schema#> .\n",
    "@prefix haystack: <http://project-haystack.org/tag/> .\\n\"\"\")\n",
    "fo.write(\"@prefix bf:  <http://buildsys.org/ontologies/BrickFrame#> .\\n\")\n",
    "fo.write(\"@prefix : <http://buildsys.org/ontologies/BrickTag#> .\\n\\n\")\n",
    "fo.write(\"<http://buildsys.org/ontologies/BrickTag>  a owl:Ontology ;\\n\")\n",
    "fo.write(\"\\towl:imports <http://buildsys.org/ontologies/BrickFrame> ;\\n\")\n",
    "fo.write('\\trdfs:comment \"Domain Tag Definition\"@en .\\n\\n')"
   ]
  },
  {
   "cell_type": "markdown",
   "metadata": {},
   "source": [
    "Write Tag Hierachy"
   ]
  },
  {
   "cell_type": "code",
   "execution_count": 339,
   "metadata": {
    "collapsed": false
   },
   "outputs": [],
   "source": [
    "brickTags={}\n",
    "for hir in pd.unique(dfTags.Dimension.dropna().ravel()):\n",
    "  tags=hir.split('>')\n",
    "  atags=\"\"\n",
    "  for i in range(len(tags)):\n",
    "    tag=tags[i]\n",
    "    otags=atags\n",
    "    atags=(atags+\"_\"+tag).strip(\"_\")\n",
    "    if atags not in brickTags:\n",
    "      indivLocName=nsTag+IndivName(atags)\n",
    "      if i>0:\n",
    "        fo.write(\"\\n \"+indivLocName+\"  rdfs:subClassOf   \"+brickTags[otags]+\";\")\n",
    "      else:\n",
    "        fo.write(\"\\n \"+indivLocName+\"  rdfs:subClassOf   bf:Tag;\")\n",
    "      fo.write('\\n\\t\\t\\t bf:isHierarchical  \"\";')\n",
    "      fo.write('\\n\\t\\t\\t rdfs:label \"'+tag+'\"@en .\\n')\n",
    "      brickTags[atags]=indivLocName;\n",
    "      parent=tag;"
   ]
  },
  {
   "cell_type": "markdown",
   "metadata": {},
   "source": [
    "Add tag leaves"
   ]
  },
  {
   "cell_type": "code",
   "execution_count": 340,
   "metadata": {
    "collapsed": false
   },
   "outputs": [],
   "source": [
    "# create location individuals\n",
    "for idx in dfTags.index:\n",
    "  #parent=brickTags[str(dfTags.loc[idx, \"Dimension\"]).split('>')[-1]]\n",
    "  parent=brickTags[str(dfTags.loc[idx, \"Dimension\"]).replace('>','_')]\n",
    "  indivLocName=nsTag + IndivName(str(dfTags.loc[idx, \"Tag\"]))\n",
    "  fo.write(\"\\n \"+indivLocName+\"  rdfs:subClassOf   \"+parent+\";\")\n",
    "  fo.write('\\n\\t\\t\\t rdfs:label \"'+str(dfTags.loc[idx, \"Tag\"])+'\"@en .\\n')\n",
    "  brickTags[tag]=indivLocName;\n",
    "  #print(parent,indivLocName)"
   ]
  },
  {
   "cell_type": "code",
   "execution_count": 341,
   "metadata": {
    "collapsed": true
   },
   "outputs": [],
   "source": [
    "fo.close()"
   ]
  },
  {
   "cell_type": "markdown",
   "metadata": {},
   "source": [
    "### Write TagSets"
   ]
  },
  {
   "cell_type": "markdown",
   "metadata": {},
   "source": [
    "write headers"
   ]
  },
  {
   "cell_type": "code",
   "execution_count": 342,
   "metadata": {
    "collapsed": false
   },
   "outputs": [
    {
     "data": {
      "text/plain": [
       "47"
      ]
     },
     "execution_count": 342,
     "metadata": {},
     "output_type": "execute_result"
    }
   ],
   "source": [
    "nsTag= \"tag:\" # \"ts:\"\n",
    "nsTagSet= \":\" # \"ts:\"\n",
    "fo = open('Brick.ttl', 'w')\n",
    "fo.write(\"\"\"@prefix dc: <http://purl.org/dc/elements/1.1/> .\n",
    "@prefix DUL: <http://www.loa-cnr.it/ontologies/DUL.owl#> .\n",
    "@prefix owl: <http://www.w3.org/2002/07/owl#> .\n",
    "@prefix rdf: <http://www.w3.org/1999/02/22-rdf-syntax-ns#> .\n",
    "@prefix ssn: <http://purl.oclc.org/NET/ssnx/ssn#> .\n",
    "@prefix xml: <http://www.w3.org/XML/1998/namespace> .\n",
    "@prefix xsd: <http://www.w3.org/2001/XMLSchema#> .\n",
    "@prefix rdfs: <http://www.w3.org/2000/01/rdf-schema#> .\n",
    "@prefix skos: <http://www.w3.org/2004/02/skos/core#> .\n",
    "@prefix time: <http://www.w3.org/2006/time#> .\n",
    "@prefix unit: <http://qudt.org/vocab/unit#> .\n",
    "@prefix gbXML: <http://www.gbxml.org/schema#> .\n",
    "@prefix haystack: <http://project-haystack.org/tag/> .\\n\"\"\")\n",
    "fo.write(\"@prefix bf:  <http://buildsys.org/ontologies/BrickFrame#> .\\n\")\n",
    "fo.write(\"@prefix tag: <http://buildsys.org/ontologies/BrickTag#> .\\n\")\n",
    "fo.write(\"@prefix :    <http://buildsys.org/ontologies/Brick#> .\\n\\n\")\n",
    "fo.write(\"<http://buildsys.org/ontologies/Brick>  a owl:Ontology ;\\n\")\n",
    "fo.write(\"\\towl:imports <http://buildsys.org/ontologies/BrickFrame> ;\\n\")\n",
    "fo.write(\"\\towl:imports <http://buildsys.org/ontologies/BrickTag> ;\\n\")\n",
    "fo.write('\\trdfs:comment \"Domain TagSet Definition\"@en .\\n\\n')"
   ]
  },
  {
   "cell_type": "markdown",
   "metadata": {},
   "source": [
    "Write TagSet Hierachy"
   ]
  },
  {
   "cell_type": "code",
   "execution_count": 343,
   "metadata": {
    "collapsed": false
   },
   "outputs": [],
   "source": [
    "brickTagSets={}\n",
    "for hir in pd.unique(dfTagSets.Dimension.dropna().ravel()):\n",
    "  tags=hir.split('>')\n",
    "  atags=\"\"\n",
    "  for i in range(len(tags)):\n",
    "    tag=tags[i]\n",
    "    otags=atags\n",
    "    atags=(atags+\"_\"+tag).strip('_')\n",
    "    if atags not in brickTagSets:\n",
    "      indivLocName=nsTagSet + IndivName(atags)\n",
    "      if i>0:\n",
    "        fo.write(\"\\n \"+indivLocName+\"  rdfs:subClassOf   \"+brickTagSets[otags]+\";\")\n",
    "      else:\n",
    "        fo.write(\"\\n \"+indivLocName+\"  rdfs:subClassOf   bf:TagSet;\")\n",
    "      fo.write('\\n\\t\\t\\t bf:isHierarchical  \"\";')\n",
    "      fo.write('\\n\\t\\t\\t rdfs:label \"'+tag+'\"@en .\\n')\n",
    "      brickTagSets[atags]=indivLocName;"
   ]
  },
  {
   "cell_type": "markdown",
   "metadata": {},
   "source": [
    "Add TagSets leaves"
   ]
  },
  {
   "cell_type": "code",
   "execution_count": 344,
   "metadata": {
    "collapsed": false
   },
   "outputs": [],
   "source": [
    "# create location individuals\n",
    "for idx in dfTagSets.index:\n",
    "  tagsets=set([str(dfTagSets.loc[idx, \"TagSet\"])]) | set(str(dfTagSets.loc[idx, \"hasSynonym\"]).split(\",\"))\n",
    "  ots=None\n",
    "  for tagset in tagsets:\n",
    "    if tagset!=\"nan\":\n",
    "        #tagset=str(dfTagSets.loc[idx, \"TagSet\"])\n",
    "      #parent= brickTagSets[str(dfTagSets.loc[idx, \"Dimension\"]).split('>')[-1]]\n",
    "      parent= brickTagSets[str(dfTagSets.loc[idx, \"Dimension\"]).replace('>',\"_\")]\n",
    "      indivLocName=nsTagSet + IndivName(tagset)\n",
    "      fo.write(\"\\n \"+indivLocName+\"  rdfs:subClassOf   \"+parent+\";\")\n",
    "      for tag in tagset.split():\n",
    "         #fo.write('\\n\\t\\t\\t bf:hasTag  tag:'+tag+';')\n",
    "         fo.write('\\n\\t\\t\\t rdfs:subClassOf [ a owl:Restriction ; owl:onProperty :hasTag ; owl:someValuesFrom tag:'+tag+' . ];')\n",
    "      if ots:\n",
    "        fo.write('\\n\\t\\t\\t owl:equivalentClass '+ots+' ;')\n",
    "      fo.write('\\n\\t\\t\\t rdfs:label \"'+str(dfTagSets.loc[idx, \"TagSet\"])+'\"@en .\\n')\n",
    "      brickTagSets[tagset]=indivLocName;\n",
    "      ots=indivLocName;\n",
    "      #print(parent,indivLocName)"
   ]
  },
  {
   "cell_type": "code",
   "execution_count": 345,
   "metadata": {
    "collapsed": false
   },
   "outputs": [],
   "source": [
    "fo.close()"
   ]
  },
  {
   "cell_type": "markdown",
   "metadata": {
    "collapsed": false
   },
   "source": [
    "### New Structure"
   ]
  },
  {
   "cell_type": "markdown",
   "metadata": {},
   "source": [
    "Classify Tags by Type"
   ]
  },
  {
   "cell_type": "code",
   "execution_count": 346,
   "metadata": {
    "collapsed": true
   },
   "outputs": [],
   "source": [
    "dfMeasTags=dfTags.loc[dfTags.Dimension == \"MeasurementProperty>PhysicalProperties\"]\n",
    "dfLocTags=dfTags.loc[dfTags.Dimension == \"Location\"]\n",
    "dfPointTags=dfTags.loc[dfTags.Dimension == \"Point\"]\n",
    "dfEquipTags=dfTags.loc[dfTags.Dimension.str.startswith(\"Equipment\")]\n",
    "\n",
    "def getPointDim(istr):\n",
    "  for pt in dfPointTags.Tag:\n",
    "    if pt in str(istr): return pt\n",
    "  return \"UndefinedPoint\"\n",
    "\n",
    "def getMeasDim(istr):\n",
    "  for pt in dfMeasTags.Tag:\n",
    "    if pt in str(istr): return pt\n",
    "  return \"UndefinedMeasurement\"\n",
    "\n",
    "def getLocDim(istr):\n",
    "  for pt in dfLocTags.Tag:\n",
    "    if pt in str(istr): return pt\n",
    "  return \"UndefinedLocation\"\n",
    "\n",
    "def getEquipDim(istr):\n",
    "  for pt in dfEquipTags.Tag:\n",
    "    if pt in str(istr): return pt\n",
    "  return \"UndefinedEquipment\"\n",
    "\n",
    "def getLastDim(istr):\n",
    "  if \">\"   not in istr:\n",
    "    return \"UndefinedEquipment\"\n",
    "  else:\n",
    "    sstr=istr.split(\">\")\n",
    "    return IndivName(sstr[-1])  "
   ]
  },
  {
   "cell_type": "code",
   "execution_count": null,
   "metadata": {
    "collapsed": false
   },
   "outputs": [],
   "source": []
  },
  {
   "cell_type": "code",
   "execution_count": 347,
   "metadata": {
    "collapsed": false
   },
   "outputs": [],
   "source": [
    "dfTagSets['PointDim']=dfTagSets.TagSet.apply(getPointDim)\n",
    "dfTagSets['MeasurementDim']=dfTagSets.TagSet.apply(getMeasDim)\n",
    "dfTagSets['LocationDim']=dfTagSets.TagSet.apply(getLocDim)\n",
    "#dfTagSets['EquipmentDim']=dfTagSets.TagSet.apply(getEquipDim)\n",
    "dfTagSets['EquipmentDim']=dfTagSets.Dimension.apply(getLastDim)\n",
    "dfPointTagSets=dfTagSets.loc[dfTagSets.Dimension.str.startswith(\"Point\")]"
   ]
  },
  {
   "cell_type": "code",
   "execution_count": 348,
   "metadata": {
    "collapsed": false
   },
   "outputs": [],
   "source": [
    "def findMin(S, R):\n",
    "  maxCost = 0\n",
    "  minElement = None\n",
    "  for i in S:\n",
    "    try:\n",
    "      cost = len(S[i].intersection(R))\n",
    "      if cost > maxCost:\n",
    "        maxCost = cost\n",
    "        minElement = i\n",
    "    except:\n",
    "      # Division by zero, ignore\n",
    "      pass\n",
    "  return minElement\n"
   ]
  },
  {
   "cell_type": "code",
   "execution_count": 349,
   "metadata": {
    "collapsed": false
   },
   "outputs": [],
   "source": [
    "tagsets={}\n",
    "tagsetsSup={}\n",
    "equivTagSets=[]\n",
    "for dim in ['PointDim', 'MeasurementDim', 'LocationDim', 'EquipmentDim']:\n",
    "  dimT=dim.replace('Dim', '')\n",
    "  tagsetsSup[dimT]=['TagSet']\n",
    "  tagsets[dimT]=set()\n",
    "  for dimL in pd.unique(dfPointTagSets[dim].dropna().ravel()):\n",
    "    tagsetsSup[dimL]=[dimT]\n",
    "    #if not dimL.startswith(\"Undefined\"):\n",
    "    tagsets[dimL]=set(dimL.split('_'))\n",
    "for idx in dfPointTagSets.index:\n",
    "  tss=set([str(dfTagSets.loc[idx, \"TagSet\"])]) | set(str(dfTagSets.loc[idx, \"hasSynonym\"]).split(\",\"))\n",
    "  tss2=set()\n",
    "  if \"nan\" in tss: tss.remove(\"nan\")\n",
    "  for tagset in tss:\n",
    "    if tagset!=\"nan\":\n",
    "      tagset=IndivName(tagset)\n",
    "      tss2.add(tagset)\n",
    "      tagsets[tagset] = set(tagset.split('_'))\n",
    "      equip=dfTagSets.loc[idx, 'EquipmentDim']\n",
    "      if equip!=\"nan\" and equip != \"UndefinedEquipment\" and equip not in tagsets[tagset]:\n",
    "        for tag in equip.split('_'):\n",
    "          tagsets[tagset].add(tag)\n",
    "      parents=[]\n",
    "      for dim in ['PointDim', 'MeasurementDim', 'LocationDim', 'EquipmentDim']:\n",
    "        parents.append(dfTagSets.loc[idx, dim])\n",
    "      tagsetsSup[tagset]=parents\n",
    "  if len(tss2)>1:\n",
    "    equivTagSets.append(tss2)"
   ]
  },
  {
   "cell_type": "code",
   "execution_count": null,
   "metadata": {
    "collapsed": false
   },
   "outputs": [],
   "source": []
  },
  {
   "cell_type": "code",
   "execution_count": 350,
   "metadata": {
    "collapsed": false
   },
   "outputs": [
    {
     "data": {
      "text/plain": [
       "1910"
      ]
     },
     "execution_count": 350,
     "metadata": {},
     "output_type": "execute_result"
    }
   ],
   "source": [
    "tagsetsSupAll={}\n",
    "for tsA in tagsetsSup:\n",
    "  if tsA not in tagsetsSupAll: tagsetsSupAll[tsA]=set()\n",
    "  for tsB in tagsetsSup[tsA]:\n",
    "    tagsetsSupAll[tsA].add(tsB)\n",
    "c=0\n",
    "for tsA in tagsetsSupAll:\n",
    "  for tsB in tagsetsSupAll[tsA]:\n",
    "    c+=1\n",
    "c\n"
   ]
  },
  {
   "cell_type": "code",
   "execution_count": 351,
   "metadata": {
    "collapsed": false
   },
   "outputs": [
    {
     "data": {
      "text/plain": [
       "1913"
      ]
     },
     "execution_count": 351,
     "metadata": {},
     "output_type": "execute_result"
    }
   ],
   "source": [
    "i=0\n",
    "missingRel={}\n",
    "for tsA in tagsets:\n",
    "  i=i+1\n",
    "  j=0\n",
    "  for tsB in tagsets:\n",
    "    j=j+1\n",
    "    if tsA==tsB: #j <= i or \n",
    "      pass\n",
    "    if tagsets[tsA] > tagsets[tsB]: # tsB parentOf tsA\n",
    "      if tsA not in tagsetsSup:\n",
    "        if tsA not in missingRel: missingRel[tsA]=set()\n",
    "        missingRel[tsA].add(tsB)\n",
    "      else:\n",
    "        anySup=False\n",
    "        for tsC in tagsetsSup[tsA]:\n",
    "          if tsC in tagsets and tagsets[tsC] > tagsets[tsB]: # tsB parentOf tsC\n",
    "            anySup = True\n",
    "        if not anySup:\n",
    "          if tsA not in missingRel: missingRel[tsA]=set()\n",
    "          missingRel[tsA].add(tsB)\n",
    "c=0\n",
    "for tsA in missingRel:\n",
    "  for tsB in missingRel[tsA]:\n",
    "    c+=1\n",
    "c"
   ]
  },
  {
   "cell_type": "code",
   "execution_count": 352,
   "metadata": {
    "collapsed": false
   },
   "outputs": [
    {
     "data": {
      "text/plain": [
       "1119"
      ]
     },
     "execution_count": 352,
     "metadata": {},
     "output_type": "execute_result"
    }
   ],
   "source": [
    "# remove redundant entries\n",
    "ignoreTagSets=['Point','Measurement','Location','Equipment',\"UndefinedPoint\",\"UndefinedEquipment\",\"UndefinedLocation\",\"UndefinedMeasurement\"]\n",
    "remTsA=set(ignoreTagSets)\n",
    "for tsA in missingRel:\n",
    "  remTsB=set(ignoreTagSets)\n",
    "  for tsB in missingRel[tsA]:\n",
    "    for tsC in missingRel[tsA]:\n",
    "      if tagsets[tsC] > tagsets[tsB]:\n",
    "        remTsB.add(tsB)\n",
    "  missingRel[tsA]=missingRel[tsA].difference(remTsB)\n",
    "  if len(missingRel[tsA])==0: remTsA.add(tsA)\n",
    "for tsA in remTsA:\n",
    "  if tsA in missingRel:\n",
    "    del missingRel[tsA]\n",
    "\n",
    "for tsA in missingRel:\n",
    "  if tsA not in tagsetsSupAll: tagsetsSupAll[tsA]=set()\n",
    "  for tsB in missingRel[tsA]:\n",
    "    tagsetsSupAll[tsA].add(tsB)\n",
    "    \n",
    "c=0\n",
    "for tsA in missingRel:\n",
    "  for tsB in missingRel[tsA]:\n",
    "    c+=1\n",
    "c"
   ]
  },
  {
   "cell_type": "code",
   "execution_count": 353,
   "metadata": {
    "collapsed": false
   },
   "outputs": [
    {
     "data": {
      "text/plain": [
       "1925"
      ]
     },
     "execution_count": 353,
     "metadata": {},
     "output_type": "execute_result"
    }
   ],
   "source": [
    "# compute minimal set cover of parents\n",
    "redundantSup={}\n",
    "ignoreTagSets=['Point','Measurement','Location','Equipment',\"UndefinedPoint\",\"UndefinedEquipment\",\"UndefinedLocation\",\"UndefinedMeasurement\"]\n",
    "remTsA=set(ignoreTagSets)\n",
    "tagsetsSupMin={}\n",
    "for tsA in tagsetsSupAll:\n",
    "  if tsA not in tagsets:\n",
    "    tagsetsSupMin=tagsetsSupAll[tsA]\n",
    "    print(tsA+\" not in tagsets\")\n",
    "    continue\n",
    "  unassigned=set(tagsets[tsA])\n",
    "  S={}\n",
    "  minCov=set()\n",
    "  for tsB in tagsetsSupAll[tsA]: \n",
    "    if tsB!=tsA and tsB in tagsets and len(tagsets[tsB])>0:\n",
    "      S[tsB]=set(tagsets[tsB])\n",
    "  while len(unassigned)>0 and len(S)>0:\n",
    "    tsB=findMin(S, unassigned)\n",
    "    if tsB is None: break\n",
    "    unassigned=unassigned.difference(S[tsB])\n",
    "    minCov.add(tsB)\n",
    "    del S[tsB]\n",
    "  for tag in unassigned:\n",
    "    if tag!=tsA:\n",
    "      minCov.add(tag)\n",
    "  if minCov:\n",
    "    tagsetsSupMin[tsA]=minCov\n",
    "    #print(tsA+\": \"+str(minCov))\n",
    "c=0\n",
    "for tsA in tagsetsSupMin:\n",
    "  for tsB in tagsetsSupMin[tsA]:\n",
    "    c+=1\n",
    "c"
   ]
  },
  {
   "cell_type": "code",
   "execution_count": 354,
   "metadata": {
    "collapsed": false
   },
   "outputs": [
    {
     "data": {
      "text/plain": [
       "1021"
      ]
     },
     "execution_count": 354,
     "metadata": {},
     "output_type": "execute_result"
    }
   ],
   "source": [
    "# identify redundant parents exeding minimal set cover\n",
    "redundantSup={}\n",
    "for tsA in tagsetsSupAll:\n",
    "  if tsA in tagsetsSupMin:\n",
    "    redundantSup[tsA]=tagsetsSupAll[tsA].difference(tagsetsSupMin[tsA])\n",
    "c=0\n",
    "for tsA in redundantSup:\n",
    "  for tsB in redundantSup[tsA]:\n",
    "    c+=1\n",
    "c"
   ]
  },
  {
   "cell_type": "code",
   "execution_count": 355,
   "metadata": {
    "collapsed": false
   },
   "outputs": [
    {
     "data": {
      "text/plain": [
       "1742"
      ]
     },
     "execution_count": 355,
     "metadata": {},
     "output_type": "execute_result"
    }
   ],
   "source": [
    "for tsA in redundantSup:\n",
    "  for tsB in redundantSup[tsA]:\n",
    "    if tsA in tagsetsSupAll and tsB in tagsetsSupAll[tsA]:\n",
    "      if not tsB.startswith(\"Undefined\") and tsB!=\"\":  \n",
    "        tagsetsSupAll[tsA].remove(tsB)\n",
    "    #g.remove((tagsetsNode[tsA],URIRef('http://www.w3.org/2000/01/rdf-schema#subClassOf'),tagsetsNode[tsB]))\n",
    "for tsA in tagsetsSupMin:\n",
    "  for tsB in tagsetsSupMin[tsA]:\n",
    "    pass\n",
    "    #if tsA not in tagsetsSupAll: tagsetsSupAll[tsA]=set([tsB])\n",
    "    #else: tagsetsSupAll[tsA].add(tsB)\n",
    "    #g.add((tagsetsNode[tsA],URIRef('http://www.w3.org/2000/01/rdf-schema#subClassOf'),tagsetsNode[tsB]))\n",
    "\n",
    "c=0\n",
    "for tsA in tagsetsSupAll:\n",
    "  for tsB in tagsetsSupAll[tsA]:\n",
    "    c+=1\n",
    "c"
   ]
  },
  {
   "cell_type": "code",
   "execution_count": 356,
   "metadata": {
    "collapsed": false
   },
   "outputs": [
    {
     "data": {
      "text/plain": [
       "2644"
      ]
     },
     "execution_count": 356,
     "metadata": {},
     "output_type": "execute_result"
    }
   ],
   "source": [
    "c=0\n",
    "for tsA in tagsets: c+=len(tagsets[tsA])\n",
    "c"
   ]
  },
  {
   "cell_type": "code",
   "execution_count": 357,
   "metadata": {
    "collapsed": false
   },
   "outputs": [
    {
     "data": {
      "text/plain": [
       "1148"
      ]
     },
     "execution_count": 357,
     "metadata": {},
     "output_type": "execute_result"
    }
   ],
   "source": [
    "for tsA in tagsetsSupAll:\n",
    "  if tsA in tagsets:\n",
    "    uniqueTags=set(tagsets[tsA])\n",
    "    if tsA in tagsetsSupAll:\n",
    "      for tsB in tagsetsSupAll[tsA]:\n",
    "        if tsB in tagsets:\n",
    "          commontags=uniqueTags.intersection(tagsets[tsB])\n",
    "          for tag in commontags:\n",
    "            if tag in tagsets[tsA]:\n",
    "              #g.remove((tagsetsNode[tsA],None,tagsetsTagsNode[tsA][tag]))\n",
    "              tagsets[tsA].remove(tag)\n",
    "c=0\n",
    "for tsA in tagsets: c+=len(tagsets[tsA])\n",
    "c"
   ]
  },
  {
   "cell_type": "code",
   "execution_count": 358,
   "metadata": {
    "collapsed": false
   },
   "outputs": [
    {
     "data": {
      "text/plain": [
       "47"
      ]
     },
     "execution_count": 358,
     "metadata": {},
     "output_type": "execute_result"
    }
   ],
   "source": [
    "nsTag= \"tag:\" # \"ts:\"\n",
    "nsTagSet= \":\" # \"ts:\"\n",
    "fo = open('BrickV2.ttl', 'w')\n",
    "fo.write(\"\"\"@prefix dc: <http://purl.org/dc/elements/1.1/> .\n",
    "@prefix DUL: <http://www.loa-cnr.it/ontologies/DUL.owl#> .\n",
    "@prefix owl: <http://www.w3.org/2002/07/owl#> .\n",
    "@prefix rdf: <http://www.w3.org/1999/02/22-rdf-syntax-ns#> .\n",
    "@prefix ssn: <http://purl.oclc.org/NET/ssnx/ssn#> .\n",
    "@prefix xml: <http://www.w3.org/XML/1998/namespace> .\n",
    "@prefix xsd: <http://www.w3.org/2001/XMLSchema#> .\n",
    "@prefix rdfs: <http://www.w3.org/2000/01/rdf-schema#> .\n",
    "@prefix skos: <http://www.w3.org/2004/02/skos/core#> .\n",
    "@prefix time: <http://www.w3.org/2006/time#> .\n",
    "@prefix unit: <http://qudt.org/vocab/unit#> .\n",
    "@prefix gbXML: <http://www.gbxml.org/schema#> .\n",
    "@prefix haystack: <http://project-haystack.org/tag/> .\\n\"\"\")\n",
    "fo.write(\"@prefix bf:  <http://buildsys.org/ontologies/BrickFrame#> .\\n\")\n",
    "fo.write(\"@prefix tag: <http://buildsys.org/ontologies/BrickTag#> .\\n\")\n",
    "fo.write(\"@prefix :    <http://buildsys.org/ontologies/Brick#> .\\n\\n\")\n",
    "fo.write(\"<http://buildsys.org/ontologies/Brick>  a owl:Ontology ;\\n\")\n",
    "fo.write(\"\\towl:imports <http://buildsys.org/ontologies/BrickFrame> ;\\n\")\n",
    "fo.write(\"\\towl:imports <http://buildsys.org/ontologies/BrickTag> ;\\n\")\n",
    "fo.write('\\trdfs:comment \"Domain TagSet Definition\"@en .\\n\\n')"
   ]
  },
  {
   "cell_type": "code",
   "execution_count": 359,
   "metadata": {
    "collapsed": false
   },
   "outputs": [],
   "source": [
    "brickTagSets={}\n",
    "for dim in ['PointDim','MeasurementDim','LocationDim','EquipmentDim']:\n",
    "  dimT=dim.replace('Dim','')\n",
    "  fo.write(\"\\n :\"+dimT+\"  rdfs:subClassOf   bf:TagSet;\")\n",
    "  fo.write('\\n\\t\\t\\t bf:isHierarchical  \"\";')\n",
    "  fo.write('\\n\\t\\t\\t rdfs:label \"'+dimT+' Dimension\"@en .\\n')\n",
    "  for dimL in pd.unique(dfPointTagSets[dim].dropna().ravel()):\n",
    "    fo.write(\"\\n :\"+dimL+\"  rdfs:subClassOf   :\"+dimT+\";\")\n",
    "    fo.write('\\n\\t\\t\\t bf:isHierarchical  \"\";')\n",
    "    fo.write('\\n\\t\\t\\t rdfs:label \"'+dimL+'\"@en .\\n')\n",
    "    brickTagSets[dimL]=dimL;"
   ]
  },
  {
   "cell_type": "code",
   "execution_count": 360,
   "metadata": {
    "collapsed": false
   },
   "outputs": [],
   "source": [
    "for ts in tagsets:\n",
    "  supClass=\"\"\n",
    "  if ts in tagsetsSupAll:\n",
    "    for ts2 in tagsetsSupAll[ts]:\n",
    "      if ts2==\"TagSet\": supClass+=\", bf:\"+ts2;\n",
    "      else: supClass+=\", :\"+ts2;\n",
    "  if supClass==\"\":\n",
    "    supClass=\":Equipment\"\n",
    "  fo.write(\"\\n :\"+ts+\"  rdfs:subClassOf   \"+supClass.strip(',').strip()+\";\")\n",
    "  #fo.write('\\n\\t\\t\\t bf:isHierarchical  \"\";')\n",
    "  for tag in tagsets[ts]:\n",
    "    if not tag.startswith(\"Undefined\") and tag!=\"\":\n",
    "     fo.write('\\n\\t\\t\\t rdfs:subClassOf [ a owl:Restriction ; owl:onProperty :hasTag ; owl:someValuesFrom tag:'+tag+' . ];')\n",
    "  fo.write('\\n\\t\\t\\t rdfs:label \"'+ts.replace('_',' ')+'\"@en .\\n')"
   ]
  },
  {
   "cell_type": "code",
   "execution_count": 361,
   "metadata": {
    "collapsed": false
   },
   "outputs": [],
   "source": [
    "for eqTS in equivTagSets:\n",
    "  ots=None\n",
    "  for ts in eqTS:\n",
    "    if ots:\n",
    "      #fo.write('\\n :'+ts+'   owl:equivalentClass  :'+ots+' .')\n",
    "      fo.write('\\n :'+ts+'   bf:similarClass    :'+ots+' .')\n",
    "    ots=ts;   "
   ]
  },
  {
   "cell_type": "code",
   "execution_count": 362,
   "metadata": {
    "collapsed": true
   },
   "outputs": [],
   "source": [
    "fo.close()"
   ]
  },
  {
   "cell_type": "code",
   "execution_count": null,
   "metadata": {
    "collapsed": false
   },
   "outputs": [],
   "source": []
  },
  {
   "cell_type": "code",
   "execution_count": 363,
   "metadata": {
    "collapsed": false
   },
   "outputs": [
    {
     "ename": "ValueError",
     "evalue": "I/O operation on closed file.",
     "output_type": "error",
     "traceback": [
      "\u001b[1;31m---------------------------------------------------------------------------\u001b[0m",
      "\u001b[1;31mValueError\u001b[0m                                Traceback (most recent call last)",
      "\u001b[1;32m<ipython-input-363-7a12b42e4d68>\u001b[0m in \u001b[0;36m<module>\u001b[1;34m()\u001b[0m\n\u001b[0;32m      2\u001b[0m \u001b[1;32mfor\u001b[0m \u001b[0mdim\u001b[0m \u001b[1;32min\u001b[0m \u001b[1;33m[\u001b[0m\u001b[1;34m'PointDim'\u001b[0m\u001b[1;33m,\u001b[0m\u001b[1;34m'MeasurementDim'\u001b[0m\u001b[1;33m,\u001b[0m\u001b[1;34m'LocationDim'\u001b[0m\u001b[1;33m,\u001b[0m\u001b[1;34m'EquipmentDim'\u001b[0m\u001b[1;33m]\u001b[0m\u001b[1;33m:\u001b[0m\u001b[1;33m\u001b[0m\u001b[0m\n\u001b[0;32m      3\u001b[0m   \u001b[0mdimT\u001b[0m\u001b[1;33m=\u001b[0m\u001b[0mdim\u001b[0m\u001b[1;33m.\u001b[0m\u001b[0mreplace\u001b[0m\u001b[1;33m(\u001b[0m\u001b[1;34m'Dim'\u001b[0m\u001b[1;33m,\u001b[0m\u001b[1;34m''\u001b[0m\u001b[1;33m)\u001b[0m\u001b[1;33m\u001b[0m\u001b[0m\n\u001b[1;32m----> 4\u001b[1;33m   \u001b[0mfo\u001b[0m\u001b[1;33m.\u001b[0m\u001b[0mwrite\u001b[0m\u001b[1;33m(\u001b[0m\u001b[1;34m\"\\n :\"\u001b[0m\u001b[1;33m+\u001b[0m\u001b[0mdimT\u001b[0m\u001b[1;33m+\u001b[0m\u001b[1;34m\"  rdfs:subClassOf   bf:TagSet;\"\u001b[0m\u001b[1;33m)\u001b[0m\u001b[1;33m\u001b[0m\u001b[0m\n\u001b[0m\u001b[0;32m      5\u001b[0m   \u001b[0mfo\u001b[0m\u001b[1;33m.\u001b[0m\u001b[0mwrite\u001b[0m\u001b[1;33m(\u001b[0m\u001b[1;34m'\\n\\t\\t\\t bf:isHierarchical  \"\";'\u001b[0m\u001b[1;33m)\u001b[0m\u001b[1;33m\u001b[0m\u001b[0m\n\u001b[0;32m      6\u001b[0m   \u001b[0mfo\u001b[0m\u001b[1;33m.\u001b[0m\u001b[0mwrite\u001b[0m\u001b[1;33m(\u001b[0m\u001b[1;34m'\\n\\t\\t\\t rdfs:label \"'\u001b[0m\u001b[1;33m+\u001b[0m\u001b[0mdimT\u001b[0m\u001b[1;33m+\u001b[0m\u001b[1;34m' Dimension\"@en .\\n'\u001b[0m\u001b[1;33m)\u001b[0m\u001b[1;33m\u001b[0m\u001b[0m\n",
      "\u001b[1;31mValueError\u001b[0m: I/O operation on closed file."
     ]
    }
   ],
   "source": [
    "brickTagSets={}\n",
    "for dim in ['PointDim','MeasurementDim','LocationDim','EquipmentDim']:\n",
    "  dimT=dim.replace('Dim','')\n",
    "  fo.write(\"\\n :\"+dimT+\"  rdfs:subClassOf   bf:TagSet;\")\n",
    "  fo.write('\\n\\t\\t\\t bf:isHierarchical  \"\";')\n",
    "  fo.write('\\n\\t\\t\\t rdfs:label \"'+dimT+' Dimension\"@en .\\n')\n",
    "  for dimL in pd.unique(dfPointTagSets[dim].dropna().ravel()):\n",
    "    fo.write(\"\\n :\"+dimL+\"  rdfs:subClassOf   :\"+dimT+\";\")\n",
    "    fo.write('\\n\\t\\t\\t bf:isHierarchical  \"\";')\n",
    "    fo.write('\\n\\t\\t\\t rdfs:label \"'+dimL+'\"@en .\\n')\n",
    "    brickTagSets[dimL]=dimL;"
   ]
  },
  {
   "cell_type": "code",
   "execution_count": null,
   "metadata": {
    "collapsed": false
   },
   "outputs": [],
   "source": [
    "# create location individuals\n",
    "for idx in dfTagSets.index:\n",
    "  tagsets=set([str(dfTagSets.loc[idx, \"TagSet\"])]) | set(str(dfTagSets.loc[idx, \"hasSynonym\"]).split(\",\"))\n",
    "  ots=None\n",
    "  for tagset in tagsets:\n",
    "    if tagset!=\"nan\":\n",
    "      indivLocName=nsTagSet + IndivName(tagset)\n",
    "      parent=\"\"\n",
    "      for dim in ['PointDim','MeasurementDim','LocationDim','EquipmentDim']:\n",
    "        parent+=\", :\"+dfTagSets.loc[idx, dim]\n",
    "      fo.write(\"\\n \"+indivLocName+\"  rdfs:subClassOf   \"+parent.strip(',')+\";\")\n",
    "      for tag in tagset.split():\n",
    "         fo.write('\\n\\t\\t\\t rdfs:subClassOf [ a owl:Restriction ; owl:onProperty :hasTag ; owl:someValuesFrom tag:'+tag+' . ];')\n",
    "      if ots:\n",
    "        fo.write('\\n\\t\\t\\t owl:equivalentClass '+ots+' ;')\n",
    "      fo.write('\\n\\t\\t\\t rdfs:label \"'+str(dfTagSets.loc[idx, \"TagSet\"])+'\"@en .\\n')\n",
    "      brickTagSets[tagset]=indivLocName;\n",
    "      ots=indivLocName;\n",
    "      #print(parent,indivLocName)"
   ]
  },
  {
   "cell_type": "code",
   "execution_count": null,
   "metadata": {
    "collapsed": true
   },
   "outputs": [],
   "source": [
    "fo.close()"
   ]
  },
  {
   "cell_type": "code",
   "execution_count": null,
   "metadata": {
    "collapsed": true
   },
   "outputs": [],
   "source": []
  },
  {
   "cell_type": "code",
   "execution_count": null,
   "metadata": {
    "collapsed": true
   },
   "outputs": [],
   "source": []
  }
 ],
 "metadata": {
  "kernelspec": {
   "display_name": "Python 3",
   "language": "python",
   "name": "python3"
  },
  "language_info": {
   "codemirror_mode": {
    "name": "ipython",
    "version": 3
   },
   "file_extension": ".py",
   "mimetype": "text/x-python",
   "name": "python",
   "nbconvert_exporter": "python",
   "pygments_lexer": "ipython3",
   "version": "3.5.1"
  }
 },
 "nbformat": 4,
 "nbformat_minor": 0
}
