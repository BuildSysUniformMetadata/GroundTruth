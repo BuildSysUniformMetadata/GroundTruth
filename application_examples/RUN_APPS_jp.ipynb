{
 "cells": [
  {
   "cell_type": "code",
   "execution_count": 1,
   "metadata": {
    "collapsed": false
   },
   "outputs": [],
   "source": [
    "import sys\n",
    "import os\n",
    "import rdflib\n",
    "\n",
    "try:\n",
    "    from termcolor import colored\n",
    "except:\n",
    "    print(\"pip install termcolor\")\n",
    "    def f(x,y, attrs=[]):\n",
    "        print(x)\n",
    "    colored = f"
   ]
  },
  {
   "cell_type": "markdown",
   "metadata": {},
   "source": [
    "The rule-based FDD application requires the following minimal inputs from AHUs in order to run the rules:"
   ]
  },
  {
   "cell_type": "code",
   "execution_count": 2,
   "metadata": {
    "collapsed": false
   },
   "outputs": [],
   "source": [
    "def printResults(res):\n",
    "    if len(res) > 0:\n",
    "        color = 'green'\n",
    "    else:\n",
    "        color = 'red'\n",
    "    print(colored(\"-> {0} results\".format(len(res)), color, attrs=['bold']))\n",
    "\n",
    "def printTuples(res):\n",
    "    for row in res:\n",
    "        print(map(lambda x: x.split('#')[-1], row))\n",
    "\n",
    "if len(sys.argv) < 2:\n",
    "    print(\"Need a turtle file of a building\")\n",
    "    sys.exit(0)"
   ]
  },
  {
   "cell_type": "code",
   "execution_count": 3,
   "metadata": {
    "collapsed": true
   },
   "outputs": [],
   "source": [
    "bfile=\"../etc/instance_generators/GTC_SDU/gtc_brick.ttl\"\n",
    "bfile=\"../etc/instance_generators/IBM/IBM_B3.ttl\""
   ]
  },
  {
   "cell_type": "code",
   "execution_count": 4,
   "metadata": {
    "collapsed": false
   },
   "outputs": [
    {
     "data": {
      "text/plain": [
       "<Graph identifier=N8ab284399a6c49629476f4f24d8e49e2 (<class 'rdflib.graph.Graph'>)>"
      ]
     },
     "execution_count": 4,
     "metadata": {},
     "output_type": "execute_result"
    }
   ],
   "source": [
    "RDF = rdflib.Namespace('http://www.w3.org/1999/02/22-rdf-syntax-ns#')\n",
    "RDFS = rdflib.Namespace('http://www.w3.org/2000/01/rdf-schema#')\n",
    "BRICK = rdflib.Namespace('http://buildsys.org/ontologies/Brick#')\n",
    "BRICKFRAME = rdflib.Namespace('http://buildsys.org/ontologies/BrickFrame#')\n",
    "BRICKTAG = rdflib.Namespace('http://buildsys.org/ontologies/BrickTag#')\n",
    "OWL = rdflib.Namespace('http://www.w3.org/2002/07/owl#')\n",
    "\n",
    "def new_graph():\n",
    "    g = rdflib.Graph()\n",
    "    g.bind( 'rdf', RDF)\n",
    "    g.bind( 'rdfs', RDFS)\n",
    "    g.bind( 'brick', BRICK)\n",
    "    g.bind( 'bf', BRICKFRAME)\n",
    "    g.bind( 'btag', BRICKTAG)\n",
    "    g.bind( 'owl', OWL)\n",
    "    g.parse('../Brick/Brick.ttl', format='turtle')\n",
    "    g.parse('../Brick/BrickFrame.ttl', format='turtle')\n",
    "    g.parse('../Brick/BrickTag.ttl', format='turtle')\n",
    "    return(g)\n",
    "\n",
    "g = new_graph()\n",
    "g.parse(bfile, format='turtle')"
   ]
  },
  {
   "cell_type": "code",
   "execution_count": 5,
   "metadata": {
    "collapsed": false
   },
   "outputs": [
    {
     "name": "stdout",
     "output_type": "stream",
     "text": [
      "\n"
     ]
    }
   ],
   "source": [
    "# ADD INVERSE RELATIONSHIPS\n",
    "res = g.query(\"SELECT ?a ?b WHERE { ?a bf:hasPart ?b .}\")\n",
    "for row in res:\n",
    "    g.add((row[1], BRICKFRAME.isPartOf, row[0]))\n",
    "res = g.query(\"SELECT ?a ?b WHERE { ?a bf:isPartOf ?b .}\")\n",
    "for row in res:\n",
    "    g.add((row[1], BRICKFRAME.hasPart, row[0]))\n",
    "\n",
    "res = g.query(\"SELECT ?a ?b WHERE {?a bf:hasPoint ?b .}\")\n",
    "for row in res:\n",
    "    g.add((row[1], BRICKFRAME.isPointOf, row[0]))\n",
    "res = g.query(\"SELECT ?a ?b WHERE {?a bf:isPointOf ?b .}\")\n",
    "for row in res:\n",
    "    g.add((row[1], BRICKFRAME.hasPoint, row[0]))\n",
    "\n",
    "res = g.query(\"SELECT ?a ?b WHERE {?a bf:feeds ?b .}\")\n",
    "for row in res:\n",
    "    g.add((row[1], BRICKFRAME.isFedBy, row[0]))\n",
    "res = g.query(\"SELECT ?a ?b WHERE {?a bf:isFedBy ?b .}\")\n",
    "for row in res:\n",
    "    g.add((row[1], BRICKFRAME.feeds, row[0]))\n",
    "\n",
    "res = g.query(\"SELECT ?a ?b WHERE {?a bf:contains ?b .}\")\n",
    "for row in res:\n",
    "    g.add((row[1], BRICKFRAME.isLocatedIn, row[0]))\n",
    "res = g.query(\"SELECT ?a ?b WHERE {?a bf:isLocatedIn ?b .}\")\n",
    "for row in res:\n",
    "    g.add((row[1], BRICKFRAME.contains, row[0]))\n",
    "\n",
    "res = g.query(\"SELECT ?a ?b WHERE {?a bf:controls ?b .}\")\n",
    "for row in res:\n",
    "    g.add((row[1], BRICKFRAME.isControlledBy, row[0]))\n",
    "res = g.query(\"SELECT ?a ?b WHERE {?a bf:isControlledBy ?b .}\")\n",
    "for row in res:\n",
    "    g.add((row[1], BRICKFRAME.controls, row[0]))\n",
    "\n",
    "res = g.query(\"SELECT ?a ?b WHERE {?a bf:hasOutput ?b .}\")\n",
    "for row in res:\n",
    "    g.add((row[1], BRICKFRAME.isOutputOf, row[0]))\n",
    "\n",
    "res = g.query(\"SELECT ?a ?b WHERE {?a bf:hasInput ?b .}\")\n",
    "for row in res:\n",
    "    g.add((row[1], BRICKFRAME.isInputOf, row[0]))\n",
    "\n",
    "res = g.query(\"SELECT ?a ?b WHERE {?a bf:hasTagSet ?b .}\")\n",
    "for row in res:\n",
    "    g.add((row[1], BRICKFRAME.isTagSetOf, row[0]))\n",
    "\n",
    "res = g.query(\"SELECT ?a ?b WHERE {?a bf:hasToken ?b .}\")\n",
    "for row in res:\n",
    "    g.add((row[1], BRICKFRAME.isTokenOf, row[0]))\n",
    "\n",
    "print()"
   ]
  },
  {
   "cell_type": "code",
   "execution_count": 6,
   "metadata": {
    "collapsed": false
   },
   "outputs": [
    {
     "name": "stdout",
     "output_type": "stream",
     "text": [
      "--- Occupancy Modeling App ---\n",
      "Finding Temp sensors in all rooms\n",
      "\u001b[1m\u001b[32m-> 291 results\u001b[0m\n"
     ]
    }
   ],
   "source": [
    "print(\"--- Occupancy Modeling App ---\")      ############################################ Occupancy Modeling\n",
    "print(\"Finding Temp sensors in all rooms\")\n",
    "res = g.query(\"\"\"\n",
    "SELECT DISTINCT ?room\n",
    "WHERE {\n",
    "    ?room rdf:type/rdfs:subClassOf* brick:Location .\n",
    "\n",
    "}\"\"\")\n",
    "printResults(res)"
   ]
  },
  {
   "cell_type": "code",
   "execution_count": 7,
   "metadata": {
    "collapsed": false
   },
   "outputs": [
    {
     "name": "stdout",
     "output_type": "stream",
     "text": [
      "--- Occupancy Modeling App ---\n",
      "Finding Temp sensors in all rooms\n",
      "\u001b[1m\u001b[32m-> 241 results\u001b[0m\n"
     ]
    }
   ],
   "source": [
    "print(\"--- Occupancy Modeling App ---\")      ############################################ Occupancy Modeling\n",
    "print(\"Finding Temp sensors in all rooms\")\n",
    "res = g.query(\"\"\"\n",
    "SELECT DISTINCT ?sensor ?zone\n",
    "WHERE {\n",
    "\n",
    "    { ?sensor rdf:type/rdfs:subClassOf* brick:Zone_Temperature_Sensor . }\n",
    "    UNION\n",
    "    { ?sensor rdf:type/rdfs:subClassOf* brick:FCU_Discharge_Air_Temperature_Sensor . }\n",
    "    UNION\n",
    "    { ?sensor rdf:type brick:FCU_Supply_Air_Temperature_Sensor . }\n",
    "    UNION\n",
    "    { ?sensor rdf:type/rdfs:subClassOf* brick:FCU_Supply_Air_Temperature_Sensor . }\n",
    "    UNION\n",
    "    { ?sensor rdf:type/rdfs:subClassOf* brick:Discharge_Air_Temperature_Sensor . }\n",
    "    UNION\n",
    "    { ?sensor rdf:type/rdfs:subClassOf* brick:Supply_Air_Temperature_Sensor . }\n",
    "    UNION\n",
    "    { ?sensor rdf:type/rdfs:subClassOf* brick:Occupancy_Sensor . }\n",
    "    UNION\n",
    "    { ?sensor rdf:type/rdfs:subClassOf* brick:CO2_Sensor . }\n",
    "    \n",
    "    ?sensor bf:isPointOf ?vav .\n",
    "    ?vav bf:feeds ?zone .\n",
    "\n",
    "    ?vav rdf:type/rdfs:subClassOf* brick:Terminal_Unit .\n",
    "    ?zone rdf:type/rdfs:subClassOf* brick:Location .\n",
    "}\"\"\")\n",
    "occN=len(res)\n",
    "printResults(res)"
   ]
  },
  {
   "cell_type": "code",
   "execution_count": 8,
   "metadata": {
    "collapsed": false
   },
   "outputs": [
    {
     "name": "stdout",
     "output_type": "stream",
     "text": [
      "Finding CO2, Occ sensors\n",
      "\u001b[1m\u001b[32m-> 194 results\u001b[0m\n"
     ]
    }
   ],
   "source": [
    "print(\"Finding CO2, Occ sensors\")\n",
    "res = g.query(\"\"\"\n",
    "SELECT DISTINCT ?sensor ?vav\n",
    "WHERE {\n",
    "\n",
    "    { ?sensor rdf:type/rdfs:subClassOf* brick:Occupancy_Sensor . }\n",
    "    UNION\n",
    "    { ?sensor rdf:type/rdfs:subClassOf* brick:CO2_Sensor . }\n",
    "    \n",
    "    ?sensor bf:isPointOf ?room .\n",
    "\n",
    "    ?room rdf:type/rdfs:subClassOf* brick:Location .\n",
    "\n",
    "}\"\"\")\n",
    "occN+=len(res)\n",
    "printResults(res)"
   ]
  },
  {
   "cell_type": "code",
   "execution_count": 9,
   "metadata": {
    "collapsed": false
   },
   "outputs": [
    {
     "name": "stdout",
     "output_type": "stream",
     "text": [
      "Finding all power meters for equipment in rooms\n",
      "\u001b[1m\u001b[31m-> 0 results\u001b[0m\n"
     ]
    }
   ],
   "source": [
    "print(\"Finding all power meters for equipment in rooms\")\n",
    "res = g.query(\"\"\"\n",
    "SELECT ?meter ?equipment ?room\n",
    "WHERE {\n",
    "    ?meter rdf:type/rdfs:subClassOf* brick:Power_Meter .\n",
    "    ?room rdf:type/rdfs:subClassOf* brick:Location .\n",
    "    ?equipment rdf:type/rdfs:subClassOf* brick:Equipment .\n",
    "    ?equipment bf:isLocatedIn ?room .\n",
    "    ?meter bf:isPointOf ?equipment .\n",
    "}\"\"\")\n",
    "occN+=len(res)\n",
    "printResults(res)"
   ]
  },
  {
   "cell_type": "code",
   "execution_count": 10,
   "metadata": {
    "collapsed": false
   },
   "outputs": [
    {
     "name": "stdout",
     "output_type": "stream",
     "text": [
      "Find all power meters for HVAC equipment\n",
      "\u001b[1m\u001b[31m-> 0 results\u001b[0m\n"
     ]
    }
   ],
   "source": [
    "print(\"Find all power meters for HVAC equipment\")\n",
    "res = g.query(\"\"\"\n",
    "SELECT ?meter ?equipment ?room\n",
    "WHERE {\n",
    "    ?meter rdf:type/rdfs:subClassOf* brick:Power_Meter .\n",
    "    ?room rdf:type/rdfs:subClassOf* brick:Location .\n",
    "    ?meter bf:isPointOf ?equipment .\n",
    "    ?equipment rdf:type/rdfs:subClassOf* brick:HVAC .\n",
    "\n",
    "    ?zone rdf:type/rdfs:subClassOf* brick:Location .\n",
    "\n",
    "    ?equipment bf:feeds+ ?zone .\n",
    "    ?zone bf:hasPart ?room .\n",
    "}\"\"\")\n",
    "occN+=len(res)\n",
    "printResults(res)"
   ]
  },
  {
   "cell_type": "code",
   "execution_count": 11,
   "metadata": {
    "collapsed": false
   },
   "outputs": [
    {
     "name": "stdout",
     "output_type": "stream",
     "text": [
      "Find all power meters for Lighting equipment\n",
      "\u001b[1m\u001b[31m-> 0 results\u001b[0m\n"
     ]
    }
   ],
   "source": [
    "print(\"Find all power meters for Lighting equipment\")\n",
    "res = g.query(\"\"\"\n",
    "SELECT ?meter ?equipment ?room\n",
    "WHERE {\n",
    "    ?meter rdf:type/rdfs:subClassOf* brick:Power_Meter .\n",
    "    ?room rdf:type/rdfs:subClassOf* brick:Location .\n",
    "    ?meter bf:isPointOf ?equipment .\n",
    "\n",
    "    ?equipment rdf:type/rdfs:subClassOf* brick:Lighting_System .\n",
    "\n",
    "    ?zone bf:hasPart ?room .\n",
    "    { ?equipment bf:feeds+ ?zone }\n",
    "     UNION\n",
    "    { ?equipment bf:feeds+ ?room }\n",
    "}\"\"\")\n",
    "occN+=len(res)\n",
    "printResults(res)"
   ]
  },
  {
   "cell_type": "code",
   "execution_count": 12,
   "metadata": {
    "collapsed": false
   },
   "outputs": [
    {
     "name": "stdout",
     "output_type": "stream",
     "text": [
      "...or if that doesn't work, find all power meters\n",
      "\u001b[1m\u001b[32m-> 386 results\u001b[0m\n"
     ]
    }
   ],
   "source": [
    "print(\"...or if that doesn't work, find all power meters\")\n",
    "res = g.query(\"\"\"\n",
    "SELECT ?meter ?loc\n",
    "WHERE {\n",
    "    ?meter rdf:type/rdfs:subClassOf* brick:Power_Meter .\n",
    "    ?loc bf:hasPoint ?meter .\n",
    "    ?loc rdf:type/rdfs:subClassOf* brick:Location .\n",
    "}\n",
    "\"\"\")\n",
    "occN+=len(res)\n",
    "printResults(res)"
   ]
  },
  {
   "cell_type": "code",
   "execution_count": 13,
   "metadata": {
    "collapsed": false
   },
   "outputs": [
    {
     "data": {
      "text/plain": [
       "821"
      ]
     },
     "execution_count": 13,
     "metadata": {},
     "output_type": "execute_result"
    }
   ],
   "source": [
    "occN"
   ]
  },
  {
   "cell_type": "code",
   "execution_count": 14,
   "metadata": {
    "collapsed": false
   },
   "outputs": [
    {
     "name": "stdout",
     "output_type": "stream",
     "text": [
      "--- Energy Apportionment App ---\n",
      "Find Occ sensors in all rooms\n",
      "\u001b[1m\u001b[32m-> 174 results\u001b[0m\n"
     ]
    }
   ],
   "source": [
    "print(\"--- Energy Apportionment App ---\")     ############################################ Energy Apportionment\n",
    "print(\"Find Occ sensors in all rooms\")\n",
    "res = g.query(\"\"\"\n",
    "SELECT ?sensor ?room\n",
    "WHERE {\n",
    "    ?sensor rdf:type/rdfs:subClassOf* brick:Occupancy_Sensor . \n",
    "    ?sensor bf:isLocatedIn ?room .\n",
    "    ?sensor bf:isPointOf ?room .\n",
    "    ?room rdf:type/rdfs:subClassOf* brick:Location .\n",
    "}\"\"\")\n",
    "egyN=len(res)\n",
    "printResults(res)"
   ]
  },
  {
   "cell_type": "code",
   "execution_count": 15,
   "metadata": {
    "collapsed": false
   },
   "outputs": [
    {
     "name": "stdout",
     "output_type": "stream",
     "text": [
      "Find lux sensors in rooms\n",
      "\u001b[1m\u001b[32m-> 65 results\u001b[0m\n"
     ]
    }
   ],
   "source": [
    "print(\"Find lux sensors in rooms\")\n",
    "res = g.query(\"\"\"\n",
    "SELECT ?sensor ?room\n",
    "WHERE {\n",
    "    ?sensor rdf:type/rdfs:subClassOf* brick:Luminance_Sensor . \n",
    "    \n",
    "    { ?sensor bf:isPointOf ?room .}\n",
    "    UNION\n",
    "    { ?sensor bf:isLocatedIn ?room .}\n",
    "    \n",
    "    ?room rdf:type/rdfs:subClassOf* brick:Location .\n",
    "}\"\"\")\n",
    "egyN+=len(res)\n",
    "printResults(res)"
   ]
  },
  {
   "cell_type": "code",
   "execution_count": 16,
   "metadata": {
    "collapsed": false
   },
   "outputs": [
    {
     "name": "stdout",
     "output_type": "stream",
     "text": [
      "Find lighting/hvac equipment (e.g. desk lamps) rooms\n",
      "\u001b[1m\u001b[32m-> 158 results\u001b[0m\n"
     ]
    }
   ],
   "source": [
    "print(\"Find lighting/hvac equipment (e.g. desk lamps) rooms\")\n",
    "res = g.query(\"\"\"\n",
    "SELECT ?equipment ?room\n",
    "WHERE {\n",
    "    ?room rdf:type/rdfs:subClassOf* brick:Location .\n",
    "    \n",
    "    { ?sensor bf:feeds ?room .}\n",
    "    UNION\n",
    "    { ?sensor bf:isPointOf ?room .}\n",
    "    UNION\n",
    "    { ?sensor bf:isLocatedIn ?room .}\n",
    "    \n",
    "    { ?sensor rdf:type/rdfs:subClassOf* brick:Lighting_System .}\n",
    "    UNION\n",
    "    { ?sensor rdf:type/rdfs:subClassOf* brick:HVAC .}\n",
    "    \n",
    "}\"\"\")\n",
    "egyN+=len(res)\n",
    "printResults(res)"
   ]
  },
  {
   "cell_type": "code",
   "execution_count": 17,
   "metadata": {
    "collapsed": false
   },
   "outputs": [
    {
     "data": {
      "text/plain": [
       "397"
      ]
     },
     "execution_count": 17,
     "metadata": {},
     "output_type": "execute_result"
    }
   ],
   "source": [
    "egyN"
   ]
  },
  {
   "cell_type": "code",
   "execution_count": 18,
   "metadata": {
    "collapsed": false
   },
   "outputs": [
    {
     "name": "stdout",
     "output_type": "stream",
     "text": [
      "--- Web Displays App ---\n",
      "Reheat/cool valve command for VAVs\n",
      "\u001b[1m\u001b[32m-> 157 results\u001b[0m\n"
     ]
    }
   ],
   "source": [
    "print(\"--- Web Displays App ---\")  ################################################ Web Displays\n",
    "print(\"Reheat/cool valve command for VAVs\")\n",
    "res = g.query(\"\"\"\n",
    "SELECT ?vlv_cmd ?vav\n",
    "WHERE {\n",
    "\n",
    "    ?vav rdf:type/rdfs:subClassOf* brick:Terminal_Unit .\n",
    "    ?vav bf:hasPoint+ ?vlv_cmd .\n",
    "    \n",
    "    { ?vlv_cmd rdf:type brick:AHU_Cooling_Valve_Command }\n",
    "    UNION\n",
    "    { ?vlv_cmd rdf:type brick:FCU_Cooling_Valve_Command }\n",
    "    UNION\n",
    "    { ?vlv_cmd rdf:type brick:Reheat_Valve_Command }\n",
    "    UNION\n",
    "    { ?vlv_cmd rdf:type brick:Cooling_Valve_Command }\n",
    "    \n",
    "}\n",
    "\"\"\")\n",
    "webN=len(res)\n",
    "printResults(res)"
   ]
  },
  {
   "cell_type": "code",
   "execution_count": 19,
   "metadata": {
    "collapsed": false
   },
   "outputs": [
    {
     "name": "stdout",
     "output_type": "stream",
     "text": [
      "Airflow sensor for all VAVs\n",
      "\u001b[1m\u001b[32m-> 483 results\u001b[0m\n"
     ]
    }
   ],
   "source": [
    "print(\"Airflow sensor for all VAVs\")\n",
    "res = g.query(\"\"\"\n",
    "SELECT ?airflow_sensor ?room ?vav\n",
    "WHERE {\n",
    "    \n",
    "    ?vav rdf:type/rdfs:subClassOf* brick:Terminal_Unit .\n",
    "    ?vav bf:feeds+ ?zone .\n",
    "    ?zone rdf:type/rdfs:subClassOf* brick:Location .\n",
    "    ?airflow_sensor bf:isPointOf ?vav .\n",
    "    \n",
    "    { ?airflow_sensor rdf:type/rdfs:subClassOf* brick:AHU_Return_Fan_Air_Flow_Sensor . }\n",
    "    UNION\n",
    "    { ?airflow_sensor rdf:type/rdfs:subClassOf* brick:Discharge_Air_Flow_Sensor . }\n",
    "    UNION\n",
    "    { ?airflow_sensor rdf:type/rdfs:subClassOf* brick:Sensor . }\n",
    "\n",
    "}\"\"\")\n",
    "webN+=len(res)\n",
    "printResults(res)"
   ]
  },
  {
   "cell_type": "code",
   "execution_count": 20,
   "metadata": {
    "collapsed": false
   },
   "outputs": [
    {
     "name": "stdout",
     "output_type": "stream",
     "text": [
      "Associate VAVs to zones and rooms\n",
      "\u001b[1m\u001b[32m-> 158 results\u001b[0m\n"
     ]
    }
   ],
   "source": [
    "print(\"Associate VAVs to zones and rooms\")\n",
    "res = g.query(\"\"\"\n",
    "SELECT ?vav ?room\n",
    "WHERE {\n",
    "    ?vav rdf:type/rdfs:subClassOf* brick:Terminal_Unit .\n",
    "    ?zone rdf:type/rdfs:subClassOf* brick:Location .\n",
    "    ?vav bf:feeds+ ?zone .\n",
    "}\"\"\")\n",
    "webN+=len(res)\n",
    "printResults(res)"
   ]
  },
  {
   "cell_type": "code",
   "execution_count": 21,
   "metadata": {
    "collapsed": false
   },
   "outputs": [
    {
     "name": "stdout",
     "output_type": "stream",
     "text": [
      "Find power meters for cooling loop, heating loop\n",
      "\u001b[1m\u001b[32m-> 37 results\u001b[0m\n"
     ]
    }
   ],
   "source": [
    "print(\"Find power meters for cooling loop, heating loop\")\n",
    "res = g.query(\"\"\"\n",
    "SELECT ?equip ?meter\n",
    "WHERE {\n",
    "    ?meter rdf:type brick:Power_Meter .\n",
    "    ?meter bf:isPointOf* ?equip .\n",
    "    ?equip bf:isPartOf* ?thing .\n",
    "\n",
    "    {?thing rdf:type/rdfs:subClassOf* brick:Water_System }\n",
    "    UNION\n",
    "    {?thing rdf:type/rdfs:subClassOf* brick:HVAC }\n",
    "}\"\"\")\n",
    "webN+=len(res)\n",
    "printResults(res)\n",
    "#printTuples(res)"
   ]
  },
  {
   "cell_type": "code",
   "execution_count": 22,
   "metadata": {
    "collapsed": false
   },
   "outputs": [
    {
     "data": {
      "text/plain": [
       "835"
      ]
     },
     "execution_count": 22,
     "metadata": {},
     "output_type": "execute_result"
    }
   ],
   "source": [
    "webN"
   ]
  },
  {
   "cell_type": "code",
   "execution_count": 23,
   "metadata": {
    "collapsed": false
   },
   "outputs": [
    {
     "name": "stdout",
     "output_type": "stream",
     "text": [
      "--- Model-Predictive Control App ---\n",
      "Find all floors, hvac zones, rooms\n",
      "\u001b[1m\u001b[32m-> 8 results\u001b[0m\n"
     ]
    }
   ],
   "source": [
    "print(\"--- Model-Predictive Control App ---\")\n",
    "print(\"Find all floors, hvac zones, rooms\")\n",
    "res = g.query(\"\"\"\n",
    "# no more building\n",
    "SELECT ?floor ?room ?zone\n",
    "WHERE {\n",
    "    ?floor rdf:type brick:Floor .\n",
    "    ?room  rdf:type/rdfs:subClassOf* brick:Location .\n",
    "    ?zone  rdf:type/rdfs:subClassOf* brick:Location .\n",
    "\n",
    "    ?zone bf:isPartOf ?floor .\n",
    "    ?room bf:isPartOf ?zone .\n",
    "}\"\"\")\n",
    "mpcN=len(res)\n",
    "printResults(res)"
   ]
  },
  {
   "cell_type": "code",
   "execution_count": 24,
   "metadata": {
    "collapsed": false
   },
   "outputs": [
    {
     "name": "stdout",
     "output_type": "stream",
     "text": [
      "Grab the orientation of the room if we have it\n",
      "\u001b[1m\u001b[31m-> 0 results\u001b[0m\n"
     ]
    }
   ],
   "source": [
    "#print \"Find windows in the room\"\n",
    "print(\"Grab the orientation of the room if we have it\")\n",
    "res = g.query(\"\"\"\n",
    "SELECT ?room ?orientation\n",
    "WHERE {\n",
    "    ?room rdf:type/rdfs:subClassOf* brick:Location .\n",
    "    ?room rdfs:hasProperty ?orientation .\n",
    "    ?orientation rdf:type brick:Orientation .\n",
    "}\"\"\")\n",
    "mpcN+=len(res)\n",
    "printResults(res)"
   ]
  },
  {
   "cell_type": "code",
   "execution_count": 25,
   "metadata": {
    "collapsed": false
   },
   "outputs": [
    {
     "name": "stdout",
     "output_type": "stream",
     "text": [
      "Grab all VAVs and AHUs and zones\n",
      "\u001b[1m\u001b[32m-> 158 results\u001b[0m\n"
     ]
    }
   ],
   "source": [
    "print(\"Grab all VAVs and AHUs and zones\")\n",
    "res = g.query(\"\"\"SELECT ?vav ?ahu ?hvac_zone\n",
    "WHERE {\n",
    "    ?vav rdf:type/rdfs:subClassOf* brick:Terminal_Unit .\n",
    "    ?vav  bf:feeds ?zone .\n",
    "    ?zone rdf:type/rdfs:subClassOf* brick:Location .\n",
    "    ?ahu rdf:type brick:AHU .\n",
    "\n",
    "    { ?ahu bf:feeds+ ?vav }\n",
    "    UNION\n",
    "    { ?ahu bf:hasPart ?vav }\n",
    "}\"\"\")\n",
    "mpcN+=len(res)\n",
    "printResults(res)"
   ]
  },
  {
   "cell_type": "code",
   "execution_count": 37,
   "metadata": {
    "collapsed": false
   },
   "outputs": [
    {
     "name": "stdout",
     "output_type": "stream",
     "text": [
      "Grab all VAVs and AHUs and zones\n",
      "\u001b[1m\u001b[32m-> 158 results\u001b[0m\n"
     ]
    }
   ],
   "source": [
    "print(\"Grab all VAVs and AHUs and zones\")\n",
    "res = g.query(\"\"\"SELECT ?vav ?ahu ?zone\n",
    "WHERE {\n",
    "    ?vav rdf:type/rdfs:subClassOf* brick:Terminal_Unit .\n",
    "    ?vav  bf:feeds ?zone .\n",
    "    ?ahu rdf:type brick:AHU .\n",
    "\n",
    "    { ?ahu bf:feeds ?vav }\n",
    "}\"\"\")\n",
    "mpcN+=len(res)\n",
    "printResults(res)\n",
    "#printTuples(res)"
   ]
  },
  {
   "cell_type": "code",
   "execution_count": 27,
   "metadata": {
    "collapsed": false
   },
   "outputs": [
    {
     "data": {
      "text/plain": [
       "324"
      ]
     },
     "execution_count": 27,
     "metadata": {},
     "output_type": "execute_result"
    }
   ],
   "source": [
    "mpcN"
   ]
  },
  {
   "cell_type": "code",
   "execution_count": 6,
   "metadata": {
    "collapsed": false
   },
   "outputs": [
    {
     "name": "stdout",
     "output_type": "stream",
     "text": [
      "--- Participatory Feedback ---\n",
      "Associate lighting with rooms\n",
      "\u001b[1m\u001b[32m-> 4992 results\u001b[0m\n"
     ]
    }
   ],
   "source": [
    "print(\"--- Participatory Feedback ---\")\n",
    "print(\"Associate lighting with rooms\")\n",
    "res = g.query(\"\"\"\n",
    "SELECT DISTINCT ?light_equip ?light_state ?light_cmd ?room\n",
    "WHERE {\n",
    "\n",
    "    ?light_equip rdf:type/rdfs:subClassOf* brick:Lighting_System .\n",
    "    ?light_equip bf:feeds ?zone .\n",
    "    ?zone rdf:type/rdfs:subClassOf* brick:Location .\n",
    "\n",
    "    {?light_equip bf:hasPoint ?light_state}\n",
    "    UNION\n",
    "    {?zone bf:hasPoint ?light_state}\n",
    "\n",
    "    {?light_equip bf:hasPoint ?light_cmd}\n",
    "    UNION\n",
    "    {?zone bf:hasPoint ?light_cmd}\n",
    "    \n",
    "    ?light_state rdf:type/rdfs:subClassOf* brick:Luminance_Sensor .\n",
    "    ?light_cmd rdf:type/rdfs:subClassOf* brick:Luminance_Command .\n",
    "\n",
    "}\"\"\")\n",
    "pfN=len(res)\n",
    "printResults(res)"
   ]
  },
  {
   "cell_type": "code",
   "execution_count": 7,
   "metadata": {
    "collapsed": false
   },
   "outputs": [
    {
     "name": "stdout",
     "output_type": "stream",
     "text": [
      "Find all power meters and associate them with floor and room\n",
      "\u001b[1m\u001b[32m-> 386 results\u001b[0m\n"
     ]
    }
   ],
   "source": [
    "print(\"Find all power meters and associate them with floor and room\")\n",
    "g.query(\"CONSTRUCT {?a bf:isPointOf ?b} WHERE {?b bf:hasPoint ?a}\")\n",
    "res = g.query(\"\"\"\n",
    "SELECT ?meter ?loc\n",
    "WHERE {\n",
    "    ?meter rdf:type/rdfs:subClassOf* brick:Power_Meter .\n",
    "    ?meter  bf:isPointOf ?loc .\n",
    "\n",
    "    { ?loc rdf:type/rdfs:subClassOf* brick:Location }\n",
    "\n",
    "}\"\"\")\n",
    "pfN+=len(res)\n",
    "printResults(res)\n",
    "#printTuples(res)"
   ]
  },
  {
   "cell_type": "code",
   "execution_count": null,
   "metadata": {
    "collapsed": false
   },
   "outputs": [],
   "source": [
    "pfN"
   ]
  },
  {
   "cell_type": "code",
   "execution_count": 62,
   "metadata": {
    "collapsed": false
   },
   "outputs": [
    {
     "name": "stdout",
     "output_type": "stream",
     "text": [
      "DO THIS!!! --- Fault Detection Diagnosis ---\n",
      "Get sensors for AHU\n",
      "\u001b[1m\u001b[32m-> 728 results\u001b[0m\n"
     ]
    }
   ],
   "source": [
    "print(\"DO THIS!!! --- Fault Detection Diagnosis ---\")\n",
    "print(\"Get sensors for AHU\")\n",
    "res = g.query(\"\"\"\n",
    "SELECT ?ahu ?sensor\n",
    "WHERE {\n",
    "    ?ahu rdf:type/rdfs:subClassOf* brick:AHU .\n",
    "    ?ahu (bf:feeds|bf:hasPoint|bf:hasPart|bf:contains)* ?sensor .\n",
    "\n",
    "    { ?sensor rdf:type/rdfs:subClassOf* brick:Reheat_Valve_Command }\n",
    "    UNION\n",
    "    { ?sensor rdf:type/rdfs:subClassOf* brick:Cooling_Valve_Command }\n",
    "    UNION\n",
    "    { ?sensor rdf:type/rdfs:subClassOf* brick:Mixed_Air_Temperature_Sensor }\n",
    "    UNION\n",
    "    { ?sensor rdf:type/rdfs:subClassOf* brick:Outside_Air_Temperature_Sensor }\n",
    "    UNION\n",
    "    { ?sensor rdf:type/rdfs:subClassOf* brick:Return_Air_Temperature_Sensor }\n",
    "    UNION\n",
    "    { ?sensor rdf:type/rdfs:subClassOf* brick:Supply_Air_Temperature_Sensor }\n",
    "    UNION\n",
    "    { ?sensor rdf:type/rdfs:subClassOf* brick:Outside_Air_Humidity_Sensor }\n",
    "    UNION\n",
    "    { ?sensor rdf:type/rdfs:subClassOf* brick:Return_Air_Temperature_Sensor}\n",
    "    UNION\n",
    "    { ?sensor rdf:type/rdfs:subClassOf* brick:Outside_Air_Damper_Position_Sensor }\n",
    "}\"\"\")\n",
    "fddN=len(res)\n",
    "printResults(res)"
   ]
  },
  {
   "cell_type": "code",
   "execution_count": 63,
   "metadata": {
    "collapsed": false
   },
   "outputs": [
    {
     "data": {
      "text/plain": [
       "728"
      ]
     },
     "execution_count": 63,
     "metadata": {},
     "output_type": "execute_result"
    }
   ],
   "source": [
    "fddN"
   ]
  },
  {
   "cell_type": "code",
   "execution_count": 8,
   "metadata": {
    "collapsed": false
   },
   "outputs": [
    {
     "name": "stdout",
     "output_type": "stream",
     "text": [
      "--- Non-Intrusive Load Monitoring App ---\n",
      "Get equipment, power meters and what they measure\n",
      "\u001b[1m\u001b[32m-> 1348 results\u001b[0m\n"
     ]
    }
   ],
   "source": [
    "print(\"--- Non-Intrusive Load Monitoring App ---\")\n",
    "print(\"Get equipment, power meters and what they measure\")\n",
    "res = g.query(\"\"\"\n",
    "SELECT ?meter\n",
    "WHERE {\n",
    "    ?meter rdf:type/rdfs:subClassOf* brick:Power_Meter .\n",
    "    ?meter (bf:isPointOf|bf:isPartOf)* ?x .\n",
    "    {?x rdf:type/rdfs:subClassOf* brick:Equipment .}\n",
    "    UNION\n",
    "    {?x rdf:type/rdfs:subClassOf* brick:Location .}\n",
    "}\n",
    "\"\"\")\n",
    "nilmN=len(res)\n",
    "printResults(res)"
   ]
  },
  {
   "cell_type": "code",
   "execution_count": 9,
   "metadata": {
    "collapsed": false
   },
   "outputs": [
    {
     "data": {
      "text/plain": [
       "1348"
      ]
     },
     "execution_count": 9,
     "metadata": {},
     "output_type": "execute_result"
    }
   ],
   "source": [
    "nilmN"
   ]
  },
  {
   "cell_type": "code",
   "execution_count": 66,
   "metadata": {
    "collapsed": false
   },
   "outputs": [
    {
     "name": "stdout",
     "output_type": "stream",
     "text": [
      "--- Demand Response ---\n",
      "Find all equipment (inside rooms) and associated power meters and control points\n",
      "\u001b[1m\u001b[32m-> 608 results\u001b[0m\n"
     ]
    }
   ],
   "source": [
    "print(\"--- Demand Response ---\")\n",
    "print(\"Find all equipment (inside rooms) and associated power meters and control points\")\n",
    "res = g.query(\"\"\"\n",
    "SELECT DISTINCT ?equip ?cmd ?status\n",
    "WHERE {\n",
    "    ?equip  rdf:type/rdfs:subClassOf* brick:Equipment .\n",
    "    {\n",
    "    ?cmd rdf:type/rdfs:subClassOf*    brick:Command .\n",
    "    ?cmd (bf:isPointOf|bf:isPartOf)* ?equip .\n",
    "    }\n",
    "    UNION\n",
    "    {\n",
    "    ?meter  rdf:type    brick:Power_Meter .\n",
    "    ?status rdf:type/rdfs:subClassOf* brick:Status .\n",
    "    ?status (bf:isPointOf|bf:isPartOf)* ?equip .\n",
    "    }\n",
    "\n",
    "}\"\"\")\n",
    "drN=len(res)\n",
    "printResults(res)"
   ]
  },
  {
   "cell_type": "code",
   "execution_count": null,
   "metadata": {
    "collapsed": false
   },
   "outputs": [],
   "source": [
    "drN"
   ]
  },
  {
   "cell_type": "code",
   "execution_count": null,
   "metadata": {
    "collapsed": true
   },
   "outputs": [],
   "source": []
  }
 ],
 "metadata": {
  "anaconda-cloud": {},
  "kernelspec": {
   "display_name": "Python [Root]",
   "language": "python",
   "name": "Python [Root]"
  },
  "language_info": {
   "codemirror_mode": {
    "name": "ipython",
    "version": 3
   },
   "file_extension": ".py",
   "mimetype": "text/x-python",
   "name": "python",
   "nbconvert_exporter": "python",
   "pygments_lexer": "ipython3",
   "version": "3.5.2"
  }
 },
 "nbformat": 4,
 "nbformat_minor": 0
}
