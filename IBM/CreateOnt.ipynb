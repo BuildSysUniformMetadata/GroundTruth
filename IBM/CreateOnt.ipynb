{
 "cells": [
  {
   "cell_type": "code",
   "execution_count": 122,
   "metadata": {
    "collapsed": true
   },
   "outputs": [],
   "source": [
    "# config\n",
    "exampleName=\"IBM_B3\"\n",
    "exampleDescription=\"Example ontology for IBM Building 3, Dublin\"\n",
    "testing=False"
   ]
  },
  {
   "cell_type": "code",
   "execution_count": 123,
   "metadata": {
    "collapsed": false
   },
   "outputs": [],
   "source": [
    "#!pip install rdflib\n",
    "#!pip install pydot2\n",
    "#!pip install pydotplus"
   ]
  },
  {
   "cell_type": "code",
   "execution_count": 124,
   "metadata": {
    "collapsed": false
   },
   "outputs": [],
   "source": [
    "import rdflib\n",
    "from rdflib.namespace import RDFS\n",
    "from rdflib import URIRef, BNode, Literal\n",
    "import re\n",
    "from collections import defaultdict\n",
    "import numpy as np\n",
    "import pandas as pd\n",
    "import pydot as pydot\n",
    "import networkx as nx\n",
    "from networkx.drawing.nx_pydot import write_dot\n",
    "import matplotlib.pyplot as plt"
   ]
  },
  {
   "cell_type": "code",
   "execution_count": 125,
   "metadata": {
    "collapsed": false
   },
   "outputs": [
    {
     "name": "stdout",
     "output_type": "stream",
     "text": [
      "3956\n"
     ]
    }
   ],
   "source": [
    "def ns(url):\n",
    "  url = url.replace(\"http://buildsys.org/ontologies/brick#\", \"\")\n",
    "  url = url.replace(\"http://buildsys.org/ontologies/BuildingSchema#\", \"\")\n",
    "  return url\n",
    "\n",
    "BRICK = rdflib.Namespace('http://buildsys.org/ontologies/brick#')\n",
    "TAGS  = rdflib.Namespace('http://buildsys.org/ontologies/BuildingSchema#')\n",
    "\n",
    "g = rdflib.Graph()\n",
    "g.bind('brick', BRICK)\n",
    "g.bind('bs', TAGS)\n",
    "result = g.parse('../BuildingSchema/BuildingSchema.ttl', format='n3')\n",
    "result = g.parse('../BuildingSchema/Brick.owl', format='n3')\n",
    "print(len(g))"
   ]
  },
  {
   "cell_type": "markdown",
   "metadata": {},
   "source": [
    "define your own namespace"
   ]
  },
  {
   "cell_type": "code",
   "execution_count": 126,
   "metadata": {
    "collapsed": false
   },
   "outputs": [],
   "source": [
    "MyNS = rdflib.Namespace('http://buildsys.org/ontologies/examples/'+exampleName+'#')\n",
    "g.bind(':', MyNS)"
   ]
  },
  {
   "cell_type": "markdown",
   "metadata": {},
   "source": [
    "### Load Tag and TagSets from Definition"
   ]
  },
  {
   "cell_type": "code",
   "execution_count": 127,
   "metadata": {
    "collapsed": false
   },
   "outputs": [
    {
     "data": {
      "text/plain": [
       "139"
      ]
     },
     "execution_count": 127,
     "metadata": {},
     "output_type": "execute_result"
    }
   ],
   "source": [
    "dfTags=pd.read_csv('../BuildingSchema/Schema Engineering Tags.csv')\n",
    "schemaTags=set(pd.unique(dfTags.Tag.dropna().ravel()))\n",
    "len(schemaTags)"
   ]
  },
  {
   "cell_type": "code",
   "execution_count": 128,
   "metadata": {
    "collapsed": false
   },
   "outputs": [
    {
     "data": {
      "text/plain": [
       "486"
      ]
     },
     "execution_count": 128,
     "metadata": {},
     "output_type": "execute_result"
    }
   ],
   "source": [
    "dfTagSets=pd.read_csv('../BuildingSchema/Schema Engineering TagSets.csv')\n",
    "schemaTagSets=set()\n",
    "for ts in pd.unique(dfTagSets.TagSet.dropna().ravel()):\n",
    "  schemaTagSets.add(ts.replace(' ','_'))\n",
    "len(schemaTagSets)"
   ]
  },
  {
   "cell_type": "code",
   "execution_count": 129,
   "metadata": {
    "collapsed": false
   },
   "outputs": [
    {
     "name": "stdout",
     "output_type": "stream",
     "text": [
      "Missing Tags:103\n",
      "{'Econ-O-Cycle', 'Button', 'Hold', 'grains', 'Tower', 'Overridden', 'Peak', 'AHU', 'Enthalpy', 'Piezoelectric', 'Short', 'Shutdown', 'DualBand', 'Detection', 'Digital', 'Shed', 'HVAC', 'Analog', 'Deionised', 'Effective', 'Lag', 'VFD', 'Fire', 'Radiance', 'Locally', 'Average', 'Stack', 'short', 'Change', 'Integral', 'Humidify', 'To', 'Velocity', 'Activated', 'Dewpoint', 'Sash', 'Highest', 'from', 'by', 'On', 'cycle', 'Stages', 'Lead', 'Environment', 'Compressor', 'Fans', 'Pre', 'Yearly', 'Storage', 'Date', 'Glycool', 'Cycle', 'Thermal', 'Temporary', 'Step', 'Supply', 'Freezer', 'Handler', 'Last', 'Code', 'Wheel', 'Underfloor', 'Meter', 'Generator', 'to', 'Increase', 'Percent', 'CRAC', 'Integration', 'Cold', 'Lowest', 'Perimeter', 'setpoint', 'Push', 'Fume', 'cooling', 'When', 'alarm', 'Face', 'Remotely', 'auto', 'Failed', 'Stage', 'Conductivity', 'Today', 'Monthly', 'Schedule', 'Open', 'Hood', 'Usage', 'Demand', 'Off', 'Even', 'current', 'Preheat', 'Decrease', 'Proportional', 'Turned', 'Level', 'Month', 'Turn', 'LED', 'VAV'}\n"
     ]
    }
   ],
   "source": [
    "schemaUsedTags=set()\n",
    "schemaTagSetTags={}\n",
    "for ts in schemaTagSets:\n",
    "  schemaUsedTags.update(ts.split('_'))\n",
    "  schemaTagSetTags[ts]=set(ts.split('_'))\n",
    "schemaMissingTags=schemaUsedTags - schemaTags\n",
    "print(\"Missing Tags:\" + str(len(schemaMissingTags)))\n",
    "print(schemaMissingTags)"
   ]
  },
  {
   "cell_type": "markdown",
   "metadata": {},
   "source": [
    "### Load TagSets"
   ]
  },
  {
   "cell_type": "code",
   "execution_count": 130,
   "metadata": {
    "collapsed": false
   },
   "outputs": [
    {
     "data": {
      "text/plain": [
       "81"
      ]
     },
     "execution_count": 130,
     "metadata": {},
     "output_type": "execute_result"
    }
   ],
   "source": [
    "qres = g.query(\"\"\"SELECT DISTINCT ?ts WHERE {  ?ts rdfs:subClassOf+ bs:Tag . }\"\"\")\n",
    "brickTags=set()\n",
    "for row in qres:\n",
    "  ts=ns(row['ts'])\n",
    "  brickTags.add(ns(row['ts']))\n",
    "len(brickTags)"
   ]
  },
  {
   "cell_type": "code",
   "execution_count": 131,
   "metadata": {
    "collapsed": false
   },
   "outputs": [
    {
     "data": {
      "text/plain": [
       "323"
      ]
     },
     "execution_count": 131,
     "metadata": {},
     "output_type": "execute_result"
    }
   ],
   "source": [
    "qres = g.query(\"\"\"SELECT DISTINCT ?ts WHERE {  ?ts rdfs:subClassOf+ brick:Point . }\"\"\")\n",
    "brickTagSets=set()\n",
    "for row in qres:\n",
    "  ts=ns(row['ts'])\n",
    "  brickTagSets.add(ns(row['ts']))\n",
    "len(brickTagSets)"
   ]
  },
  {
   "cell_type": "code",
   "execution_count": 132,
   "metadata": {
    "collapsed": false
   },
   "outputs": [
    {
     "data": {
      "text/plain": [
       "5"
      ]
     },
     "execution_count": 132,
     "metadata": {},
     "output_type": "execute_result"
    }
   ],
   "source": [
    "qres = g.query(\"\"\"SELECT DISTINCT ?ts WHERE {  ?ts rdfs:subClassOf+ brick:Location . }\"\"\")\n",
    "loc_tags=set(['Location'])\n",
    "for row in qres:\n",
    "  ts=ns(row['ts'])\n",
    "  loc_tags.add(ns(row['ts']))\n",
    "len(loc_tags) "
   ]
  },
  {
   "cell_type": "code",
   "execution_count": 133,
   "metadata": {
    "collapsed": false
   },
   "outputs": [
    {
     "data": {
      "text/plain": [
       "31"
      ]
     },
     "execution_count": 133,
     "metadata": {},
     "output_type": "execute_result"
    }
   ],
   "source": [
    "qres = g.query(\"\"\"SELECT DISTINCT ?ts WHERE {  ?ts rdfs:subClassOf+ brick:Equipment . }\"\"\")\n",
    "len(qres)\n",
    "asset_tags=set(['Asset'])\n",
    "for row in qres:\n",
    "  ts=ns(row['ts'])\n",
    "  asset_tags.add(ns(row['ts']))\n",
    "len(asset_tags)"
   ]
  },
  {
   "cell_type": "code",
   "execution_count": 134,
   "metadata": {
    "collapsed": false
   },
   "outputs": [
    {
     "name": "stdout",
     "output_type": "stream",
     "text": [
      "Missing Tags:103\n",
      "{'Econ-O-Cycle', 'Button', 'Hold', 'grains', 'Tower', 'Overridden', 'Peak', 'AHU', 'Enthalpy', 'Piezoelectric', 'Short', 'Shutdown', 'DualBand', 'Detection', 'Digital', 'Shed', 'HVAC', 'Analog', 'Deionised', 'Effective', 'Lag', 'VFD', 'Fire', 'Radiance', 'Locally', 'Average', 'Stack', 'short', 'Change', 'Integral', 'Humidify', 'To', 'Velocity', 'Activated', 'Dewpoint', 'Sash', 'Highest', 'from', 'by', 'On', 'cycle', 'Stages', 'Lead', 'Environment', 'Compressor', 'Fans', 'Pre', 'Yearly', 'Storage', 'Date', 'Glycool', 'Cycle', 'Thermal', 'Temporary', 'Step', 'Supply', 'Freezer', 'Handler', 'Last', 'Code', 'Wheel', 'Underfloor', 'Meter', 'Generator', 'to', 'Increase', 'Percent', 'CRAC', 'Integration', 'Cold', 'Lowest', 'Perimeter', 'setpoint', 'Push', 'Fume', 'cooling', 'When', 'alarm', 'Face', 'Remotely', 'auto', 'Failed', 'Stage', 'Conductivity', 'Today', 'Monthly', 'Schedule', 'Open', 'Hood', 'Usage', 'Demand', 'Off', 'Even', 'current', 'Preheat', 'Decrease', 'Proportional', 'Turned', 'Level', 'Month', 'Turn', 'LED', 'VAV'}\n"
     ]
    }
   ],
   "source": [
    "brickUsedTags=set()\n",
    "brickTagSetTags={}\n",
    "jointTagSetTags={}\n",
    "for ts in brickTagSets:\n",
    "  brickUsedTags.update(ts.split('_'))\n",
    "  brickTagSetTags[ts]=set(ts.split('_'))\n",
    "  jointTagSetTags[ts]=set(ts.split('_'))\n",
    "brickMissingTags=brickUsedTags - schemaTags\n",
    "print(\"Missing Tags:\" + str(len(schemaMissingTags)))\n",
    "print(schemaMissingTags)"
   ]
  },
  {
   "cell_type": "code",
   "execution_count": 135,
   "metadata": {
    "collapsed": false
   },
   "outputs": [
    {
     "name": "stdout",
     "output_type": "stream",
     "text": [
      "Missing Tag Sets:322\n",
      "{'High_Temperature_Hot_Water_Return_Temperature', 'Humidifier_Alarm', 'Supply_Water_Temperature_Setpoint', 'Domestic_Hot_Water_System_Enable', 'Run_Direction_Command', 'Economizer_Differential_Air_Temperature_Setpoint', 'Economizer_Supply_Air_Temperature_Proportional_Band', 'Chilled_Water_Pump_Differential_Pressure_Proportional_Band', 'Supply_Air_Cooling_Demand_High', 'Heating_On_Off_Status', 'Supply_Air_Flow_Demand', 'Outside_Air_Dewpoint_Sensor', 'Domestic_Hot_Water_Supply_Temperature_Setpoint', 'Fault_Indicator', 'Outside_Air_Flow', 'High_Temperature_Alarm', 'Unit_Turned_Off_Remotely', 'Pump_Alarm_Delay', 'Medium_Temperature_Hot_Water_Return_Temperature', 'System_Status', 'Heat_Exchanger_Valve_Command', 'Air_Flow_Loss_Alarm', 'High_Humidity', 'Occupied_Heating_Max_Supply_Air_Flow', 'Outside_Air_Lockout_Temperature_Setpoint', 'Cooling_On_Off_Status', 'Supply_Air_Static_Pressure_Proportional_Band', 'CRAC_Capacity', 'Return_Air_Preheat_Valve_Command', 'Chilled_Water_Bypass_Valve_Command', 'Domestic_Hot_Water_System_Start_Stop_Command', 'Pump_Status', 'Chilled_Water_Pump_Differential_Pressure_Integration_Time', 'High_Humidity_Alarm_Setpoint', 'Chilled_Water_Pump_Status', 'Heating_Supply_Air_Temperature_Proportional_Band', 'VAV_Box_Mode', 'Min_VFD_Speed_To_Increase_Static_Pressure_Setpoint', 'Exhaust_Fan_Status', 'Cooling_Valve_Command', 'Occupied_Mode', 'Supply_Air_Cooling_Demand_Low', 'Heat_Exchanger_Supply_Water_Temperature_Setpoint', 'Disable_Hot_Water_System_Outside_Air_Temperature_Setpoint', 'Emergency_Power_Off_Enable_Status', 'Return_Fan_Air_Flow', 'Chilled_Water_Differential_Pressure_Dead_Band', 'Deionised_Water_Conductivity', 'Outside_Air_Dewpoint', 'Chilled_Water_Differential_Pressure_Setpoint', 'Condensate_Leak_Alarm', 'Min_Static_Pressure', 'Drive_Ready_Status', 'Supply_Air_Flow_Setpoint', 'Freeze_Status', 'Standby_Unit_On_Off_Status', 'Outside_Air_Damper_Position_Command', 'Hot_Water_Pump_Start_Stop_Command', 'Heat_Exchanger_System_Enable', 'Panel_Lockout_Command', 'Mixed_Air_Temperature_Sensor', 'Humidifier_Fault_Indicator', 'Supply_Air_Temperature_Setpoint_Increase_Decrease_Step', 'Exhaust_Fan_Fire_Control_Panel_Off', 'Cooling_Supply_Air_Temperature_Dead_Band', 'Standby_Fan_Status', 'Economizer_Damper_Command', 'Min_Supply_Air_Static_Pressure_Setpoint', 'AHU_Overridden_Off', 'High_Humidity_Alarm', 'Static_Pressure_Sensor', 'Acceleration_Time_Setpoint', 'Exhaust_Fan_Piezoelectric', 'Heating_Supply_Air_Flow_Setpoint', 'Preheat_Demand', 'Occupied_Command', 'Filter_Differential_Pressure_Sensor', 'Alarm_Delay', 'Change_Filter_Alarm', 'Emergency_Power_Off_Switch', 'Deionised_Water_Level_Sensor', 'Outside_Air_Damper_Position', 'CRAC_Pump_Start_Stop_Command', 'AHU_Fire_Control_Panel_On', 'Output_Frequency', 'Min_Supply_Air_Temperature', 'Fault_Reset', 'Outside_Min_Air_Flow', 'Frequency_Command', 'Min_Chilled_Water_Differential_Pressure_Setpoint', 'Economizer_Outside_Air_Flow_Setpoint', 'Unoccupied_Mode', 'AHU_Fire_Control_Panel_Off', 'Damper_Command', 'Medium_Temperature_Hot_Water_Supply_Temperature_Low_Reset_Setpoint', 'Chilled_Water_Return_Temperature', 'Outside_Air_CO2_Sensor', 'Chilled_Water_Pump_Enable', 'Return_Air_CO2_Sensor', 'Exhaust_Fan_Start_Stop_Command', 'Deionised_Water_Alarm', 'Average_Supply_Air_Flow', 'Liquid_Detected_Alarm', 'Outside_Air_Flow_Sensor', 'Manual_Auto_Status', 'Enable_Hot_Water_System_Outside_Air_Temperature_Setpoint', 'Pump_Start_Stop_Command', 'Deceleration_Time_Setpoint', 'Outside_Air_Humidity_Sensor', 'Room_Temperature_Sensor', 'Fan_Start_Stop_Status', 'Hot_Water_Supply_Temperature', 'VFD_Alarm', 'Supply_Air_Static_Pressure_Dead_Band', 'Supply_Air_Static_Pressure_Sensor', 'Domestic_Hot_Water_Supply_Temperature', 'Outside_Air_Lockout_Temperature_Differential', 'Heating_Supply_Air_Temperature_Dead_Band', 'Low_Temperature_Alarm_Setpoint', 'Max_Frequency_Command', 'AHU_Overridden_On', 'Mixed_Air_Damper_Position', 'Heat_Wheel_Supply_Air_Temperature', 'Low_Suction_Pressure_Alarm', 'Low_Temperature', 'Max_Supply_Air_Temperature', 'Domestic_Hot_Water_Valve_Command', 'Humidify_Command', 'Fan_Air_Flow', 'Supply_Air_Temperature_High_Limit_Alarm', 'Unit_Turned_Off_Locally', 'Speed_Command', 'Pump_Enable_Status', 'Preheat_Supply_Air_Temperature', 'Return_Fan_Differential_Speed_from_Supply_Fan', 'Chilled_Water_Pump_Lead_Lag', 'Chilled_Water_Pump_Alarm_Delay', 'Max_Chilled_Water_Differential_Pressure_Setpoint', 'Zone_Temperature_Sensor', 'Return_Air_Enthalpy_Sensor', 'Mixed_Air_Damper_Position_Command', 'Run_Time', 'Water_Loss_Alarm', 'Return_Air_Flow', 'Smoke_Detected_Alarm', 'Supply_Air_Static_Pressure_Integral_Time', 'Low_Outside_Air_Temperature_Enable_Setpoint', 'Output_Voltage', 'Cooling_Max_Supply_Air_Flow', 'High_Temperature_Hot_Water_Supply_Temperature', 'Chilled_Water_Differential_Pressure_Increase_Decrease_Step', 'Room_Temperature_Setpoint', 'Hot_Water_Differential_Pressure_Setpoint', 'Current_Limit', 'Supply_Air_Static_Pressure_Setpoint', 'Static_Pressure_Max_Setpoint', 'High_Head_Pressure_Alarm', 'Supply_Air_Temperature_Setpoint', 'Occupancy_Command', 'Cooling_Tower_Fan_Speed_Setpoint', 'Low_Humidity_Alarm', 'Supply_Air_Temperature_Integral_Time', 'Heat_Wheel_Speed', 'Bypass_Air_Flow_Sensor', 'Return_Air_CO2', 'Return_Air_Flow_Sensor', 'Shutdown_Hot_Water_When_Unoccupied', 'Chilled_Water_Supply_Flow', 'Hot_Water_Pump_Lead_Lag_Command', 'Temperature_Tolerance', 'Unit_Run_Status', 'Chilled_Water_Differential_Pressure', 'CO2_Sensor', 'Return_Air_Dewpoint', 'CRAC_Stages', 'VFD_Start_Stop_Command', 'Max_Static_Pressure', 'Run_Direction_Status', 'Valve_Status', 'System_Enable', 'Occupied_Cooling_Max_Supply_Air_Flow', 'Medium_Temperature_Hot_Water_Supply_Temperature_High_Reset_Setpoint', 'Supply_Air_Temperature_Reset_Differential', 'Return_Air_Humidity', 'Occupancy_Sensor', 'Pump_Lead_Lag_Command', 'Hot_Water_Differential_Pressure_Integral_Time', 'Low_Temperature_Alarm', 'Humidity_Tolerance', 'Supply_Air_Temperature_Dead_Band', 'Temperature_Adjustment', 'Return_Air_Enthalpy', 'Return_Fan_Start_Stop_Command', 'Damper_Position', 'Unit_Failed_Alarm', 'Hot_Water_Pump_Alarm', 'Chilled_Water_Supply_Temperature', 'Motor_Current', 'Occupied_Heating_Supply_Air_Flow', 'Exhaust_Fan_Overridden_Off', 'Emergency_Power_Off_Activated_by_Leak_Detection_System', 'Outside_Air_Enthalpy_Sensor', 'Medium_Temperature_Hot_Water_Supply_Temperature', 'Emergency_Power_Off_Activated_by_High_Temperature', 'Return_Air_Humidity_Sensor', 'Power_Loss_Alarm', 'Water_Supply_Temperature', 'Return_Air_Temperature_High_Limit_Alarm', 'Static_Pressure_Min_Setpoint', 'Fan_Overload_Alarm', 'Max_Return_Air_CO2_Setpoint', 'Econ-O-Cycle_On_Off_Status', 'Heat_Exchanger_Supply_Water_Temperature_Dead_Band', 'Max_VFD_Speed_To_Increase_Static_Pressure_Setpoint', 'Filter_Differential_Pressure', 'Supply_Fan_Start_Stop_Status', 'Effective_Cooling_Temperature_Setpoint', 'Highest_Floor_Demand', 'Short_Cycle_Alarm', 'AHU_System_Enable', 'Return_Fan_Start_Stop_Status', 'Motor_Speed', 'Motor_Power', 'Cooling_Supply_Air_Temperature_Integral_Time', 'Effective_Heating_Temperature_Setpoint', 'Supply_Fan_Air_Flow', 'Chilled_Water_Pump_Differential_Pressure_Dead_Band', 'Temporary_Occupancy_Status', 'Outside_Air_Temperature_Low_Reset_Setpoint', 'Humidity_Setpoint', 'Supply_Air_Temperature', 'Valve_Command', 'High_Temperature', 'Outside_Air_Enthalpy', 'Medium_Temperature_Water_Pressure', 'Chilled_Water_Differential_Pressure_Proportional_Band', 'Max_Supply_Air_Static_Pressure_Setpoint', 'Outside_Air_Temperature_Sensor', 'Hot_Water_Differential_Pressure', 'Mixed_Air_Temperature_Setpoint', 'Run_Enable', 'VFD_Command', 'DC_Bus_Voltage', 'Filter_Reset', 'Booster_Fan_Start_Stop_Command', 'Heat_Exchanger_Supply_Water_Temperature_Integral_Time', 'Booster_Fan_Command', 'Exhaust_Fan_Air_Flow_Setpoint', 'Hot_Water_Static_Pressure_Setpoint', 'Dehumidification_On_Off_Status', 'Emergency_Power_Off_System_Enable', 'Occupied_Heating_Min_Supply_Air_Flow', 'Maintenance_Mode', 'VFD_Start_Stop_Status', 'Humidity_Sensor', 'Return_Air_Dewpoint_Sensor', 'Chilled_Water_Temperature_Differential', 'Low_Outside_Air_Temperature_Enable_Differential', 'Heat_Exchanger_Valve_Status', 'Temperature_Setpoint', 'Pump_Alarm', 'Return_Fan_Status', 'Supply_Air_Flow_Sensor', 'Drive_Temperature', 'CO2_High_Alarm', 'Supply_Fan_Piezoelectric_Sensor', 'Underfloor_Temperature_Sensor', 'Chilled_Water_Differential_Pressure_Integral_Time', 'Communication_Loss_Alarm', 'AHU_Auto_Cooling_Setpoint', 'Supply_Air_Temperature_Proportional_Band', 'Supply_Air_Flow', 'Unit_Run_Command', 'Supply_Air_Static_Pressure_Increase_Decrease_Step', 'Filter_Status', 'Heat_Exchanger_Supply_Water_Temperature_Proportional_Band', 'Motor_Torque', 'Cooling_Command', 'Hot_Water_Return_Temperature', 'Rated_Speed', 'Reheat_Valve_Command', 'Supply_Fan_Start_Stop_Command', 'Pre_Filter_Status', 'Exhaust_Fan_Fire_Control_Panel_On', 'Open_Heating_Valve_Outside_Air_Temperature_Setpoint', 'VFD_Run_Enable', 'Heating_Valve_Command', 'Heat_Exchanger_Supply_Water_Temperature', 'Supply_Air_Flow_Reset_Low_Sensor', 'Static_Pressure', 'High_Temperature_Alarm_Setpoint', 'Economizer_Mode', 'Hot_Water_Differential_Pressure_Dead_Band', 'Chilled_Water_Pump_Start_Stop_Command', 'Heat_Wheel_Differential_Pressure', 'Exhaust_Fan_Overridden_On', 'Hot_Water_Differential_Pressure_Proportional_Band', 'Booster_Fan_Air_Flow_Sensor', 'Maintenance_Required_Alarm', 'Heating_Command', 'Heat_Wheel_Voltage', 'Zone_Temperature_Setpoint', 'Supply_Fan_Status', 'Run_Enable_Command', 'Emergency_Power_Loss_Alarm', 'Cooling_Supply_Air_Temperature_Proportional_Band', 'CO2_Differential', 'Unit_Hold', 'Low_Humidity_Alarm_Setpoint', 'Outside_Air_Temperature_High_Reset_Setpoint', 'Humidification_On_Off_Status', 'Supply_Air_Flow_Reset_High_Sensor', 'Economizer_Supply_Air_Temperature_Dead_Band', 'Heating_Supply_Air_Temperature_Integral_Time', 'Outside_Air_Humidity', 'Fault_Status', 'DualBand_Mode', 'Outside_Air_Damper_Min_Position_Setpoint', 'Return_Air_Temperature_Sensor', 'Supply_Air_Smoke_Detected', 'Occupied_Cooling_Min_Supply_Air_Flow', 'Chilled_Water_Pressure_Setpoint'}\n"
     ]
    }
   ],
   "source": [
    "brickMissingTagSets=brickTagSets - brickTags\n",
    "print(\"Missing Tag Sets:\" + str(len(brickMissingTagSets)))\n",
    "print(brickMissingTagSets)"
   ]
  },
  {
   "cell_type": "code",
   "execution_count": 136,
   "metadata": {
    "collapsed": false
   },
   "outputs": [],
   "source": [
    "def IndivName(name):\n",
    "  return re.sub(r'\\s','_',re.sub(r'[^\\d\\w\\s]', '', name))"
   ]
  },
  {
   "cell_type": "markdown",
   "metadata": {},
   "source": [
    "### Load Data"
   ]
  },
  {
   "cell_type": "code",
   "execution_count": 137,
   "metadata": {
    "collapsed": false
   },
   "outputs": [
    {
     "data": {
      "text/html": [
       "<div>\n",
       "<table border=\"1\" class=\"dataframe\">\n",
       "  <thead>\n",
       "    <tr style=\"text-align: right;\">\n",
       "      <th></th>\n",
       "      <th>Label</th>\n",
       "      <th>TagSet</th>\n",
       "      <th>AssetType</th>\n",
       "      <th>Asset</th>\n",
       "      <th>AssetParent</th>\n",
       "      <th>Site</th>\n",
       "      <th>Building</th>\n",
       "      <th>Wing</th>\n",
       "      <th>BuildingStorey</th>\n",
       "      <th>Room</th>\n",
       "      <th>Zone</th>\n",
       "    </tr>\n",
       "  </thead>\n",
       "  <tbody>\n",
       "    <tr>\n",
       "      <th>0</th>\n",
       "      <td>1F_MID_OPENOFF_CO2</td>\n",
       "      <td>Zone_Air_CO2_Sensor</td>\n",
       "      <td>NaN</td>\n",
       "      <td>NaN</td>\n",
       "      <td>NaN</td>\n",
       "      <td>Dublin</td>\n",
       "      <td>B3</td>\n",
       "      <td>SOR42</td>\n",
       "      <td>FirstFloor</td>\n",
       "      <td>OpenOffice</td>\n",
       "      <td>Middle</td>\n",
       "    </tr>\n",
       "    <tr>\n",
       "      <th>1</th>\n",
       "      <td>1F_NRTH_OPENOFF_CO2</td>\n",
       "      <td>Zone_Air_CO2_Sensor</td>\n",
       "      <td>NaN</td>\n",
       "      <td>NaN</td>\n",
       "      <td>NaN</td>\n",
       "      <td>Dublin</td>\n",
       "      <td>B3</td>\n",
       "      <td>SOR42</td>\n",
       "      <td>FirstFloor</td>\n",
       "      <td>OpenOffice</td>\n",
       "      <td>North</td>\n",
       "    </tr>\n",
       "    <tr>\n",
       "      <th>2</th>\n",
       "      <td>1F_STH_OPENOFF_CO2</td>\n",
       "      <td>Zone_Air_CO2_Sensor</td>\n",
       "      <td>NaN</td>\n",
       "      <td>NaN</td>\n",
       "      <td>NaN</td>\n",
       "      <td>Dublin</td>\n",
       "      <td>B3</td>\n",
       "      <td>SOR42</td>\n",
       "      <td>FirstFloor</td>\n",
       "      <td>OpenOffice</td>\n",
       "      <td>South</td>\n",
       "    </tr>\n",
       "    <tr>\n",
       "      <th>3</th>\n",
       "      <td>421_U10_CLG_VLV</td>\n",
       "      <td>FCU_Cooling_Valve_Percentage_Command</td>\n",
       "      <td>FCU</td>\n",
       "      <td>U10</td>\n",
       "      <td>NaN</td>\n",
       "      <td>Dublin</td>\n",
       "      <td>B3</td>\n",
       "      <td>SOR42</td>\n",
       "      <td>FirstFloor</td>\n",
       "      <td>SOR42_1_U10</td>\n",
       "      <td>NaN</td>\n",
       "    </tr>\n",
       "    <tr>\n",
       "      <th>4</th>\n",
       "      <td>421_U10_DAT</td>\n",
       "      <td>FCU_Supply_Air_Temperature_Sensor</td>\n",
       "      <td>FCU</td>\n",
       "      <td>U10</td>\n",
       "      <td>NaN</td>\n",
       "      <td>Dublin</td>\n",
       "      <td>B3</td>\n",
       "      <td>SOR42</td>\n",
       "      <td>FirstFloor</td>\n",
       "      <td>SOR42_1_U10</td>\n",
       "      <td>NaN</td>\n",
       "    </tr>\n",
       "  </tbody>\n",
       "</table>\n",
       "</div>"
      ],
      "text/plain": [
       "                 Label                                TagSet AssetType Asset  \\\n",
       "0   1F_MID_OPENOFF_CO2                   Zone_Air_CO2_Sensor       NaN   NaN   \n",
       "1  1F_NRTH_OPENOFF_CO2                   Zone_Air_CO2_Sensor       NaN   NaN   \n",
       "2   1F_STH_OPENOFF_CO2                   Zone_Air_CO2_Sensor       NaN   NaN   \n",
       "3      421_U10_CLG_VLV  FCU_Cooling_Valve_Percentage_Command       FCU   U10   \n",
       "4          421_U10_DAT     FCU_Supply_Air_Temperature_Sensor       FCU   U10   \n",
       "\n",
       "  AssetParent    Site Building   Wing BuildingStorey         Room    Zone  \n",
       "0         NaN  Dublin       B3  SOR42     FirstFloor   OpenOffice  Middle  \n",
       "1         NaN  Dublin       B3  SOR42     FirstFloor   OpenOffice   North  \n",
       "2         NaN  Dublin       B3  SOR42     FirstFloor   OpenOffice   South  \n",
       "3         NaN  Dublin       B3  SOR42     FirstFloor  SOR42_1_U10     NaN  \n",
       "4         NaN  Dublin       B3  SOR42     FirstFloor  SOR42_1_U10     NaN  "
      ]
     },
     "execution_count": 137,
     "metadata": {},
     "output_type": "execute_result"
    }
   ],
   "source": [
    "df=pd.read_csv('IBM_B3_points.csv')\n",
    "if testing: df=df.head(20)\n",
    "df.head()"
   ]
  },
  {
   "cell_type": "markdown",
   "metadata": {},
   "source": [
    "Analyze Dataset"
   ]
  },
  {
   "cell_type": "code",
   "execution_count": 138,
   "metadata": {
    "collapsed": false
   },
   "outputs": [
    {
     "data": {
      "text/plain": [
       "91"
      ]
     },
     "execution_count": 138,
     "metadata": {},
     "output_type": "execute_result"
    }
   ],
   "source": [
    "dfTags=set()\n",
    "dfTagSets=set(pd.unique(df.TagSet.dropna().ravel()))\n",
    "for ts in dfTagSets:\n",
    "  dfTags.update(ts.split('_'))\n",
    "len(dfTags)"
   ]
  },
  {
   "cell_type": "code",
   "execution_count": 139,
   "metadata": {
    "collapsed": false
   },
   "outputs": [
    {
     "name": "stdout",
     "output_type": "stream",
     "text": [
      "Missing Tags from Schema:46\n",
      "{'Factor', 'Extract', 'Supply', 'Footfall', 'Rain', 'Hail', 'Weather', 'Wireless', 'Line', 'Electric', 'AHU', 'Loop', 'Phase', 'Automatic', 'Meter', 'Open', 'Out', 'Blind', 'Light', 'Illumination', 'Lux', 'Socket', 'External', 'Circualation', 'Effective', 'In', 'Frost', 'ThermalWheel', 'Duration', 'Percentage', 'Cold', 'Elevation', 'FCU', 'SRVC', 'Radiation', 'Sun', 'Accumulated', 'Sunblind', 'Presence', 'Trace', 'Incoming', 'Average', 'Facade', 'Instantations', 'Storage', 'PowerUnit'}\n"
     ]
    }
   ],
   "source": [
    "dfMissingTags=dfTags - schemaTags # schemaUsedTags - \n",
    "print(\"Missing Tags from Schema:\" + str(len(dfMissingTags)))\n",
    "print(dfMissingTags)"
   ]
  },
  {
   "cell_type": "code",
   "execution_count": 140,
   "metadata": {
    "collapsed": false
   },
   "outputs": [
    {
     "name": "stdout",
     "output_type": "stream",
     "text": [
      "Missing Tags from Bricks:52\n",
      "{'Factor', 'Extract', 'Rain', 'Footfall', 'Hail', 'Weather', 'Wireless', 'Relative', 'Heat', 'Emergency', 'Line', 'Electric', 'AHU', 'Loop', 'Phase', 'Automatic', 'Meter', 'Open', 'Out', 'Mode', 'Blind', 'Light', 'Lux', 'Socket', 'External', 'Circualation', 'Load', 'Switch', 'In', 'Frost', 'ThermalWheel', 'Duration', 'Percentage', 'Azimuth', 'Cold', 'Elevation', 'Solar', 'FCU', 'SRVC', 'Radiation', 'Run', 'Sun', 'Accumulated', 'Sunblind', 'Presence', 'Trace', 'Incoming', 'Average', 'Facade', 'Instantations', 'Storage', 'PowerUnit'}\n"
     ]
    }
   ],
   "source": [
    "dfMissingTags=dfTags - brickTags # schemaUsedTags - \n",
    "print(\"Missing Tags from Bricks:\" + str(len(dfMissingTags)))\n",
    "print(dfMissingTags)"
   ]
  },
  {
   "cell_type": "markdown",
   "metadata": {},
   "source": [
    "Find best matching tag sets for the defined ones"
   ]
  },
  {
   "cell_type": "code",
   "execution_count": 141,
   "metadata": {
    "collapsed": false
   },
   "outputs": [
    {
     "name": "stdout",
     "output_type": "stream",
     "text": [
      "Zone_Air_CO2_Sensor:['Outside_Air_CO2_Sensor', 'Return_Air_CO2_Sensor']\n",
      "FCU_Cooling_Valve_Percentage_Command:['Cooling_Valve_Command']\n",
      "FCU_Supply_Air_Temperature_Sensor:['Supply_Air_Temperature']\n",
      "FCU_Fan_Speed_Sensor_Command:['Speed_Command']\n",
      "FCU_Fault_Sensor:['Fault_Indicator', 'Fault_Reset', 'CO2_Sensor', 'Fault_Status', 'Humidity_Sensor', 'Occupancy_Sensor']\n",
      "FCU_Heating_Valve_Percentage_Command:['Heating_Valve_Command']\n",
      "FCU_Return_Air_Temperature_Sensor:['Return_Air_Temperature_Sensor']\n",
      "FCU_Air_Temperature_Setpoint:['Supply_Air_Temperature_Setpoint', 'Mixed_Air_Temperature_Setpoint']\n",
      "Light_Load_Electric_Meter:['Energy']\n",
      "Socket_Load_Electric_Meter:['Energy']\n",
      "Electric_Meter_FCU:['Energy']\n",
      "Electric_Meter:['Energy']\n",
      "Electric_Meter_Light:['Energy']\n",
      "Switch_Emergency_Command:['Emergency_Power_Off_Switch']\n",
      "Socket_Load_Wireless_Electric_Meter:['Energy']\n",
      "Socket_Load_Blind_Electric_Meter:['Energy']\n",
      "Incoming_Water_Meter:['Deionised_Water_Conductivity', 'Deionised_Water_Alarm', 'Water_Loss_Alarm', 'Water_Supply_Temperature']\n",
      "AHU_Cooling_Valve_Percentage_Command:['Cooling_Valve_Command']\n",
      "AHU_Enable_Command:['AHU_System_Enable', 'Run_Enable_Command']\n",
      "AHU_Heating_Valve_Percentage_Command:['Heating_Valve_Command']\n",
      "AHU_Return_Air_Temperature_Sensor:['Return_Air_Temperature_Sensor']\n",
      "AHU_Return_Fan_Variable_Speed_Speed_Sensor:['Return_Fan_Differential_Speed_from_Supply_Fan']\n",
      "AHU_Supply_Air_Temperature_Setpoint:['Supply_Air_Temperature_Setpoint']\n",
      "AHU_Supply_Air_Temperature_Sensor:['Supply_Air_Temperature']\n",
      "AHU_Supply_Fan_Variable_Speed_Command:['Supply_Fan_Start_Stop_Command']\n",
      "AHU_ThermalWheel_Effective_Sensor:['CO2_Sensor', 'Humidity_Sensor', 'Occupancy_Sensor']\n",
      "Zone_Air_Temperature_Sensor:['Zone_Temperature_Sensor']\n",
      "Chilled_Water_Loop_Accumulated_Volume_Meter:['Chilled_Water_Pump_Enable', 'Chilled_Water_Supply_Flow', 'Chilled_Water_Differential_Pressure', 'Chilled_Water_Supply_Temperature', 'Chilled_Water_Pump_Status', 'Chilled_Water_Return_Temperature', 'Chilled_Water_Temperature_Differential', 'Chilled_Water_Pressure_Setpoint']\n",
      "Chilled_Water_Loop_Accumulated_PowerUnit_Meter:['Chilled_Water_Pump_Enable', 'Chilled_Water_Supply_Flow', 'Chilled_Water_Differential_Pressure', 'Chilled_Water_Supply_Temperature', 'Chilled_Water_Pump_Status', 'Chilled_Water_Return_Temperature', 'Chilled_Water_Temperature_Differential', 'Chilled_Water_Pressure_Setpoint']\n",
      "Chilled_Water_Loop_Flow_Meter:['Chilled_Water_Supply_Flow']\n",
      "Chilled_Water_Loop_Return_Temperature_Sensor:['Chilled_Water_Return_Temperature']\n",
      "Chilled_Water_Loop_Supply_Temperature_Sensor:['Chilled_Water_Supply_Temperature']\n",
      "Hot_Water_Loop_Accumulated_Volume_Meter:['Hot_Water_Supply_Temperature', 'Hot_Water_Pump_Alarm', 'Hot_Water_Differential_Pressure', 'Hot_Water_Return_Temperature']\n",
      "Hot_Water_Loop_Accumulated_PowerUnit_Meter:['Hot_Water_Supply_Temperature', 'Hot_Water_Pump_Alarm', 'Hot_Water_Differential_Pressure', 'Hot_Water_Return_Temperature']\n",
      "Hot_Water_Loop_Flow_Meter:['Hot_Water_Supply_Temperature', 'Chilled_Water_Supply_Flow', 'Hot_Water_Pump_Alarm', 'Hot_Water_Differential_Pressure', 'Hot_Water_Return_Temperature']\n",
      "Hot_Water_Loop_Return_Temperature_Sensor:['Hot_Water_Return_Temperature']\n",
      "Hot_Water_Loop_Supply_Temperature_Sensor:['Hot_Water_Supply_Temperature']\n",
      "Extract_Fan_Phase_Meter:['Standby_Fan_Status', 'Exhaust_Fan_Piezoelectric', 'Fan_Air_Flow', 'Fan_Overload_Alarm', 'Exhaust_Fan_Status', 'Booster_Fan_Command', 'Return_Fan_Status', 'Supply_Fan_Status']\n",
      "Socket_Load_Phase_Electric_Meter:['Energy']\n",
      "AHU_Trace_Heat_Sensor:['CO2_Sensor', 'Humidity_Sensor', 'Occupancy_Sensor']\n",
      "Electric_Meter_AHU_Phase:['AHU_Overridden_Off', 'AHU_Overridden_On', 'AHU_System_Enable']\n",
      "Cold_Water_Storage_Booster_Pump_Phase_Meter:['Chilled_Water_Pump_Enable', 'Chilled_Water_Pump_Status', 'Hot_Water_Pump_Alarm']\n",
      "Rain_Water_Circualation_Pump_Phase_Meter:['Chilled_Water_Pump_Enable', 'Chilled_Water_Pump_Status', 'Hot_Water_Pump_Alarm']\n",
      "Rain_Water_Control_Pump_Meter:['Chilled_Water_Pump_Enable', 'Chilled_Water_Pump_Status', 'Hot_Water_Pump_Alarm']\n",
      "FCU_Phase_Average_PowerUnit_Electric_Meter:['Average_Supply_Air_Flow']\n",
      "FCU_Phase_Instantations_PowerUnit_Electric_Meter:['Energy']\n",
      "FCU_Phase_Max_PowerUnit_Electric_Meter:['Max_Frequency_Command', 'Max_Static_Pressure']\n",
      "FCU_Frequency_Electric_Meter:['Output_Frequency', 'Frequency_Command']\n",
      "FCU_Line_Voltage_Electric_Meter:['Output_Voltage']\n",
      "FCU_Phase_Current_Electric_Meter:['Motor_Current', 'Current_Limit']\n",
      "FCU_Power_Factor_Electric_Meter:['Motor_Power']\n",
      "Light_Load_Phase_Average_PowerUnit_Electric_Meter:['Average_Supply_Air_Flow']\n",
      "Light_Load_Phase_Instantations_PowerUnit_Electric_Meter:['Energy']\n",
      "Light_Load_Phase_Max_PowerUnit_Electric_Meter:['Max_Frequency_Command', 'Max_Static_Pressure']\n",
      "Light_Load_Frequency_Electric_Meter:['Output_Frequency', 'Frequency_Command']\n",
      "Light_Load_Line_Voltage_Electric_Meter:['Output_Voltage']\n",
      "Light_Load_Phase_Current_Electric_Meter:['Motor_Current', 'Current_Limit']\n",
      "Light_Load_Power_Factor_Electric_Meter:['Motor_Power']\n",
      "Socket_Load_Phase_Average_PowerUnit_Electric_Meter:['Average_Supply_Air_Flow']\n",
      "Socket_Load_Phase_Instantations_PowerUnit_Electric_Meter:['Energy']\n",
      "Socket_Load_Phase_Max_PowerUnit_Electric_Meter:['Max_Frequency_Command', 'Max_Static_Pressure']\n",
      "Socket_Load_Frequency_Electric_Meter:['Output_Frequency', 'Frequency_Command']\n",
      "Socket_Load_Line_Voltage_Electric_Meter:['Output_Voltage']\n",
      "Socket_Load_Phase_Current_Electric_Meter:['Motor_Current', 'Current_Limit']\n",
      "Socket_Load_Power_Factor_Electric_Meter:['Motor_Power']\n",
      "Weather_Hail_Sensor:['CO2_Sensor', 'Humidity_Sensor', 'Occupancy_Sensor']\n",
      "Weather_Outside_Air_Temperature_Sensor:['Outside_Air_Temperature_Sensor']\n",
      "Weather_Pressure_Sensor:['Static_Pressure_Sensor']\n",
      "Weather_Rain_Sensor:['CO2_Sensor', 'Humidity_Sensor', 'Occupancy_Sensor']\n",
      "Weather_Rain_Duration_Sensor:['CO2_Sensor', 'Humidity_Sensor', 'Occupancy_Sensor']\n",
      "Weather_Relative_Humidity_Sensor:['Humidity_Sensor']\n",
      "Weather_Wind_Speed_Average_Sensor:['CO2_Sensor', 'Humidity_Sensor', 'Speed_Command', 'Occupancy_Sensor', 'Motor_Speed', 'Rated_Speed']\n",
      "Weather_Wind_Speed_Direction_Sensor:['CO2_Sensor', 'Humidity_Sensor', 'Speed_Command', 'Occupancy_Sensor', 'Motor_Speed', 'Rated_Speed']\n",
      "Weather_Wind_Speed_Max_Sensor:['Max_VFD_Speed_To_Increase_Static_Pressure_Setpoint']\n",
      "Footfall_In_Sensor:['CO2_Sensor', 'Humidity_Sensor', 'Occupancy_Sensor']\n",
      "Footfall_Out_Sensor:['CO2_Sensor', 'Humidity_Sensor', 'Occupancy_Sensor']\n",
      "Outside_Illumination_Lux_Sensor:['Outside_Air_CO2_Sensor', 'Outside_Air_Flow_Sensor', 'Outside_Air_Enthalpy_Sensor', 'Outside_Air_Temperature_Sensor', 'Outside_Air_Humidity_Sensor', 'Outside_Air_Dewpoint_Sensor']\n",
      "Outside_Radiation_Sensor:['Outside_Air_CO2_Sensor', 'Outside_Air_Flow_Sensor', 'Outside_Air_Enthalpy_Sensor', 'Outside_Air_Temperature_Sensor', 'Outside_Air_Humidity_Sensor', 'Outside_Air_Dewpoint_Sensor']\n",
      "Facade_Sunblind_Sensor:['CO2_Sensor', 'Humidity_Sensor', 'Occupancy_Sensor']\n",
      "Solar_Radiation_Sensor:['CO2_Sensor', 'Humidity_Sensor', 'Occupancy_Sensor']\n",
      "Sun_Azimuth_Sensor:['CO2_Sensor', 'Humidity_Sensor', 'Occupancy_Sensor']\n",
      "Sun_Elevation_Sensor:['CO2_Sensor', 'Humidity_Sensor', 'Occupancy_Sensor']\n",
      "FCU_Fan_Run_Time_Sensor:['Run_Time']\n",
      "AHU_Automatic_Mode_Command:['Occupied_Mode', 'Occupied_Command', 'Frequency_Command', 'Unoccupied_Mode', 'Humidify_Command', 'Economizer_Mode', 'Speed_Command', 'Occupancy_Command', 'VFD_Command', 'Damper_Command', 'Heating_Command', 'Valve_Command', 'Maintenance_Mode', 'Cooling_Command', 'DualBand_Mode']\n",
      "AHU_Frost_Open_Sensor:['CO2_Sensor', 'Humidity_Sensor', 'Occupancy_Sensor']\n",
      "AHU_Return_Heat_Valve_Command:['Heat_Exchanger_Valve_Command']\n",
      "AHU_Supply_Fan_Variable_Speed_Sensor:['Supply_Fan_Piezoelectric_Sensor']\n",
      "AHU_Supply_Fan_Variable_Speed_Setpoint:['Cooling_Tower_Fan_Speed_Setpoint']\n",
      "AHU_Supply_Fan_Flow_Status_Sensor:['Supply_Fan_Status']\n",
      "External_Fan_Status_Sensor:['Standby_Fan_Status', 'Exhaust_Fan_Status', 'Return_Fan_Status', 'Supply_Fan_Status']\n",
      "External_Fan_Variable_Speed_Command:['Speed_Command']\n",
      "Water_Meter_Rain:['Deionised_Water_Conductivity', 'Deionised_Water_Alarm', 'Water_Loss_Alarm', 'Water_Supply_Temperature']\n",
      "Water_Meter:['Deionised_Water_Conductivity', 'Deionised_Water_Alarm', 'Water_Loss_Alarm', 'Water_Supply_Temperature']\n",
      "Zone_Presence_Sensor:['Zone_Temperature_Sensor']\n",
      "Electric_Meter_SRVC:['Energy']\n",
      "Zone_Illumination_Fault_Sensor:['Zone_Temperature_Sensor']\n",
      "Zone_Illumination_Command:['Occupied_Command', 'Frequency_Command', 'Humidify_Command', 'Speed_Command', 'Occupancy_Command', 'VFD_Command', 'Damper_Command', 'Heating_Command', 'Valve_Command', 'Cooling_Command']\n",
      "Zone_Illumination_Sensor:['Zone_Temperature_Sensor']\n",
      "FCU_Status_Sensor:['System_Status', 'Pump_Status', 'CO2_Sensor', 'Fault_Status', 'Humidity_Sensor', 'Occupancy_Sensor', 'Valve_Status', 'Filter_Status', 'Freeze_Status']\n",
      "AHU_Zone_Air_Temperature_Sensor:['Zone_Temperature_Sensor']\n",
      "AHU_Return_Fan_Variable_Speed_Percentage_Command:['Return_Fan_Start_Stop_Command']\n",
      "AHU_Supply_Fan_Variable_Speed_Percentage_Command:['Supply_Fan_Start_Stop_Command']\n"
     ]
    }
   ],
   "source": [
    "closestMatches={}\n",
    "fullMatches={}\n",
    "for ts in pd.unique(df.TagSet.dropna().ravel()):\n",
    "  if ts in jointTagSetTags:\n",
    "    closestMatches[ts]=[ts]\n",
    "    fullMatches[ts]=ts\n",
    "  else:\n",
    "    tss=set(ts.split('_'))\n",
    "    largestSubset=[]\n",
    "    largestIntersect=0\n",
    "    for ts2 in jointTagSetTags:\n",
    "      inters=tss.intersection(jointTagSetTags[ts2])\n",
    "      if len(inters)>largestIntersect:\n",
    "        largestIntersect=len(inters)\n",
    "        largestSubset=[] # reset largestSubset\n",
    "      if len(inters)==largestIntersect:\n",
    "        largestSubset.append(ts2) # add to the largest sets\n",
    "    smalestSubset=largestSubset\n",
    "    if len(largestSubset)>1:\n",
    "      smalestDiff=len(tss)\n",
    "      smalestSubset=[]\n",
    "      for ts2 in largestSubset:\n",
    "        diffs=jointTagSetTags[ts2] - tss\n",
    "        if len(diffs)<smalestDiff:\n",
    "          smalestDiff=len(diffs)\n",
    "          smalestSubset=[] # reset largestSubset\n",
    "        if len(diffs)==smalestDiff:\n",
    "          smalestSubset.append(ts2) # add to the largest sets\n",
    "    closestMatches[ts]=smalestSubset\n",
    "    print(ts+\":\"+str(smalestSubset))"
   ]
  },
  {
   "cell_type": "markdown",
   "metadata": {},
   "source": [
    "Manual Mapping based on the results."
   ]
  },
  {
   "cell_type": "code",
   "execution_count": 142,
   "metadata": {
    "collapsed": false
   },
   "outputs": [],
   "source": [
    "myMap={'FCU_Cooling_Valve_Percentage_Command':'Cooling_Valve_Command',\n",
    "'AHU_Cooling_Valve_Percentage_Command':'Cooling_Valve_Command',\n",
    "'FCU_Supply_Air_Temperature_Sensor':'Supply_Air_Temperature',\n",
    "'AHU_Heating_Valve_Percentage_Command':'Heating_Valve_Command',\n",
    "'AHU_Return_Air_Temperature_Sensor':'Return_Air_Temperature_Sensor',\n",
    "'AHU_Supply_Air_Temperature_Sensor':'Supply_Air_Temperature',\n",
    "'AHU_Supply_Air_Temperature_Setpoint':'Supply_Air_Temperature_Setpoint',\n",
    "'AHU_Zone_Air_Temperature_Sensor':'Zone_Temperature_Sensor',\n",
    "'FCU_Heating_Valve_Percentage_Command':'Heating_Valve_Command',\n",
    "'FCU_Return_Air_Temperature_Sensor':'Return_Air_Temperature_Sensor',\n",
    "'FCU_Fault_Sensor':'Fault_Status',\n",
    "'FCU_Air_Temperature_Setpoint':'Supply_Air_Temperature_Setpoint',\n",
    "'Zone_Air_Temperature_Sensor':'Zone_Temperature_Sensor',\n",
    "'Socket_Load_Blind_Electric_Meter':'Energy',\n",
    "'Socket_Load_Electric_Meter':'Energy',\n",
    "'Socket_Load_Frequency_Electric_Meter':'Energy',\n",
    "'Socket_Load_Line_Voltage_Electric_Meter':'Energy',\n",
    "'Socket_Load_Phase_Average_PowerUnit_Electric_Meter':'Energy',\n",
    "'Socket_Load_Phase_Current_Electric_Meter':'Energy',\n",
    "'Socket_Load_Phase_Electric_Meter':'Energy',\n",
    "'Socket_Load_Phase_Instantations_PowerUnit_Electric_Meter':'Energy',\n",
    "'Socket_Load_Phase_Max_PowerUnit_Electric_Meter':'Energy',\n",
    "'Socket_Load_Power_Factor_Electric_Meter':'Energy',\n",
    "'Socket_Load_Wireless_Electric_Meter':'Energy',\n",
    "'Weather_Outside_Air_Temperature_Sensor':'Outside_Air_Temperature_Sensor',\n",
    "'Weather_Relative_Humidity_Sensor':'Humidity_Sensor',\n",
    "'Electric_Meter':'Energy',\n",
    "'Electric_Meter_FCU':'Energy',\n",
    "'Electric_Meter_Light':'Energy',\n",
    "'Electric_Meter_SRVC':'Energy',\n",
    "'FCU_Fan_Speed_Sensor_Command':'Speed_Command',\n",
    "'AHU_Supply_Fan_Flow_Status_Sensor':'Supply_Fan_Status',\n",
    "'FCU_Fan_Run_Time_Sensor':'Run_Time',\n",
    "'Hot_Water_Loop_Return_Temperature_Sensor':'Hot_Water_Return_Temperature',\n",
    "'Hot_Water_Loop_Supply_Temperature_Sensor':'Hot_Water_Supply_Temperature',\n",
    "'Light_Load_Electric_Meter':'Energy',\n",
    "'Light_Load_Phase_Instantations_PowerUnit_Electric_Meter':'Energy',\n",
    "'Electric_Meter_AHU_Phase':'Energy',\n",
    "'External_Fan_Variable_Speed_Command':'Speed_Command'}\n",
    "for ts in myMap: fullMatches[ts]=myMap[ts]"
   ]
  },
  {
   "cell_type": "code",
   "execution_count": null,
   "metadata": {
    "collapsed": false
   },
   "outputs": [],
   "source": []
  },
  {
   "cell_type": "markdown",
   "metadata": {},
   "source": [
    "write header"
   ]
  },
  {
   "cell_type": "code",
   "execution_count": 143,
   "metadata": {
    "collapsed": false
   },
   "outputs": [
    {
     "data": {
      "text/plain": [
       "66"
      ]
     },
     "execution_count": 143,
     "metadata": {},
     "output_type": "execute_result"
    }
   ],
   "source": [
    "fo = open(exampleName+'.ttl', 'w')\n",
    "fo.write(\"\"\"@prefix dc: <http://purl.org/dc/elements/1.1/> .\n",
    "@prefix DUL: <http://www.loa-cnr.it/ontologies/DUL.owl#> .\n",
    "@prefix owl: <http://www.w3.org/2002/07/owl#> .\n",
    "@prefix rdf: <http://www.w3.org/1999/02/22-rdf-syntax-ns#> .\n",
    "@prefix ssn: <http://purl.oclc.org/NET/ssnx/ssn#> .\n",
    "@prefix xml: <http://www.w3.org/XML/1998/namespace> .\n",
    "@prefix xsd: <http://www.w3.org/2001/XMLSchema#> .\n",
    "@prefix rdfs: <http://www.w3.org/2000/01/rdf-schema#> .\n",
    "@prefix skos: <http://www.w3.org/2004/02/skos/core#> .\n",
    "@prefix time: <http://www.w3.org/2006/time#> .\n",
    "@prefix unit: <http://qudt.org/vocab/unit#> .\n",
    "@prefix gbXML: <http://www.gbxml.org/schema#> .\n",
    "@prefix haystack: <http://project-haystack.org/tag/> .\n",
    "@prefix bs: <http://buildsys.org/ontologies/BuildingSchema#> .\n",
    "@prefix brick: <http://buildsys.org/ontologies/brick#> .\\n\"\"\")\n",
    "fo.write(\"@prefix : <\"+str(MyNS)+\"> .\\n\\n\")\n",
    "fo.write(\"<\"+str(MyNS).replace(\"#\",\"\")+\">  a owl:Ontology ;\\n\")\n",
    "fo.write(\"\\towl:imports <http://buildsys.org/ontologies/BuildingSchema> , <http://buildsys.org/ontologies/brick> ;\\n\")\n",
    "fo.write('\\trdfs:comment \"'+exampleDescription+'\"@en .\\n\\n')"
   ]
  },
  {
   "cell_type": "markdown",
   "metadata": {},
   "source": [
    "write locations"
   ]
  },
  {
   "cell_type": "code",
   "execution_count": 144,
   "metadata": {
    "collapsed": false
   },
   "outputs": [],
   "source": [
    "# create location individuals\n",
    "locationCols=[\"Site\",\"Building\",\"Wing\",\"BuildingStorey\",\"Room\",\"Zone\"]\n",
    "locations={}\n",
    "for col in locationCols:\n",
    "  for indiv in pd.unique(df[col].dropna().ravel()):\n",
    "    if indiv!=\"\":\n",
    "      indivLocName=IndivName(col+\"_\"+indiv)\n",
    "      fo.write(\"\\n :\"+indivLocName+\"  a   brick:\"+col+\";\")\n",
    "      fo.write('\\n\\t\\t\\t rdfs:label \"'+indiv+'\"@en .\\n')\n",
    "      locations[indiv]=indivLocName\n",
    "# add relations\n",
    "for idx in df.index:\n",
    "  for ci in range(1,len(locationCols)):\n",
    "    childIndiv =df.loc[idx,locationCols[ci]]\n",
    "    parentIndiv=df.loc[idx,locationCols[ci-1]]\n",
    "    if childIndiv in locations and parentIndiv in locations:\n",
    "      fo.write(\"\\n :\"+locations[childIndiv]+\"  bs:isPartOf   :\"+locations[parentIndiv]+\".\")\n",
    "      fo.write(\"\\n :\"+locations[parentIndiv]+\"  bs:hasPart   :\"+locations[childIndiv]+\".\\n\")"
   ]
  },
  {
   "cell_type": "markdown",
   "metadata": {},
   "source": [
    "write assets"
   ]
  },
  {
   "cell_type": "code",
   "execution_count": 145,
   "metadata": {
    "collapsed": false
   },
   "outputs": [],
   "source": [
    "# create asset individuals\n",
    "assets={}\n",
    "for idx in df.index:\n",
    "  assetName = str(df.loc[idx, \"Asset\"])\n",
    "  if assetName==\"\" or assetName==\"nan\" or assetName in assets: \n",
    "    continue\n",
    "  assetType = df.loc[idx, \"AssetType\"]\n",
    "  indivLocName=IndivName(assetType+\"_\"+assetName)\n",
    "  fo.write(\"\\n :\"+indivLocName+\"  a   brick:\"+col+\";\")\n",
    "  fo.write('\\n\\t\\t\\t rdfs:label \"'+assetName+'\"@en .\\n')\n",
    "  assets[assetName]=indivLocName\n",
    "  assetParent = str(df.loc[idx, \"AssetParent\"])\n",
    "  if assetParent!=\"\" and assetParent!=\"nan\":\n",
    "    if assetParent not in assets:\n",
    "      parentLocName=IndivName(assetType+\"_\"+assetParent)\n",
    "      fo.write(\"\\n :\"+parentLocName+\"  a   brick:\"+col+\";\")\n",
    "      fo.write('\\n\\t\\t\\t rdfs:label \"'+assetParent+'\"@en .\\n')\n",
    "      assets[assetParent]=parentLocName\n",
    "    fo.write(\"\\n :\"+assets[assetName]+\"  bs:isPartOf   :\"+assets[assetParent]+\".\")\n",
    "    fo.write(\"\\n :\"+assets[assetParent]+\"  bs:hasPart   :\"+assets[assetName]+\".\\n\")"
   ]
  },
  {
   "cell_type": "markdown",
   "metadata": {},
   "source": [
    "analyze tag sets"
   ]
  },
  {
   "cell_type": "code",
   "execution_count": 146,
   "metadata": {
    "collapsed": false
   },
   "outputs": [],
   "source": [
    "#create individual for tags\n",
    "for tag in dfTags:\n",
    "  if tag in brickTags:\n",
    "    fo.write(\"\\n :\"+tag+\"0  a  bs:\"+tag+\".\\n\")\n",
    "  else:\n",
    "    fo.write(\"\\n :\"+tag+\"  rdfs:subClassOf  bs:Tag.\")\n",
    "    fo.write(\"\\n :\"+tag+\"0  a  :\"+tag+\".\\n\")"
   ]
  },
  {
   "cell_type": "code",
   "execution_count": null,
   "metadata": {
    "collapsed": true
   },
   "outputs": [],
   "source": []
  },
  {
   "cell_type": "code",
   "execution_count": 147,
   "metadata": {
    "collapsed": false
   },
   "outputs": [],
   "source": [
    "for idx in df.index:\n",
    "  pointIndivName = IndivName(df.loc[idx, \"Label\"])\n",
    "  pointType = df.loc[idx, \"TagSet\"]\n",
    "  if pointType in fullMatches:\n",
    "    fo.write(\"\\n :\"+pointIndivName+\"  a  bs:Label, bs:TagSet, brick:\"+fullMatches[pointType]+\";\")\n",
    "  else:\n",
    "    fo.write(\"\\n :\"+pointType+\"  rdfs:subClassOf   bs:TagSet.\")\n",
    "    fo.write(\"\\n :\"+pointIndivName+\"  a   bs:Label, bs:TagSet, :\"+pointType+\";\")\n",
    "  fo.write('\\n \\t\\t\\t rdfs:label \"'+df.loc[idx, \"Label\"]+'\"@en ;')\n",
    "  # write tags\n",
    "  for tag in set(pointType.split('_')):\n",
    "    fo.write(\"\\n \\t\\t\\t bs:hasTag   :\"+tag+\"0;\")\n",
    "  # write location\n",
    "  loc=df.loc[idx, locationCols].dropna().ravel()[-1]\n",
    "  fo.write(\"\\n \\t\\t\\t bs:hasLocation :\"+locations[loc]+'. \\n')\n",
    "  fo.write(\"\\n :\"+locations[loc]+\"  bs:hasPoint  :\"+pointIndivName+\".\")\n",
    "  # write assets\n",
    "  assetName = str(df.loc[idx, \"Asset\"])\n",
    "  if assetName!=\"\" and assetName!=\"nan\":\n",
    "    fo.write(\"\\n :\"+assets[assetName]+\"  brick:hasPoint  :\"+pointIndivName+\".\")\n",
    "    fo.write(\"\\n :\"+pointIndivName+\"  bs:hasAsset  :\"+assets[assetName]+\".\\n\")"
   ]
  },
  {
   "cell_type": "code",
   "execution_count": 148,
   "metadata": {
    "collapsed": false
   },
   "outputs": [],
   "source": [
    "fo.close()"
   ]
  },
  {
   "cell_type": "code",
   "execution_count": null,
   "metadata": {
    "collapsed": true
   },
   "outputs": [],
   "source": []
  }
 ],
 "metadata": {
  "kernelspec": {
   "display_name": "Python 3",
   "language": "python",
   "name": "python3"
  },
  "language_info": {
   "codemirror_mode": {
    "name": "ipython",
    "version": 3
   },
   "file_extension": ".py",
   "mimetype": "text/x-python",
   "name": "python",
   "nbconvert_exporter": "python",
   "pygments_lexer": "ipython3",
   "version": "3.5.1"
  }
 },
 "nbformat": 4,
 "nbformat_minor": 0
}
