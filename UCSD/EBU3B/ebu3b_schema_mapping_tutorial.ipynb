{
 "cells": [
  {
   "cell_type": "code",
   "execution_count": 9,
   "metadata": {
    "collapsed": false
   },
   "outputs": [],
   "source": [
    "import numpy as np\n",
    "import pandas as pd\n",
    "import operator\n",
    "import pickle\n",
    "import shelve\n",
    "import re\n",
    "from collections import Counter, defaultdict, OrderedDict, deque\n",
    "import csv\n",
    "import rdflib\n",
    "from rdflib.namespace import OWL, RDF, RDFS\n",
    "from rdflib import URIRef\n",
    "import os"
   ]
  },
  {
   "cell_type": "code",
   "execution_count": 10,
   "metadata": {
    "collapsed": false,
    "scrolled": false
   },
   "outputs": [],
   "source": [
    "#####################################################\n",
    "################ Initialization #####################\n",
    "#####################################################\n",
    "\n",
    "#ground truth metadata file\n",
    "labeledFile = 'ebu3b_sensor_types_location.csv'\n",
    "with open(labeledFile, 'rb') as fp:\n",
    "    #Import list of points to a data frame\n",
    "    #Pandas data frame allows you to store records and manipulate them: http://pandas.pydata.org/\n",
    "    points_list = pd.DataFrame.from_csv(fp)\n",
    "    points_list = points_list.set_index(keys='Unique Identifier')\n",
    "    points_list.index.str.strip()\n",
    "\n",
    "#Import lookup table that maps EBU3B descriptions to Brick tagsets\n",
    "desc_tagset_map = pd.read_csv('ebu3b_description_to_tagset.csv').set_index('BACnet Description')"
   ]
  },
  {
   "cell_type": "code",
   "execution_count": 12,
   "metadata": {
    "collapsed": false
   },
   "outputs": [
    {
     "data": {
      "text/plain": [
       "<Graph identifier=Nf126b24e65b446989882bdb2b9e73a8e (<class 'rdflib.graph.Graph'>)>"
      ]
     },
     "execution_count": 12,
     "metadata": {},
     "output_type": "execute_result"
    }
   ],
   "source": [
    "#####################################################\n",
    "######## Initialize RDFlib graph and namespaces #####\n",
    "#####################################################\n",
    "\n",
    "#Namespaces\n",
    "#Note: The URLs are fake\n",
    "BRICK = rdflib.Namespace('http://buildsys.org/ontologies/brick#')\n",
    "EBU3B = rdflib.Namespace('http://ucsd.edu/building/ontology/ebu3b#')\n",
    "#RDF, RDFS and OWL have already been imported in the library initializations\n",
    "\n",
    "#Initiate graph from base ttl file\n",
    "g = rdflib.Graph()\n",
    "g.bind('ebu3b', EBU3B)\n",
    "g.bind('brick', BRICK)\n",
    "g.parse('../../BuildingSchema/Brick.owl', format='turtle')"
   ]
  },
  {
   "cell_type": "code",
   "execution_count": null,
   "metadata": {
    "collapsed": true
   },
   "outputs": [],
   "source": [
    "#Note: This is not code. Writing it in code format to deal with Github formatting issues.\n",
    "#I'm going to map the point with the following raw metadata. The \"Actual Cooling Setpoint\" maps to \n",
    "#\"Zone Temperature Effective Cooling Setpoint\" in the Brick tagset. This mapping is stored in \n",
    "#\"ebu3b_description_to_tagset.csv\" file. \n",
    "Unique Identifier: 505_0_3001627\n",
    "BACnet Device ID                                    505\n",
    "BACnet Object Type                                    0\n",
    "BACnet Object ID                                3001627\n",
    "Johnson Controls Name          EBU3B.RM-1100A..ACTCLGSP\n",
    "BACnet Name                NAE 05 N2 2 VMA 103 ACTCLGSP\n",
    "BACnet Description              Actual Cooling Setpoint\n",
    "BACnet Unit                                          64\n",
    "Ground Truth Point Type         Actual Cooling Setpoint\n",
    "Point Ref                                           NaN\n",
    "Location                                       RM-1100A\n",
    "Equipment Type                                      VAV\n",
    "Equipment Ref                                       103\n",
    "Equipment Subsystems                                NaN\n",
    "Building                                          EBU3B\n",
    "Comments                                            NaN\n",
    "BACnet Type Str                            Analog Input\n",
    "Name: 505_0_3001627, dtype: object"
   ]
  },
  {
   "cell_type": "code",
   "execution_count": 13,
   "metadata": {
    "collapsed": false
   },
   "outputs": [],
   "source": [
    "#####################################################\n",
    "######## Add triples and serialize them #############\n",
    "#####################################################\n",
    "\n",
    "#### Example for Point ####\n",
    "\n",
    "###Adding Label####\n",
    "#Read the point metadata by its unique identifier\n",
    "point = points_list.loc['505_0_3001627']\n",
    "#Create a label for the point\n",
    "point_label = re.sub('\\.+','_',point['Johnson Controls Name'])\n",
    "#Add building prefix\n",
    "point_label = EBU3B[point_label]\n",
    "#print point_label\n",
    "#Add to Schema\n",
    "g.add((point_label, RDF.type, OWL.NamedIndividual))\n",
    "\n",
    "####Adding Point Type###\n",
    "#Look up the schema tagset\n",
    "point_type = desc_tagset_map.loc[point['BACnet Description']]['Schema Label']\n",
    "#Get the first match, capitalize the first letter of each word and concatenate by '_'\n",
    "point_type = '_'.join(point_type[0].title().split())\n",
    "#Concatenate with brick prefix\n",
    "point_type = BRICK[point_type]\n",
    "#print point_type\n",
    "#Check if point type exists in the schema\n",
    "if (point_type, None, None) in g:\n",
    "    #Add point type to schema\n",
    "    g.add((point_label, RDF.type, point_type))\n",
    "else:\n",
    "    print \"Could not identify point type in schema:\", point_type "
   ]
  },
  {
   "cell_type": "code",
   "execution_count": 14,
   "metadata": {
    "collapsed": false
   },
   "outputs": [],
   "source": [
    "###Example for a VAV instance ####\n",
    "#Continuing with the point information above\n",
    "\n",
    "##Create Equipment Label##\n",
    "equip_label = point['Building'] + '_' + point['Equipment Type'] + '_' + point['Location']\n",
    "#replaces spaces with '_'\n",
    "equip_label = '_'.join(equip_label.split())\n",
    "#add building prefix\n",
    "equip_label = EBU3B[equip_label]\n",
    "#print equip_label\n",
    "#add to schema instance\n",
    "g.add((equip_label, RDF.type, OWL.NamedIndividual))\n",
    "\n",
    "##Add equipment type##\n",
    "equip_type = point['Equipment Type']\n",
    "#add brick prefix\n",
    "equip_type = BRICK[equip_type]\n",
    "#print equip_type\n",
    "#Check if equip type exists in the schema\n",
    "if (equip_type, None, None) in g:\n",
    "    #Add equip type to schema\n",
    "    g.add((equip_label, RDF.type, equip_type))\n",
    "else:\n",
    "    print \"Could not identify equipment type in schema:\", equip_type \n",
    "    \n",
    "##Add relationship between point and equipment ##\n",
    "g.add((equip_label, BRICK.hasPoint, point_label))"
   ]
  },
  {
   "cell_type": "code",
   "execution_count": 16,
   "metadata": {
    "collapsed": false
   },
   "outputs": [],
   "source": [
    "# Store output as .ttl\n",
    "g.serialize(destination='ebu3b_brick.ttl', format='turtle')\n",
    "# Search for \"EBU3B\" in the output file, you'll find the instances we created."
   ]
  },
  {
   "cell_type": "code",
   "execution_count": 17,
   "metadata": {
    "collapsed": false
   },
   "outputs": [
    {
     "name": "stdout",
     "output_type": "stream",
     "text": [
      "BACnet Device ID                                    505\n",
      "BACnet Object Type                                    0\n",
      "BACnet Object ID                                3001627\n",
      "Johnson Controls Name          EBU3B.RM-1100A..ACTCLGSP\n",
      "BACnet Name                NAE 05 N2 2 VMA 103 ACTCLGSP\n",
      "BACnet Description              Actual Cooling Setpoint\n",
      "BACnet Unit                                          64\n",
      "Ground Truth Point Type         Actual Cooling Setpoint\n",
      "Point Ref                                           NaN\n",
      "Location                                       RM-1100A\n",
      "Equipment Type                                      VAV\n",
      "Equipment Ref                                       103\n",
      "Equipment Subsystems                                NaN\n",
      "Building                                          EBU3B\n",
      "Comments                                            NaN\n",
      "BACnet Type Str                            Analog Input\n",
      "Name: 505_0_3001627, dtype: object\n"
     ]
    }
   ],
   "source": [
    "#TODO\n",
    "#Iterate through all the points in the building and map them to schema\n",
    "for point_id, point_metadata in points_list.iterrows():\n",
    "    print point_metadata\n",
    "    break"
   ]
  },
  {
   "cell_type": "code",
   "execution_count": 18,
   "metadata": {
    "collapsed": false
   },
   "outputs": [
    {
     "data": {
      "text/plain": [
       "[u'Valve', u'Reheat_Valve', u'Heating_Valve', u'Cooling_Valve']"
      ]
     },
     "execution_count": 18,
     "metadata": {},
     "output_type": "execute_result"
    }
   ],
   "source": [
    "#### For Graph Traversal #####\n",
    "#For traversing the Brick or EBU3B graph, use the \"Resource\" part of RDFlib\n",
    "#Tutorial here: http://rdflib.readthedocs.io/en/stable/apidocs/rdflib.html#module-rdflib.resource\n",
    "#Example subclass traversal is shown below\n",
    "valve = rdflib.resource.Resource(g, BRICK.Valve)\n",
    "subclasses = list(valve.transitive_subjects(RDFS.subClassOf))\n",
    "[c.qname() for c in subclasses]"
   ]
  },
  {
   "cell_type": "code",
   "execution_count": null,
   "metadata": {
    "collapsed": true
   },
   "outputs": [],
   "source": []
  }
 ],
 "metadata": {
  "kernelspec": {
   "display_name": "Python 2",
   "language": "python",
   "name": "python2"
  },
  "language_info": {
   "codemirror_mode": {
    "name": "ipython",
    "version": 2
   },
   "file_extension": ".py",
   "mimetype": "text/x-python",
   "name": "python",
   "nbconvert_exporter": "python",
   "pygments_lexer": "ipython2",
   "version": "2.7.11"
  }
 },
 "nbformat": 4,
 "nbformat_minor": 0
}
