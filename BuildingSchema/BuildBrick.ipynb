{
 "cells": [
  {
   "cell_type": "code",
   "execution_count": 1,
   "metadata": {
    "collapsed": false
   },
   "outputs": [],
   "source": [
    "#!pip install rdflib\n",
    "#!pip install pydot2\n",
    "#!pip install pydotplus"
   ]
  },
  {
   "cell_type": "code",
   "execution_count": 2,
   "metadata": {
    "collapsed": false
   },
   "outputs": [
    {
     "name": "stderr",
     "output_type": "stream",
     "text": [
      "/Users/bbalaji/anaconda/lib/python2.7/site-packages/matplotlib/font_manager.py:273: UserWarning: Matplotlib is building the font cache using fc-list. This may take a moment.\n",
      "  warnings.warn('Matplotlib is building the font cache using fc-list. This may take a moment.')\n"
     ]
    }
   ],
   "source": [
    "import rdflib\n",
    "from rdflib.namespace import RDFS\n",
    "from rdflib import URIRef, BNode, Literal\n",
    "import re\n",
    "from collections import defaultdict\n",
    "import numpy as np\n",
    "import pandas as pd\n",
    "import networkx as nx\n",
    "from networkx.drawing.nx_pydot import write_dot\n",
    "import matplotlib.pyplot as plt"
   ]
  },
  {
   "cell_type": "code",
   "execution_count": 3,
   "metadata": {
    "collapsed": false
   },
   "outputs": [
    {
     "name": "stdout",
     "output_type": "stream",
     "text": [
      "130\n"
     ]
    }
   ],
   "source": [
    "def ns(url):\n",
    "  url = url.replace(\"http://buildsys.org/ontologies/brick#\", \"\")\n",
    "  url = url.replace(\"http://buildsys.org/ontologies/brickFrame#\", \"\")\n",
    "  return url\n",
    "\n",
    "BRICKF = rdflib.Namespace('http://buildsys.org/ontologies/brickFrame#')\n",
    "BRICK  = rdflib.Namespace('http://buildsys.org/ontologies/brick#')\n",
    "TAG    = rdflib.Namespace('http://buildsys.org/ontologies/brickTag#')\n",
    "TAGSET = rdflib.Namespace('http://buildsys.org/ontologies/brickTagSet#')\n",
    "\n",
    "g = rdflib.Graph()\n",
    "g.bind('bf', BRICKF)\n",
    "g.bind('tag', TAG)\n",
    "g.bind('ts', TAGSET)\n",
    "g.bind(':', BRICK)\n",
    "result = g.parse('BrickFrame.ttl', format='n3')\n",
    "print(len(g))"
   ]
  },
  {
   "cell_type": "markdown",
   "metadata": {},
   "source": [
    "### Load Tag and TagSets from Definition"
   ]
  },
  {
   "cell_type": "code",
   "execution_count": 4,
   "metadata": {
    "collapsed": false
   },
   "outputs": [
    {
     "data": {
      "text/html": [
       "<div>\n",
       "<table border=\"1\" class=\"dataframe\">\n",
       "  <thead>\n",
       "    <tr style=\"text-align: right;\">\n",
       "      <th></th>\n",
       "      <th>Dimension</th>\n",
       "      <th>Tag</th>\n",
       "      <th>Definition</th>\n",
       "      <th>Related Terminologies</th>\n",
       "      <th>hasSynonym</th>\n",
       "      <th>Author</th>\n",
       "      <th>Reviewed</th>\n",
       "      <th>Review Count</th>\n",
       "      <th>Comments</th>\n",
       "    </tr>\n",
       "  </thead>\n",
       "  <tbody>\n",
       "    <tr>\n",
       "      <th>0</th>\n",
       "      <td>Equipment&gt;HVAC</td>\n",
       "      <td>HX</td>\n",
       "      <td>Heat Exchanger</td>\n",
       "      <td>NaN</td>\n",
       "      <td>NaN</td>\n",
       "      <td>NaN</td>\n",
       "      <td>NaN</td>\n",
       "      <td>NaN</td>\n",
       "      <td>NaN</td>\n",
       "    </tr>\n",
       "    <tr>\n",
       "      <th>1</th>\n",
       "      <td>Equipment&gt;Fire Safety System</td>\n",
       "      <td>FCP</td>\n",
       "      <td>Fire Control Panel</td>\n",
       "      <td>NaN</td>\n",
       "      <td>NaN</td>\n",
       "      <td>NaN</td>\n",
       "      <td>NaN</td>\n",
       "      <td>NaN</td>\n",
       "      <td>NaN</td>\n",
       "    </tr>\n",
       "    <tr>\n",
       "      <th>2</th>\n",
       "      <td>Equipment&gt;Water System</td>\n",
       "      <td>CWS</td>\n",
       "      <td>Chilled Water System</td>\n",
       "      <td>NaN</td>\n",
       "      <td>NaN</td>\n",
       "      <td>NaN</td>\n",
       "      <td>NaN</td>\n",
       "      <td>NaN</td>\n",
       "      <td>NaN</td>\n",
       "    </tr>\n",
       "    <tr>\n",
       "      <th>3</th>\n",
       "      <td>Equipment&gt;Water System</td>\n",
       "      <td>DHWS</td>\n",
       "      <td>Domestic Hot Water System</td>\n",
       "      <td>NaN</td>\n",
       "      <td>NaN</td>\n",
       "      <td>NaN</td>\n",
       "      <td>NaN</td>\n",
       "      <td>NaN</td>\n",
       "      <td>NaN</td>\n",
       "    </tr>\n",
       "    <tr>\n",
       "      <th>4</th>\n",
       "      <td>Equipment&gt;Water System</td>\n",
       "      <td>HWS</td>\n",
       "      <td>Hot Water System</td>\n",
       "      <td>NaN</td>\n",
       "      <td>NaN</td>\n",
       "      <td>NaN</td>\n",
       "      <td>NaN</td>\n",
       "      <td>NaN</td>\n",
       "      <td>NaN</td>\n",
       "    </tr>\n",
       "  </tbody>\n",
       "</table>\n",
       "</div>"
      ],
      "text/plain": [
       "                      Dimension   Tag                 Definition  \\\n",
       "0                Equipment>HVAC    HX             Heat Exchanger   \n",
       "1  Equipment>Fire Safety System   FCP         Fire Control Panel   \n",
       "2        Equipment>Water System   CWS       Chilled Water System   \n",
       "3        Equipment>Water System  DHWS  Domestic Hot Water System   \n",
       "4        Equipment>Water System   HWS           Hot Water System   \n",
       "\n",
       "  Related Terminologies hasSynonym Author  Reviewed  Review Count Comments  \n",
       "0                   NaN        NaN    NaN       NaN           NaN      NaN  \n",
       "1                   NaN        NaN    NaN       NaN           NaN      NaN  \n",
       "2                   NaN        NaN    NaN       NaN           NaN      NaN  \n",
       "3                   NaN        NaN    NaN       NaN           NaN      NaN  \n",
       "4                   NaN        NaN    NaN       NaN           NaN      NaN  "
      ]
     },
     "execution_count": 4,
     "metadata": {},
     "output_type": "execute_result"
    }
   ],
   "source": [
    "dfTags=pd.read_excel('Schema Engineering.xlsx',\"Tags\")\n",
    "schemaTags=set(pd.unique(dfTags.Tag.dropna().ravel()))\n",
    "len(schemaTags)\n",
    "dfTags.head()"
   ]
  },
  {
   "cell_type": "code",
   "execution_count": 5,
   "metadata": {
    "collapsed": false
   },
   "outputs": [
    {
     "data": {
      "text/html": [
       "<div>\n",
       "<table border=\"1\" class=\"dataframe\">\n",
       "  <thead>\n",
       "    <tr style=\"text-align: right;\">\n",
       "      <th></th>\n",
       "      <th>Dimension</th>\n",
       "      <th>TagSet</th>\n",
       "      <th>isPointOf</th>\n",
       "      <th>isPartOf</th>\n",
       "      <th>hasSynonym</th>\n",
       "      <th>Definition</th>\n",
       "      <th>hasUnit</th>\n",
       "      <th>hasAbbreviation</th>\n",
       "      <th>can be named? (can be instantiated?)</th>\n",
       "      <th>can be unnamed? (cannot be instantiated?)</th>\n",
       "      <th>Author</th>\n",
       "      <th>Reviewed</th>\n",
       "      <th>Review Count</th>\n",
       "      <th>Discussion</th>\n",
       "    </tr>\n",
       "  </thead>\n",
       "  <tbody>\n",
       "    <tr>\n",
       "      <th>0</th>\n",
       "      <td>Equipment</td>\n",
       "      <td>Fire Safety System</td>\n",
       "      <td>NaN</td>\n",
       "      <td>NaN</td>\n",
       "      <td>NaN</td>\n",
       "      <td>NaN</td>\n",
       "      <td>NaN</td>\n",
       "      <td>NaN</td>\n",
       "      <td>NaN</td>\n",
       "      <td>NaN</td>\n",
       "      <td>NaN</td>\n",
       "      <td>NaN</td>\n",
       "      <td>NaN</td>\n",
       "      <td>NaN</td>\n",
       "    </tr>\n",
       "    <tr>\n",
       "      <th>1</th>\n",
       "      <td>Equipment</td>\n",
       "      <td>Solar Panel</td>\n",
       "      <td>NaN</td>\n",
       "      <td>NaN</td>\n",
       "      <td>NaN</td>\n",
       "      <td>NaN</td>\n",
       "      <td>NaN</td>\n",
       "      <td>NaN</td>\n",
       "      <td>NaN</td>\n",
       "      <td>NaN</td>\n",
       "      <td>NaN</td>\n",
       "      <td>NaN</td>\n",
       "      <td>NaN</td>\n",
       "      <td>NaN</td>\n",
       "    </tr>\n",
       "    <tr>\n",
       "      <th>2</th>\n",
       "      <td>Equipment</td>\n",
       "      <td>Lighting System</td>\n",
       "      <td>NaN</td>\n",
       "      <td>NaN</td>\n",
       "      <td>NaN</td>\n",
       "      <td>NaN</td>\n",
       "      <td>NaN</td>\n",
       "      <td>NaN</td>\n",
       "      <td>NaN</td>\n",
       "      <td>NaN</td>\n",
       "      <td>NaN</td>\n",
       "      <td>NaN</td>\n",
       "      <td>NaN</td>\n",
       "      <td>NaN</td>\n",
       "    </tr>\n",
       "    <tr>\n",
       "      <th>3</th>\n",
       "      <td>Equipment</td>\n",
       "      <td>Weather</td>\n",
       "      <td>NaN</td>\n",
       "      <td>NaN</td>\n",
       "      <td>NaN</td>\n",
       "      <td>NaN</td>\n",
       "      <td>NaN</td>\n",
       "      <td>NaN</td>\n",
       "      <td>NaN</td>\n",
       "      <td>NaN</td>\n",
       "      <td>NaN</td>\n",
       "      <td>NaN</td>\n",
       "      <td>NaN</td>\n",
       "      <td>NaN</td>\n",
       "    </tr>\n",
       "    <tr>\n",
       "      <th>4</th>\n",
       "      <td>Equipment</td>\n",
       "      <td>Energy Storage</td>\n",
       "      <td>NaN</td>\n",
       "      <td>NaN</td>\n",
       "      <td>NaN</td>\n",
       "      <td>NaN</td>\n",
       "      <td>NaN</td>\n",
       "      <td>NaN</td>\n",
       "      <td>NaN</td>\n",
       "      <td>NaN</td>\n",
       "      <td>NaN</td>\n",
       "      <td>NaN</td>\n",
       "      <td>NaN</td>\n",
       "      <td>NaN</td>\n",
       "    </tr>\n",
       "  </tbody>\n",
       "</table>\n",
       "</div>"
      ],
      "text/plain": [
       "   Dimension              TagSet isPointOf isPartOf hasSynonym Definition  \\\n",
       "0  Equipment  Fire Safety System       NaN      NaN        NaN        NaN   \n",
       "1  Equipment         Solar Panel       NaN      NaN        NaN        NaN   \n",
       "2  Equipment     Lighting System       NaN      NaN        NaN        NaN   \n",
       "3  Equipment             Weather       NaN      NaN        NaN        NaN   \n",
       "4  Equipment      Energy Storage       NaN      NaN        NaN        NaN   \n",
       "\n",
       "  hasUnit hasAbbreviation can be named? (can be instantiated?)  \\\n",
       "0     NaN             NaN                                  NaN   \n",
       "1     NaN             NaN                                  NaN   \n",
       "2     NaN             NaN                                  NaN   \n",
       "3     NaN             NaN                                  NaN   \n",
       "4     NaN             NaN                                  NaN   \n",
       "\n",
       "  can be unnamed? (cannot be instantiated?) Author  Reviewed  Review Count  \\\n",
       "0                                       NaN    NaN       NaN           NaN   \n",
       "1                                       NaN    NaN       NaN           NaN   \n",
       "2                                       NaN    NaN       NaN           NaN   \n",
       "3                                       NaN    NaN       NaN           NaN   \n",
       "4                                       NaN    NaN       NaN           NaN   \n",
       "\n",
       "  Discussion  \n",
       "0        NaN  \n",
       "1        NaN  \n",
       "2        NaN  \n",
       "3        NaN  \n",
       "4        NaN  "
      ]
     },
     "execution_count": 5,
     "metadata": {},
     "output_type": "execute_result"
    }
   ],
   "source": [
    "dfTagSets=pd.read_excel('Schema Engineering.xlsx',\"TagSets\")\n",
    "schemaTagSets=set()\n",
    "for ts in pd.unique(dfTagSets.TagSet.dropna().ravel()):\n",
    "  schemaTagSets.add(ts.replace(' ','_'))\n",
    "for ts in pd.unique(dfTagSets.hasSynonym.dropna().ravel()):\n",
    "  for ts2 in ts.split(\",\"):\n",
    "   schemaTagSets.add(ts2.replace(' ','_'))\n",
    "len(schemaTagSets)\n",
    "dfTagSets.head()"
   ]
  },
  {
   "cell_type": "code",
   "execution_count": 6,
   "metadata": {
    "collapsed": false
   },
   "outputs": [
    {
     "name": "stdout",
     "output_type": "stream",
     "text": [
      "Missing Tags:32\n",
      "set([u'', u'Dew', u'Ratio', u'Integrative', u'Elevator', u'Electrical', u'Condensor', u'Factor', u'Override', u'Cutout', u'PreHeat', u'Failure', u'Curtailment', u'Operating', u'Gain', u'Protect', u'Tank', u'Isolation', u'Timer', u'Server', u'Chiller', u'Ice', u'Inverter', u'Fixed', u'Leaving', u'Vent', u'Point', u'Duct', u'Weather', u'Entering', u'Close', u'Thumbwheel'])\n"
     ]
    }
   ],
   "source": [
    "schemaUsedTags=set()\n",
    "schemaTagSetTags={}\n",
    "for ts in schemaTagSets:\n",
    "  schemaUsedTags.update(ts.split('_'))\n",
    "  schemaTagSetTags[ts]=set(ts.split('_'))\n",
    "schemaMissingTags=schemaUsedTags - schemaTags\n",
    "print(\"Missing Tags:\" + str(len(schemaMissingTags)))\n",
    "print(schemaMissingTags)"
   ]
  },
  {
   "cell_type": "code",
   "execution_count": 7,
   "metadata": {
    "collapsed": true
   },
   "outputs": [],
   "source": [
    "def IndivName(name):\n",
    "  return re.sub(r'\\s','_',re.sub(r'[^\\d\\w\\s]', '', name))"
   ]
  },
  {
   "cell_type": "code",
   "execution_count": null,
   "metadata": {
    "collapsed": true
   },
   "outputs": [],
   "source": []
  },
  {
   "cell_type": "markdown",
   "metadata": {},
   "source": [
    "### Write Tags"
   ]
  },
  {
   "cell_type": "markdown",
   "metadata": {},
   "source": [
    "write header"
   ]
  },
  {
   "cell_type": "code",
   "execution_count": 8,
   "metadata": {
    "collapsed": false
   },
   "outputs": [],
   "source": [
    "nsTag   = \":\"\n",
    "fo = open('BrickTag.ttl', 'w')\n",
    "fo.write(\"\"\"@prefix dc: <http://purl.org/dc/elements/1.1/> .\n",
    "@prefix DUL: <http://www.loa-cnr.it/ontologies/DUL.owl#> .\n",
    "@prefix owl: <http://www.w3.org/2002/07/owl#> .\n",
    "@prefix rdf: <http://www.w3.org/1999/02/22-rdf-syntax-ns#> .\n",
    "@prefix ssn: <http://purl.oclc.org/NET/ssnx/ssn#> .\n",
    "@prefix xml: <http://www.w3.org/XML/1998/namespace> .\n",
    "@prefix xsd: <http://www.w3.org/2001/XMLSchema#> .\n",
    "@prefix rdfs: <http://www.w3.org/2000/01/rdf-schema#> .\n",
    "@prefix skos: <http://www.w3.org/2004/02/skos/core#> .\n",
    "@prefix time: <http://www.w3.org/2006/time#> .\n",
    "@prefix unit: <http://qudt.org/vocab/unit#> .\n",
    "@prefix gbXML: <http://www.gbxml.org/schema#> .\n",
    "@prefix haystack: <http://project-haystack.org/tag/> .\\n\"\"\")\n",
    "fo.write(\"@prefix bf:  <http://buildsys.org/ontologies/BrickFrame#> .\\n\")\n",
    "fo.write(\"@prefix : <http://buildsys.org/ontologies/BrickTag#> .\\n\\n\")\n",
    "fo.write(\"<http://buildsys.org/ontologies/BrickTag>  a owl:Ontology ;\\n\")\n",
    "fo.write(\"\\towl:imports <http://buildsys.org/ontologies/BrickFrame> ;\\n\")\n",
    "fo.write('\\trdfs:comment \"Domain Tag Definition\"@en .\\n\\n')"
   ]
  },
  {
   "cell_type": "markdown",
   "metadata": {},
   "source": [
    "Write Tag Hierachy"
   ]
  },
  {
   "cell_type": "code",
   "execution_count": 9,
   "metadata": {
    "collapsed": false
   },
   "outputs": [],
   "source": [
    "brickTags={}\n",
    "for hir in pd.unique(dfTags.Dimension.dropna().ravel()):\n",
    "  tags=hir.split('>')\n",
    "  atags=\"\"\n",
    "  for i in range(len(tags)):\n",
    "    tag=tags[i]\n",
    "    otags=atags\n",
    "    atags=(atags+\"_\"+tag).strip(\"_\")\n",
    "    if atags not in brickTags:\n",
    "      indivLocName=nsTag+IndivName(atags)\n",
    "      if i>0:\n",
    "        fo.write(\"\\n \"+indivLocName+\"  rdfs:subClassOf   \"+brickTags[otags]+\";\")\n",
    "      else:\n",
    "        fo.write(\"\\n \"+indivLocName+\"  rdfs:subClassOf   bf:Tag;\")\n",
    "      fo.write('\\n\\t\\t\\t bf:isHierarchical  \"\";')\n",
    "      fo.write('\\n\\t\\t\\t rdfs:label \"'+tag+'\"@en .\\n')\n",
    "      brickTags[atags]=indivLocName;\n",
    "      parent=tag;"
   ]
  },
  {
   "cell_type": "markdown",
   "metadata": {},
   "source": [
    "Add tag leaves"
   ]
  },
  {
   "cell_type": "code",
   "execution_count": 10,
   "metadata": {
    "collapsed": false
   },
   "outputs": [],
   "source": [
    "# create location individuals\n",
    "for idx in dfTags.index:\n",
    "  #parent=brickTags[str(dfTags.loc[idx, \"Dimension\"]).split('>')[-1]]\n",
    "  parent=brickTags[str(dfTags.loc[idx, \"Dimension\"]).replace('>','_')]\n",
    "  indivLocName=nsTag + IndivName(str(dfTags.loc[idx, \"Tag\"]))\n",
    "  fo.write(\"\\n \"+indivLocName+\"  rdfs:subClassOf   \"+parent+\";\")\n",
    "  fo.write('\\n\\t\\t\\t rdfs:label \"'+str(dfTags.loc[idx, \"Tag\"])+'\"@en .\\n')\n",
    "  brickTags[tag]=indivLocName;\n",
    "  #print(parent,indivLocName)"
   ]
  },
  {
   "cell_type": "code",
   "execution_count": 11,
   "metadata": {
    "collapsed": true
   },
   "outputs": [],
   "source": [
    "fo.close()"
   ]
  },
  {
   "cell_type": "markdown",
   "metadata": {},
   "source": [
    "### Write TagSets"
   ]
  },
  {
   "cell_type": "markdown",
   "metadata": {},
   "source": [
    "write headers"
   ]
  },
  {
   "cell_type": "code",
   "execution_count": 12,
   "metadata": {
    "collapsed": false
   },
   "outputs": [],
   "source": [
    "nsTag= \"tag:\" # \"ts:\"\n",
    "nsTagSet= \":\" # \"ts:\"\n",
    "fo = open('Brick.ttl', 'w')\n",
    "fo.write(\"\"\"@prefix dc: <http://purl.org/dc/elements/1.1/> .\n",
    "@prefix DUL: <http://www.loa-cnr.it/ontologies/DUL.owl#> .\n",
    "@prefix owl: <http://www.w3.org/2002/07/owl#> .\n",
    "@prefix rdf: <http://www.w3.org/1999/02/22-rdf-syntax-ns#> .\n",
    "@prefix ssn: <http://purl.oclc.org/NET/ssnx/ssn#> .\n",
    "@prefix xml: <http://www.w3.org/XML/1998/namespace> .\n",
    "@prefix xsd: <http://www.w3.org/2001/XMLSchema#> .\n",
    "@prefix rdfs: <http://www.w3.org/2000/01/rdf-schema#> .\n",
    "@prefix skos: <http://www.w3.org/2004/02/skos/core#> .\n",
    "@prefix time: <http://www.w3.org/2006/time#> .\n",
    "@prefix unit: <http://qudt.org/vocab/unit#> .\n",
    "@prefix gbXML: <http://www.gbxml.org/schema#> .\n",
    "@prefix haystack: <http://project-haystack.org/tag/> .\\n\"\"\")\n",
    "fo.write(\"@prefix bf:  <http://buildsys.org/ontologies/BrickFrame#> .\\n\")\n",
    "fo.write(\"@prefix tag: <http://buildsys.org/ontologies/BrickTag#> .\\n\")\n",
    "fo.write(\"@prefix :    <http://buildsys.org/ontologies/Brick#> .\\n\\n\")\n",
    "fo.write(\"<http://buildsys.org/ontologies/Brick>  a owl:Ontology ;\\n\")\n",
    "fo.write(\"\\towl:imports <http://buildsys.org/ontologies/BrickFrame> ;\\n\")\n",
    "fo.write(\"\\towl:imports <http://buildsys.org/ontologies/BrickTag> ;\\n\")\n",
    "fo.write('\\trdfs:comment \"Domain TagSet Definition\"@en .\\n\\n')"
   ]
  },
  {
   "cell_type": "markdown",
   "metadata": {},
   "source": [
    "Write TagSet Hierachy"
   ]
  },
  {
   "cell_type": "code",
   "execution_count": 13,
   "metadata": {
    "collapsed": false
   },
   "outputs": [],
   "source": [
    "brickTagSets={}\n",
    "for hir in pd.unique(dfTagSets.Dimension.dropna().ravel()):\n",
    "  tags=hir.split('>')\n",
    "  atags=\"\"\n",
    "  for i in range(len(tags)):\n",
    "    tag=tags[i]\n",
    "    otags=atags\n",
    "    #Joern's definition of atags (i.e. class names)\n",
    "    #atags=(atags+\"_\"+tag).strip('_')\n",
    "    #Bharath's definition of class names (atags)\n",
    "    atags=tag.strip('_')\n",
    "    if atags not in brickTagSets:\n",
    "      indivLocName=nsTagSet + IndivName(atags)\n",
    "      if i>0:\n",
    "        fo.write(\"\\n \"+indivLocName+\"  rdfs:subClassOf   \"+brickTagSets[otags]+\";\")\n",
    "      else:\n",
    "        fo.write(\"\\n \"+indivLocName+\"  rdfs:subClassOf   bf:TagSet;\")\n",
    "      #fo.write('\\n\\t\\t\\t bf:isHierarchical  \"\";')\n",
    "      fo.write('\\n\\t\\t\\t rdfs:label \"'+tag+'\"@en .\\n')\n",
    "      brickTagSets[atags]=indivLocName;"
   ]
  },
  {
   "cell_type": "markdown",
   "metadata": {},
   "source": [
    "Add TagSets leaves"
   ]
  },
  {
   "cell_type": "code",
   "execution_count": 14,
   "metadata": {
    "collapsed": false
   },
   "outputs": [
    {
     "ename": "KeyError",
     "evalue": "'nan'",
     "output_type": "error",
     "traceback": [
      "\u001b[0;31m---------------------------------------------------------------------------\u001b[0m",
      "\u001b[0;31mKeyError\u001b[0m                                  Traceback (most recent call last)",
      "\u001b[0;32m<ipython-input-14-e9e3fd88acfe>\u001b[0m in \u001b[0;36m<module>\u001b[0;34m()\u001b[0m\n\u001b[1;32m      7\u001b[0m         \u001b[0;31m#tagset=str(dfTagSets.loc[idx, \"TagSet\"])\u001b[0m\u001b[0;34m\u001b[0m\u001b[0;34m\u001b[0m\u001b[0m\n\u001b[1;32m      8\u001b[0m       \u001b[0;31m#Bharath's definition of parent\u001b[0m\u001b[0;34m\u001b[0m\u001b[0;34m\u001b[0m\u001b[0m\n\u001b[0;32m----> 9\u001b[0;31m       \u001b[0mparent\u001b[0m\u001b[0;34m=\u001b[0m \u001b[0mbrickTagSets\u001b[0m\u001b[0;34m[\u001b[0m\u001b[0mstr\u001b[0m\u001b[0;34m(\u001b[0m\u001b[0mdfTagSets\u001b[0m\u001b[0;34m.\u001b[0m\u001b[0mloc\u001b[0m\u001b[0;34m[\u001b[0m\u001b[0midx\u001b[0m\u001b[0;34m,\u001b[0m \u001b[0;34m\"Dimension\"\u001b[0m\u001b[0;34m]\u001b[0m\u001b[0;34m)\u001b[0m\u001b[0;34m.\u001b[0m\u001b[0msplit\u001b[0m\u001b[0;34m(\u001b[0m\u001b[0;34m'>'\u001b[0m\u001b[0;34m)\u001b[0m\u001b[0;34m[\u001b[0m\u001b[0;34m-\u001b[0m\u001b[0;36m1\u001b[0m\u001b[0;34m]\u001b[0m\u001b[0;34m]\u001b[0m\u001b[0;34m\u001b[0m\u001b[0m\n\u001b[0m\u001b[1;32m     10\u001b[0m       \u001b[0;31m#Joern's definition of parent\u001b[0m\u001b[0;34m\u001b[0m\u001b[0;34m\u001b[0m\u001b[0m\n\u001b[1;32m     11\u001b[0m       \u001b[0;31m#parent= brickTagSets[str(dfTagSets.loc[idx, \"Dimension\"]).replace('>',\"_\")]\u001b[0m\u001b[0;34m\u001b[0m\u001b[0;34m\u001b[0m\u001b[0m\n",
      "\u001b[0;31mKeyError\u001b[0m: 'nan'"
     ]
    }
   ],
   "source": [
    "# create location individuals\n",
    "for idx in dfTagSets.index:\n",
    "  tagsets=set([str(dfTagSets.loc[idx, \"TagSet\"])]) | set(str(dfTagSets.loc[idx, \"hasSynonym\"]).split(\",\"))\n",
    "  ots=None\n",
    "  for tagset in tagsets:\n",
    "    if tagset!=\"nan\":\n",
    "        #tagset=str(dfTagSets.loc[idx, \"TagSet\"])\n",
    "      #Bharath's definition of parent\n",
    "      parent= brickTagSets[str(dfTagSets.loc[idx, \"Dimension\"]).split('>')[-1]]\n",
    "      #Joern's definition of parent\n",
    "      #parent= brickTagSets[str(dfTagSets.loc[idx, \"Dimension\"]).replace('>',\"_\")]\n",
    "      indivLocName=nsTagSet + IndivName(tagset)\n",
    "      fo.write(\"\\n \"+indivLocName+\"  rdfs:subClassOf   \"+parent+\";\")\n",
    "      for tag in tagset.split():\n",
    "         #fo.write('\\n\\t\\t\\t bf:hasTag  tag:'+tag+';')\n",
    "         fo.write('\\n\\t\\t\\t rdfs:subClassOf [ a owl:Restriction ; owl:onProperty :hasTag ; owl:someValuesFrom tag:'+tag+' ];')\n",
    "      if ots:\n",
    "        fo.write('\\n\\t\\t\\t owl:equivalentClass '+ots+' ;')\n",
    "      fo.write('\\n\\t\\t\\t rdfs:label \"'+str(dfTagSets.loc[idx, \"TagSet\"])+'\"@en .\\n')\n",
    "      brickTagSets[tagset]=indivLocName;\n",
    "      ots=indivLocName;\n",
    "      #print(parent,indivLocName)"
   ]
  },
  {
   "cell_type": "code",
   "execution_count": 15,
   "metadata": {
    "collapsed": false
   },
   "outputs": [],
   "source": [
    "fo.close()"
   ]
  },
  {
   "cell_type": "markdown",
   "metadata": {
    "collapsed": false
   },
   "source": [
    "### New Structure"
   ]
  },
  {
   "cell_type": "markdown",
   "metadata": {},
   "source": [
    "Classify Tags by Type"
   ]
  },
  {
   "cell_type": "code",
   "execution_count": null,
   "metadata": {
    "collapsed": true
   },
   "outputs": [],
   "source": [
    "#Classify tags by dimension from \"Tags\" sheet in Schema Engineering\n",
    "dfMeasTags=dfTags.loc[dfTags.Dimension == \"MeasurementProperty>PhysicalProperties\"]\n",
    "dfLocTags=dfTags.loc[dfTags.Dimension == \"Location\"]\n",
    "dfPointTags=dfTags.loc[dfTags.Dimension == \"Point\"]\n",
    "dfEquipTags=dfTags.loc[dfTags.Dimension.str.startswith(\"Equipment\")]\n",
    "\n",
    "#Identify dimensions based on tags\n",
    "def getPointDim(istr):\n",
    "  for pt in dfPointTags.Tag:\n",
    "    if pt in str(istr): return pt\n",
    "  return \"UndefinedPoint\"\n",
    "\n",
    "def getMeasDim(istr):\n",
    "  for pt in dfMeasTags.Tag:\n",
    "    if pt in str(istr): return pt\n",
    "  return \"UndefinedMeasurement\"\n",
    "\n",
    "def getLocDim(istr):\n",
    "  for pt in dfLocTags.Tag:\n",
    "    if pt in str(istr): return pt\n",
    "  return \"UndefinedLocation\"\n",
    "\n",
    "def getEquipDim(istr):\n",
    "  for pt in dfEquipTags.Tag:\n",
    "    if pt in str(istr): return pt\n",
    "  return \"UndefinedEquipment\"\n",
    "\n",
    "def getLastDim(istr):\n",
    "  if \">\"   not in istr:\n",
    "    return \"UndefinedEquipment\"\n",
    "  else:\n",
    "    sstr=istr.split(\">\")\n",
    "    return IndivName(sstr[-1])  "
   ]
  },
  {
   "cell_type": "code",
   "execution_count": null,
   "metadata": {
    "collapsed": false
   },
   "outputs": [],
   "source": [
    "#Classify each tagset as a dimension based on their tags\n",
    "dfTagSets['PointDim']=dfTagSets.TagSet.apply(getPointDim)\n",
    "dfTagSets['MeasurementDim']=dfTagSets.TagSet.apply(getMeasDim)\n",
    "dfTagSets['LocationDim']=dfTagSets.TagSet.apply(getLocDim)\n",
    "#dfTagSets['EquipmentDim']=dfTagSets.TagSet.apply(getEquipDim)\n",
    "dfTagSets['EquipmentDim']=dfTagSets.Dimension.apply(getLastDim)\n",
    "dfPointTagSets=dfTagSets.loc[dfTagSets.Dimension.str.startswith(\"Point\")]"
   ]
  },
  {
   "cell_type": "code",
   "execution_count": null,
   "metadata": {
    "collapsed": false
   },
   "outputs": [],
   "source": [
    "#Dictionary mapping tagset to set of its constituent tags\n",
    "tagsets={}\n",
    "#Dictionary mapping tagset to its list of parents (i.e. immediate superclass)\n",
    "tagsetsSup={}\n",
    "#Synonyms: List of tagset sets\n",
    "equivTagSets=[]\n",
    "for dim in ['PointDim', 'MeasurementDim', 'LocationDim', 'EquipmentDim']:\n",
    "  dimT=dim.replace('Dim', '')\n",
    "  #Basic dimensions have TagSet as superclass\n",
    "  tagsetsSup[dimT]=['TagSet']\n",
    "  #Child tagsets are stored in tagsets\n",
    "  tagsets[dimT]=set()\n",
    "  for dimL in pd.unique(dfPointTagSets[dim].dropna().ravel()):\n",
    "    #Every Tagset dimension has Point, Location, Measurement and Equip as their superclass\n",
    "    #Note: This is a flat hierarchy\n",
    "    tagsetsSup[dimL]=[dimT]\n",
    "    #if not dimL.startswith(\"Undefined\"):\n",
    "    #Add to dictionary mapping tagsets to list of tags\n",
    "    tagsets[dimL]=set(dimL.split('_'))\n",
    "\n",
    "#Working with tagset leaves    \n",
    "for idx in dfPointTagSets.index:\n",
    "  #List of all tagsets for this point, including synonyms\n",
    "  tss=set([str(dfTagSets.loc[idx, \"TagSet\"])]) | set(str(dfTagSets.loc[idx, \"hasSynonym\"]).split(\",\"))\n",
    "  tss2=set()\n",
    "  #remove blanks\n",
    "  if \"nan\" in tss: tss.remove(\"nan\")\n",
    "    \n",
    "  for tagset in tss:\n",
    "    if tagset!=\"nan\":\n",
    "      #replace space with '_'. Keep only alpha numeric characters.\n",
    "      tagset=IndivName(tagset)\n",
    "      #Compile synonyms in a set\n",
    "      tss2.add(tagset)\n",
    "      #Compile dictionary mapping tagset to list of tags\n",
    "      tagsets[tagset] = set(tagset.split('_'))\n",
    "      #Get the equipment dimension to which the point is associated with\n",
    "      equip=dfTagSets.loc[idx, 'EquipmentDim']\n",
    "      #Add the valid equipment dimension tags to tagsets dictionary\n",
    "      if equip!=\"nan\" and equip != \"UndefinedEquipment\" and equip not in tagsets[tagset]:\n",
    "        for tag in equip.split('_'):\n",
    "          tagsets[tagset].add(tag)\n",
    "        \n",
    "      #define parents and add it to tagsetsSup dictionary\n",
    "      parents=[]\n",
    "      for dim in ['PointDim', 'MeasurementDim', 'LocationDim', 'EquipmentDim']:\n",
    "        parents.append(dfTagSets.loc[idx, dim])\n",
    "      tagsetsSup[tagset]=parents\n",
    "  #Compile synonyms set list.\n",
    "  if len(tss2)>1:\n",
    "    equivTagSets.append(tss2)"
   ]
  },
  {
   "cell_type": "code",
   "execution_count": null,
   "metadata": {
    "collapsed": false
   },
   "outputs": [],
   "source": [
    "#Convert tagsetsSup dictionary of lists to dictionary of sets\n",
    "tagsetsSupAll={}\n",
    "for tsA in tagsetsSup:\n",
    "  if tsA not in tagsetsSupAll: tagsetsSupAll[tsA]=set()\n",
    "  for tsB in tagsetsSup[tsA]:\n",
    "    tagsetsSupAll[tsA].add(tsB)\n",
    "#Count all tagsets parents\n",
    "c=0\n",
    "for tsA in tagsetsSupAll:\n",
    "  for tsB in tagsetsSupAll[tsA]:\n",
    "    c+=1\n",
    "c\n"
   ]
  },
  {
   "cell_type": "code",
   "execution_count": null,
   "metadata": {
    "collapsed": false
   },
   "outputs": [],
   "source": [
    "i=0\n",
    "#Dictionary mapping missing tagsets to its set of parents\n",
    "missingRel={}\n",
    "for tsA in tagsets:\n",
    "  i=i+1\n",
    "  j=0\n",
    "  for tsB in tagsets:\n",
    "    j=j+1\n",
    "    if tsA==tsB: #j <= i or \n",
    "      pass\n",
    "    #Using set relationship to determine parent child relationship in the hierarchy\n",
    "    #If set of tags in tsB is a subset of set of tags in tsA, then tsB is a parent of tsA\n",
    "    if tagsets[tsA] > tagsets[tsB]: # tsB parentOf tsA\n",
    "      if tsA not in tagsetsSup:\n",
    "        #If tsA is not already in the tagsetsSup dictionary, add it as a missing term in missingRel dictionary\n",
    "        if tsA not in missingRel: missingRel[tsA]=set()\n",
    "        #Also add the relevant parent information to missingRel\n",
    "        missingRel[tsA].add(tsB)  \n",
    "      else:\n",
    "        #Ensure that all the superclasses of tsA are subClassOf tsB\n",
    "        anySup=False\n",
    "        for tsC in tagsetsSup[tsA]:\n",
    "          if tsC in tagsets and tagsets[tsC] > tagsets[tsB]: # tsB parentOf tsC\n",
    "            anySup = True\n",
    "        #If there is a tsB which is not a superclass of one of the superclass of tsA, add it in missingRel dictionary\n",
    "        if not anySup:\n",
    "          if tsA not in missingRel: missingRel[tsA]=set()\n",
    "          missingRel[tsA].add(tsB)\n",
    "#Count list of tagsets parents in missingRel dictionary\n",
    "c=0\n",
    "for tsA in missingRel:\n",
    "  for tsB in missingRel[tsA]:\n",
    "    c+=1\n",
    "c"
   ]
  },
  {
   "cell_type": "code",
   "execution_count": null,
   "metadata": {
    "collapsed": false
   },
   "outputs": [],
   "source": [
    "# remove redundant entries\n",
    "ignoreTagSets=['Point','Measurement','Location','Equipment',\"UndefinedPoint\",\n",
    "               \"UndefinedEquipment\",\"UndefinedLocation\",\"UndefinedMeasurement\"]\n",
    "remTsA=set(ignoreTagSets)\n",
    "for tsA in missingRel:\n",
    "  remTsB=set(ignoreTagSets)\n",
    "  for tsB in missingRel[tsA]:\n",
    "    for tsC in missingRel[tsA]:\n",
    "      #If tsC is superclass of tsA, tsB is superclass of tsA and tsB is superclass of tsC, then tsB is redundant\n",
    "      if tagsets[tsC] > tagsets[tsB]:\n",
    "        remTsB.add(tsB)\n",
    "  #remove redundant superclass entries\n",
    "  missingRel[tsA]=missingRel[tsA].difference(remTsB)\n",
    "  #If there are no missing superclasses for tsA, add it to remove set\n",
    "  if len(missingRel[tsA])==0: remTsA.add(tsA)\n",
    "#Remove redundant missingRel entries\n",
    "for tsA in remTsA:\n",
    "  if tsA in missingRel:\n",
    "    del missingRel[tsA]\n",
    "\n",
    "#Add all the remaining missingRel terms to tagsetsSupAll dictionary\n",
    "for tsA in missingRel:\n",
    "  if tsA not in tagsetsSupAll: tagsetsSupAll[tsA]=set()\n",
    "  for tsB in missingRel[tsA]:\n",
    "    tagsetsSupAll[tsA].add(tsB)\n",
    "\n",
    "#Check count of final missingRel terms\n",
    "c=0\n",
    "for tsA in missingRel:\n",
    "  for tsB in missingRel[tsA]:\n",
    "    c+=1\n",
    "c"
   ]
  },
  {
   "cell_type": "code",
   "execution_count": null,
   "metadata": {
    "collapsed": false
   },
   "outputs": [],
   "source": [
    "def findMin(S, R):\n",
    "  maxCost = 0\n",
    "  minElement = None\n",
    "  for i in S:\n",
    "    try:\n",
    "      cost = len(S[i].intersection(R))\n",
    "      if cost > maxCost:\n",
    "        maxCost = cost\n",
    "        minElement = i\n",
    "    except:\n",
    "      # Division by zero, ignore\n",
    "      pass\n",
    "  return minElement\n"
   ]
  },
  {
   "cell_type": "code",
   "execution_count": null,
   "metadata": {
    "collapsed": false
   },
   "outputs": [],
   "source": [
    "# compute minimal set cover of parents\n",
    "redundantSup={}\n",
    "ignoreTagSets=['Point','Measurement','Location','Equipment',\"UndefinedPoint\",\"UndefinedEquipment\",\n",
    "               \"UndefinedLocation\",\"UndefinedMeasurement\"]\n",
    "remTsA=set(ignoreTagSets)\n",
    "tagsetsSupMin={}\n",
    "for tsA in tagsetsSupAll:\n",
    "  if tsA not in tagsets:\n",
    "    tagsetsSupMin=tagsetsSupAll[tsA]\n",
    "    print(tsA+\" not in tagsets\")\n",
    "    continue\n",
    "  unassigned=set(tagsets[tsA])\n",
    "  S={}\n",
    "  minCov=set()\n",
    "  for tsB in tagsetsSupAll[tsA]: \n",
    "    if tsB!=tsA and tsB in tagsets and len(tagsets[tsB])>0:\n",
    "      S[tsB]=set(tagsets[tsB])\n",
    "  while len(unassigned)>0 and len(S)>0:\n",
    "    tsB=findMin(S, unassigned)\n",
    "    if tsB is None: break\n",
    "    unassigned=unassigned.difference(S[tsB])\n",
    "    minCov.add(tsB)\n",
    "    del S[tsB]\n",
    "  for tag in unassigned:\n",
    "    if tag!=tsA:\n",
    "      minCov.add(tag)\n",
    "  if minCov:\n",
    "    tagsetsSupMin[tsA]=minCov\n",
    "    #print(tsA+\": \"+str(minCov))\n",
    "#Check count\n",
    "c=0\n",
    "for tsA in tagsetsSupMin:\n",
    "  for tsB in tagsetsSupMin[tsA]:\n",
    "    c+=1\n",
    "c"
   ]
  },
  {
   "cell_type": "code",
   "execution_count": null,
   "metadata": {
    "collapsed": false
   },
   "outputs": [],
   "source": [
    "# identify redundant parents exceeding minimal set cover\n",
    "redundantSup={}\n",
    "for tsA in tagsetsSupAll:\n",
    "  if tsA in tagsetsSupMin:\n",
    "    redundantSup[tsA]=tagsetsSupAll[tsA].difference(tagsetsSupMin[tsA])\n",
    "#Check count\n",
    "c=0\n",
    "for tsA in redundantSup:\n",
    "  for tsB in redundantSup[tsA]:\n",
    "    c+=1\n",
    "c"
   ]
  },
  {
   "cell_type": "code",
   "execution_count": null,
   "metadata": {
    "collapsed": false
   },
   "outputs": [],
   "source": [
    "for tsA in redundantSup:\n",
    "  for tsB in redundantSup[tsA]:\n",
    "    if tsA in tagsetsSupAll and tsB in tagsetsSupAll[tsA]:\n",
    "      if not tsB.startswith(\"Undefined\") and tsB!=\"\":  \n",
    "        tagsetsSupAll[tsA].remove(tsB)\n",
    "    #g.remove((tagsetsNode[tsA],URIRef('http://www.w3.org/2000/01/rdf-schema#subClassOf'),tagsetsNode[tsB]))\n",
    "for tsA in tagsetsSupMin:\n",
    "  for tsB in tagsetsSupMin[tsA]:\n",
    "    pass\n",
    "    #if tsA not in tagsetsSupAll: tagsetsSupAll[tsA]=set([tsB])\n",
    "    #else: tagsetsSupAll[tsA].add(tsB)\n",
    "    #g.add((tagsetsNode[tsA],URIRef('http://www.w3.org/2000/01/rdf-schema#subClassOf'),tagsetsNode[tsB]))\n",
    "#Check count\n",
    "c=0\n",
    "for tsA in tagsetsSupAll:\n",
    "  for tsB in tagsetsSupAll[tsA]:\n",
    "    c+=1\n",
    "c"
   ]
  },
  {
   "cell_type": "code",
   "execution_count": null,
   "metadata": {
    "collapsed": false
   },
   "outputs": [],
   "source": [
    "c=0\n",
    "for tsA in tagsets: c+=len(tagsets[tsA])\n",
    "c"
   ]
  },
  {
   "cell_type": "code",
   "execution_count": null,
   "metadata": {
    "collapsed": false
   },
   "outputs": [],
   "source": [
    "for tsA in tagsetsSupAll:\n",
    "  if tsA in tagsets:\n",
    "    uniqueTags=set(tagsets[tsA])\n",
    "    if tsA in tagsetsSupAll:\n",
    "      for tsB in tagsetsSupAll[tsA]:\n",
    "        if tsB in tagsets:\n",
    "          commontags=uniqueTags.intersection(tagsets[tsB])\n",
    "          for tag in commontags:\n",
    "            if tag in tagsets[tsA]:\n",
    "              #g.remove((tagsetsNode[tsA],None,tagsetsTagsNode[tsA][tag]))\n",
    "              tagsets[tsA].remove(tag)\n",
    "c=0\n",
    "for tsA in tagsets: c+=len(tagsets[tsA])\n",
    "c"
   ]
  },
  {
   "cell_type": "code",
   "execution_count": null,
   "metadata": {
    "collapsed": false
   },
   "outputs": [],
   "source": [
    "nsTag= \"tag:\" # \"ts:\"\n",
    "nsTagSet= \":\" # \"ts:\"\n",
    "fo = open('BrickV2.ttl', 'w')\n",
    "fo.write(\"\"\"@prefix dc: <http://purl.org/dc/elements/1.1/> .\n",
    "@prefix DUL: <http://www.loa-cnr.it/ontologies/DUL.owl#> .\n",
    "@prefix owl: <http://www.w3.org/2002/07/owl#> .\n",
    "@prefix rdf: <http://www.w3.org/1999/02/22-rdf-syntax-ns#> .\n",
    "@prefix ssn: <http://purl.oclc.org/NET/ssnx/ssn#> .\n",
    "@prefix xml: <http://www.w3.org/XML/1998/namespace> .\n",
    "@prefix xsd: <http://www.w3.org/2001/XMLSchema#> .\n",
    "@prefix rdfs: <http://www.w3.org/2000/01/rdf-schema#> .\n",
    "@prefix skos: <http://www.w3.org/2004/02/skos/core#> .\n",
    "@prefix time: <http://www.w3.org/2006/time#> .\n",
    "@prefix unit: <http://qudt.org/vocab/unit#> .\n",
    "@prefix gbXML: <http://www.gbxml.org/schema#> .\n",
    "@prefix haystack: <http://project-haystack.org/tag/> .\\n\"\"\")\n",
    "fo.write(\"@prefix bf:  <http://buildsys.org/ontologies/BrickFrame#> .\\n\")\n",
    "fo.write(\"@prefix tag: <http://buildsys.org/ontologies/BrickTag#> .\\n\")\n",
    "fo.write(\"@prefix :    <http://buildsys.org/ontologies/Brick#> .\\n\\n\")\n",
    "fo.write(\"<http://buildsys.org/ontologies/Brick>  a owl:Ontology ;\\n\")\n",
    "fo.write(\"\\towl:imports <http://buildsys.org/ontologies/BrickFrame> ;\\n\")\n",
    "fo.write(\"\\towl:imports <http://buildsys.org/ontologies/BrickTag> ;\\n\")\n",
    "fo.write('\\trdfs:comment \"Domain TagSet Definition\"@en .\\n\\n')"
   ]
  },
  {
   "cell_type": "code",
   "execution_count": null,
   "metadata": {
    "collapsed": false
   },
   "outputs": [],
   "source": [
    "brickTagSets={}\n",
    "for dim in ['PointDim','MeasurementDim','LocationDim','EquipmentDim']:\n",
    "  #Write all the high level dimensions\n",
    "  dimT=dim.replace('Dim','')\n",
    "  fo.write(\"\\n :\"+dimT+\"  rdfs:subClassOf   bf:TagSet;\")\n",
    "  fo.write('\\n\\t\\t\\t bf:isHierarchical  \"\";')\n",
    "  #fo.write('\\n\\t\\t\\t rdfs:label \"'+dimT+' Dimension\"@en .\\n')\n",
    "  #Bharath: Removing \"Dimension\" from labels\n",
    "  fo.write('\\n\\t\\t\\t rdfs:label \"'+dimT+'\"@en .\\n')\n",
    "  #Write the dimensions defined in dfPointTagSets. Note: this is a flat hierarchy\n",
    "  for dimL in pd.unique(dfPointTagSets[dim].dropna().ravel()):\n",
    "    fo.write(\"\\n :\"+dimL+\"  rdfs:subClassOf   :\"+dimT+\";\")\n",
    "    #Bharath: Removing restriction of abstract classes\n",
    "    #fo.write('\\n\\t\\t\\t bf:isHierarchical  \"\";')\n",
    "    fo.write('\\n\\t\\t\\t rdfs:label \"'+dimL+'\"@en .\\n')\n",
    "    brickTagSets[dimL]=dimL;"
   ]
  },
  {
   "cell_type": "code",
   "execution_count": null,
   "metadata": {
    "collapsed": false
   },
   "outputs": [],
   "source": [
    "#Write the tagset leaves\n",
    "for ts in tagsets:\n",
    "  supClass=\"\"\n",
    "  if ts in tagsetsSupAll:\n",
    "    for ts2 in tagsetsSupAll[ts]:\n",
    "      if ts2==\"TagSet\": supClass+=\", bf:\"+ts2;\n",
    "      else: supClass+=\", :\"+ts2;\n",
    "  if supClass==\"\":\n",
    "    supClass=\":Equipment\"\n",
    "  #Remove extraneous commas and spaces to write the final list of superclasses for tagset\n",
    "  fo.write(\"\\n :\"+ts+\"  rdfs:subClassOf   \"+supClass.strip(',').strip()+\";\")\n",
    "  #fo.write('\\n\\t\\t\\t bf:isHierarchical  \"\";')\n",
    "  for tag in tagsets[ts]:\n",
    "    if not tag.startswith(\"Undefined\") and tag!=\"\":\n",
    "     fo.write('\\n\\t\\t\\t rdfs:subClassOf [ a owl:Restriction ; owl:onProperty :hasTag ; owl:someValuesFrom tag:'+tag+' ];')\n",
    "  fo.write('\\n\\t\\t\\t rdfs:label \"'+ts.replace('_',' ')+'\"@en .\\n')"
   ]
  },
  {
   "cell_type": "code",
   "execution_count": null,
   "metadata": {
    "collapsed": false
   },
   "outputs": [],
   "source": [
    "#Write the synonyms\n",
    "for eqTS in equivTagSets:\n",
    "  ots=None\n",
    "  for ts in eqTS:\n",
    "    if ots:\n",
    "      fo.write('\\n :'+ts+'   owl:equivalentClass  :'+ots+' .')\n",
    "      #fo.write('\\n :'+ts+'   bf:similarClass    :'+ots+' .')\n",
    "    ots=ts;   "
   ]
  },
  {
   "cell_type": "code",
   "execution_count": null,
   "metadata": {
    "collapsed": true
   },
   "outputs": [],
   "source": [
    "fo.close()"
   ]
  },
  {
   "cell_type": "code",
   "execution_count": null,
   "metadata": {
    "collapsed": true
   },
   "outputs": [],
   "source": []
  }
 ],
 "metadata": {
  "kernelspec": {
   "display_name": "Python 2",
   "language": "python",
   "name": "python2"
  },
  "language_info": {
   "codemirror_mode": {
    "name": "ipython",
    "version": 2
   },
   "file_extension": ".py",
   "mimetype": "text/x-python",
   "name": "python",
   "nbconvert_exporter": "python",
   "pygments_lexer": "ipython2",
   "version": "2.7.11"
  }
 },
 "nbformat": 4,
 "nbformat_minor": 0
}
