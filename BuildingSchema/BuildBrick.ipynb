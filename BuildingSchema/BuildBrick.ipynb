{
 "cells": [
  {
   "cell_type": "code",
   "execution_count": 46,
   "metadata": {
    "collapsed": false
   },
   "outputs": [],
   "source": [
    "#!pip install rdflib\n",
    "#!pip install pydot2\n",
    "#!pip install pydotplus"
   ]
  },
  {
   "cell_type": "code",
   "execution_count": 47,
   "metadata": {
    "collapsed": false
   },
   "outputs": [],
   "source": [
    "import rdflib\n",
    "from rdflib.namespace import RDFS\n",
    "from rdflib import URIRef, BNode, Literal\n",
    "import re\n",
    "from collections import defaultdict\n",
    "import numpy as np\n",
    "import pandas as pd\n",
    "import pydot as pydot\n",
    "import networkx as nx\n",
    "from networkx.drawing.nx_pydot import write_dot\n",
    "import matplotlib.pyplot as plt"
   ]
  },
  {
   "cell_type": "code",
   "execution_count": 48,
   "metadata": {
    "collapsed": false
   },
   "outputs": [
    {
     "name": "stdout",
     "output_type": "stream",
     "text": [
      "123\n"
     ]
    }
   ],
   "source": [
    "def ns(url):\n",
    "  url = url.replace(\"http://buildsys.org/ontologies/brick#\", \"\")\n",
    "  url = url.replace(\"http://buildsys.org/ontologies/brickFrame#\", \"\")\n",
    "  return url\n",
    "\n",
    "BRICKF = rdflib.Namespace('http://buildsys.org/ontologies/brickFrame#')\n",
    "BRICK  = rdflib.Namespace('http://buildsys.org/ontologies/brick#')\n",
    "TAG    = rdflib.Namespace('http://buildsys.org/ontologies/brickTag#')\n",
    "TAGSET = rdflib.Namespace('http://buildsys.org/ontologies/brickTagSet#')\n",
    "\n",
    "g = rdflib.Graph()\n",
    "g.bind('bf', BRICKF)\n",
    "g.bind('tag', TAG)\n",
    "g.bind('ts', TAGSET)\n",
    "g.bind(':', BRICK)\n",
    "result = g.parse('BrickFrame.ttl', format='n3')\n",
    "print(len(g))"
   ]
  },
  {
   "cell_type": "markdown",
   "metadata": {},
   "source": [
    "### Load Tag and TagSets from Definition"
   ]
  },
  {
   "cell_type": "code",
   "execution_count": 49,
   "metadata": {
    "collapsed": false
   },
   "outputs": [
    {
     "data": {
      "text/html": [
       "<div>\n",
       "<table border=\"1\" class=\"dataframe\">\n",
       "  <thead>\n",
       "    <tr style=\"text-align: right;\">\n",
       "      <th></th>\n",
       "      <th>Dimension</th>\n",
       "      <th>Tag</th>\n",
       "      <th>Definition</th>\n",
       "      <th>Related Terminologies</th>\n",
       "      <th>hasSynonym</th>\n",
       "      <th>Author</th>\n",
       "      <th>Reviewed</th>\n",
       "      <th>Review Count</th>\n",
       "      <th>Comments</th>\n",
       "    </tr>\n",
       "  </thead>\n",
       "  <tbody>\n",
       "    <tr>\n",
       "      <th>0</th>\n",
       "      <td>Equipment</td>\n",
       "      <td>HVAC</td>\n",
       "      <td>NaN</td>\n",
       "      <td>NaN</td>\n",
       "      <td>NaN</td>\n",
       "      <td>NaN</td>\n",
       "      <td>NaN</td>\n",
       "      <td>NaN</td>\n",
       "      <td>NaN</td>\n",
       "    </tr>\n",
       "    <tr>\n",
       "      <th>1</th>\n",
       "      <td>Equipment&gt;Energy&gt;Power</td>\n",
       "      <td>Load</td>\n",
       "      <td>NaN</td>\n",
       "      <td>Eletrical load</td>\n",
       "      <td>NaN</td>\n",
       "      <td>Jason</td>\n",
       "      <td>NaN</td>\n",
       "      <td>NaN</td>\n",
       "      <td>NaN</td>\n",
       "    </tr>\n",
       "    <tr>\n",
       "      <th>2</th>\n",
       "      <td>Equipment&gt;Energy&gt;Power</td>\n",
       "      <td>Bus</td>\n",
       "      <td>A metallic strip or bar (typically copper, bra...</td>\n",
       "      <td>NaN</td>\n",
       "      <td>NaN</td>\n",
       "      <td>Jason</td>\n",
       "      <td>NaN</td>\n",
       "      <td>NaN</td>\n",
       "      <td>NaN</td>\n",
       "    </tr>\n",
       "    <tr>\n",
       "      <th>3</th>\n",
       "      <td>Equipment&gt;Energy&gt;Power</td>\n",
       "      <td>Battery</td>\n",
       "      <td>NaN</td>\n",
       "      <td>NaN</td>\n",
       "      <td>NaN</td>\n",
       "      <td>Jason</td>\n",
       "      <td>NaN</td>\n",
       "      <td>NaN</td>\n",
       "      <td>NaN</td>\n",
       "    </tr>\n",
       "    <tr>\n",
       "      <th>4</th>\n",
       "      <td>Equipment&gt;Energy&gt;Power</td>\n",
       "      <td>Solar</td>\n",
       "      <td>NaN</td>\n",
       "      <td>Solar panel</td>\n",
       "      <td>NaN</td>\n",
       "      <td>Jason</td>\n",
       "      <td>NaN</td>\n",
       "      <td>NaN</td>\n",
       "      <td>NaN</td>\n",
       "    </tr>\n",
       "  </tbody>\n",
       "</table>\n",
       "</div>"
      ],
      "text/plain": [
       "                Dimension      Tag  \\\n",
       "0               Equipment     HVAC   \n",
       "1  Equipment>Energy>Power     Load   \n",
       "2  Equipment>Energy>Power      Bus   \n",
       "3  Equipment>Energy>Power  Battery   \n",
       "4  Equipment>Energy>Power    Solar   \n",
       "\n",
       "                                          Definition Related Terminologies  \\\n",
       "0                                                NaN                   NaN   \n",
       "1                                                NaN        Eletrical load   \n",
       "2  A metallic strip or bar (typically copper, bra...                   NaN   \n",
       "3                                                NaN                   NaN   \n",
       "4                                                NaN           Solar panel   \n",
       "\n",
       "  hasSynonym Author  Reviewed  Review Count Comments  \n",
       "0        NaN    NaN       NaN           NaN      NaN  \n",
       "1        NaN  Jason       NaN           NaN      NaN  \n",
       "2        NaN  Jason       NaN           NaN      NaN  \n",
       "3        NaN  Jason       NaN           NaN      NaN  \n",
       "4        NaN  Jason       NaN           NaN      NaN  "
      ]
     },
     "execution_count": 49,
     "metadata": {},
     "output_type": "execute_result"
    }
   ],
   "source": [
    "dfTags=pd.read_excel('Schema Engineering.xlsx',\"Tags\")\n",
    "schemaTags=set(pd.unique(dfTags.Tag.dropna().ravel()))\n",
    "len(schemaTags)\n",
    "dfTags.head()"
   ]
  },
  {
   "cell_type": "code",
   "execution_count": 50,
   "metadata": {
    "collapsed": false
   },
   "outputs": [
    {
     "data": {
      "text/html": [
       "<div>\n",
       "<table border=\"1\" class=\"dataframe\">\n",
       "  <thead>\n",
       "    <tr style=\"text-align: right;\">\n",
       "      <th></th>\n",
       "      <th>Dimension</th>\n",
       "      <th>TagSet</th>\n",
       "      <th>hasSynonym</th>\n",
       "      <th>Definition</th>\n",
       "      <th>hasUnit</th>\n",
       "      <th>hasAbbreviation</th>\n",
       "      <th>can be named? (can be instantiated?)</th>\n",
       "      <th>can be unnamed? (cannot be instantiated?)</th>\n",
       "      <th>Author</th>\n",
       "      <th>Reviewed</th>\n",
       "      <th>Review Count</th>\n",
       "      <th>Discussion</th>\n",
       "    </tr>\n",
       "  </thead>\n",
       "  <tbody>\n",
       "    <tr>\n",
       "      <th>0</th>\n",
       "      <td>Equipment&gt;ExhaustSystem</td>\n",
       "      <td>Exhaust Fan</td>\n",
       "      <td>NaN</td>\n",
       "      <td>NaN</td>\n",
       "      <td>NaN</td>\n",
       "      <td>NaN</td>\n",
       "      <td>NaN</td>\n",
       "      <td>NaN</td>\n",
       "      <td>Jason</td>\n",
       "      <td>NaN</td>\n",
       "      <td>NaN</td>\n",
       "      <td>NaN</td>\n",
       "    </tr>\n",
       "    <tr>\n",
       "      <th>1</th>\n",
       "      <td>Equipment&gt;HVAC</td>\n",
       "      <td>Chilled Water System</td>\n",
       "      <td>NaN</td>\n",
       "      <td>NaN</td>\n",
       "      <td>NaN</td>\n",
       "      <td>NaN</td>\n",
       "      <td>O</td>\n",
       "      <td>X</td>\n",
       "      <td>Jason</td>\n",
       "      <td>NaN</td>\n",
       "      <td>NaN</td>\n",
       "      <td>NaN</td>\n",
       "    </tr>\n",
       "    <tr>\n",
       "      <th>2</th>\n",
       "      <td>Equipment&gt;HVAC</td>\n",
       "      <td>Fire Control Panel</td>\n",
       "      <td>NaN</td>\n",
       "      <td>NaN</td>\n",
       "      <td>NaN</td>\n",
       "      <td>FCP</td>\n",
       "      <td>NaN</td>\n",
       "      <td>NaN</td>\n",
       "      <td>Bharath</td>\n",
       "      <td>NaN</td>\n",
       "      <td>NaN</td>\n",
       "      <td>NaN</td>\n",
       "    </tr>\n",
       "    <tr>\n",
       "      <th>3</th>\n",
       "      <td>Equipment&gt;HVAC</td>\n",
       "      <td>Space Heater</td>\n",
       "      <td>NaN</td>\n",
       "      <td>NaN</td>\n",
       "      <td>NaN</td>\n",
       "      <td>NaN</td>\n",
       "      <td>O</td>\n",
       "      <td>X</td>\n",
       "      <td>Jason</td>\n",
       "      <td>NaN</td>\n",
       "      <td>NaN</td>\n",
       "      <td>NaN</td>\n",
       "    </tr>\n",
       "    <tr>\n",
       "      <th>4</th>\n",
       "      <td>Equipment&gt;HVAC</td>\n",
       "      <td>Air Handler Unit</td>\n",
       "      <td>NaN</td>\n",
       "      <td>A device used to regulate and circulate air as...</td>\n",
       "      <td>NaN</td>\n",
       "      <td>AHU</td>\n",
       "      <td>O</td>\n",
       "      <td>X</td>\n",
       "      <td>Joern</td>\n",
       "      <td>NaN</td>\n",
       "      <td>NaN</td>\n",
       "      <td>NaN</td>\n",
       "    </tr>\n",
       "  </tbody>\n",
       "</table>\n",
       "</div>"
      ],
      "text/plain": [
       "                 Dimension                TagSet hasSynonym  \\\n",
       "0  Equipment>ExhaustSystem           Exhaust Fan        NaN   \n",
       "1           Equipment>HVAC  Chilled Water System        NaN   \n",
       "2           Equipment>HVAC    Fire Control Panel        NaN   \n",
       "3           Equipment>HVAC          Space Heater        NaN   \n",
       "4           Equipment>HVAC      Air Handler Unit        NaN   \n",
       "\n",
       "                                          Definition hasUnit hasAbbreviation  \\\n",
       "0                                                NaN     NaN             NaN   \n",
       "1                                                NaN     NaN             NaN   \n",
       "2                                                NaN     NaN             FCP   \n",
       "3                                                NaN     NaN             NaN   \n",
       "4  A device used to regulate and circulate air as...     NaN             AHU   \n",
       "\n",
       "  can be named? (can be instantiated?)  \\\n",
       "0                                  NaN   \n",
       "1                                    O   \n",
       "2                                  NaN   \n",
       "3                                    O   \n",
       "4                                    O   \n",
       "\n",
       "  can be unnamed? (cannot be instantiated?)   Author  Reviewed  Review Count  \\\n",
       "0                                       NaN    Jason       NaN           NaN   \n",
       "1                                         X    Jason       NaN           NaN   \n",
       "2                                       NaN  Bharath       NaN           NaN   \n",
       "3                                         X    Jason       NaN           NaN   \n",
       "4                                         X    Joern       NaN           NaN   \n",
       "\n",
       "  Discussion  \n",
       "0        NaN  \n",
       "1        NaN  \n",
       "2        NaN  \n",
       "3        NaN  \n",
       "4        NaN  "
      ]
     },
     "execution_count": 50,
     "metadata": {},
     "output_type": "execute_result"
    }
   ],
   "source": [
    "dfTagSets=pd.read_excel('Schema Engineering.xlsx',\"TagSets\")\n",
    "schemaTagSets=set()\n",
    "for ts in pd.unique(dfTagSets.TagSet.dropna().ravel()):\n",
    "  schemaTagSets.add(ts.replace(' ','_'))\n",
    "for ts in pd.unique(dfTagSets.hasSynonym.dropna().ravel()):\n",
    "  for ts2 in ts.split(\",\"):\n",
    "   schemaTagSets.add(ts2.replace(' ','_'))\n",
    "len(schemaTagSets)\n",
    "dfTagSets.head()"
   ]
  },
  {
   "cell_type": "code",
   "execution_count": 51,
   "metadata": {
    "collapsed": false
   },
   "outputs": [
    {
     "name": "stdout",
     "output_type": "stream",
     "text": [
      "Missing Tags:1\n",
      "{''}\n"
     ]
    }
   ],
   "source": [
    "schemaUsedTags=set()\n",
    "schemaTagSetTags={}\n",
    "for ts in schemaTagSets:\n",
    "  schemaUsedTags.update(ts.split('_'))\n",
    "  schemaTagSetTags[ts]=set(ts.split('_'))\n",
    "schemaMissingTags=schemaUsedTags - schemaTags\n",
    "print(\"Missing Tags:\" + str(len(schemaMissingTags)))\n",
    "print(schemaMissingTags)"
   ]
  },
  {
   "cell_type": "code",
   "execution_count": 52,
   "metadata": {
    "collapsed": true
   },
   "outputs": [],
   "source": [
    "def IndivName(name):\n",
    "  return re.sub(r'\\s','_',re.sub(r'[^\\d\\w\\s]', '', name))"
   ]
  },
  {
   "cell_type": "markdown",
   "metadata": {},
   "source": [
    "### Write Tags"
   ]
  },
  {
   "cell_type": "markdown",
   "metadata": {},
   "source": [
    "write header"
   ]
  },
  {
   "cell_type": "code",
   "execution_count": 53,
   "metadata": {
    "collapsed": false
   },
   "outputs": [
    {
     "data": {
      "text/plain": [
       "44"
      ]
     },
     "execution_count": 53,
     "metadata": {},
     "output_type": "execute_result"
    }
   ],
   "source": [
    "nsTag   = \":\"\n",
    "fo = open('BrickTag.ttl', 'w')\n",
    "fo.write(\"\"\"@prefix dc: <http://purl.org/dc/elements/1.1/> .\n",
    "@prefix DUL: <http://www.loa-cnr.it/ontologies/DUL.owl#> .\n",
    "@prefix owl: <http://www.w3.org/2002/07/owl#> .\n",
    "@prefix rdf: <http://www.w3.org/1999/02/22-rdf-syntax-ns#> .\n",
    "@prefix ssn: <http://purl.oclc.org/NET/ssnx/ssn#> .\n",
    "@prefix xml: <http://www.w3.org/XML/1998/namespace> .\n",
    "@prefix xsd: <http://www.w3.org/2001/XMLSchema#> .\n",
    "@prefix rdfs: <http://www.w3.org/2000/01/rdf-schema#> .\n",
    "@prefix skos: <http://www.w3.org/2004/02/skos/core#> .\n",
    "@prefix time: <http://www.w3.org/2006/time#> .\n",
    "@prefix unit: <http://qudt.org/vocab/unit#> .\n",
    "@prefix gbXML: <http://www.gbxml.org/schema#> .\n",
    "@prefix haystack: <http://project-haystack.org/tag/> .\\n\"\"\")\n",
    "fo.write(\"@prefix bf:  <http://buildsys.org/ontologies/BrickFrame#> .\\n\")\n",
    "fo.write(\"@prefix : <http://buildsys.org/ontologies/BrickTag#> .\\n\\n\")\n",
    "fo.write(\"<http://buildsys.org/ontologies/BrickTag>  a owl:Ontology ;\\n\")\n",
    "fo.write(\"\\towl:imports <http://buildsys.org/ontologies/BrickFrame> ;\\n\")\n",
    "fo.write('\\trdfs:comment \"Domain Tag Definition\"@en .\\n\\n')"
   ]
  },
  {
   "cell_type": "markdown",
   "metadata": {},
   "source": [
    "Write Tag Hierachy"
   ]
  },
  {
   "cell_type": "code",
   "execution_count": 54,
   "metadata": {
    "collapsed": false
   },
   "outputs": [],
   "source": [
    "brickTags={}\n",
    "for hir in pd.unique(dfTags.Dimension.dropna().ravel()):\n",
    "  tags=hir.split('>')\n",
    "  atags=\"\"\n",
    "  for i in range(len(tags)):\n",
    "    tag=tags[i]\n",
    "    otags=atags\n",
    "    atags=(atags+\"_\"+tag).strip(\"_\")\n",
    "    if atags not in brickTags:\n",
    "      indivLocName=nsTag+IndivName(atags)\n",
    "      if i>0:\n",
    "        fo.write(\"\\n \"+indivLocName+\"  rdfs:subClassOf   \"+brickTags[otags]+\";\")\n",
    "      else:\n",
    "        fo.write(\"\\n \"+indivLocName+\"  rdfs:subClassOf   bf:Tag;\")\n",
    "      fo.write('\\n\\t\\t\\t bf:isHierarchical  \"\";')\n",
    "      fo.write('\\n\\t\\t\\t rdfs:label \"'+tag+'\"@en .\\n')\n",
    "      brickTags[atags]=indivLocName;\n",
    "      parent=tag;"
   ]
  },
  {
   "cell_type": "markdown",
   "metadata": {},
   "source": [
    "Add tag leaves"
   ]
  },
  {
   "cell_type": "code",
   "execution_count": 55,
   "metadata": {
    "collapsed": false
   },
   "outputs": [],
   "source": [
    "# create location individuals\n",
    "for idx in dfTags.index:\n",
    "  #parent=brickTags[str(dfTags.loc[idx, \"Dimension\"]).split('>')[-1]]\n",
    "  parent=brickTags[str(dfTags.loc[idx, \"Dimension\"]).replace('>','_')]\n",
    "  indivLocName=nsTag + IndivName(str(dfTags.loc[idx, \"Tag\"]))\n",
    "  fo.write(\"\\n \"+indivLocName+\"  rdfs:subClassOf   \"+parent+\";\")\n",
    "  fo.write('\\n\\t\\t\\t rdfs:label \"'+str(dfTags.loc[idx, \"Tag\"])+'\"@en .\\n')\n",
    "  brickTags[tag]=indivLocName;\n",
    "  #print(parent,indivLocName)"
   ]
  },
  {
   "cell_type": "code",
   "execution_count": 56,
   "metadata": {
    "collapsed": true
   },
   "outputs": [],
   "source": [
    "fo.close()"
   ]
  },
  {
   "cell_type": "markdown",
   "metadata": {},
   "source": [
    "### Write TagSets"
   ]
  },
  {
   "cell_type": "markdown",
   "metadata": {},
   "source": [
    "write headers"
   ]
  },
  {
   "cell_type": "code",
   "execution_count": 57,
   "metadata": {
    "collapsed": false
   },
   "outputs": [
    {
     "data": {
      "text/plain": [
       "47"
      ]
     },
     "execution_count": 57,
     "metadata": {},
     "output_type": "execute_result"
    }
   ],
   "source": [
    "nsTag= \"tag:\" # \"ts:\"\n",
    "nsTagSet= \":\" # \"ts:\"\n",
    "fo = open('Brick.ttl', 'w')\n",
    "fo.write(\"\"\"@prefix dc: <http://purl.org/dc/elements/1.1/> .\n",
    "@prefix DUL: <http://www.loa-cnr.it/ontologies/DUL.owl#> .\n",
    "@prefix owl: <http://www.w3.org/2002/07/owl#> .\n",
    "@prefix rdf: <http://www.w3.org/1999/02/22-rdf-syntax-ns#> .\n",
    "@prefix ssn: <http://purl.oclc.org/NET/ssnx/ssn#> .\n",
    "@prefix xml: <http://www.w3.org/XML/1998/namespace> .\n",
    "@prefix xsd: <http://www.w3.org/2001/XMLSchema#> .\n",
    "@prefix rdfs: <http://www.w3.org/2000/01/rdf-schema#> .\n",
    "@prefix skos: <http://www.w3.org/2004/02/skos/core#> .\n",
    "@prefix time: <http://www.w3.org/2006/time#> .\n",
    "@prefix unit: <http://qudt.org/vocab/unit#> .\n",
    "@prefix gbXML: <http://www.gbxml.org/schema#> .\n",
    "@prefix haystack: <http://project-haystack.org/tag/> .\\n\"\"\")\n",
    "fo.write(\"@prefix bf:  <http://buildsys.org/ontologies/BrickFrame#> .\\n\")\n",
    "fo.write(\"@prefix tag: <http://buildsys.org/ontologies/BrickTag#> .\\n\")\n",
    "fo.write(\"@prefix :    <http://buildsys.org/ontologies/Brick#> .\\n\\n\")\n",
    "fo.write(\"<http://buildsys.org/ontologies/Brick>  a owl:Ontology ;\\n\")\n",
    "fo.write(\"\\towl:imports <http://buildsys.org/ontologies/BrickFrame> ;\\n\")\n",
    "fo.write(\"\\towl:imports <http://buildsys.org/ontologies/BrickTag> ;\\n\")\n",
    "fo.write('\\trdfs:comment \"Domain TagSet Definition\"@en .\\n\\n')"
   ]
  },
  {
   "cell_type": "markdown",
   "metadata": {},
   "source": [
    "Write TagSet Hierachy"
   ]
  },
  {
   "cell_type": "code",
   "execution_count": 58,
   "metadata": {
    "collapsed": false
   },
   "outputs": [],
   "source": [
    "brickTagSets={}\n",
    "for hir in pd.unique(dfTagSets.Dimension.dropna().ravel()):\n",
    "  tags=hir.split('>')\n",
    "  atags=\"\"\n",
    "  for i in range(len(tags)):\n",
    "    tag=tags[i]\n",
    "    otags=atags\n",
    "    atags=(atags+\"_\"+tag).strip('_')\n",
    "    if atags not in brickTagSets:\n",
    "      indivLocName=nsTagSet + IndivName(atags)\n",
    "      if i>0:\n",
    "        fo.write(\"\\n \"+indivLocName+\"  rdfs:subClassOf   \"+brickTagSets[otags]+\";\")\n",
    "      else:\n",
    "        fo.write(\"\\n \"+indivLocName+\"  rdfs:subClassOf   bf:TagSet;\")\n",
    "      fo.write('\\n\\t\\t\\t bf:isHierarchical  \"\";')\n",
    "      fo.write('\\n\\t\\t\\t rdfs:label \"'+tag+'\"@en .\\n')\n",
    "      brickTagSets[atags]=indivLocName;"
   ]
  },
  {
   "cell_type": "markdown",
   "metadata": {},
   "source": [
    "Add TagSets leaves"
   ]
  },
  {
   "cell_type": "code",
   "execution_count": 59,
   "metadata": {
    "collapsed": false
   },
   "outputs": [],
   "source": [
    "# create location individuals\n",
    "for idx in dfTagSets.index:\n",
    "  tagsets=set([str(dfTagSets.loc[idx, \"TagSet\"])]) | set(str(dfTagSets.loc[idx, \"hasSynonym\"]).split(\",\"))\n",
    "  ots=None\n",
    "  for tagset in tagsets:\n",
    "    if tagset!=\"nan\":\n",
    "        #tagset=str(dfTagSets.loc[idx, \"TagSet\"])\n",
    "      #parent= brickTagSets[str(dfTagSets.loc[idx, \"Dimension\"]).split('>')[-1]]\n",
    "      parent= brickTagSets[str(dfTagSets.loc[idx, \"Dimension\"]).replace('>',\"_\")]\n",
    "      indivLocName=nsTagSet + IndivName(tagset)\n",
    "      fo.write(\"\\n \"+indivLocName+\"  rdfs:subClassOf   \"+parent+\";\")\n",
    "      for tag in tagset.split():\n",
    "         #fo.write('\\n\\t\\t\\t bf:hasTag  tag:'+tag+';')\n",
    "         fo.write('\\n\\t\\t\\t rdfs:subClassOf [ a owl:Restriction ; owl:onProperty :hasTag ; owl:someValuesFrom tag:'+tag+' . ];')\n",
    "      if ots:\n",
    "        fo.write('\\n\\t\\t\\t owl:equivalentClass '+ots+' ;')\n",
    "      fo.write('\\n\\t\\t\\t rdfs:label \"'+str(dfTagSets.loc[idx, \"TagSet\"])+'\"@en .\\n')\n",
    "      brickTagSets[tagset]=indivLocName;\n",
    "      ots=indivLocName;\n",
    "      #print(parent,indivLocName)"
   ]
  },
  {
   "cell_type": "code",
   "execution_count": 60,
   "metadata": {
    "collapsed": false
   },
   "outputs": [],
   "source": [
    "fo.close()"
   ]
  },
  {
   "cell_type": "code",
   "execution_count": null,
   "metadata": {
    "collapsed": false
   },
   "outputs": [],
   "source": []
  }
 ],
 "metadata": {
  "kernelspec": {
   "display_name": "Python 2",
   "language": "python",
   "name": "python2"
  },
  "language_info": {
   "codemirror_mode": {
    "name": "ipython",
    "version": 2
   },
   "file_extension": ".py",
   "mimetype": "text/x-python",
   "name": "python",
   "nbconvert_exporter": "python",
   "pygments_lexer": "ipython2",
   "version": "2.7.11"
  }
 },
 "nbformat": 4,
 "nbformat_minor": 0
}
