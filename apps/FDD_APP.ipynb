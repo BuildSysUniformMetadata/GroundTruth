{
 "cells": [
  {
   "cell_type": "code",
   "execution_count": 1,
   "metadata": {
    "collapsed": false
   },
   "outputs": [],
   "source": [
    "# read required inputs from excel\n",
    "import pandas as pd\n",
    "pt = pd.read_excel('names.xlsx')"
   ]
  },
  {
   "cell_type": "markdown",
   "metadata": {},
   "source": [
    "The rule-based FDD application requires the following minimal inputs from AHUs in order to run the rules:"
   ]
  },
  {
   "cell_type": "code",
   "execution_count": 2,
   "metadata": {
    "collapsed": false
   },
   "outputs": [
    {
     "data": {
      "text/html": [
       "<div>\n",
       "<table border=\"1\" class=\"dataframe\">\n",
       "  <thead>\n",
       "    <tr style=\"text-align: right;\">\n",
       "      <th></th>\n",
       "      <th>points needed</th>\n",
       "      <th>points in BRICK</th>\n",
       "      <th>acronym</th>\n",
       "    </tr>\n",
       "  </thead>\n",
       "  <tbody>\n",
       "    <tr>\n",
       "      <th>0</th>\n",
       "      <td>hot water valve</td>\n",
       "      <td>Preheat_Hot_Water_Valve/Preheat_Valve_VFD/Heating_Valve</td>\n",
       "      <td>HW_VLV</td>\n",
       "    </tr>\n",
       "    <tr>\n",
       "      <th>1</th>\n",
       "      <td>chilled water valve</td>\n",
       "      <td>Chilled_Water_Valve/Cooling_Valve</td>\n",
       "      <td>CHW_VLV</td>\n",
       "    </tr>\n",
       "    <tr>\n",
       "      <th>2</th>\n",
       "      <td>mixed air temperature</td>\n",
       "      <td>Heat_Wheel_Supply_Air_Temperature_Sensor</td>\n",
       "      <td>MAT</td>\n",
       "    </tr>\n",
       "    <tr>\n",
       "      <th>3</th>\n",
       "      <td>outside air temperature</td>\n",
       "      <td>Outside_Air_Temperature_Sensor</td>\n",
       "      <td>OAT</td>\n",
       "    </tr>\n",
       "    <tr>\n",
       "      <th>4</th>\n",
       "      <td>return air temperature</td>\n",
       "      <td>Return_Air_Temperature_Sensor</td>\n",
       "      <td>RAT</td>\n",
       "    </tr>\n",
       "    <tr>\n",
       "      <th>5</th>\n",
       "      <td>supply air temperature</td>\n",
       "      <td>Discharge_Air_Temperature_Sensor</td>\n",
       "      <td>SAT</td>\n",
       "    </tr>\n",
       "    <tr>\n",
       "      <th>6</th>\n",
       "      <td>supply air temperature setpoint</td>\n",
       "      <td>Discharge_Air_Temperature_Sensor_Setpoint</td>\n",
       "      <td>SAT_SPT</td>\n",
       "    </tr>\n",
       "    <tr>\n",
       "      <th>7</th>\n",
       "      <td>outside air relative humidity</td>\n",
       "      <td>Outside_Air_Humidity_Sensor</td>\n",
       "      <td>OA_RH</td>\n",
       "    </tr>\n",
       "    <tr>\n",
       "      <th>8</th>\n",
       "      <td>return air relative humidity</td>\n",
       "      <td>Return_Air_Humidity_Sensor</td>\n",
       "      <td>RA_RH</td>\n",
       "    </tr>\n",
       "    <tr>\n",
       "      <th>9</th>\n",
       "      <td>outside air damper</td>\n",
       "      <td>Outside_Air_Damper_Position_Sensor</td>\n",
       "      <td>OAD</td>\n",
       "    </tr>\n",
       "    <tr>\n",
       "      <th>10</th>\n",
       "      <td>mixed air damper</td>\n",
       "      <td>Mixed_Air_Damper_Position_Sensor</td>\n",
       "      <td>MAD</td>\n",
       "    </tr>\n",
       "  </tbody>\n",
       "</table>\n",
       "</div>"
      ],
      "text/plain": [
       "                      points needed  \\\n",
       "0                   hot water valve   \n",
       "1               chilled water valve   \n",
       "2             mixed air temperature   \n",
       "3           outside air temperature   \n",
       "4            return air temperature   \n",
       "5            supply air temperature   \n",
       "6   supply air temperature setpoint   \n",
       "7     outside air relative humidity   \n",
       "8      return air relative humidity   \n",
       "9                outside air damper   \n",
       "10                 mixed air damper   \n",
       "\n",
       "                                            points in BRICK  acronym  \n",
       "0   Preheat_Hot_Water_Valve/Preheat_Valve_VFD/Heating_Valve   HW_VLV  \n",
       "1                         Chilled_Water_Valve/Cooling_Valve  CHW_VLV  \n",
       "2                  Heat_Wheel_Supply_Air_Temperature_Sensor      MAT  \n",
       "3                            Outside_Air_Temperature_Sensor      OAT  \n",
       "4                             Return_Air_Temperature_Sensor      RAT  \n",
       "5                          Discharge_Air_Temperature_Sensor      SAT  \n",
       "6                 Discharge_Air_Temperature_Sensor_Setpoint  SAT_SPT  \n",
       "7                               Outside_Air_Humidity_Sensor    OA_RH  \n",
       "8                                Return_Air_Humidity_Sensor    RA_RH  \n",
       "9                        Outside_Air_Damper_Position_Sensor      OAD  \n",
       "10                         Mixed_Air_Damper_Position_Sensor      MAD  "
      ]
     },
     "execution_count": 2,
     "metadata": {},
     "output_type": "execute_result"
    }
   ],
   "source": [
    "pd.set_option('max_colwidth',80)\n",
    "pt"
   ]
  },
  {
   "cell_type": "code",
   "execution_count": 3,
   "metadata": {
    "collapsed": false
   },
   "outputs": [],
   "source": [
    "points_map = {}\n",
    "for row in pt.iterrows():\n",
    "    points_map[str(row[1][2])] = str(row[1][1]).split('/')"
   ]
  },
  {
   "cell_type": "code",
   "execution_count": 4,
   "metadata": {
    "collapsed": false
   },
   "outputs": [
    {
     "data": {
      "text/plain": [
       "{'CHW_VLV': ['Chilled_Water_Valve', 'Cooling_Valve'],\n",
       " 'HW_VLV': ['Preheat_Hot_Water_Valve', 'Preheat_Valve_VFD', 'Heating_Valve'],\n",
       " 'MAD': ['Mixed_Air_Damper_Position_Sensor'],\n",
       " 'MAT': ['Heat_Wheel_Supply_Air_Temperature_Sensor'],\n",
       " 'OAD': ['Outside_Air_Damper_Position_Sensor'],\n",
       " 'OAT': ['Outside_Air_Temperature_Sensor'],\n",
       " 'OA_RH': ['Outside_Air_Humidity_Sensor'],\n",
       " 'RAT': ['Return_Air_Temperature_Sensor'],\n",
       " 'RA_RH': ['Return_Air_Humidity_Sensor'],\n",
       " 'SAT': ['Discharge_Air_Temperature_Sensor'],\n",
       " 'SAT_SPT': ['Discharge_Air_Temperature_Sensor_Setpoint']}"
      ]
     },
     "execution_count": 4,
     "metadata": {},
     "output_type": "execute_result"
    }
   ],
   "source": [
    "points_map"
   ]
  },
  {
   "cell_type": "code",
   "execution_count": 5,
   "metadata": {
    "collapsed": false
   },
   "outputs": [
    {
     "data": {
      "text/plain": [
       "<Graph identifier=N5c5f9f96ebd74c739e64e431c9b119f2 (<class 'rdflib.graph.Graph'>)>"
      ]
     },
     "execution_count": 5,
     "metadata": {},
     "output_type": "execute_result"
    }
   ],
   "source": [
    "import rdflib\n",
    "\n",
    "g = rdflib.Graph()\n",
    "g.parse('../CMU-Yuvraj/GHCYuvraj_brick.ttl', format='turtle')\n",
    "# g.parse('../IBM/IBM_B3.ttl', format='turtle')\n",
    "# g.parse('../UCSD/EBU3B/ebu3b_brick.ttl', format='turtle')\n",
    "# g.parse('example_building.ttl', format='turtle')"
   ]
  },
  {
   "cell_type": "code",
   "execution_count": 6,
   "metadata": {
    "collapsed": false
   },
   "outputs": [],
   "source": [
    "# query goes here\n",
    "def get_points(acronym,brick_name):\n",
    "    res = g.query(\"\"\"\n",
    "    SELECT ?%s\n",
    "    WHERE {\n",
    "        ?%s rdf:type brick:%s .\n",
    "        ?ahu rdf:type brick:AHU .\n",
    "        ?%s ns1:isPointOf ?ahu .\n",
    "    }\n",
    "    \"\"\" % (acronym,acronym,brick_name,acronym))\n",
    "    \n",
    "    return list(res)"
   ]
  },
  {
   "cell_type": "code",
   "execution_count": 7,
   "metadata": {
    "collapsed": false
   },
   "outputs": [
    {
     "name": "stdout",
     "output_type": "stream",
     "text": [
      "Runing query for SAT_SPT ......\n",
      "\tNumber of points found for Discharge_Air_Temperature_Sensor_Setpoint : 0\n",
      "Runing query for CHW_VLV ......\n",
      "\tNumber of points found for Chilled_Water_Valve : 11\n",
      "\tNumber of points found for Cooling_Valve : 0\n",
      "Runing query for OAD ......\n",
      "\tNumber of points found for Outside_Air_Damper_Position_Sensor : 11\n",
      "Runing query for OA_RH ......\n",
      "\tNumber of points found for Outside_Air_Humidity_Sensor : 9\n",
      "Runing query for MAT ......\n",
      "\tNumber of points found for Heat_Wheel_Supply_Air_Temperature_Sensor : 9\n",
      "Runing query for RAT ......\n",
      "\tNumber of points found for Return_Air_Temperature_Sensor : 11\n",
      "Runing query for OAT ......\n",
      "\tNumber of points found for Outside_Air_Temperature_Sensor : 11\n",
      "Runing query for HW_VLV ......\n",
      "\tNumber of points found for Preheat_Hot_Water_Valve : 0\n",
      "\tNumber of points found for Preheat_Valve_VFD : 11\n",
      "\tNumber of points found for Heating_Valve : 0\n",
      "Runing query for MAD ......\n",
      "\tNumber of points found for Mixed_Air_Damper_Position_Sensor : 9\n",
      "Runing query for RA_RH ......\n",
      "\tNumber of points found for Return_Air_Humidity_Sensor : 0\n",
      "Runing query for SAT ......\n",
      "\tNumber of points found for Discharge_Air_Temperature_Sensor : 21\n"
     ]
    }
   ],
   "source": [
    "from collections import defaultdict\n",
    "\n",
    "Result = defaultdict(list)\n",
    "\n",
    "for acr,brk_names in points_map.items():\n",
    "    print \"Runing query for %s ......\" % acr\n",
    "    for brk in brk_names:\n",
    "        res = get_points(acr,brk)\n",
    "        print \"\\tNumber of points found for %s : %d\" % (brk,len(res))\n",
    "        Result[acr].append(res)"
   ]
  },
  {
   "cell_type": "code",
   "execution_count": 8,
   "metadata": {
    "collapsed": false
   },
   "outputs": [
    {
     "data": {
      "text/plain": [
       "[[(rdflib.term.URIRef(u'http://cmu.edu/building/ontology/ghc#SCSC_Gates/AHU-8_I/chw_vlv')),\n",
       "  (rdflib.term.URIRef(u'http://cmu.edu/building/ontology/ghc#SCSC_Gates/AHU-2_I/chw_vlv')),\n",
       "  (rdflib.term.URIRef(u'http://cmu.edu/building/ontology/ghc#SCSC_Gates/AHU-9_I/chw_vlv')),\n",
       "  (rdflib.term.URIRef(u'http://cmu.edu/building/ontology/ghc#SCSC_Hillman/AHU-12_I/chw_vlv')),\n",
       "  (rdflib.term.URIRef(u'http://cmu.edu/building/ontology/ghc#SCSC_Gates/AHU-3_I/chw_vlv')),\n",
       "  (rdflib.term.URIRef(u'http://cmu.edu/building/ontology/ghc#SCSC_Gates/AHU-7_I/chw_vlv')),\n",
       "  (rdflib.term.URIRef(u'http://cmu.edu/building/ontology/ghc#SCSC_Gates/AHU-1_I/chw_vlv')),\n",
       "  (rdflib.term.URIRef(u'http://cmu.edu/building/ontology/ghc#SCSC_Gates/AHU-4_I/chw_vlv')),\n",
       "  (rdflib.term.URIRef(u'http://cmu.edu/building/ontology/ghc#SCSC_Gates/AHU-11_I/chw_vlv')),\n",
       "  (rdflib.term.URIRef(u'http://cmu.edu/building/ontology/ghc#SCSC_Gates/AHU-5_I/chw_vlv')),\n",
       "  (rdflib.term.URIRef(u'http://cmu.edu/building/ontology/ghc#SCSC_Gates/AHU-10_I/chw_vlv'))],\n",
       " []]"
      ]
     },
     "execution_count": 8,
     "metadata": {},
     "output_type": "execute_result"
    }
   ],
   "source": [
    "Result['CHW_VLV']"
   ]
  }
 ],
 "metadata": {
  "kernelspec": {
   "display_name": "Python 2",
   "language": "python",
   "name": "python2"
  },
  "language_info": {
   "codemirror_mode": {
    "name": "ipython",
    "version": 2
   },
   "file_extension": ".py",
   "mimetype": "text/x-python",
   "name": "python",
   "nbconvert_exporter": "python",
   "pygments_lexer": "ipython2",
   "version": "2.7.11"
  }
 },
 "nbformat": 4,
 "nbformat_minor": 0
}
