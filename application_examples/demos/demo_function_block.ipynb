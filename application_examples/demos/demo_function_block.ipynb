{
 "cells": [
  {
   "cell_type": "markdown",
   "metadata": {},
   "source": [
    "## Creating Function Blocks with reasoning\n",
    "\n",
    "For simplicity we are focussing on the air temperatures in the AHU. Let us assume that we have an minimal Brick ontology that defines an Air Handling Unit AHU1 with four points.\n",
    "```\n",
    "Outside Air Temperature Sensor\n",
    "Return Air Temperature Sensor\n",
    "Discharge Air Temperature Sensor\n",
    "Discharge Air Temperature Setpoint\n",
    "```"
   ]
  },
  {
   "cell_type": "code",
   "execution_count": 1,
   "metadata": {
    "collapsed": false
   },
   "outputs": [
    {
     "name": "stdout",
     "output_type": "stream",
     "text": [
      "13\n"
     ]
    }
   ],
   "source": [
    "import rdflib\n",
    "g = rdflib.Graph()\n",
    "src = '''\n",
    "@prefix bf:  <http://buildsys.org/ontologies/BrickFrame#> .\n",
    "@prefix ts:  <http://buildsys.org/ontologies/Brick#> .\n",
    "@prefix :    <http://buildsys.org/ontologies/Example/AHU_FunctionBlock#> .\n",
    "\n",
    ":AHU1 a           ts:AHU.\n",
    ":AHU1 bf:hasPoint :OAT.\n",
    ":AHU1 bf:hasPoint :AHU1RAT.\n",
    ":AHU1 bf:hasPoint :AHU1DAT.\n",
    ":AHU1 bf:hasPoint :AHU1DATSP.\n",
    "\n",
    ":OAT        a  bf:Point, ts:Outside_Air_Temperature_Sensor. \n",
    ":AHU1RAT    a  bf:Point, ts:Return_Air_Temperature_Sensor. \n",
    ":AHU1DAT    a  bf:Point, ts:Discharge_Air_Temperature_Sensor. \n",
    ":AHU1DATSP  a  bf:Point, ts:Discharge_Air_Temperature_Setpoint.\n",
    "'''\n",
    "result = g.parse(data=src, format='n3')\n",
    "print(len(g))"
   ]
  },
  {
   "cell_type": "markdown",
   "metadata": {},
   "source": [
    "From this simple ontology we want to create a function block representing the following AHU Flow Graph\n",
    "![AUH Flow](demo_function_block.png)\n"
   ]
  },
  {
   "cell_type": "markdown",
   "metadata": {},
   "source": [
    "We can do this using SPARQL update (SPARUL). SPARUL consists of a WHERE query like SPARQL to define a graph pattern that is selected and an INSERT block to modify the graph around the selections."
   ]
  },
  {
   "cell_type": "markdown",
   "metadata": {},
   "source": [
    "### Creating the AHU Function Block"
   ]
  },
  {
   "cell_type": "markdown",
   "metadata": {},
   "source": [
    "It is possible to create a large SPARUD to create the whole flow graph as shown in the figure in one query. We are using a more generic approach that creates the elements  individually and is still applicable if parts are missing if for example some points are not available.\n",
    "\n",
    "Let us first classify the points as input and output points. Therefore, we are applying the following implication writen in SWRL\n",
    "~~~~\n",
    "AHU(?ahu) ∧ Discharge_Air_Temperature_Sensor(?point) ∧ hasPoint(?ahu,?point) ⇒ hasOutput(?ahu,?point)\n",
    "~~~~\n",
    "which is written in SPARUD as "
   ]
  },
  {
   "cell_type": "code",
   "execution_count": 2,
   "metadata": {
    "collapsed": false
   },
   "outputs": [
    {
     "name": "stdout",
     "output_type": "stream",
     "text": [
      "14\n"
     ]
    }
   ],
   "source": [
    "qres = g.update('''\n",
    "PREFIX  bf:  <http://buildsys.org/ontologies/BrickFrame#>\n",
    "PREFIX  ts:  <http://buildsys.org/ontologies/Brick#>\n",
    "INSERT {\n",
    "  ?ahu   bf:hasOutput ?point.\n",
    "} WHERE {\n",
    "  ?ahu   a ts:AHU.\n",
    "  ?ahu   bf:hasPoint ?point.\n",
    "  ?point a ts:Discharge_Air_Temperature_Sensor.\n",
    "}\n",
    "''')\n",
    "print(len(g))"
   ]
  },
  {
   "cell_type": "markdown",
   "metadata": {},
   "source": [
    "To validate the execution lets check if the tripple was created."
   ]
  },
  {
   "cell_type": "code",
   "execution_count": 3,
   "metadata": {
    "collapsed": false
   },
   "outputs": [
    {
     "name": "stdout",
     "output_type": "stream",
     "text": [
      "(rdflib.term.URIRef('http://buildsys.org/ontologies/Example/AHU_FunctionBlock#AHU1'), rdflib.term.URIRef('http://buildsys.org/ontologies/Example/AHU_FunctionBlock#AHU1DAT'))\n"
     ]
    }
   ],
   "source": [
    "qres = g.query('''\n",
    "PREFIX  bf:  <http://buildsys.org/ontologies/BrickFrame#>\n",
    "PREFIX  ts:  <http://buildsys.org/ontologies/Brick#>\n",
    "SELECT ?ahu ?point {\n",
    "  ?ahu   bf:hasOutput ?point.\n",
    "}\n",
    "''')\n",
    "for r in qres:\n",
    "  print(r)"
   ]
  },
  {
   "cell_type": "markdown",
   "metadata": {},
   "source": [
    "We can define something similar for the inputs.\n",
    "~~~~\n",
    "ts:AHU(?ahu) ∧ ts:Return_Air_Temperature_Sensor(?point)  ∧ bf:hasPoint(?ahu,?point) ⇒ bf:hasInput(?ahu,?point)\n",
    "ts:AHU(?ahu) ∧ ts:Outside_Air_Temperature_Sensor(?point) ∧ bf:hasPoint(?ahu,?point) ⇒ bf:hasInput(?ahu,?point)\n",
    "ts:AHU(?ahu) ∧ ts:Discharge_Air_Temperature_Setpoint(?point) ∧ bf:hasPoint(?ahu,?point) ⇒ bf:hasInput(?ahu,?point)\n",
    "~~~~"
   ]
  },
  {
   "cell_type": "code",
   "execution_count": 4,
   "metadata": {
    "collapsed": false
   },
   "outputs": [
    {
     "name": "stdout",
     "output_type": "stream",
     "text": [
      "17\n"
     ]
    }
   ],
   "source": [
    "qres = g.update('''\n",
    "PREFIX  bf:  <http://buildsys.org/ontologies/BrickFrame#>\n",
    "PREFIX  ts:  <http://buildsys.org/ontologies/Brick#>\n",
    "INSERT {\n",
    "  ?ahu   bf:hasInput ?point.\n",
    "} WHERE {\n",
    "  ?ahu   a ts:AHU.\n",
    "  ?ahu   bf:hasPoint ?point.\n",
    "  {?point a ts:Return_Air_Temperature_Sensor.}\n",
    "  UNION\n",
    "  {?point a ts:Outside_Air_Temperature_Sensor.}\n",
    "  UNION\n",
    "  {?point a ts:Discharge_Air_Temperature_Setpoint.}\n",
    "}\n",
    "''')\n",
    "print(len(g))"
   ]
  },
  {
   "cell_type": "markdown",
   "metadata": {},
   "source": [
    "Now we define a FunctionBlock as an element that has inputs or outputs.\n",
    "~~~~\n",
    "bf:hasInput(?ahu,?point)  ⇒ bf:FunctionBlock(?ahu)\n",
    "bf:hasOutput(?ahu,?point) ⇒ bf:FunctionBlock(?ahu)\n",
    "~~~~"
   ]
  },
  {
   "cell_type": "code",
   "execution_count": 5,
   "metadata": {
    "collapsed": false
   },
   "outputs": [
    {
     "name": "stdout",
     "output_type": "stream",
     "text": [
      "18\n"
     ]
    }
   ],
   "source": [
    "qres = g.update('''\n",
    "PREFIX  bf:  <http://buildsys.org/ontologies/BrickFrame#>\n",
    "INSERT {\n",
    "  ?ahu   a bf:FunctionBlock.\n",
    "} WHERE {\n",
    "  {?ahu   bf:hasInput ?point.}\n",
    "  UNION\n",
    "  {?ahu   bf:hasOutput ?point.}\n",
    "}\n",
    "''')\n",
    "print(len(g))"
   ]
  },
  {
   "cell_type": "markdown",
   "metadata": {},
   "source": [
    "### Defining the Control Flow\n",
    "\n",
    "The top of the AHU graph is showing the control flow. To create dynamically, we need new instances for the control function block and the control command signals. Therefore, we are dynamically creating new URI for the sub-function blocks and internal signals (via the BIND, CONCAT, and STR functions). Then we link it all together."
   ]
  },
  {
   "cell_type": "code",
   "execution_count": 6,
   "metadata": {
    "collapsed": false
   },
   "outputs": [
    {
     "name": "stdout",
     "output_type": "stream",
     "text": [
      "29\n"
     ]
    }
   ],
   "source": [
    "qres = g.update('''\n",
    "PREFIX  bf:  <http://buildsys.org/ontologies/BrickFrame#>\n",
    "PREFIX  ts:  <http://buildsys.org/ontologies/Brick#>\n",
    "INSERT {\n",
    "  ?controlURI  a  bf:FunctionBlock, ts:Controler.\n",
    "  ?ahu         bf:hasPart    ?controlURI.\n",
    "  ?coolerCmd   a  bf:Signal, ts:Cooling_Command.\n",
    "  ?heaterCmd   a  bf:Signal, ts:Heating_Command.\n",
    "  ?controlURI  bf:hasInput   ?sp, ?val.\n",
    "  ?controlURI  bf:hasOutput  ?coolerCmd, ?heaterCmd.\n",
    "} WHERE {\n",
    "  ?ahu   a ts:AHU, bf:FunctionBlock.\n",
    "  ?sp    a ts:Discharge_Air_Temperature_Setpoint.\n",
    "  ?val   a ts:Discharge_Air_Temperature_Sensor.\n",
    "  ?ahu   bf:hasPoint  ?sp, ?val.\n",
    "  BIND(IRI(CONCAT(STR(?ahu),'_Controler')) as ?controlURI ).\n",
    "  BIND(IRI(CONCAT(STR(?ahu),'_CoolerCmd')) as ?coolerCmd ).\n",
    "  BIND(IRI(CONCAT(STR(?ahu),'_HeaterCmd')) as ?heaterCmd ).\n",
    "}\n",
    "''')\n",
    "print(len(g))"
   ]
  },
  {
   "cell_type": "markdown",
   "metadata": {},
   "source": [
    "### Defining the Medium Flow"
   ]
  },
  {
   "cell_type": "markdown",
   "metadata": {},
   "source": [
    "We can create the medium flow at the bottom of the AHU graph in a similar manner. We create the Mixer, Cooler, and Heater and all internal signals with SPARUD trough:"
   ]
  },
  {
   "cell_type": "code",
   "execution_count": 7,
   "metadata": {
    "collapsed": false
   },
   "outputs": [
    {
     "name": "stdout",
     "output_type": "stream",
     "text": [
      "48\n"
     ]
    }
   ],
   "source": [
    "qres = g.update('''\n",
    "PREFIX  bf:  <http://buildsys.org/ontologies/BrickFrame#>\n",
    "PREFIX  ts:  <http://buildsys.org/ontologies/Brick#>\n",
    "INSERT {\n",
    "  ?mixerURI    a  bf:FunctionBlock, ts:Mixed.\n",
    "  ?coolerURI   a  bf:FunctionBlock, ts:Cooling.\n",
    "  ?heaterURI   a  bf:FunctionBlock, ts:Heating.\n",
    "  ?ahu         bf:hasPart    ?mixerURI.\n",
    "  ?ahu         bf:hasPart    ?coolerURI.\n",
    "  ?ahu         bf:hasPart    ?heaterURI.\n",
    "  ?mixerTmp    a  bf:Signal, ts:Mixed_Air_Temperature_Sensor.\n",
    "  ?coolerTmp   a  bf:Signal.\n",
    "  ?mixerURI    bf:hasInput   ?oat, ?rat.\n",
    "  ?mixerURI    bf:hasOutput  ?mixerTmp.\n",
    "  ?coolerURI   bf:hasInput   ?mixerTmp.\n",
    "  ?coolerURI   bf:hasOutput  ?coolerTmp.\n",
    "  ?heaterURI   bf:hasInput   ?coolerTmp.\n",
    "  ?heaterURI   bf:hasOutput  ?dat.\n",
    "} WHERE {\n",
    "  ?ahu   a ts:AHU, bf:FunctionBlock.\n",
    "  ?rat   a ts:Return_Air_Temperature_Sensor.\n",
    "  ?oat   a ts:Outside_Air_Temperature_Sensor.\n",
    "  ?dat   a ts:Discharge_Air_Temperature_Sensor.\n",
    "  ?ahu   bf:hasPoint  ?rat.\n",
    "  ?ahu   bf:hasPoint  ?oat.\n",
    "  ?ahu   bf:hasPoint  ?dat.\n",
    "  BIND(IRI(CONCAT(STR(?ahu),'_Mixed'))     as ?mixerURI ).\n",
    "  BIND(IRI(CONCAT(STR(?ahu),'_Cooling'))   as ?coolerURI ).\n",
    "  BIND(IRI(CONCAT(STR(?ahu),'_Heating'))   as ?heaterURI ).\n",
    "  BIND(IRI(CONCAT(STR(?ahu),'_MixerTmp'))  as ?mixerTmp ).\n",
    "  BIND(IRI(CONCAT(STR(?ahu),'_CoolerTmp')) as ?coolerTmp ).\n",
    "}\n",
    "''')\n",
    "print(len(g))"
   ]
  },
  {
   "cell_type": "markdown",
   "metadata": {},
   "source": [
    "We finally have an ontology defining a full AHU"
   ]
  },
  {
   "cell_type": "code",
   "execution_count": 8,
   "metadata": {
    "collapsed": false
   },
   "outputs": [
    {
     "name": "stdout",
     "output_type": "stream",
     "text": [
      "b'@prefix : <http://buildsys.org/ontologies/Example/AHU_FunctionBlock#> .\n",
      "@prefix bf: <http://buildsys.org/ontologies/BrickFrame#> .\n",
      "@prefix rdf: <http://www.w3.org/1999/02/22-rdf-syntax-ns#> .\n",
      "@prefix rdfs: <http://www.w3.org/2000/01/rdf-schema#> .\n",
      "@prefix ts: <http://buildsys.org/ontologies/Brick#> .\n",
      "@prefix xml: <http://www.w3.org/XML/1998/namespace> .\n",
      "@prefix xsd: <http://www.w3.org/2001/XMLSchema#> .\n",
      "\n",
      ":AHU1 a ts:AHU,\n",
      "        bf:FunctionBlock ;\n",
      "    bf:hasInput :AHU1DATSP,\n",
      "        :AHU1RAT,\n",
      "        :OAT ;\n",
      "    bf:hasOutput :AHU1DAT ;\n",
      "    bf:hasPart :AHU1_Controler,\n",
      "        :AHU1_Cooler,\n",
      "        :AHU1_Heater,\n",
      "        :AHU1_Mixer ;\n",
      "    bf:hasPoint :AHU1DAT,\n",
      "        :AHU1DATSP,\n",
      "        :AHU1RAT,\n",
      "        :OAT .\n",
      "\n",
      ":AHU1_Controler a ts:Controler,\n",
      "        bf:FunctionBlock ;\n",
      "    bf:hasInput :AHU1DAT,\n",
      "        :AHU1DATSP ;\n",
      "    bf:hasOutput :AHU1_CoolerCmd,\n",
      "        :AHU1_HeaterCmd .\n",
      "\n",
      ":AHU1_Cooler a ts:Cooler,\n",
      "        bf:FunctionBlock ;\n",
      "    bf:hasInput :AHU1_MixerTmp ;\n",
      "    bf:hasOutput :AHU1_CoolerTmp .\n",
      "\n",
      ":AHU1_CoolerCmd a ts:Cooling_Command,\n",
      "        bf:Signal .\n",
      "\n",
      ":AHU1_Heater a ts:Heater,\n",
      "        bf:FunctionBlock ;\n",
      "    bf:hasInput :AHU1_CoolerTmp ;\n",
      "    bf:hasOutput :AHU1DAT .\n",
      "\n",
      ":AHU1_HeaterCmd a ts:Heating_Command,\n",
      "        bf:Signal .\n",
      "\n",
      ":AHU1_Mixer a ts:Mixer,\n",
      "        bf:FunctionBlock ;\n",
      "    bf:hasInput :AHU1RAT,\n",
      "        :OAT ;\n",
      "    bf:hasOutput :AHU1_MixerTmp .\n",
      "\n",
      ":AHU1_CoolerTmp a bf:Signal .\n",
      "\n",
      ":AHU1_MixerTmp a ts:Mixed_Air_Temperature_Sensor,\n",
      "        bf:Signal .\n",
      "\n",
      ":AHU1DATSP a ts:Discharge_Air_Temperature_Setpoint,\n",
      "        bf:Point .\n",
      "\n",
      ":AHU1RAT a ts:Return_Air_Temperature_Sensor,\n",
      "        bf:Point .\n",
      "\n",
      ":OAT a ts:Outside_Air_Temperature_Sensor,\n",
      "        bf:Point .\n",
      "\n",
      ":AHU1DAT a ts:Discharge_Air_Temperature_Sensor,\n",
      "        bf:Point .\n",
      "\n",
      "'\n"
     ]
    }
   ],
   "source": [
    "print(str(g.serialize(format='n3')).replace('\\\\n','\\n'))"
   ]
  }
 ],
 "metadata": {
  "anaconda-cloud": {},
  "kernelspec": {
   "display_name": "Python 3",
   "language": "python",
   "name": "python3"
  },
  "language_info": {
   "codemirror_mode": {
    "name": "ipython",
    "version": 3
   },
   "file_extension": ".py",
   "mimetype": "text/x-python",
   "name": "python",
   "nbconvert_exporter": "python",
   "pygments_lexer": "ipython3",
   "version": "3.5.1"
  }
 },
 "nbformat": 4,
 "nbformat_minor": 0
}
