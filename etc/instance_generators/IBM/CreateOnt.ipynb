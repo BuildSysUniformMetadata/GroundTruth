{
 "cells": [
  {
   "cell_type": "code",
   "execution_count": null,
   "metadata": {
    "collapsed": true
   },
   "outputs": [],
   "source": [
    "# config\n",
    "exampleName=\"IBM_B3\"\n",
    "exampleDescription=\"Example ontology for IBM Building 3, Dublin\"\n",
    "testing=False"
   ]
  },
  {
   "cell_type": "code",
   "execution_count": null,
   "metadata": {
    "collapsed": false
   },
   "outputs": [],
   "source": [
    "#!pip install rdflib\n",
    "#!pip install pydot2\n",
    "#!pip install pydotplus"
   ]
  },
  {
   "cell_type": "code",
   "execution_count": null,
   "metadata": {
    "collapsed": false
   },
   "outputs": [],
   "source": [
    "import rdflib\n",
    "from rdflib.namespace import RDFS\n",
    "from rdflib import URIRef, BNode, Literal\n",
    "import re\n",
    "from collections import defaultdict\n",
    "import numpy as np\n",
    "import pandas as pd"
   ]
  },
  {
   "cell_type": "code",
   "execution_count": null,
   "metadata": {
    "collapsed": false
   },
   "outputs": [],
   "source": [
    "def ns(url):\n",
    "  url = url.replace(\"https://brickschema.org/schema/1.0.1/Brick#\", \"\")\n",
    "  url = url.replace(\"https://brickschema.org/schema/1.0.1/BrickFrame#\", \"\")\n",
    "  url = url.replace(\"https://brickschema.org/schema/1.0.1/BrickTag#\", \"\")\n",
    "  return url\n",
    "\n",
    "BRICKF = rdflib.Namespace('https://brickschema.org/schema/1.0.1/BrickFrame#')\n",
    "TAGS   = rdflib.Namespace('https://brickschema.org/schema/1.0.1/BrickTag#')\n",
    "TS     = rdflib.Namespace('https://brickschema.org/schema/1.0.1/Brick#')\n",
    "\n",
    "g = rdflib.Graph()\n",
    "g.bind( 'bf', BRICKF)\n",
    "g.bind('tag', TAGS)\n",
    "g.bind( 'ts', TS)\n",
    "result = g.parse('../../../Brick/BrickFrame.ttl', format='n3')\n",
    "result = g.parse('../../../Brick/BrickTag.ttl', format='n3')\n",
    "result = g.parse('../../../Brick/Brick.ttl', format='n3')\n",
    "print(len(g))"
   ]
  },
  {
   "cell_type": "markdown",
   "metadata": {},
   "source": [
    "define your own namespace"
   ]
  },
  {
   "cell_type": "code",
   "execution_count": null,
   "metadata": {
    "collapsed": false
   },
   "outputs": [],
   "source": [
    "MyNS = rdflib.Namespace('https://brickschema.org/schema/1.0.1/examples/'+exampleName+'#')\n",
    "g.bind(':', MyNS)"
   ]
  },
  {
   "cell_type": "markdown",
   "metadata": {},
   "source": [
    "### Load TagSets"
   ]
  },
  {
   "cell_type": "code",
   "execution_count": null,
   "metadata": {
    "collapsed": false
   },
   "outputs": [],
   "source": [
    "qres = g.query(\"\"\"SELECT DISTINCT ?ts WHERE {  ?ts rdfs:subClassOf+ bf:Tag . }\"\"\")\n",
    "brickTags=set()\n",
    "for row in qres:\n",
    "  ts=ns(row['ts'])\n",
    "  brickTags.add(ns(row['ts']))\n",
    "len(brickTags)"
   ]
  },
  {
   "cell_type": "code",
   "execution_count": null,
   "metadata": {
    "collapsed": false
   },
   "outputs": [],
   "source": [
    "qres = g.query(\"\"\"SELECT DISTINCT ?ts WHERE {  ?ts rdfs:subClassOf+ bf:TagSet . }\"\"\")\n",
    "brickTagSets=set()\n",
    "brickTagSetTags={}\n",
    "for row in qres:\n",
    "  ts=ns(row['ts'])\n",
    "  brickTagSets.add(ts)\n",
    "  brickTagSetTags[ts]=set(ts.split('_'))\n",
    "len(brickTagSets)"
   ]
  },
  {
   "cell_type": "code",
   "execution_count": null,
   "metadata": {
    "collapsed": false
   },
   "outputs": [],
   "source": [
    "qres = g.query(\"\"\"SELECT DISTINCT ?ts WHERE {  ?ts rdfs:subClassOf+ ts:Location . }\"\"\")\n",
    "loc_tags=set(['Location'])\n",
    "for row in qres:\n",
    "  ts=ns(row['ts'])\n",
    "  loc_tags.add(ts)\n",
    "len(loc_tags)"
   ]
  },
  {
   "cell_type": "code",
   "execution_count": null,
   "metadata": {
    "collapsed": false
   },
   "outputs": [],
   "source": [
    "qres = g.query(\"\"\"SELECT DISTINCT ?ts WHERE {  ?ts rdfs:subClassOf+ ts:Point . }\"\"\")\n",
    "point_tags=set(['Point'])\n",
    "pointTagSetTags={}\n",
    "for row in qres:\n",
    "  ts=ns(row['ts'])\n",
    "  point_tags.add(ts)\n",
    "  pointTagSetTags[ts]=set(ts.split('_'))\n",
    "len(point_tags)"
   ]
  },
  {
   "cell_type": "code",
   "execution_count": null,
   "metadata": {
    "collapsed": false
   },
   "outputs": [],
   "source": [
    "qres = g.query(\"\"\"SELECT DISTINCT ?ts WHERE {  ?ts rdfs:subClassOf+ ts:MeasurementProperty . }\"\"\")\n",
    "measurment_tags=set(['MeasurementProperty'])\n",
    "for row in qres:\n",
    "  ts=ns(row['ts'])\n",
    "  measurment_tags.add(ns(row['ts']))\n",
    "len(measurment_tags)"
   ]
  },
  {
   "cell_type": "code",
   "execution_count": null,
   "metadata": {
    "collapsed": false
   },
   "outputs": [],
   "source": [
    "qres = g.query(\"\"\"SELECT DISTINCT ?ts WHERE {  ?ts rdfs:subClassOf+ ts:Equipment . }\"\"\")\n",
    "asset_tags=set(['Asset'])\n",
    "for row in qres:\n",
    "  ts=ns(row['ts'])\n",
    "  asset_tags.add(ns(row['ts']))\n",
    "len(asset_tags)"
   ]
  },
  {
   "cell_type": "markdown",
   "metadata": {},
   "source": [
    "remove hierachical tags"
   ]
  },
  {
   "cell_type": "code",
   "execution_count": null,
   "metadata": {
    "collapsed": false
   },
   "outputs": [],
   "source": [
    "qres = g.query(\"\"\"SELECT DISTINCT ?ts WHERE {  ?ts bf:isHierarchical \"\". }\"\"\")\n",
    "for row in qres:\n",
    "  ts=ns(row['ts'])\n",
    "  if ts in brickTags: brickTags.remove(ts)\n",
    "  if ts in brickTagSets: brickTagSets.remove(ts)\n",
    "  if ts in brickTagSetTags: del brickTagSetTags[ts]\n",
    "  if ts in point_tags: point_tags.remove(ts)\n",
    "  if ts in asset_tags: asset_tags.remove(ts)\n",
    "  if ts in measurment_tags: measurment_tags.remove(ts)\n",
    "  if ts in pointTagSetTags: del pointTagSetTags[ts]\n",
    "len(brickTagSets)\n",
    "len(point_tags)"
   ]
  },
  {
   "cell_type": "code",
   "execution_count": null,
   "metadata": {
    "collapsed": false
   },
   "outputs": [],
   "source": []
  },
  {
   "cell_type": "code",
   "execution_count": null,
   "metadata": {
    "collapsed": false
   },
   "outputs": [],
   "source": [
    "def IndivName(name):\n",
    "  rname=re.sub(r'\\s','_',re.sub(r'[^\\d\\w\\s]', '', name))\n",
    "  if rname[0].isdigit(): rname='d'+rname\n",
    "  return rname"
   ]
  },
  {
   "cell_type": "markdown",
   "metadata": {},
   "source": [
    "### Load Data"
   ]
  },
  {
   "cell_type": "code",
   "execution_count": null,
   "metadata": {
    "collapsed": false
   },
   "outputs": [],
   "source": [
    "df=pd.read_csv('IBM_B3_points.csv',sep=\";\")\n",
    "if testing: df=df.head(20)\n",
    "df.head()"
   ]
  },
  {
   "cell_type": "code",
   "execution_count": null,
   "metadata": {
    "collapsed": false
   },
   "outputs": [],
   "source": [
    "len(df)"
   ]
  },
  {
   "cell_type": "markdown",
   "metadata": {},
   "source": [
    "Analyze Dataset"
   ]
  },
  {
   "cell_type": "code",
   "execution_count": null,
   "metadata": {
    "collapsed": false
   },
   "outputs": [],
   "source": [
    "dfTags=set()\n",
    "dfTagSets=set(pd.unique(df.TagSet.dropna().ravel()))\n",
    "for ts in dfTagSets:\n",
    "  dfTags.update(ts.split('_'))\n",
    "len(dfTags)"
   ]
  },
  {
   "cell_type": "code",
   "execution_count": null,
   "metadata": {
    "collapsed": false
   },
   "outputs": [],
   "source": []
  },
  {
   "cell_type": "code",
   "execution_count": null,
   "metadata": {
    "collapsed": false
   },
   "outputs": [],
   "source": [
    "dfMissingTags=dfTags - brickTags # schemaUsedTags - \n",
    "print(\"Missing Tags from Bricks:\" + str(len(dfMissingTags)))\n",
    "print(dfMissingTags)"
   ]
  },
  {
   "cell_type": "markdown",
   "metadata": {},
   "source": [
    "Find best matching tag sets for the defined ones"
   ]
  },
  {
   "cell_type": "code",
   "execution_count": null,
   "metadata": {
    "collapsed": false
   },
   "outputs": [],
   "source": [
    "closestMatches={}\n",
    "fullMatches={}\n",
    "for ts in pd.unique(df.TagSet.dropna().ravel()):\n",
    "  if ts in pointTagSetTags:\n",
    "    closestMatches[ts]=[ts]\n",
    "    fullMatches[ts]=ts\n",
    "    #print(\"Match: \"+ts)\n",
    "  else:\n",
    "    tss=set(ts.split('_'))\n",
    "    largestSubset=[]\n",
    "    largestIntersect=0\n",
    "    for ts2 in pointTagSetTags:\n",
    "      inters=tss.intersection(pointTagSetTags[ts2])\n",
    "      if len(inters)>largestIntersect:\n",
    "        largestIntersect=len(inters)\n",
    "        largestSubset=[] # reset largestSubset\n",
    "      if len(inters)==largestIntersect:\n",
    "        largestSubset.append(ts2) # add to the largest sets\n",
    "    smalestSubset=largestSubset\n",
    "    if len(largestSubset)>1:\n",
    "      smalestDiff=len(tss)\n",
    "      smalestSubset=[]\n",
    "      for ts2 in largestSubset:\n",
    "        diffs=pointTagSetTags[ts2] - tss\n",
    "        if len(diffs)<smalestDiff:\n",
    "          smalestDiff=len(diffs)\n",
    "          smalestSubset=[] # reset largestSubset\n",
    "        if len(diffs)==smalestDiff:\n",
    "          smalestSubset.append(ts2) # add to the largest sets\n",
    "    closestMatches[ts]=smalestSubset\n",
    "    #print(\"Best \"+ts+\":\"+str(smalestSubset))"
   ]
  },
  {
   "cell_type": "markdown",
   "metadata": {},
   "source": [
    "Manual Mapping based on the results."
   ]
  },
  {
   "cell_type": "code",
   "execution_count": null,
   "metadata": {
    "collapsed": false
   },
   "outputs": [],
   "source": []
  },
  {
   "cell_type": "code",
   "execution_count": null,
   "metadata": {
    "collapsed": false,
    "scrolled": true
   },
   "outputs": [],
   "source": [
    "for ts in closestMatches:\n",
    "  if ts not in fullMatches:\n",
    "    print(ts+\":\"+str(closestMatches[ts]))"
   ]
  },
  {
   "cell_type": "markdown",
   "metadata": {},
   "source": [
    "write header"
   ]
  },
  {
   "cell_type": "code",
   "execution_count": null,
   "metadata": {
    "collapsed": false
   },
   "outputs": [],
   "source": [
    "fo = open(exampleName+'.ttl', 'w')\n",
    "fo.write(\"\"\"@prefix owl: <http://www.w3.org/2002/07/owl#> .\n",
    "@prefix rdf: <http://www.w3.org/1999/02/22-rdf-syntax-ns#> .\n",
    "@prefix rdfs: <http://www.w3.org/2000/01/rdf-schema#> .\\n\"\"\")\n",
    "fo.write(\"@prefix bf:  <https://brickschema.org/schema/1.0.1/BrickFrame#> .\\n\")\n",
    "fo.write(\"@prefix tag: <https://brickschema.org/schema/1.0.1/BrickTag#> .\\n\")\n",
    "fo.write(\"@prefix ts:  <https://brickschema.org/schema/1.0.1/Brick#> .\\n\")\n",
    "fo.write(\"@prefix : <\"+str(MyNS)+\"> .\\n\\n\")\n",
    "fo.write(\"<\"+str(MyNS).replace(\"#\",\"\")+\">  a owl:Ontology ;\\n\")\n",
    "fo.write(\"\\towl:imports <https://brickschema.org/schema/1.0.1/Brick> ;\\n\")\n",
    "fo.write('\\trdfs:comment \"'+exampleDescription+'\"@en .\\n\\n')"
   ]
  },
  {
   "cell_type": "markdown",
   "metadata": {},
   "source": [
    "write locations"
   ]
  },
  {
   "cell_type": "code",
   "execution_count": null,
   "metadata": {
    "collapsed": false
   },
   "outputs": [],
   "source": [
    "# create location individuals\n",
    "locationCols=[\"City\",\"Building\",\"Wing\",\"Floor\",\"Room\",\"Zone\"]\n",
    "locations={}\n",
    "for col in locationCols:\n",
    "  for indiv in pd.unique(df[col].dropna().ravel()):\n",
    "    if indiv!=\"\":\n",
    "      indivLocName=IndivName(col+\"_\"+indiv)\n",
    "      fo.write(\"\\n :\"+indivLocName+\"  a   ts:\"+col+\";\")\n",
    "      fo.write('\\n\\t\\t\\t rdfs:label \"'+indiv+'\"@en .\\n')\n",
    "      locations[indiv]=indivLocName\n",
    "# add relations\n",
    "for idx in df.index:\n",
    "  for ci in range(1,len(locationCols)):\n",
    "    childIndiv =df.loc[idx,locationCols[ci]]\n",
    "    parentIndiv=df.loc[idx,locationCols[ci-1]]\n",
    "    if childIndiv in locations and parentIndiv in locations:\n",
    "      fo.write(\"\\n :\"+locations[childIndiv]+\"  bf:isPartOf   :\"+locations[parentIndiv]+\".\")\n",
    "      fo.write(\"\\n :\"+locations[parentIndiv]+\"  bf:hasPart   :\"+locations[childIndiv]+\".\\n\")"
   ]
  },
  {
   "cell_type": "markdown",
   "metadata": {},
   "source": [
    "write assets"
   ]
  },
  {
   "cell_type": "code",
   "execution_count": null,
   "metadata": {
    "collapsed": true
   },
   "outputs": [],
   "source": [
    "# create asset individuals\n",
    "assets={}\n",
    "for idx in df.index:\n",
    "  assetName = str(df.loc[idx, \"Asset\"])\n",
    "  if assetName==\"\" or assetName==\"nan\" or assetName in assets: \n",
    "    continue\n",
    "  assetType = df.loc[idx, \"AssetType\"]\n",
    "  indivLocName=IndivName(assetType+\"_\"+assetName)\n",
    "  fo.write(\"\\n :\"+indivLocName+\"  a  ts:\"+assetType+\";\")\n",
    "  fo.write('\\n\\t\\t\\t rdfs:label \"'+assetName+'\"@en .\\n')\n",
    "  assets[assetName] = indivLocName\n",
    "  assetParent = str(df.loc[idx, \"AssetParent\"])\n",
    "  if assetParent!=\"\" and assetParent!=\"nan\":\n",
    "    if assetParent not in assets:\n",
    "      parentLocName=IndivName(assetType+\"_\"+assetParent)\n",
    "      fo.write(\"\\n :\"+parentLocName+\"  a   ts:\"+assetType+\";\")\n",
    "      fo.write('\\n\\t\\t\\t rdfs:label \"'+assetParent+'\"@en .\\n')\n",
    "      assets[assetParent] = parentLocName\n",
    "    fo.write(\"\\n :\"+assets[assetName]+\"  bf:isPartOf   :\"+assets[assetParent]+\".\")\n",
    "    fo.write(\"\\n :\"+assets[assetParent]+\"  bf:hasPart   :\"+assets[assetName]+\".\\n\")"
   ]
  },
  {
   "cell_type": "code",
   "execution_count": null,
   "metadata": {
    "collapsed": false
   },
   "outputs": [],
   "source": [
    "for idx in df.index:\n",
    "  assetName = str(df.loc[idx, \"Asset\"])\n",
    "  if assetName==\"\" or assetName==\"nan\": \n",
    "    continue\n",
    "  assetFeed = str(df.loc[idx, \"isFedBy\"])\n",
    "  if assetFeed!=\"\" and assetFeed!=\"nan\":\n",
    "    for feed in assetFeed.split(\";\"):\n",
    "      fo.write(\"\\n :\"+assets[assetName]+\"  bf:isFedBy   :\"+assets[feed]+\".\")\n",
    "      fo.write(\"\\n :\"+assets[feed]+\"  bf:feeds   :\"+assets[assetName]+\".\\n\")"
   ]
  },
  {
   "cell_type": "code",
   "execution_count": null,
   "metadata": {
    "collapsed": true
   },
   "outputs": [],
   "source": [
    "for idx in df.index:\n",
    "  assetName = str(df.loc[idx, \"Asset2\"])\n",
    "  if assetName==\"\" or assetName==\"nan\" or assetName in assets: \n",
    "    continue\n",
    "  assetType = df.loc[idx, \"AssetType2\"]\n",
    "  indivLocName=IndivName(assetType+\"_\"+assetName)\n",
    "  fo.write(\"\\n :\"+indivLocName+\"  a  ts:\"+assetType+\";\")\n",
    "  fo.write('\\n\\t\\t\\t rdfs:label \"'+assetName+'\"@en .\\n')\n",
    "  assets[assetName] = indivLocName"
   ]
  },
  {
   "cell_type": "markdown",
   "metadata": {},
   "source": [
    "analyze tag sets"
   ]
  },
  {
   "cell_type": "code",
   "execution_count": null,
   "metadata": {
    "collapsed": false
   },
   "outputs": [],
   "source": [
    "for idx in df.index:\n",
    "  pointIndivName = IndivName(df.loc[idx, \"Label\"])\n",
    "  pointType = df.loc[idx, \"TagSet\"]\n",
    "  if pointType in fullMatches:\n",
    "    tags=set(pointType.split('_')) | set(fullMatches[pointType].split('_'))\n",
    "    fo.write(\"\\n :\"+pointIndivName+\"  a  bf:Label, bf:TagSet, ts:\"+fullMatches[pointType]+\";\")\n",
    "  else:\n",
    "    tags=set(pointType.split('_'))\n",
    "    fo.write(\"\\n :\"+pointType+\"  rdfs:subClassOf   bf:TagSet;\")\n",
    "    fo.write('\\n\\t\\t\\t rdf:type  owl:Class .')\n",
    "    fo.write(\"\\n :\"+pointIndivName+\"  a   bf:Label, bf:TagSet, :\"+pointType+\";\")\n",
    "  fo.write('\\n \\t\\t\\t rdfs:label \"'+df.loc[idx, \"Label\"]+'\"@en ;')\n",
    "  # write tags\n",
    "  #for tag in tags:\n",
    "  #  fo.write(\"\\n \\t\\t\\t bf:hasTag   :\"+tag+\"0;\")\n",
    "  # write location\n",
    "  loc=df.loc[idx, locationCols].dropna().ravel()[-1]\n",
    "  fo.write(\"\\n \\t\\t\\t bf:isPointOf :\"+locations[loc]+';')\n",
    "  fo.write(\"\\n \\t\\t\\t bf:isLocatedIn :\"+locations[loc]+'. \\n')\n",
    "  fo.write(\"\\n :\"+locations[loc]+\"  bf:hasPoint  :\"+pointIndivName+\".\")\n",
    "  # write assets\n",
    "  assetName = str(df.loc[idx, \"Asset\"])\n",
    "  assetType = str(df.loc[idx, \"AssetType\"])\n",
    "  if assetName!=\"\" and assetName!=\"nan\":\n",
    "    fo.write(\"\\n :\"+assets[assetName]+\"  bf:hasPoint  :\"+pointIndivName+\".\")\n",
    "    fo.write(\"\\n :\"+pointIndivName+\"  bf:isPointOf  :\"+assets[assetName]+\".\\n\")\n",
    "    if \"FCU\" in assetName or \"Lighting\" in assetType:\n",
    "      fo.write(\"\\n :\"+assets[assetName]+\"  bf:feeds  :\"+locations[loc]+\".\")\n",
    "      fo.write(\"\\n :\"+locations[loc]+\"  bf:isFedBy   :\"+assets[assetName]+\".\")\n",
    "  assetName = str(df.loc[idx, \"Asset2\"])\n",
    "  assetType = str(df.loc[idx, \"AssetType2\"])\n",
    "  if assetName!=\"\" and assetName!=\"nan\":\n",
    "    fo.write(\"\\n :\"+assets[assetName]+\"  bf:hasPoint  :\"+pointIndivName+\".\")\n",
    "    fo.write(\"\\n :\"+pointIndivName+\"  bf:isPointOf  :\"+assets[assetName]+\".\\n\")\n",
    "    if \"FCU\" in assetName or \"Lighting\" in assetType:\n",
    "      fo.write(\"\\n :\"+assets[assetName]+\"  bf:feeds  :\"+locations[loc]+\".\")\n",
    "      fo.write(\"\\n :\"+locations[loc]+\"  bf:isFedBy   :\"+assets[assetName]+\".\")"
   ]
  },
  {
   "cell_type": "code",
   "execution_count": null,
   "metadata": {
    "collapsed": false
   },
   "outputs": [],
   "source": [
    "fo.close()"
   ]
  },
  {
   "cell_type": "code",
   "execution_count": null,
   "metadata": {
    "collapsed": false
   },
   "outputs": [],
   "source": [
    "g = rdflib.Graph()\n",
    "result = g.parse(exampleName+'.ttl', format='n3')\n",
    "g.serialize(destination=exampleName+'.ttl', format='turtle')"
   ]
  },
  {
   "cell_type": "code",
   "execution_count": null,
   "metadata": {
    "collapsed": false
   },
   "outputs": [],
   "source": [
    "qres = g.query(\"\"\"SELECT DISTINCT ?a ?b WHERE {  ?a bf:hasPoint ?b . }\"\"\")\n",
    "ln=len(qres)\n",
    "qres = g.query(\"\"\"SELECT DISTINCT ?a ?b WHERE {  ?a bf:isPointOf ?b . }\"\"\")\n",
    "ln+=len(qres)\n",
    "qres = g.query(\"\"\"SELECT DISTINCT ?a ?b WHERE {  ?a bf:isFedBy ?b . }\"\"\")\n",
    "ln+=len(qres)\n",
    "qres = g.query(\"\"\"SELECT DISTINCT ?a ?b WHERE {  ?a bf:feeds ?b . }\"\"\")\n",
    "ln+=len(qres)\n",
    "qres = g.query(\"\"\"SELECT DISTINCT ?a ?b WHERE {  ?a bf:isPartOf ?b . }\"\"\")\n",
    "ln+=len(qres)\n",
    "qres = g.query(\"\"\"SELECT DISTINCT ?a ?b WHERE {  ?a bf:hasPart ?b . }\"\"\")\n",
    "ln+=len(qres)\n",
    "qres = g.query(\"\"\"SELECT DISTINCT ?a ?b WHERE {  ?a bf:isLocatedIn ?b . }\"\"\")\n",
    "ln+=len(qres)\n",
    "print(ln)"
   ]
  }
 ],
 "metadata": {
  "anaconda-cloud": {},
  "kernelspec": {
   "display_name": "Python [conda root]",
   "language": "python",
   "name": "conda-root-py"
  },
  "language_info": {
   "codemirror_mode": {
    "name": "ipython",
    "version": 2
   },
   "file_extension": ".py",
   "mimetype": "text/x-python",
   "name": "python",
   "nbconvert_exporter": "python",
   "pygments_lexer": "ipython2",
   "version": "2.7.12"
  }
 },
 "nbformat": 4,
 "nbformat_minor": 0
}
