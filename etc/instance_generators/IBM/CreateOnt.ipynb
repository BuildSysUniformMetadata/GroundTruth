{
 "cells": [
  {
   "cell_type": "code",
   "execution_count": 1,
   "metadata": {
    "collapsed": true
   },
   "outputs": [],
   "source": [
    "# config\n",
    "exampleName=\"IBM_B3\"\n",
    "exampleDescription=\"Example ontology for IBM Building 3, Dublin\"\n",
    "testing=False"
   ]
  },
  {
   "cell_type": "code",
   "execution_count": 2,
   "metadata": {
    "collapsed": false
   },
   "outputs": [],
   "source": [
    "#!pip install rdflib\n",
    "#!pip install pydot2\n",
    "#!pip install pydotplus"
   ]
  },
  {
   "cell_type": "code",
   "execution_count": 3,
   "metadata": {
    "collapsed": false
   },
   "outputs": [],
   "source": [
    "import rdflib\n",
    "from rdflib.namespace import RDFS\n",
    "from rdflib import URIRef, BNode, Literal\n",
    "import re\n",
    "from collections import defaultdict\n",
    "import numpy as np\n",
    "import pandas as pd\n",
    "#import pydot as pydot\n",
    "import networkx as nx\n",
    "from networkx.drawing.nx_pydot import write_dot\n",
    "#import matplotlib.pyplot as plt"
   ]
  },
  {
   "cell_type": "code",
   "execution_count": 7,
   "metadata": {
    "collapsed": false
   },
   "outputs": [
    {
     "name": "stdout",
     "output_type": "stream",
     "text": [
      "6073\n"
     ]
    }
   ],
   "source": [
    "def ns(url):\n",
    "  url = url.replace(\"http://buildsys.org/ontologies/Brick#\", \"\")\n",
    "  url = url.replace(\"http://buildsys.org/ontologies/BrickFrame#\", \"\")\n",
    "  url = url.replace(\"http://buildsys.org/ontologies/BrickTag#\", \"\")\n",
    "  return url\n",
    "\n",
    "BRICKF = rdflib.Namespace('http://buildsys.org/ontologies/BrickFrame#')\n",
    "TAGS   = rdflib.Namespace('http://buildsys.org/ontologies/BrickTag#')\n",
    "TS     = rdflib.Namespace('http://buildsys.org/ontologies/Brick#')\n",
    "\n",
    "g = rdflib.Graph()\n",
    "g.bind( 'bf', BRICKF)\n",
    "g.bind('tag', TAGS)\n",
    "g.bind( 'ts', TS)\n",
    "result = g.parse('../../../Brick/BrickFrame.ttl', format='n3')\n",
    "result = g.parse('../../../Brick/BrickTag.ttl', format='n3')\n",
    "result = g.parse('../../../Brick/BrickV2.ttl', format='n3')\n",
    "print(len(g))"
   ]
  },
  {
   "cell_type": "markdown",
   "metadata": {},
   "source": [
    "define your own namespace"
   ]
  },
  {
   "cell_type": "code",
   "execution_count": 8,
   "metadata": {
    "collapsed": false
   },
   "outputs": [],
   "source": [
    "MyNS = rdflib.Namespace('http://buildsys.org/ontologies/examples/'+exampleName+'#')\n",
    "g.bind(':', MyNS)"
   ]
  },
  {
   "cell_type": "markdown",
   "metadata": {},
   "source": [
    "### Load TagSets"
   ]
  },
  {
   "cell_type": "code",
   "execution_count": 9,
   "metadata": {
    "collapsed": false
   },
   "outputs": [
    {
     "data": {
      "text/plain": [
       "314"
      ]
     },
     "execution_count": 9,
     "metadata": {},
     "output_type": "execute_result"
    }
   ],
   "source": [
    "qres = g.query(\"\"\"SELECT DISTINCT ?ts WHERE {  ?ts rdfs:subClassOf+ bf:Tag . }\"\"\")\n",
    "brickTags=set()\n",
    "for row in qres:\n",
    "  ts=ns(row['ts'])\n",
    "  brickTags.add(ns(row['ts']))\n",
    "len(brickTags)"
   ]
  },
  {
   "cell_type": "code",
   "execution_count": 10,
   "metadata": {
    "collapsed": false
   },
   "outputs": [
    {
     "data": {
      "text/plain": [
       "940"
      ]
     },
     "execution_count": 10,
     "metadata": {},
     "output_type": "execute_result"
    }
   ],
   "source": [
    "qres = g.query(\"\"\"SELECT DISTINCT ?ts WHERE {  ?ts rdfs:subClassOf+ bf:TagSet . }\"\"\")\n",
    "brickTagSets=set()\n",
    "brickTagSetTags={}\n",
    "for row in qres:\n",
    "  ts=ns(row['ts'])\n",
    "  brickTagSets.add(ts)\n",
    "  brickTagSetTags[ts]=set(ts.split('_'))\n",
    "len(brickTagSets)"
   ]
  },
  {
   "cell_type": "code",
   "execution_count": 11,
   "metadata": {
    "collapsed": false
   },
   "outputs": [
    {
     "data": {
      "text/plain": [
       "14"
      ]
     },
     "execution_count": 11,
     "metadata": {},
     "output_type": "execute_result"
    }
   ],
   "source": [
    "qres = g.query(\"\"\"SELECT DISTINCT ?ts WHERE {  ?ts rdfs:subClassOf+ ts:Location . }\"\"\")\n",
    "loc_tags=set(['Location'])\n",
    "for row in qres:\n",
    "  ts=ns(row['ts'])\n",
    "  loc_tags.add(ts)\n",
    "len(loc_tags)"
   ]
  },
  {
   "cell_type": "code",
   "execution_count": 12,
   "metadata": {
    "collapsed": false
   },
   "outputs": [
    {
     "data": {
      "text/plain": [
       "717"
      ]
     },
     "execution_count": 12,
     "metadata": {},
     "output_type": "execute_result"
    }
   ],
   "source": [
    "qres = g.query(\"\"\"SELECT DISTINCT ?ts WHERE {  ?ts rdfs:subClassOf+ ts:Point . }\"\"\")\n",
    "point_tags=set(['Point'])\n",
    "pointTagSetTags={}\n",
    "for row in qres:\n",
    "  ts=ns(row['ts'])\n",
    "  point_tags.add(ts)\n",
    "  pointTagSetTags[ts]=set(ts.split('_'))\n",
    "len(point_tags)"
   ]
  },
  {
   "cell_type": "code",
   "execution_count": 13,
   "metadata": {
    "collapsed": false
   },
   "outputs": [
    {
     "data": {
      "text/plain": [
       "115"
      ]
     },
     "execution_count": 13,
     "metadata": {},
     "output_type": "execute_result"
    }
   ],
   "source": [
    "qres = g.query(\"\"\"SELECT DISTINCT ?ts WHERE {  ?ts rdfs:subClassOf+ ts:MeasurementProperty . }\"\"\")\n",
    "measurment_tags=set(['MeasurementProperty'])\n",
    "for row in qres:\n",
    "  ts=ns(row['ts'])\n",
    "  measurment_tags.add(ns(row['ts']))\n",
    "len(measurment_tags)"
   ]
  },
  {
   "cell_type": "code",
   "execution_count": 14,
   "metadata": {
    "collapsed": false
   },
   "outputs": [
    {
     "data": {
      "text/plain": [
       "80"
      ]
     },
     "execution_count": 14,
     "metadata": {},
     "output_type": "execute_result"
    }
   ],
   "source": [
    "qres = g.query(\"\"\"SELECT DISTINCT ?ts WHERE {  ?ts rdfs:subClassOf+ ts:Equipment . }\"\"\")\n",
    "asset_tags=set(['Asset'])\n",
    "for row in qres:\n",
    "  ts=ns(row['ts'])\n",
    "  asset_tags.add(ns(row['ts']))\n",
    "len(asset_tags)"
   ]
  },
  {
   "cell_type": "markdown",
   "metadata": {},
   "source": [
    "remove hierachical tags"
   ]
  },
  {
   "cell_type": "code",
   "execution_count": 15,
   "metadata": {
    "collapsed": false
   },
   "outputs": [
    {
     "data": {
      "text/plain": [
       "716"
      ]
     },
     "execution_count": 15,
     "metadata": {},
     "output_type": "execute_result"
    }
   ],
   "source": [
    "qres = g.query(\"\"\"SELECT DISTINCT ?ts WHERE {  ?ts bf:isHierarchical \"\". }\"\"\")\n",
    "for row in qres:\n",
    "  ts=ns(row['ts'])\n",
    "  if ts in brickTags: brickTags.remove(ts)\n",
    "  if ts in brickTagSets: brickTagSets.remove(ts)\n",
    "  if ts in brickTagSetTags: del brickTagSetTags[ts]\n",
    "  if ts in point_tags: point_tags.remove(ts)\n",
    "  if ts in asset_tags: asset_tags.remove(ts)\n",
    "  if ts in measurment_tags: measurment_tags.remove(ts)\n",
    "  if ts in pointTagSetTags: del pointTagSetTags[ts]\n",
    "len(brickTagSets)\n",
    "len(point_tags)"
   ]
  },
  {
   "cell_type": "code",
   "execution_count": null,
   "metadata": {
    "collapsed": false
   },
   "outputs": [],
   "source": []
  },
  {
   "cell_type": "code",
   "execution_count": 16,
   "metadata": {
    "collapsed": false
   },
   "outputs": [],
   "source": [
    "def IndivName(name):\n",
    "  return re.sub(r'\\s','_',re.sub(r'[^\\d\\w\\s]', '', name))"
   ]
  },
  {
   "cell_type": "markdown",
   "metadata": {},
   "source": [
    "### Load Data"
   ]
  },
  {
   "cell_type": "code",
   "execution_count": 32,
   "metadata": {
    "collapsed": false
   },
   "outputs": [
    {
     "data": {
      "text/html": [
       "<div>\n",
       "<table border=\"1\" class=\"dataframe\">\n",
       "  <thead>\n",
       "    <tr style=\"text-align: right;\">\n",
       "      <th></th>\n",
       "      <th>Label</th>\n",
       "      <th>TagSet</th>\n",
       "      <th>AssetType</th>\n",
       "      <th>Asset</th>\n",
       "      <th>AssetParent</th>\n",
       "      <th>isFedBy</th>\n",
       "      <th>City</th>\n",
       "      <th>Building</th>\n",
       "      <th>Wing</th>\n",
       "      <th>Floor</th>\n",
       "      <th>Room</th>\n",
       "      <th>Zone</th>\n",
       "    </tr>\n",
       "  </thead>\n",
       "  <tbody>\n",
       "    <tr>\n",
       "      <th>0</th>\n",
       "      <td>1F_MID_OPENOFF_CO2</td>\n",
       "      <td>Zone_Air_CO2_Sensor</td>\n",
       "      <td>NaN</td>\n",
       "      <td>NaN</td>\n",
       "      <td>NaN</td>\n",
       "      <td>AHU1;Boiler1;Boiler2;Chiller</td>\n",
       "      <td>Dublin</td>\n",
       "      <td>B3</td>\n",
       "      <td>SOR42</td>\n",
       "      <td>FirstFloor</td>\n",
       "      <td>OpenOffice</td>\n",
       "      <td>Middle</td>\n",
       "    </tr>\n",
       "    <tr>\n",
       "      <th>1</th>\n",
       "      <td>1F_NRTH_OPENOFF_CO2</td>\n",
       "      <td>Zone_Air_CO2_Sensor</td>\n",
       "      <td>NaN</td>\n",
       "      <td>NaN</td>\n",
       "      <td>NaN</td>\n",
       "      <td>AHU1;Boiler1;Boiler2;Chiller</td>\n",
       "      <td>Dublin</td>\n",
       "      <td>B3</td>\n",
       "      <td>SOR42</td>\n",
       "      <td>FirstFloor</td>\n",
       "      <td>OpenOffice</td>\n",
       "      <td>North</td>\n",
       "    </tr>\n",
       "    <tr>\n",
       "      <th>2</th>\n",
       "      <td>1F_STH_OPENOFF_CO2</td>\n",
       "      <td>Zone_Air_CO2_Sensor</td>\n",
       "      <td>NaN</td>\n",
       "      <td>NaN</td>\n",
       "      <td>NaN</td>\n",
       "      <td>AHU1;Boiler1;Boiler2;Chiller</td>\n",
       "      <td>Dublin</td>\n",
       "      <td>B3</td>\n",
       "      <td>SOR42</td>\n",
       "      <td>FirstFloor</td>\n",
       "      <td>OpenOffice</td>\n",
       "      <td>South</td>\n",
       "    </tr>\n",
       "    <tr>\n",
       "      <th>3</th>\n",
       "      <td>421_U10_CLG_VLV</td>\n",
       "      <td>FCU_Cooling_Valve_Percentage_Command</td>\n",
       "      <td>FCU</td>\n",
       "      <td>U10</td>\n",
       "      <td>NaN</td>\n",
       "      <td>AHU1;Boiler1;Boiler2;Chiller</td>\n",
       "      <td>Dublin</td>\n",
       "      <td>B3</td>\n",
       "      <td>SOR42</td>\n",
       "      <td>FirstFloor</td>\n",
       "      <td>SOR42_1_U10</td>\n",
       "      <td>NaN</td>\n",
       "    </tr>\n",
       "    <tr>\n",
       "      <th>4</th>\n",
       "      <td>421_U10_DAT</td>\n",
       "      <td>FCU_Supply_Air_Temperature_Sensor</td>\n",
       "      <td>FCU</td>\n",
       "      <td>U10</td>\n",
       "      <td>NaN</td>\n",
       "      <td>AHU1;Boiler1;Boiler2;Chiller</td>\n",
       "      <td>Dublin</td>\n",
       "      <td>B3</td>\n",
       "      <td>SOR42</td>\n",
       "      <td>FirstFloor</td>\n",
       "      <td>SOR42_1_U10</td>\n",
       "      <td>NaN</td>\n",
       "    </tr>\n",
       "  </tbody>\n",
       "</table>\n",
       "</div>"
      ],
      "text/plain": [
       "                 Label                                TagSet AssetType Asset  \\\n",
       "0   1F_MID_OPENOFF_CO2                   Zone_Air_CO2_Sensor       NaN   NaN   \n",
       "1  1F_NRTH_OPENOFF_CO2                   Zone_Air_CO2_Sensor       NaN   NaN   \n",
       "2   1F_STH_OPENOFF_CO2                   Zone_Air_CO2_Sensor       NaN   NaN   \n",
       "3      421_U10_CLG_VLV  FCU_Cooling_Valve_Percentage_Command       FCU   U10   \n",
       "4          421_U10_DAT     FCU_Supply_Air_Temperature_Sensor       FCU   U10   \n",
       "\n",
       "  AssetParent                       isFedBy    City Building   Wing  \\\n",
       "0         NaN  AHU1;Boiler1;Boiler2;Chiller  Dublin       B3  SOR42   \n",
       "1         NaN  AHU1;Boiler1;Boiler2;Chiller  Dublin       B3  SOR42   \n",
       "2         NaN  AHU1;Boiler1;Boiler2;Chiller  Dublin       B3  SOR42   \n",
       "3         NaN  AHU1;Boiler1;Boiler2;Chiller  Dublin       B3  SOR42   \n",
       "4         NaN  AHU1;Boiler1;Boiler2;Chiller  Dublin       B3  SOR42   \n",
       "\n",
       "        Floor         Room    Zone  \n",
       "0  FirstFloor   OpenOffice  Middle  \n",
       "1  FirstFloor   OpenOffice   North  \n",
       "2  FirstFloor   OpenOffice   South  \n",
       "3  FirstFloor  SOR42_1_U10     NaN  \n",
       "4  FirstFloor  SOR42_1_U10     NaN  "
      ]
     },
     "execution_count": 32,
     "metadata": {},
     "output_type": "execute_result"
    }
   ],
   "source": [
    "df=pd.read_csv('IBM_B3_points.csv',sep=\";\")\n",
    "if testing: df=df.head(20)\n",
    "df.head()"
   ]
  },
  {
   "cell_type": "markdown",
   "metadata": {},
   "source": [
    "Analyze Dataset"
   ]
  },
  {
   "cell_type": "code",
   "execution_count": 33,
   "metadata": {
    "collapsed": false
   },
   "outputs": [
    {
     "data": {
      "text/plain": [
       "115"
      ]
     },
     "execution_count": 33,
     "metadata": {},
     "output_type": "execute_result"
    }
   ],
   "source": [
    "dfTags=set()\n",
    "dfTagSets=set(pd.unique(df.TagSet.dropna().ravel()))\n",
    "for ts in dfTagSets:\n",
    "  dfTags.update(ts.split('_'))\n",
    "len(dfTags)"
   ]
  },
  {
   "cell_type": "code",
   "execution_count": null,
   "metadata": {
    "collapsed": false
   },
   "outputs": [],
   "source": []
  },
  {
   "cell_type": "code",
   "execution_count": 34,
   "metadata": {
    "collapsed": false
   },
   "outputs": [
    {
     "name": "stdout",
     "output_type": "stream",
     "text": [
      "Missing Tags from Bricks:42\n",
      "{'Number', 'Gas', 'Recirculation', 'Circualation', 'Line', 'Percentage', 'Phase', 'Footfall', 'PowerUnit', 'RunTime', 'Presence', 'Accumulated', 'Out', 'Light', 'Sunblind', 'External', 'Illumination', 'Facade', 'Minimum', 'Fresh', 'Loop', 'Sun', 'Elevation', 'In', 'Electric', 'ThermalWheel', 'Condensator', 'Runtime', 'Incoming', 'Radiation', 'SRVC', 'Instantations', 'Socket', 'Blind', 'Boiler', 'Main', 'VelocityUnit', 'Conditioned', 'Cmd', 'Extract', 'Lux', 'Wireless'}\n"
     ]
    }
   ],
   "source": [
    "dfMissingTags=dfTags - brickTags # schemaUsedTags - \n",
    "print(\"Missing Tags from Bricks:\" + str(len(dfMissingTags)))\n",
    "print(dfMissingTags)"
   ]
  },
  {
   "cell_type": "markdown",
   "metadata": {},
   "source": [
    "Find best matching tag sets for the defined ones"
   ]
  },
  {
   "cell_type": "code",
   "execution_count": 35,
   "metadata": {
    "collapsed": false
   },
   "outputs": [
    {
     "name": "stdout",
     "output_type": "stream",
     "text": [
      "Best Zone_Air_CO2_Sensor:['Outside_Air_CO2_Sensor', 'Return_Air_CO2_Sensor']\n",
      "Best FCU_Cooling_Valve_Percentage_Command:['Cooling_Valve_Command']\n",
      "Best FCU_Supply_Air_Temperature_Sensor:['Supply_Air_Temperature_Sensor']\n",
      "Best FCU_Fan_Speed_Sensor_Command:['Fan_Speed_Reset_Command']\n",
      "Best FCU_Fault_Sensor:['Sensor']\n",
      "Best FCU_Heating_Valve_Percentage_Command:['Heating_Valve_Command']\n",
      "Best FCU_Return_Air_Temperature_Sensor:['Return_Air_Temperature_Sensor']\n",
      "Best FCU_Air_Temperature_Setpoint:['Discharge_Air_Temperature_Setpoint', 'Mixed_Air_Temperature_Setpoint', 'Supply_Air_Temperature_Setpoint']\n",
      "Best Light_Load_Electric_Meter:['Meter']\n",
      "Best Socket_Load_Electric_Meter:['Meter']\n",
      "Best Electric_Meter_FCU:['Meter']\n",
      "Best Electric_Meter:['Meter']\n",
      "Best Electric_Meter_Light:['Meter']\n",
      "Best Switch_Emergency_Command:['Emergency_Power_Off_Switch_Command']\n",
      "Best Socket_Load_Wireless_Electric_Meter:['Meter']\n",
      "Best Socket_Load_Blind_Electric_Meter:['Meter']\n",
      "Best Incoming_Water_Meter:['Water_Meter']\n",
      "Best AHU_Cooling_Valve_Percentage_Command:['Cooling_Valve_Command']\n",
      "Best AHU_Enable_Command:['Enable_Command']\n",
      "Best AHU_Heating_Valve_Percentage_Command:['Heating_Valve_Command']\n",
      "Best AHU_Return_Air_Temperature_Sensor:['Return_Air_Temperature_Sensor']\n",
      "Best AHU_Return_Fan_Variable_Speed_Speed_Sensor:['Return_Fan_Differential_Speed_Sensor']\n",
      "Best AHU_Supply_Air_Temperature_Setpoint:['Supply_Air_Temperature_Setpoint']\n",
      "Best AHU_Supply_Air_Temperature_Sensor:['Supply_Air_Temperature_Sensor']\n",
      "Best AHU_Supply_Fan_Variable_Speed_Command:['Supply_Fan_VFD_Speed_Command']\n",
      "Best AHU_ThermalWheel_Effective_Sensor:['Sensor']\n",
      "Best Zone_Air_Temperature_Sensor:['Zone_Temperature_Sensor']\n",
      "Best Chilled_Water_Loop_Accumulated_Volume_Meter:['Water_Meter']\n",
      "Best Chilled_Water_Loop_Accumulated_PowerUnit_Meter:['Water_Meter']\n",
      "Best Chilled_Water_Loop_Flow_Meter:['Hot_Water_Flow_Meter']\n",
      "Best Chilled_Water_Loop_Return_Temperature_Sensor:['Chilled_Water_Return_Temperature_Sensor']\n",
      "Best Chilled_Water_Loop_Supply_Temperature_Sensor:['Chilled_Water_Supply_Temperature_Sensor']\n",
      "Best Hot_Water_Loop_Accumulated_Volume_Meter:['Hot_Water_Meter']\n",
      "Best Hot_Water_Loop_Accumulated_PowerUnit_Meter:['Hot_Water_Meter']\n",
      "Best Hot_Water_Loop_Flow_Meter:['Hot_Water_Flow_Meter']\n",
      "Best Hot_Water_Loop_Return_Temperature_Sensor:['Hot_Water_Return_Temperature_Sensor']\n",
      "Best Hot_Water_Loop_Supply_Temperature_Sensor:['Hot_Water_Supply_Temperature_Sensor']\n",
      "Best Extract_Fan_Phase_Meter:['Meter']\n",
      "Best Socket_Load_Phase_Electric_Meter:['Meter']\n",
      "Best AHU_Trace_Heat_Sensor:['Trace_Heat_Sensor']\n",
      "Best Electric_Meter_AHU_Phase:['Meter']\n",
      "Best Cold_Water_Storage_Booster_Pump_Phase_Meter:['Water_Meter']\n",
      "Best Rain_Water_Circualation_Pump_Phase_Meter:['Water_Meter']\n",
      "Best Rain_Water_Control_Pump_Meter:['Water_Meter']\n",
      "Best FCU_Phase_Average_PowerUnit_Electric_Meter:['Meter']\n",
      "Best FCU_Phase_Instantations_PowerUnit_Electric_Meter:['Meter']\n",
      "Best FCU_Phase_Max_PowerUnit_Electric_Meter:['Meter']\n",
      "Best FCU_Frequency_Electric_Meter:['Meter']\n",
      "Best FCU_Line_Voltage_Electric_Meter:['Meter']\n",
      "Best FCU_Phase_Current_Electric_Meter:['Current_Steam_Usage_Meter']\n",
      "Best FCU_Power_Factor_Electric_Meter:['Power_Meter']\n",
      "Best Light_Load_Phase_Average_PowerUnit_Electric_Meter:['Meter']\n",
      "Best Light_Load_Phase_Instantations_PowerUnit_Electric_Meter:['Meter']\n",
      "Best Light_Load_Phase_Max_PowerUnit_Electric_Meter:['Max_Load_Setpoint']\n",
      "Best Light_Load_Frequency_Electric_Meter:['Meter']\n",
      "Best Light_Load_Line_Voltage_Electric_Meter:['Meter']\n",
      "Best Light_Load_Phase_Current_Electric_Meter:['Load_Current_Sensor']\n",
      "Best Light_Load_Power_Factor_Electric_Meter:['Power_Meter']\n",
      "Best Socket_Load_Phase_Average_PowerUnit_Electric_Meter:['Meter']\n",
      "Best Socket_Load_Phase_Instantations_PowerUnit_Electric_Meter:['Meter']\n",
      "Best Socket_Load_Phase_Max_PowerUnit_Electric_Meter:['Max_Load_Setpoint']\n",
      "Best Socket_Load_Frequency_Electric_Meter:['Meter']\n",
      "Best Socket_Load_Line_Voltage_Electric_Meter:['Meter']\n",
      "Best Socket_Load_Phase_Current_Electric_Meter:['Load_Current_Sensor']\n",
      "Best Socket_Load_Power_Factor_Electric_Meter:['Power_Meter']\n",
      "Best Weather_Hail_Sensor:['Hail_Sensor']\n",
      "Best Weather_Outside_Air_Temperature_Sensor:['Outside_Air_Temperature_Sensor']\n",
      "Best Weather_Pressure_Sensor:['Pressure_Sensor']\n",
      "Best Weather_Rain_Sensor:['Rain_Sensor']\n",
      "Best Weather_Rain_Duration_Sensor:['Rain_Duration_Sensor']\n",
      "Best Weather_Relative_Humidity_Sensor:['Relative_Humidity_Sensor']\n",
      "Best Weather_Wind_Speed_Average_Sensor:['Wind_Speed_Sensor']\n",
      "Best Weather_Wind_Speed_Direction_Sensor:['Wind_Speed_Sensor', 'Wind_Direction_Sensor']\n",
      "Best Weather_Wind_Speed_Max_Sensor:['Wind_Speed_Sensor']\n",
      "Best Footfall_In_Sensor:['Sensor']\n",
      "Best Footfall_Out_Sensor:['Sensor']\n",
      "Match: Outside_Air_Temperature_Sensor\n",
      "Best Outside_Illumination_Lux_Sensor:['Outside_Enthalpy_Sensor']\n",
      "Best Outside_Radiation_Sensor:['Outside_Enthalpy_Sensor']\n",
      "Best Facade_Sunblind_Sensor:['Sensor']\n",
      "Best Solar_Radiation_Sensor:['Solar_Radiance_Sensor']\n",
      "Best Sun_Azimuth_Sensor:['Solar_Azimuth_Angle_Sensor']\n",
      "Best Sun_Elevation_Sensor:['Sensor']\n",
      "Best FCU_Fan_Run_Time_Sensor:['Run_Time_Sensor']\n",
      "Best AHU_Automatic_Mode_Command:['Automatic_Mode_Command']\n",
      "Best AHU_Frost_Open_Sensor:['Frost_Sensor']\n",
      "Best AHU_Return_Heat_Valve_Command:['Return_Heat_Valve_Command']\n",
      "Best AHU_Supply_Fan_Variable_Speed_Sensor:['Supply_Fan_Piezoelectric_Sensor']\n",
      "Best AHU_Supply_Fan_Variable_Speed_Setpoint:['Return_Supply_Fan_Differential_Speed_Setpoint']\n",
      "Best AHU_Supply_Fan_Flow_Status_Sensor:['Supply_Fan_Air_Flow_Sensor']\n",
      "Best External_Fan_Status_Sensor:['Exhaust_Fan_Status', 'Standby_Fan_Status', 'Return_Fan_Status', 'Discharge_Fan_Status', 'Supply_Fan_Status']\n",
      "Best External_Fan_Variable_Speed_Command:['Fan_Speed_Reset_Command']\n",
      "Best Water_Meter_Rain:['Water_Meter']\n",
      "Match: Water_Meter\n",
      "Best Zone_Presence_Sensor:['Zone_Temperature_Sensor', 'Zone_Humidity_Sensor']\n",
      "Best Electric_Meter_SRVC:['Meter']\n",
      "Best Zone_Illumination_Fault_Sensor:['Zone_Temperature_Sensor', 'Zone_Humidity_Sensor']\n",
      "Best Zone_Illumination_Command:['Highest_Zone_Cooling_Command']\n",
      "Best Zone_Illumination_Sensor:['Zone_Temperature_Sensor', 'Zone_Humidity_Sensor']\n",
      "Best FCU_Status_Sensor:['Sensor', 'Status']\n",
      "Best AHU_Cooling_Off_Coil_Temperature_Sensor:['Cooling_Coil_Supply_Air_Temperature_Sensor', 'Cooling_Coil_Discharge_Air_Temperature_Sensor']\n",
      "Best AHU_Cooling_Valve_Percentage_Cmd:['Cooling_Valve_Command']\n",
      "Best AHU_Enable_Cmd:['Enable_Command', 'Enable_Status']\n",
      "Best AHU_Fan_Damper_Position_Cmd:['Damper_Position_Setpoint', 'Damper_Position_Sensor']\n",
      "Best AHU_Minimum_Fresh_Air_Setpoint:['Air_Flow_Setpoint']\n",
      "Best AHU_Pre_Heat_Valve_Cmd:['Heat_Exchanger_Valve_Command', 'Heat_Exchanger_Valve_Status', 'Return_Heat_Valve_Command']\n",
      "Best AHU_Pre_Heat_Setpoint:['Heat_Request_Setpoint']\n",
      "Best AHU_Pre_Heat_Off_Coil_Temperature_Sensor:['Cooling_Coil_Supply_Air_Temperature_Sensor', 'Cooling_Coil_Discharge_Air_Temperature_Sensor', 'PreHeat_Coil_Leaving_Water_Temperature_Sensor', 'Heat_Exchanger_Supply_Water_Temperature_Sensor', 'Heat_Exchanger_Discharge_Water_Temperature_Sensor', 'PreHeat_Coil_Entering_Air_Temperature_Sensor', 'Hot_Water_Coil_Entering_Temperature_Sensor', 'Heat_Wheel_Discharge_Air_Temperature_Sensor', 'Heat_Wheel_Supply_Air_Temperature_Sensor']\n",
      "Best AHU_Return_Heat_Valve_Cmd:['Return_Heat_Valve_Command']\n",
      "Best AHU_Return_Fan_Flow_Status_Sensor:['Return_Fan_Air_Flow_Sensor']\n",
      "Best AHU_Time_Zone_Sensor:['Zone_Temperature_Sensor', 'Run_Time_Sensor', 'Zone_Humidity_Sensor']\n",
      "Best AHU_Chilled_Water_Loop_Accumulated_Volume_Meter:['Water_Meter']\n",
      "Best AHU_Chilled_Water_Loop_Accumulated_PowerUnit_Meter:['Water_Meter']\n",
      "Best AHU_Chilled_Water_Loop_Flow_Meter:['Hot_Water_Flow_Meter']\n",
      "Best AHU_Chilled_Water_Loop_Return_Temperature_Sensor:['Chilled_Water_Return_Temperature_Sensor']\n",
      "Best AHU_Chilled_Water_Loop_Supply_Temperature_Sensor:['Chilled_Water_Supply_Temperature_Sensor']\n",
      "Best AHU_Hot_Water_Loop_Accumulated_Volume_Meter:['Hot_Water_Meter']\n",
      "Best AHU_Hot_Water_Loop_Accumulated_PowerUnit_Meter:['Hot_Water_Meter']\n",
      "Best AHU_Hot_Water_Loop_Flow_Meter:['Hot_Water_Flow_Meter']\n",
      "Best AHU_Hot_Water_Loop_Return_Temperature_Sensor:['Hot_Water_Return_Temperature_Sensor']\n",
      "Best AHU_Hot_Water_Loop_Supply_Temperature_Sensor:['Hot_Water_Supply_Temperature_Sensor']\n",
      "Best AHU_Mixed_Air_Temperature_Sensor:['Mixed_Air_Temperature_Sensor']\n",
      "Best AHU_Minimum_Fan_Setpoint:['Fan_Speed_Setpoint']\n",
      "Best AHU_Recirculation_Mode_Sensor:['Sensor']\n",
      "Best AHU_Return_Fan_Variable_Speed_Percentage_Cmd:['Return_Fan_Differential_Speed_Sensor', 'Return_Fan_VFD_Speed_Command', 'Return_Fan_Differential_Speed_Setpoint']\n",
      "Best AHU_Return_Fan_Variable_Speed_Status_Sensor:['Return_Fan_Differential_Speed_Sensor']\n",
      "Best AHU_Supply_Fan_Variable_Speed_Cmd:['Supply_Fan_VFD_Speed_Command']\n",
      "Best AHU_Supply_Fan_Variable_Speed_Status_Sensor:['Supply_Fan_Status']\n",
      "Best AHU_Supply_Fan_Speed_VelocityUnit_Sensor:['Supply_Fan_Piezoelectric_Sensor']\n",
      "Best AHU_Heating_Valve_Percentage_Cmd:['Heating_Valve_Command']\n",
      "Best AHU_Outside_Air_Damper_Percentage_Sensor:['Outside_Air_Damper_Position_Sensor']\n",
      "Best AHU_Outside_Air_Damper_Minimum_Percentage_Sensor:['Outside_Air_Damper_Position_Sensor']\n",
      "Best AHU_Occupancy_Cmd:['Occupancy_Command', 'Occupancy_Sensor', 'Occupancy_Status']\n",
      "Best AHU_Supply_Fan_Status_Sensor:['Supply_Fan_Status']\n",
      "Best AHU_Zone_Air_Temperature_Sensor:['Zone_Temperature_Sensor']\n",
      "Best Gas_Meter:['Meter']\n",
      "Best Boiler_Status_Sensor:['Sensor', 'Status']\n",
      "Best Boiler_Flow_Temperature_Sensor:['Flow_Sensor', 'Temperature_Sensor']\n",
      "Best Boiler_Start_Number_Sensor:['Sensor']\n",
      "Best Boiler_RunTime_Sensor:['Sensor']\n",
      "Best Boiler_Main_Drive_Output_Meter:['Meter']\n",
      "Best Boiler_Setpoint_Conditioned:['Setpoint']\n",
      "Best Boiler_Condensator_Setpoint:['Setpoint']\n",
      "Best Boiler_Return_Temperature_Sensor:['Return_Water_Temperature_Sensor', 'Return_Air_Temperature_Sensor']\n",
      "Best Boiler_Runtime_Sensor:['Sensor']\n",
      "Best Boiler_Meter:['Meter']\n",
      "Best Chiller_Status_Sensor:['Sensor', 'Status']\n"
     ]
    }
   ],
   "source": [
    "closestMatches={}\n",
    "fullMatches={}\n",
    "for ts in pd.unique(df.TagSet.dropna().ravel()):\n",
    "  if ts in pointTagSetTags:\n",
    "    closestMatches[ts]=[ts]\n",
    "    fullMatches[ts]=ts\n",
    "    print(\"Match: \"+ts)\n",
    "  else:\n",
    "    tss=set(ts.split('_'))\n",
    "    largestSubset=[]\n",
    "    largestIntersect=0\n",
    "    for ts2 in pointTagSetTags:\n",
    "      inters=tss.intersection(pointTagSetTags[ts2])\n",
    "      if len(inters)>largestIntersect:\n",
    "        largestIntersect=len(inters)\n",
    "        largestSubset=[] # reset largestSubset\n",
    "      if len(inters)==largestIntersect:\n",
    "        largestSubset.append(ts2) # add to the largest sets\n",
    "    smalestSubset=largestSubset\n",
    "    if len(largestSubset)>1:\n",
    "      smalestDiff=len(tss)\n",
    "      smalestSubset=[]\n",
    "      for ts2 in largestSubset:\n",
    "        diffs=pointTagSetTags[ts2] - tss\n",
    "        if len(diffs)<smalestDiff:\n",
    "          smalestDiff=len(diffs)\n",
    "          smalestSubset=[] # reset largestSubset\n",
    "        if len(diffs)==smalestDiff:\n",
    "          smalestSubset.append(ts2) # add to the largest sets\n",
    "    closestMatches[ts]=smalestSubset\n",
    "    print(\"Best \"+ts+\":\"+str(smalestSubset))"
   ]
  },
  {
   "cell_type": "markdown",
   "metadata": {},
   "source": [
    "Manual Mapping based on the results."
   ]
  },
  {
   "cell_type": "code",
   "execution_count": 59,
   "metadata": {
    "collapsed": false
   },
   "outputs": [],
   "source": [
    "myMap={\n",
    "'AHU_Automatic_Mode_Command':'Automatic_Mode_Command',\n",
    "'AHU_Cooling_Valve_Percentage_Command':'Cooling_Valve_Command',\n",
    "'AHU_Enable_Command':'AHU_System_Enable_Command',\n",
    "'AHU_Frost_Open_Sensor':'Frost_Sensor',\n",
    "'AHU_Heating_Valve_Percentage_Command':'Heating_Valve_Command',\n",
    "'AHU_Return_Air_Temperature_Sensor':'Return_Air_Temperature_Sensor',\n",
    "'AHU_Return_Fan_Variable_Speed_Percentage_Command':'Return_Fan_Command',\n",
    "'AHU_Return_Fan_Variable_Speed_Speed_Sensor':'Return_Fan_Differential_Speed_Sensor',\n",
    "'AHU_Return_Heat_Valve_Command':'Return_Heat_Valve_Command',\n",
    "'AHU_Supply_Air_Temperature_Sensor':'Supply_Air_Temperature_Sensor',\n",
    "'AHU_Supply_Air_Temperature_Setpoint':'Supply_Air_Temperature_Setpoint',\n",
    "'AHU_Supply_Fan_Flow_Status_Sensor':'Supply_Fan_Status',\n",
    "'AHU_Supply_Fan_Variable_Speed_Command':'Supply_Fan_Command',\n",
    "'AHU_Supply_Fan_Variable_Speed_Percentage_Command':'Supply_Fan_Command',\n",
    "'AHU_Supply_Fan_Variable_Speed_Sensor':'Motor_Speed',\n",
    "'AHU_Supply_Fan_Variable_Speed_Setpoint':'Return_Supply_Fan_Differential_Speed_Setpoint',\n",
    "'AHU_ThermalWheel_Effective_Sensor':'Heat_Wheel_Supply_Air_Temperature',\n",
    "'AHU_Trace_Heat_Sensor':'Trace_Heat_Sensor',\n",
    "'AHU_Zone_Air_Temperature_Sensor':'Zone_Temperature_Sensor',\n",
    "'Chilled_Water_Loop_Accumulated_PowerUnit_Meter':'Power_Meter',\n",
    "'Chilled_Water_Loop_Accumulated_Volume_Meter':'Water_Meter',\n",
    "'Chilled_Water_Loop_Flow_Meter':'Chilled_Water_Supply_Flow_Sensor',\n",
    "'Chilled_Water_Loop_Return_Temperature_Sensor':'Chilled_Water_Return_Temperature_Sensor',\n",
    "'Chilled_Water_Loop_Supply_Temperature_Sensor':'Chilled_Water_Supply_Temperature_Sensor',\n",
    "'Cold_Water_Storage_Booster_Pump_Phase_Meter':'Power_Meter',\n",
    "'Electric_Meter':'Power_Meter',\n",
    "'Electric_Meter_AHU_Phase':'Power_Meter',\n",
    "'Electric_Meter_FCU':'Power_Meter',\n",
    "'Electric_Meter_Light':'Power_Meter',\n",
    "'Electric_Meter_SRVC':'Power_Meter',\n",
    "'External_Fan_Status_Sensor':'Exhaust_Fan_Status',\n",
    "'External_Fan_Variable_Speed_Command':'Speed_Command',\n",
    "'Extract_Fan_Phase_Meter':'Power_Meter',\n",
    "'FCU_Air_Temperature_Setpoint':'Supply_Air_Temperature_Setpoint',\n",
    "'FCU_Cooling_Valve_Percentage_Command':'Cooling_Valve_Command',\n",
    "'FCU_Fan_Run_Time_Sensor':'Run_Time_Sensor',\n",
    "'FCU_Fan_Speed_Sensor_Command':'Speed_Command',\n",
    "'FCU_Fault_Sensor':'Fault_Status',\n",
    "'FCU_Frequency_Electric_Meter':'Power_Meter',\n",
    "'FCU_Frequency_Electric_Meter':'Power_Meter',\n",
    "'FCU_Heating_Valve_Percentage_Command':'Heating_Valve_Command',\n",
    "'FCU_Line_Voltage_Electric_Meter':'Power_Meter',\n",
    "'FCU_Phase_Average_PowerUnit_Electric_Meter':'Power_Meter',\n",
    "'FCU_Phase_Current_Electric_Meter':'Power_Meter',\n",
    "'FCU_Phase_Instantations_PowerUnit_Electric_Meter':'Power_Meter',\n",
    "'FCU_Phase_Max_PowerUnit_Electric_Meter':'Power_Meter',\n",
    "'FCU_Power_Factor_Electric_Meter':'Power_Meter',\n",
    "'FCU_Return_Air_Temperature_Sensor':'Return_Air_Temperature_Sensor',\n",
    "'FCU_Status_Sensor':'System_Status',\n",
    "'FCU_Supply_Air_Temperature_Sensor':'Supply_Air_Temperature_Sensor',\n",
    "'Facade_Sunblind_Sensor':'Luminance_Sensor',\n",
    "'Footfall_In_Sensor':'Occupancy_Sensor',\n",
    "'Footfall_Out_Sensor':'Occupancy_Sensor',\n",
    "'Hot_Water_Loop_Accumulated_PowerUnit_Meter':'Power_Meter',\n",
    "'Hot_Water_Loop_Accumulated_Volume_Meter':'Hot_Water_Meter',\n",
    "'Hot_Water_Loop_Flow_Meter':'Hot_Water_Meter',\n",
    "'Hot_Water_Loop_Return_Temperature_Sensor':'Hot_Water_Return_Temperature_Sensor',\n",
    "'Hot_Water_Loop_Supply_Temperature_Sensor':'Hot_Water_Supply_Temperature_Sensor',\n",
    "'Incoming_Water_Meter':'Water_Meter',\n",
    "'Light_Load_Electric_Meter':'Power_Meter',\n",
    "'Light_Load_Frequency_Electric_Meter':'Power_Meter',\n",
    "'Light_Load_Line_Voltage_Electric_Meter':'Power_Meter',\n",
    "'Light_Load_Phase_Average_PowerUnit_Electric_Meter':'Power_Meter',\n",
    "'Light_Load_Phase_Current_Electric_Meter':'Power_Meter',\n",
    "'Light_Load_Phase_Instantations_PowerUnit_Electric_Meter':'Power_Meter',\n",
    "'Light_Load_Phase_Max_PowerUnit_Electric_Meter':'Power_Meter',\n",
    "'Light_Load_Power_Factor_Electric_Meter':'Power_Meter',\n",
    "'Outside_Illumination_Lux_Sensor':'Luminance_Sensor',\n",
    "'Outside_Radiation_Sensor':'Solar_Radiance_Sensor',\n",
    "'Rain_Water_Circualation_Pump_Phase_Meter':'Power_Meter',\n",
    "'Rain_Water_Control_Pump_Meter':'Water_Meter',\n",
    "'Socket_Load_Blind_Electric_Meter':'Power_Meter',\n",
    "'Socket_Load_Electric_Meter':'Power_Meter',\n",
    "'Socket_Load_Frequency_Electric_Meter':'Power_Meter',\n",
    "'Socket_Load_Line_Voltage_Electric_Meter':'Power_Meter',\n",
    "'Socket_Load_Phase_Average_PowerUnit_Electric_Meter':'Power_Meter',\n",
    "'Socket_Load_Phase_Current_Electric_Meter':'Power_Meter',\n",
    "'Socket_Load_Phase_Electric_Meter':'Power_Meter',\n",
    "'Socket_Load_Phase_Instantations_PowerUnit_Electric_Meter':'Power_Meter',\n",
    "'Socket_Load_Phase_Max_PowerUnit_Electric_Meter':'Power_Meter',\n",
    "'Socket_Load_Power_Factor_Electric_Meter':'Power_Meter',\n",
    "'Socket_Load_Wireless_Electric_Meter':'Power_Meter',\n",
    "'Solar_Radiation_Sensor':'Solar_Radiance_Sensor',\n",
    "'Sun_Azimuth_Sensor':'Solar_Azimuth_Angle_Sensor',\n",
    "'Sun_Elevation_Sensor':'Solar_Azimuth_Angle',\n",
    "'Switch_Emergency_Command':'Emergency_Power_Off_Switch_Command',\n",
    "'Water_Meter_Rain':'Water_Meter',\n",
    "'Weather_Hail_Sensor':'Hail_Sensor',\n",
    "'Weather_Outside_Air_Temperature_Sensor':'Outside_Air_Temperature_Sensor',\n",
    "'Weather_Pressure_Sensor':'Static_Pressure_Sensor',\n",
    "'Weather_Rain_Duration_Sensor':'Rain_Duration_Sensor',\n",
    "'Weather_Rain_Sensor':'Rain_Sensor',\n",
    "'Weather_Relative_Humidity_Sensor':'Humidity_Sensor',\n",
    "'Weather_Wind_Speed_Average_Sensor':'Wind_Speed_Sensor',\n",
    "'Weather_Wind_Speed_Direction_Sensor':'Wind_Direction_Sensor',\n",
    "'Weather_Wind_Speed_Max_Sensor':'Wind_Speed_Sensor',\n",
    "'Zone_Air_CO2_Sensor':'CO2_Sensor',\n",
    "'Zone_Air_Temperature_Sensor':'Zone_Temperature_Sensor',\n",
    "'Zone_Illumination_Command':'Luminance_Command',\n",
    "'Zone_Illumination_Fault_Sensor':'Luminance_Alarm',\n",
    "'Zone_Illumination_Sensor':'Luminance_Sensor',\n",
    "'Zone_Presence_Sensor':'Occupancy_Sensor',\n",
    "'AHU_Occupancy_Cmd':'Occupancy_Command',\n",
    "'AHU_Hot_Water_Loop_Return_Temperature_Sensor':'Hot_Water_Return_Temperature_Sensor'\n",
    "}\n",
    "for ts in myMap: \n",
    "  fullMatches[ts]=myMap[ts]\n",
    "for ts in fullMatches.values():\n",
    "  dfTags.update(ts.split('_'))"
   ]
  },
  {
   "cell_type": "code",
   "execution_count": 60,
   "metadata": {
    "collapsed": false,
    "scrolled": true
   },
   "outputs": [
    {
     "name": "stdout",
     "output_type": "stream",
     "text": [
      "AHU_Minimum_Fan_Setpoint:['Fan_Speed_Setpoint']\n",
      "Boiler_Return_Temperature_Sensor:['Return_Water_Temperature_Sensor', 'Return_Air_Temperature_Sensor']\n",
      "AHU_Recirculation_Mode_Sensor:['Sensor']\n",
      "Boiler_Start_Number_Sensor:['Sensor']\n",
      "AHU_Chilled_Water_Loop_Accumulated_Volume_Meter:['Water_Meter']\n",
      "AHU_Supply_Fan_Speed_VelocityUnit_Sensor:['Supply_Fan_Piezoelectric_Sensor']\n",
      "AHU_Cooling_Off_Coil_Temperature_Sensor:['Cooling_Coil_Supply_Air_Temperature_Sensor', 'Cooling_Coil_Discharge_Air_Temperature_Sensor']\n",
      "AHU_Supply_Fan_Variable_Speed_Status_Sensor:['Supply_Fan_Status']\n",
      "AHU_Pre_Heat_Off_Coil_Temperature_Sensor:['Cooling_Coil_Supply_Air_Temperature_Sensor', 'Cooling_Coil_Discharge_Air_Temperature_Sensor', 'PreHeat_Coil_Leaving_Water_Temperature_Sensor', 'Heat_Exchanger_Supply_Water_Temperature_Sensor', 'Heat_Exchanger_Discharge_Water_Temperature_Sensor', 'PreHeat_Coil_Entering_Air_Temperature_Sensor', 'Hot_Water_Coil_Entering_Temperature_Sensor', 'Heat_Wheel_Discharge_Air_Temperature_Sensor', 'Heat_Wheel_Supply_Air_Temperature_Sensor']\n",
      "AHU_Hot_Water_Loop_Accumulated_Volume_Meter:['Hot_Water_Meter']\n",
      "AHU_Return_Fan_Variable_Speed_Status_Sensor:['Return_Fan_Differential_Speed_Sensor']\n",
      "AHU_Cooling_Valve_Percentage_Cmd:['Cooling_Valve_Command']\n",
      "AHU_Return_Fan_Flow_Status_Sensor:['Return_Fan_Air_Flow_Sensor']\n",
      "AHU_Enable_Cmd:['Enable_Command', 'Enable_Status']\n",
      "AHU_Hot_Water_Loop_Flow_Meter:['Hot_Water_Flow_Meter']\n",
      "Boiler_Main_Drive_Output_Meter:['Meter']\n",
      "Boiler_RunTime_Sensor:['Sensor']\n",
      "AHU_Supply_Fan_Variable_Speed_Cmd:['Supply_Fan_VFD_Speed_Command']\n",
      "Chiller_Status_Sensor:['Sensor', 'Status']\n",
      "AHU_Heating_Valve_Percentage_Cmd:['Heating_Valve_Command']\n",
      "AHU_Hot_Water_Loop_Supply_Temperature_Sensor:['Hot_Water_Supply_Temperature_Sensor']\n",
      "Boiler_Setpoint_Conditioned:['Setpoint']\n",
      "AHU_Time_Zone_Sensor:['Zone_Temperature_Sensor', 'Run_Time_Sensor', 'Zone_Humidity_Sensor']\n",
      "AHU_Fan_Damper_Position_Cmd:['Damper_Position_Setpoint', 'Damper_Position_Sensor']\n",
      "AHU_Outside_Air_Damper_Minimum_Percentage_Sensor:['Outside_Air_Damper_Position_Sensor']\n",
      "AHU_Chilled_Water_Loop_Accumulated_PowerUnit_Meter:['Water_Meter']\n",
      "AHU_Return_Fan_Variable_Speed_Percentage_Cmd:['Return_Fan_Differential_Speed_Sensor', 'Return_Fan_VFD_Speed_Command', 'Return_Fan_Differential_Speed_Setpoint']\n",
      "Boiler_Runtime_Sensor:['Sensor']\n",
      "Boiler_Status_Sensor:['Sensor', 'Status']\n",
      "AHU_Mixed_Air_Temperature_Sensor:['Mixed_Air_Temperature_Sensor']\n",
      "AHU_Hot_Water_Loop_Accumulated_PowerUnit_Meter:['Hot_Water_Meter']\n",
      "AHU_Return_Heat_Valve_Cmd:['Return_Heat_Valve_Command']\n",
      "Boiler_Meter:['Meter']\n",
      "AHU_Supply_Fan_Status_Sensor:['Supply_Fan_Status']\n",
      "Boiler_Flow_Temperature_Sensor:['Flow_Sensor', 'Temperature_Sensor']\n",
      "Gas_Meter:['Meter']\n",
      "AHU_Pre_Heat_Valve_Cmd:['Heat_Exchanger_Valve_Command', 'Heat_Exchanger_Valve_Status', 'Return_Heat_Valve_Command']\n",
      "AHU_Pre_Heat_Setpoint:['Heat_Request_Setpoint']\n",
      "AHU_Chilled_Water_Loop_Return_Temperature_Sensor:['Chilled_Water_Return_Temperature_Sensor']\n",
      "AHU_Chilled_Water_Loop_Flow_Meter:['Hot_Water_Flow_Meter']\n",
      "Boiler_Condensator_Setpoint:['Setpoint']\n",
      "AHU_Chilled_Water_Loop_Supply_Temperature_Sensor:['Chilled_Water_Supply_Temperature_Sensor']\n",
      "AHU_Outside_Air_Damper_Percentage_Sensor:['Outside_Air_Damper_Position_Sensor']\n",
      "AHU_Minimum_Fresh_Air_Setpoint:['Air_Flow_Setpoint']\n"
     ]
    }
   ],
   "source": [
    "for ts in closestMatches:\n",
    "  if ts not in fullMatches:\n",
    "    print(ts+\":\"+str(closestMatches[ts]))"
   ]
  },
  {
   "cell_type": "markdown",
   "metadata": {},
   "source": [
    "write header"
   ]
  },
  {
   "cell_type": "code",
   "execution_count": 61,
   "metadata": {
    "collapsed": false
   },
   "outputs": [
    {
     "data": {
      "text/plain": [
       "66"
      ]
     },
     "execution_count": 61,
     "metadata": {},
     "output_type": "execute_result"
    }
   ],
   "source": [
    "fo = open(exampleName+'.ttl', 'w')\n",
    "fo.write(\"\"\"@prefix owl: <http://www.w3.org/2002/07/owl#> .\n",
    "@prefix rdf: <http://www.w3.org/1999/02/22-rdf-syntax-ns#> .\n",
    "@prefix rdfs: <http://www.w3.org/2000/01/rdf-schema#> .\\n\"\"\")\n",
    "fo.write(\"@prefix bf:  <http://buildsys.org/ontologies/BrickFrame#> .\\n\")\n",
    "fo.write(\"@prefix tag: <http://buildsys.org/ontologies/BrickTag#> .\\n\")\n",
    "fo.write(\"@prefix ts:  <http://buildsys.org/ontologies/Brick#> .\\n\")\n",
    "fo.write(\"@prefix : <\"+str(MyNS)+\"> .\\n\\n\")\n",
    "fo.write(\"<\"+str(MyNS).replace(\"#\",\"\")+\">  a owl:Ontology ;\\n\")\n",
    "fo.write(\"\\towl:imports <http://buildsys.org/ontologies/Brick> ;\\n\")\n",
    "fo.write('\\trdfs:comment \"'+exampleDescription+'\"@en .\\n\\n')"
   ]
  },
  {
   "cell_type": "markdown",
   "metadata": {},
   "source": [
    "write locations"
   ]
  },
  {
   "cell_type": "code",
   "execution_count": 62,
   "metadata": {
    "collapsed": false
   },
   "outputs": [],
   "source": [
    "# create location individuals\n",
    "locationCols=[\"City\",\"Building\",\"Wing\",\"Floor\",\"Room\",\"Zone\"]\n",
    "locations={}\n",
    "for col in locationCols:\n",
    "  for indiv in pd.unique(df[col].dropna().ravel()):\n",
    "    if indiv!=\"\":\n",
    "      indivLocName=IndivName(col+\"_\"+indiv)\n",
    "      fo.write(\"\\n :\"+indivLocName+\"  a   tag:\"+col+\";\")\n",
    "      fo.write('\\n\\t\\t\\t rdfs:label \"'+indiv+'\"@en .\\n')\n",
    "      locations[indiv]=indivLocName\n",
    "# add relations\n",
    "for idx in df.index:\n",
    "  for ci in range(1,len(locationCols)):\n",
    "    childIndiv =df.loc[idx,locationCols[ci]]\n",
    "    parentIndiv=df.loc[idx,locationCols[ci-1]]\n",
    "    if childIndiv in locations and parentIndiv in locations:\n",
    "      fo.write(\"\\n :\"+locations[childIndiv]+\"  bf:isPartOf   :\"+locations[parentIndiv]+\".\")\n",
    "      fo.write(\"\\n :\"+locations[parentIndiv]+\"  bf:hasPart   :\"+locations[childIndiv]+\".\\n\")"
   ]
  },
  {
   "cell_type": "markdown",
   "metadata": {},
   "source": [
    "write assets"
   ]
  },
  {
   "cell_type": "code",
   "execution_count": 63,
   "metadata": {
    "collapsed": false
   },
   "outputs": [],
   "source": [
    "# create asset individuals\n",
    "assets={}\n",
    "for idx in df.index:\n",
    "  assetName = str(df.loc[idx, \"Asset\"])\n",
    "  if assetName==\"\" or assetName==\"nan\" or assetName in assets: \n",
    "    continue\n",
    "  assetType = df.loc[idx, \"AssetType\"]\n",
    "  indivLocName=IndivName(assetType+\"_\"+assetName)\n",
    "  fo.write(\"\\n :\"+indivLocName+\"  a   tag:\"+assetType+\";\")\n",
    "  fo.write('\\n\\t\\t\\t rdfs:label \"'+assetName+'\"@en .\\n')\n",
    "  assets[assetName]=indivLocName\n",
    "  assetParent = str(df.loc[idx, \"AssetParent\"])\n",
    "  if assetParent!=\"\" and assetParent!=\"nan\":\n",
    "    if assetParent not in assets:\n",
    "      parentLocName=IndivName(assetType+\"_\"+assetParent)\n",
    "      fo.write(\"\\n :\"+parentLocName+\"  a   tag:\"+assetType+\";\")\n",
    "      fo.write('\\n\\t\\t\\t rdfs:label \"'+assetParent+'\"@en .\\n')\n",
    "      assets[assetParent]=parentLocName\n",
    "    fo.write(\"\\n :\"+assets[assetName]+\"  bf:isPartOf   :\"+assets[assetParent]+\".\")\n",
    "    fo.write(\"\\n :\"+assets[assetParent]+\"  bf:hasPart   :\"+assets[assetName]+\".\\n\")\n",
    "for idx in df.index:\n",
    "  assetName = str(df.loc[idx, \"Asset\"])\n",
    "  if assetName==\"\" or assetName==\"nan\" or assetName in assets: \n",
    "    continue\n",
    "  assetFeed = str(df.loc[idx, \"isFedBy\"])\n",
    "  if assetFeed!=\"\" and assetFeed!=\"nan\":\n",
    "    for feed in assetFeed.split(\";\"):\n",
    "      fo.write(\"\\n :\"+assets[assetName]+\"  bf:isFedBy   :\"+assets[feed]+\".\")\n",
    "      fo.write(\"\\n :\"+assets[feed]+\"  bf:feeds   :\"+assets[assetName]+\".\\n\")"
   ]
  },
  {
   "cell_type": "markdown",
   "metadata": {},
   "source": [
    "analyze tag sets"
   ]
  },
  {
   "cell_type": "code",
   "execution_count": 64,
   "metadata": {
    "collapsed": false
   },
   "outputs": [],
   "source": [
    "#create individual for tags\n",
    "#for tag in dfTags:\n",
    "#  if tag in brickTags:\n",
    "#    fo.write(\"\\n :\"+tag+\"0  a  tag:\"+tag+\".\\n\")\n",
    "#  else:\n",
    "#    fo.write(\"\\n :\"+tag+\"  rdfs:subClassOf  bf:Tag.\")\n",
    "#    fo.write(\"\\n :\"+tag+\"0  a  :\"+tag+\".\\n\")"
   ]
  },
  {
   "cell_type": "code",
   "execution_count": null,
   "metadata": {
    "collapsed": false
   },
   "outputs": [],
   "source": []
  },
  {
   "cell_type": "code",
   "execution_count": 65,
   "metadata": {
    "collapsed": false
   },
   "outputs": [],
   "source": [
    "for idx in df.index:\n",
    "  pointIndivName = IndivName(df.loc[idx, \"Label\"])\n",
    "  pointType = df.loc[idx, \"TagSet\"]\n",
    "  if pointType in fullMatches:\n",
    "    tags=set(pointType.split('_')) | set(fullMatches[pointType].split('_'))\n",
    "    fo.write(\"\\n :\"+pointIndivName+\"  a  bf:Label, bf:TagSet, ts:\"+fullMatches[pointType]+\";\")\n",
    "  else:\n",
    "    tags=set(pointType.split('_'))\n",
    "    fo.write(\"\\n :\"+pointType+\"  rdfs:subClassOf   bf:TagSet.\")\n",
    "    fo.write(\"\\n :\"+pointIndivName+\"  a   bf:Label, bf:TagSet, :\"+pointType+\";\")\n",
    "  fo.write('\\n \\t\\t\\t rdfs:label \"'+df.loc[idx, \"Label\"]+'\"@en ;')\n",
    "  # write tags\n",
    "  #for tag in tags:\n",
    "  #  fo.write(\"\\n \\t\\t\\t bf:hasTag   :\"+tag+\"0;\")\n",
    "  # write location\n",
    "  loc=df.loc[idx, locationCols].dropna().ravel()[-1]\n",
    "  fo.write(\"\\n \\t\\t\\t bf:isLocatedIn :\"+locations[loc]+'. \\n')\n",
    "  fo.write(\"\\n :\"+locations[loc]+\"  bf:hasPoint  :\"+pointIndivName+\".\")\n",
    "  # write assets\n",
    "  assetName = str(df.loc[idx, \"Asset\"])\n",
    "  if assetName!=\"\" and assetName!=\"nan\":\n",
    "    fo.write(\"\\n :\"+assets[assetName]+\"  bf:hasPoint  :\"+pointIndivName+\".\")\n",
    "    fo.write(\"\\n :\"+pointIndivName+\"  bf:isPointOf  :\"+assets[assetName]+\".\\n\")"
   ]
  },
  {
   "cell_type": "code",
   "execution_count": 66,
   "metadata": {
    "collapsed": false
   },
   "outputs": [],
   "source": [
    "fo.close()"
   ]
  },
  {
   "cell_type": "code",
   "execution_count": 67,
   "metadata": {
    "collapsed": true
   },
   "outputs": [],
   "source": [
    "g = rdflib.Graph()\n",
    "result = g.parse(exampleName+'.ttl', format='n3')\n",
    "g.serialize(destination=exampleName+'.ttl', format='turtle')"
   ]
  },
  {
   "cell_type": "code",
   "execution_count": null,
   "metadata": {
    "collapsed": true
   },
   "outputs": [],
   "source": []
  }
 ],
 "metadata": {
  "anaconda-cloud": {},
  "kernelspec": {
   "display_name": "Python [Root]",
   "language": "python",
   "name": "Python [Root]"
  },
  "language_info": {
   "codemirror_mode": {
    "name": "ipython",
    "version": 3
   },
   "file_extension": ".py",
   "mimetype": "text/x-python",
   "name": "python",
   "nbconvert_exporter": "python",
   "pygments_lexer": "ipython3",
   "version": "3.5.2"
  }
 },
 "nbformat": 4,
 "nbformat_minor": 0
}
