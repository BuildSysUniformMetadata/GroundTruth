{
 "cells": [
  {
   "cell_type": "code",
   "execution_count": 1,
   "metadata": {
    "collapsed": true
   },
   "outputs": [],
   "source": [
    "# config\n",
    "exampleName=\"IBM_B3\"\n",
    "exampleDescription=\"Example ontology for IBM Building 3, Dublin\"\n",
    "testing=False"
   ]
  },
  {
   "cell_type": "code",
   "execution_count": 2,
   "metadata": {
    "collapsed": false
   },
   "outputs": [],
   "source": [
    "#!pip install rdflib\n",
    "#!pip install pydot2\n",
    "#!pip install pydotplus"
   ]
  },
  {
   "cell_type": "code",
   "execution_count": 3,
   "metadata": {
    "collapsed": false
   },
   "outputs": [],
   "source": [
    "import rdflib\n",
    "from rdflib.namespace import RDFS\n",
    "from rdflib import URIRef, BNode, Literal\n",
    "import re\n",
    "from collections import defaultdict\n",
    "import numpy as np\n",
    "import pandas as pd"
   ]
  },
  {
   "cell_type": "code",
   "execution_count": 4,
   "metadata": {
    "collapsed": false
   },
   "outputs": [
    {
     "name": "stdout",
     "output_type": "stream",
     "text": [
      "29283\n"
     ]
    }
   ],
   "source": [
    "def ns(url):\n",
    "  url = url.replace(\"http://buildsys.org/ontologies/Brick#\", \"\")\n",
    "  url = url.replace(\"http://buildsys.org/ontologies/BrickFrame#\", \"\")\n",
    "  url = url.replace(\"http://buildsys.org/ontologies/BrickTag#\", \"\")\n",
    "  return url\n",
    "\n",
    "BRICKF = rdflib.Namespace('http://buildsys.org/ontologies/BrickFrame#')\n",
    "TAGS   = rdflib.Namespace('http://buildsys.org/ontologies/BrickTag#')\n",
    "TS     = rdflib.Namespace('http://buildsys.org/ontologies/Brick#')\n",
    "\n",
    "g = rdflib.Graph()\n",
    "g.bind( 'bf', BRICKF)\n",
    "g.bind('tag', TAGS)\n",
    "g.bind( 'ts', TS)\n",
    "result = g.parse('../../../Brick/BrickFrame.ttl', format='n3')\n",
    "result = g.parse('../../../Brick/BrickTag.ttl', format='n3')\n",
    "result = g.parse('../../../Brick/Brick.ttl', format='n3')\n",
    "print(len(g))"
   ]
  },
  {
   "cell_type": "markdown",
   "metadata": {},
   "source": [
    "define your own namespace"
   ]
  },
  {
   "cell_type": "code",
   "execution_count": 5,
   "metadata": {
    "collapsed": false
   },
   "outputs": [],
   "source": [
    "MyNS = rdflib.Namespace('http://buildsys.org/ontologies/examples/'+exampleName+'#')\n",
    "g.bind(':', MyNS)"
   ]
  },
  {
   "cell_type": "markdown",
   "metadata": {},
   "source": [
    "### Load TagSets"
   ]
  },
  {
   "cell_type": "code",
   "execution_count": 6,
   "metadata": {
    "collapsed": false
   },
   "outputs": [
    {
     "data": {
      "text/plain": [
       "314"
      ]
     },
     "execution_count": 6,
     "metadata": {},
     "output_type": "execute_result"
    }
   ],
   "source": [
    "qres = g.query(\"\"\"SELECT DISTINCT ?ts WHERE {  ?ts rdfs:subClassOf+ bf:Tag . }\"\"\")\n",
    "brickTags=set()\n",
    "for row in qres:\n",
    "  ts=ns(row['ts'])\n",
    "  brickTags.add(ns(row['ts']))\n",
    "len(brickTags)"
   ]
  },
  {
   "cell_type": "code",
   "execution_count": 7,
   "metadata": {
    "collapsed": false
   },
   "outputs": [
    {
     "data": {
      "text/plain": [
       "1952"
      ]
     },
     "execution_count": 7,
     "metadata": {},
     "output_type": "execute_result"
    }
   ],
   "source": [
    "qres = g.query(\"\"\"SELECT DISTINCT ?ts WHERE {  ?ts rdfs:subClassOf+ bf:TagSet . }\"\"\")\n",
    "brickTagSets=set()\n",
    "brickTagSetTags={}\n",
    "for row in qres:\n",
    "  ts=ns(row['ts'])\n",
    "  brickTagSets.add(ts)\n",
    "  brickTagSetTags[ts]=set(ts.split('_'))\n",
    "len(brickTagSets)"
   ]
  },
  {
   "cell_type": "code",
   "execution_count": 8,
   "metadata": {
    "collapsed": false
   },
   "outputs": [
    {
     "data": {
      "text/plain": [
       "14"
      ]
     },
     "execution_count": 8,
     "metadata": {},
     "output_type": "execute_result"
    }
   ],
   "source": [
    "qres = g.query(\"\"\"SELECT DISTINCT ?ts WHERE {  ?ts rdfs:subClassOf+ ts:Location . }\"\"\")\n",
    "loc_tags=set(['Location'])\n",
    "for row in qres:\n",
    "  ts=ns(row['ts'])\n",
    "  loc_tags.add(ts)\n",
    "len(loc_tags)"
   ]
  },
  {
   "cell_type": "code",
   "execution_count": 9,
   "metadata": {
    "collapsed": false
   },
   "outputs": [
    {
     "data": {
      "text/plain": [
       "1336"
      ]
     },
     "execution_count": 9,
     "metadata": {},
     "output_type": "execute_result"
    }
   ],
   "source": [
    "qres = g.query(\"\"\"SELECT DISTINCT ?ts WHERE {  ?ts rdfs:subClassOf+ ts:Point . }\"\"\")\n",
    "point_tags=set(['Point'])\n",
    "pointTagSetTags={}\n",
    "for row in qres:\n",
    "  ts=ns(row['ts'])\n",
    "  point_tags.add(ts)\n",
    "  pointTagSetTags[ts]=set(ts.split('_'))\n",
    "len(point_tags)"
   ]
  },
  {
   "cell_type": "code",
   "execution_count": 10,
   "metadata": {
    "collapsed": false
   },
   "outputs": [
    {
     "data": {
      "text/plain": [
       "766"
      ]
     },
     "execution_count": 10,
     "metadata": {},
     "output_type": "execute_result"
    }
   ],
   "source": [
    "qres = g.query(\"\"\"SELECT DISTINCT ?ts WHERE {  ?ts rdfs:subClassOf+ ts:MeasurementProperty . }\"\"\")\n",
    "measurment_tags=set(['MeasurementProperty'])\n",
    "for row in qres:\n",
    "  ts=ns(row['ts'])\n",
    "  measurment_tags.add(ns(row['ts']))\n",
    "len(measurment_tags)"
   ]
  },
  {
   "cell_type": "code",
   "execution_count": 11,
   "metadata": {
    "collapsed": false
   },
   "outputs": [
    {
     "data": {
      "text/plain": [
       "155"
      ]
     },
     "execution_count": 11,
     "metadata": {},
     "output_type": "execute_result"
    }
   ],
   "source": [
    "qres = g.query(\"\"\"SELECT DISTINCT ?ts WHERE {  ?ts rdfs:subClassOf+ ts:Equipment . }\"\"\")\n",
    "asset_tags=set(['Asset'])\n",
    "for row in qres:\n",
    "  ts=ns(row['ts'])\n",
    "  asset_tags.add(ns(row['ts']))\n",
    "len(asset_tags)"
   ]
  },
  {
   "cell_type": "markdown",
   "metadata": {},
   "source": [
    "remove hierachical tags"
   ]
  },
  {
   "cell_type": "code",
   "execution_count": 12,
   "metadata": {
    "collapsed": false
   },
   "outputs": [
    {
     "data": {
      "text/plain": [
       "1335"
      ]
     },
     "execution_count": 12,
     "metadata": {},
     "output_type": "execute_result"
    }
   ],
   "source": [
    "qres = g.query(\"\"\"SELECT DISTINCT ?ts WHERE {  ?ts bf:isHierarchical \"\". }\"\"\")\n",
    "for row in qres:\n",
    "  ts=ns(row['ts'])\n",
    "  if ts in brickTags: brickTags.remove(ts)\n",
    "  if ts in brickTagSets: brickTagSets.remove(ts)\n",
    "  if ts in brickTagSetTags: del brickTagSetTags[ts]\n",
    "  if ts in point_tags: point_tags.remove(ts)\n",
    "  if ts in asset_tags: asset_tags.remove(ts)\n",
    "  if ts in measurment_tags: measurment_tags.remove(ts)\n",
    "  if ts in pointTagSetTags: del pointTagSetTags[ts]\n",
    "len(brickTagSets)\n",
    "len(point_tags)"
   ]
  },
  {
   "cell_type": "code",
   "execution_count": null,
   "metadata": {
    "collapsed": false
   },
   "outputs": [],
   "source": []
  },
  {
   "cell_type": "code",
   "execution_count": 13,
   "metadata": {
    "collapsed": false
   },
   "outputs": [],
   "source": [
    "def IndivName(name):\n",
    "  rname=re.sub(r'\\s','_',re.sub(r'[^\\d\\w\\s]', '', name))\n",
    "  if rname[0].isdigit(): rname='d'+rname\n",
    "  return rname"
   ]
  },
  {
   "cell_type": "markdown",
   "metadata": {},
   "source": [
    "### Load Data"
   ]
  },
  {
   "cell_type": "code",
   "execution_count": 14,
   "metadata": {
    "collapsed": false
   },
   "outputs": [
    {
     "data": {
      "text/html": [
       "<div>\n",
       "<table border=\"1\" class=\"dataframe\">\n",
       "  <thead>\n",
       "    <tr style=\"text-align: right;\">\n",
       "      <th></th>\n",
       "      <th>Label</th>\n",
       "      <th>TagSet</th>\n",
       "      <th>AssetType</th>\n",
       "      <th>Asset</th>\n",
       "      <th>AssetParent</th>\n",
       "      <th>isFedBy</th>\n",
       "      <th>City</th>\n",
       "      <th>Building</th>\n",
       "      <th>Wing</th>\n",
       "      <th>Floor</th>\n",
       "      <th>Room</th>\n",
       "      <th>Zone</th>\n",
       "      <th>AssetType2</th>\n",
       "      <th>Asset2</th>\n",
       "    </tr>\n",
       "  </thead>\n",
       "  <tbody>\n",
       "    <tr>\n",
       "      <th>0</th>\n",
       "      <td>1F_MID_OPENOFF_CO2</td>\n",
       "      <td>CO2_Sensor</td>\n",
       "      <td>NaN</td>\n",
       "      <td>NaN</td>\n",
       "      <td>NaN</td>\n",
       "      <td>AHU1;Boiler1;Boiler2;Chiller1</td>\n",
       "      <td>Dublin</td>\n",
       "      <td>B3</td>\n",
       "      <td>SOR42</td>\n",
       "      <td>FirstFloor</td>\n",
       "      <td>OpenOffice</td>\n",
       "      <td>Middle</td>\n",
       "      <td>NaN</td>\n",
       "      <td>NaN</td>\n",
       "    </tr>\n",
       "    <tr>\n",
       "      <th>1</th>\n",
       "      <td>1F_NRTH_OPENOFF_CO2</td>\n",
       "      <td>CO2_Sensor</td>\n",
       "      <td>NaN</td>\n",
       "      <td>NaN</td>\n",
       "      <td>NaN</td>\n",
       "      <td>AHU1;Boiler1;Boiler2;Chiller1</td>\n",
       "      <td>Dublin</td>\n",
       "      <td>B3</td>\n",
       "      <td>SOR42</td>\n",
       "      <td>FirstFloor</td>\n",
       "      <td>OpenOffice</td>\n",
       "      <td>North</td>\n",
       "      <td>NaN</td>\n",
       "      <td>NaN</td>\n",
       "    </tr>\n",
       "    <tr>\n",
       "      <th>2</th>\n",
       "      <td>1F_STH_OPENOFF_CO2</td>\n",
       "      <td>CO2_Sensor</td>\n",
       "      <td>NaN</td>\n",
       "      <td>NaN</td>\n",
       "      <td>NaN</td>\n",
       "      <td>AHU1;Boiler1;Boiler2;Chiller1</td>\n",
       "      <td>Dublin</td>\n",
       "      <td>B3</td>\n",
       "      <td>SOR42</td>\n",
       "      <td>FirstFloor</td>\n",
       "      <td>OpenOffice</td>\n",
       "      <td>South</td>\n",
       "      <td>NaN</td>\n",
       "      <td>NaN</td>\n",
       "    </tr>\n",
       "    <tr>\n",
       "      <th>3</th>\n",
       "      <td>421_U10_CLG_VLV</td>\n",
       "      <td>FCU_Cooling_Valve_Command</td>\n",
       "      <td>FCU</td>\n",
       "      <td>42-FCU10</td>\n",
       "      <td>NaN</td>\n",
       "      <td>AHU1;Boiler1;Boiler2;Chiller1</td>\n",
       "      <td>Dublin</td>\n",
       "      <td>B3</td>\n",
       "      <td>SOR42</td>\n",
       "      <td>FirstFloor</td>\n",
       "      <td>SOR42_1_U10</td>\n",
       "      <td>NaN</td>\n",
       "      <td>NaN</td>\n",
       "      <td>NaN</td>\n",
       "    </tr>\n",
       "    <tr>\n",
       "      <th>4</th>\n",
       "      <td>421_U10_DAT</td>\n",
       "      <td>FCU_Supply_Air_Temperature_Sensor</td>\n",
       "      <td>FCU</td>\n",
       "      <td>42-FCU10</td>\n",
       "      <td>NaN</td>\n",
       "      <td>AHU1;Boiler1;Boiler2;Chiller1</td>\n",
       "      <td>Dublin</td>\n",
       "      <td>B3</td>\n",
       "      <td>SOR42</td>\n",
       "      <td>FirstFloor</td>\n",
       "      <td>SOR42_1_U10</td>\n",
       "      <td>NaN</td>\n",
       "      <td>NaN</td>\n",
       "      <td>NaN</td>\n",
       "    </tr>\n",
       "  </tbody>\n",
       "</table>\n",
       "</div>"
      ],
      "text/plain": [
       "                 Label                             TagSet AssetType     Asset  \\\n",
       "0   1F_MID_OPENOFF_CO2                         CO2_Sensor       NaN       NaN   \n",
       "1  1F_NRTH_OPENOFF_CO2                         CO2_Sensor       NaN       NaN   \n",
       "2   1F_STH_OPENOFF_CO2                         CO2_Sensor       NaN       NaN   \n",
       "3      421_U10_CLG_VLV          FCU_Cooling_Valve_Command       FCU  42-FCU10   \n",
       "4          421_U10_DAT  FCU_Supply_Air_Temperature_Sensor       FCU  42-FCU10   \n",
       "\n",
       "  AssetParent                        isFedBy    City Building   Wing  \\\n",
       "0         NaN  AHU1;Boiler1;Boiler2;Chiller1  Dublin       B3  SOR42   \n",
       "1         NaN  AHU1;Boiler1;Boiler2;Chiller1  Dublin       B3  SOR42   \n",
       "2         NaN  AHU1;Boiler1;Boiler2;Chiller1  Dublin       B3  SOR42   \n",
       "3         NaN  AHU1;Boiler1;Boiler2;Chiller1  Dublin       B3  SOR42   \n",
       "4         NaN  AHU1;Boiler1;Boiler2;Chiller1  Dublin       B3  SOR42   \n",
       "\n",
       "        Floor         Room    Zone AssetType2 Asset2  \n",
       "0  FirstFloor   OpenOffice  Middle        NaN    NaN  \n",
       "1  FirstFloor   OpenOffice   North        NaN    NaN  \n",
       "2  FirstFloor   OpenOffice   South        NaN    NaN  \n",
       "3  FirstFloor  SOR42_1_U10     NaN        NaN    NaN  \n",
       "4  FirstFloor  SOR42_1_U10     NaN        NaN    NaN  "
      ]
     },
     "execution_count": 14,
     "metadata": {},
     "output_type": "execute_result"
    }
   ],
   "source": [
    "df=pd.read_csv('IBM_B3_points.csv',sep=\";\")\n",
    "if testing: df=df.head(20)\n",
    "df.head()"
   ]
  },
  {
   "cell_type": "code",
   "execution_count": 15,
   "metadata": {
    "collapsed": false
   },
   "outputs": [
    {
     "data": {
      "text/plain": [
       "2154"
      ]
     },
     "execution_count": 15,
     "metadata": {},
     "output_type": "execute_result"
    }
   ],
   "source": [
    "len(df)"
   ]
  },
  {
   "cell_type": "markdown",
   "metadata": {},
   "source": [
    "Analyze Dataset"
   ]
  },
  {
   "cell_type": "code",
   "execution_count": 16,
   "metadata": {
    "collapsed": false
   },
   "outputs": [
    {
     "data": {
      "text/plain": [
       "73"
      ]
     },
     "execution_count": 16,
     "metadata": {},
     "output_type": "execute_result"
    }
   ],
   "source": [
    "dfTags=set()\n",
    "dfTagSets=set(pd.unique(df.TagSet.dropna().ravel()))\n",
    "for ts in dfTagSets:\n",
    "  dfTags.update(ts.split('_'))\n",
    "len(dfTags)"
   ]
  },
  {
   "cell_type": "code",
   "execution_count": null,
   "metadata": {
    "collapsed": false
   },
   "outputs": [],
   "source": []
  },
  {
   "cell_type": "code",
   "execution_count": 17,
   "metadata": {
    "collapsed": false
   },
   "outputs": [
    {
     "name": "stdout",
     "output_type": "stream",
     "text": [
      "Missing Tags from Bricks:6\n",
      "{'Condensator', 'Fresh', 'Boiler', 'Minimum', 'Number', 'Gas'}\n"
     ]
    }
   ],
   "source": [
    "dfMissingTags=dfTags - brickTags # schemaUsedTags - \n",
    "print(\"Missing Tags from Bricks:\" + str(len(dfMissingTags)))\n",
    "print(dfMissingTags)"
   ]
  },
  {
   "cell_type": "markdown",
   "metadata": {},
   "source": [
    "Find best matching tag sets for the defined ones"
   ]
  },
  {
   "cell_type": "code",
   "execution_count": 18,
   "metadata": {
    "collapsed": false
   },
   "outputs": [],
   "source": [
    "closestMatches={}\n",
    "fullMatches={}\n",
    "for ts in pd.unique(df.TagSet.dropna().ravel()):\n",
    "  if ts in pointTagSetTags:\n",
    "    closestMatches[ts]=[ts]\n",
    "    fullMatches[ts]=ts\n",
    "    #print(\"Match: \"+ts)\n",
    "  else:\n",
    "    tss=set(ts.split('_'))\n",
    "    largestSubset=[]\n",
    "    largestIntersect=0\n",
    "    for ts2 in pointTagSetTags:\n",
    "      inters=tss.intersection(pointTagSetTags[ts2])\n",
    "      if len(inters)>largestIntersect:\n",
    "        largestIntersect=len(inters)\n",
    "        largestSubset=[] # reset largestSubset\n",
    "      if len(inters)==largestIntersect:\n",
    "        largestSubset.append(ts2) # add to the largest sets\n",
    "    smalestSubset=largestSubset\n",
    "    if len(largestSubset)>1:\n",
    "      smalestDiff=len(tss)\n",
    "      smalestSubset=[]\n",
    "      for ts2 in largestSubset:\n",
    "        diffs=pointTagSetTags[ts2] - tss\n",
    "        if len(diffs)<smalestDiff:\n",
    "          smalestDiff=len(diffs)\n",
    "          smalestSubset=[] # reset largestSubset\n",
    "        if len(diffs)==smalestDiff:\n",
    "          smalestSubset.append(ts2) # add to the largest sets\n",
    "    closestMatches[ts]=smalestSubset\n",
    "    #print(\"Best \"+ts+\":\"+str(smalestSubset))"
   ]
  },
  {
   "cell_type": "markdown",
   "metadata": {},
   "source": [
    "Manual Mapping based on the results."
   ]
  },
  {
   "cell_type": "code",
   "execution_count": null,
   "metadata": {
    "collapsed": false
   },
   "outputs": [],
   "source": []
  },
  {
   "cell_type": "code",
   "execution_count": 19,
   "metadata": {
    "collapsed": false,
    "scrolled": true
   },
   "outputs": [
    {
     "name": "stdout",
     "output_type": "stream",
     "text": [
      "Boiler_Start_Number_Sensor:['Boiler_Start_Stop_Status', 'Boiler_Run_Time_Sensor']\n",
      "Boiler_Condensator_Setpoint:['Condensator_Setpoint']\n"
     ]
    }
   ],
   "source": [
    "for ts in closestMatches:\n",
    "  if ts not in fullMatches:\n",
    "    print(ts+\":\"+str(closestMatches[ts]))"
   ]
  },
  {
   "cell_type": "markdown",
   "metadata": {},
   "source": [
    "write header"
   ]
  },
  {
   "cell_type": "code",
   "execution_count": 30,
   "metadata": {
    "collapsed": false
   },
   "outputs": [
    {
     "data": {
      "text/plain": [
       "66"
      ]
     },
     "execution_count": 30,
     "metadata": {},
     "output_type": "execute_result"
    }
   ],
   "source": [
    "fo = open(exampleName+'.ttl', 'w')\n",
    "fo.write(\"\"\"@prefix owl: <http://www.w3.org/2002/07/owl#> .\n",
    "@prefix rdf: <http://www.w3.org/1999/02/22-rdf-syntax-ns#> .\n",
    "@prefix rdfs: <http://www.w3.org/2000/01/rdf-schema#> .\\n\"\"\")\n",
    "fo.write(\"@prefix bf:  <http://buildsys.org/ontologies/BrickFrame#> .\\n\")\n",
    "fo.write(\"@prefix tag: <http://buildsys.org/ontologies/BrickTag#> .\\n\")\n",
    "fo.write(\"@prefix ts:  <http://buildsys.org/ontologies/Brick#> .\\n\")\n",
    "fo.write(\"@prefix : <\"+str(MyNS)+\"> .\\n\\n\")\n",
    "fo.write(\"<\"+str(MyNS).replace(\"#\",\"\")+\">  a owl:Ontology ;\\n\")\n",
    "fo.write(\"\\towl:imports <http://buildsys.org/ontologies/Brick> ;\\n\")\n",
    "fo.write('\\trdfs:comment \"'+exampleDescription+'\"@en .\\n\\n')"
   ]
  },
  {
   "cell_type": "markdown",
   "metadata": {},
   "source": [
    "write locations"
   ]
  },
  {
   "cell_type": "code",
   "execution_count": 31,
   "metadata": {
    "collapsed": false
   },
   "outputs": [],
   "source": [
    "# create location individuals\n",
    "locationCols=[\"City\",\"Building\",\"Wing\",\"Floor\",\"Room\",\"Zone\"]\n",
    "locations={}\n",
    "for col in locationCols:\n",
    "  for indiv in pd.unique(df[col].dropna().ravel()):\n",
    "    if indiv!=\"\":\n",
    "      indivLocName=IndivName(col+\"_\"+indiv)\n",
    "      fo.write(\"\\n :\"+indivLocName+\"  a   ts:\"+col+\";\")\n",
    "      fo.write('\\n\\t\\t\\t rdfs:label \"'+indiv+'\"@en .\\n')\n",
    "      locations[indiv]=indivLocName\n",
    "# add relations\n",
    "for idx in df.index:\n",
    "  for ci in range(1,len(locationCols)):\n",
    "    childIndiv =df.loc[idx,locationCols[ci]]\n",
    "    parentIndiv=df.loc[idx,locationCols[ci-1]]\n",
    "    if childIndiv in locations and parentIndiv in locations:\n",
    "      fo.write(\"\\n :\"+locations[childIndiv]+\"  bf:isPartOf   :\"+locations[parentIndiv]+\".\")\n",
    "      fo.write(\"\\n :\"+locations[parentIndiv]+\"  bf:hasPart   :\"+locations[childIndiv]+\".\\n\")"
   ]
  },
  {
   "cell_type": "markdown",
   "metadata": {},
   "source": [
    "write assets"
   ]
  },
  {
   "cell_type": "code",
   "execution_count": 32,
   "metadata": {
    "collapsed": true
   },
   "outputs": [],
   "source": [
    "# create asset individuals\n",
    "assets={}\n",
    "for idx in df.index:\n",
    "  assetName = str(df.loc[idx, \"Asset\"])\n",
    "  if assetName==\"\" or assetName==\"nan\" or assetName in assets: \n",
    "    continue\n",
    "  assetType = df.loc[idx, \"AssetType\"]\n",
    "  indivLocName=IndivName(assetType+\"_\"+assetName)\n",
    "  fo.write(\"\\n :\"+indivLocName+\"  a  ts:\"+assetType+\";\")\n",
    "  fo.write('\\n\\t\\t\\t rdfs:label \"'+assetName+'\"@en .\\n')\n",
    "  assets[assetName] = indivLocName\n",
    "  assetParent = str(df.loc[idx, \"AssetParent\"])\n",
    "  if assetParent!=\"\" and assetParent!=\"nan\":\n",
    "    if assetParent not in assets:\n",
    "      parentLocName=IndivName(assetType+\"_\"+assetParent)\n",
    "      fo.write(\"\\n :\"+parentLocName+\"  a   ts:\"+assetType+\";\")\n",
    "      fo.write('\\n\\t\\t\\t rdfs:label \"'+assetParent+'\"@en .\\n')\n",
    "      assets[assetParent] = parentLocName\n",
    "    fo.write(\"\\n :\"+assets[assetName]+\"  bf:isPartOf   :\"+assets[assetParent]+\".\")\n",
    "    fo.write(\"\\n :\"+assets[assetParent]+\"  bf:hasPart   :\"+assets[assetName]+\".\\n\")"
   ]
  },
  {
   "cell_type": "code",
   "execution_count": 33,
   "metadata": {
    "collapsed": false
   },
   "outputs": [],
   "source": [
    "for idx in df.index:\n",
    "  assetName = str(df.loc[idx, \"Asset\"])\n",
    "  if assetName==\"\" or assetName==\"nan\": \n",
    "    continue\n",
    "  assetFeed = str(df.loc[idx, \"isFedBy\"])\n",
    "  if assetFeed!=\"\" and assetFeed!=\"nan\":\n",
    "    for feed in assetFeed.split(\";\"):\n",
    "      fo.write(\"\\n :\"+assets[assetName]+\"  bf:isFedBy   :\"+assets[feed]+\".\")\n",
    "      fo.write(\"\\n :\"+assets[feed]+\"  bf:feeds   :\"+assets[assetName]+\".\\n\")"
   ]
  },
  {
   "cell_type": "code",
   "execution_count": 34,
   "metadata": {
    "collapsed": true
   },
   "outputs": [],
   "source": [
    "for idx in df.index:\n",
    "  assetName = str(df.loc[idx, \"Asset2\"])\n",
    "  if assetName==\"\" or assetName==\"nan\" or assetName in assets: \n",
    "    continue\n",
    "  assetType = df.loc[idx, \"AssetType2\"]\n",
    "  indivLocName=IndivName(assetType+\"_\"+assetName)\n",
    "  fo.write(\"\\n :\"+indivLocName+\"  a  ts:\"+assetType+\";\")\n",
    "  fo.write('\\n\\t\\t\\t rdfs:label \"'+assetName+'\"@en .\\n')\n",
    "  assets[assetName] = indivLocName"
   ]
  },
  {
   "cell_type": "markdown",
   "metadata": {},
   "source": [
    "analyze tag sets"
   ]
  },
  {
   "cell_type": "code",
   "execution_count": 36,
   "metadata": {
    "collapsed": false
   },
   "outputs": [],
   "source": [
    "for idx in df.index:\n",
    "  pointIndivName = IndivName(df.loc[idx, \"Label\"])\n",
    "  pointType = df.loc[idx, \"TagSet\"]\n",
    "  if pointType in fullMatches:\n",
    "    tags=set(pointType.split('_')) | set(fullMatches[pointType].split('_'))\n",
    "    fo.write(\"\\n :\"+pointIndivName+\"  a  bf:Label, bf:TagSet, ts:\"+fullMatches[pointType]+\";\")\n",
    "  else:\n",
    "    tags=set(pointType.split('_'))\n",
    "    fo.write(\"\\n :\"+pointType+\"  rdfs:subClassOf   bf:TagSet.\")\n",
    "    fo.write(\"\\n :\"+pointIndivName+\"  a   bf:Label, bf:TagSet, :\"+pointType+\";\")\n",
    "  fo.write('\\n \\t\\t\\t rdfs:label \"'+df.loc[idx, \"Label\"]+'\"@en ;')\n",
    "  # write tags\n",
    "  #for tag in tags:\n",
    "  #  fo.write(\"\\n \\t\\t\\t bf:hasTag   :\"+tag+\"0;\")\n",
    "  # write location\n",
    "  loc=df.loc[idx, locationCols].dropna().ravel()[-1]\n",
    "  fo.write(\"\\n \\t\\t\\t bf:isPointOf :\"+locations[loc]+';')\n",
    "  fo.write(\"\\n \\t\\t\\t bf:isLocatedIn :\"+locations[loc]+'. \\n')\n",
    "  fo.write(\"\\n :\"+locations[loc]+\"  bf:hasPoint  :\"+pointIndivName+\".\")\n",
    "  # write assets\n",
    "  assetName = str(df.loc[idx, \"Asset\"])\n",
    "  assetType = str(df.loc[idx, \"AssetType\"])\n",
    "  if assetName!=\"\" and assetName!=\"nan\":\n",
    "    fo.write(\"\\n :\"+assets[assetName]+\"  bf:hasPoint  :\"+pointIndivName+\".\")\n",
    "    fo.write(\"\\n :\"+pointIndivName+\"  bf:isPointOf  :\"+assets[assetName]+\".\\n\")\n",
    "    if \"FCU\" in assetName or \"Lighting\" in assetType:\n",
    "      fo.write(\"\\n :\"+assets[assetName]+\"  bf:feeds  :\"+locations[loc]+\".\")\n",
    "      fo.write(\"\\n :\"+locations[loc]+\"  bf:isFedBy   :\"+assets[assetName]+\".\")\n",
    "  assetName = str(df.loc[idx, \"Asset2\"])\n",
    "  assetType = str(df.loc[idx, \"AssetType2\"])\n",
    "  if assetName!=\"\" and assetName!=\"nan\":\n",
    "    fo.write(\"\\n :\"+assets[assetName]+\"  bf:hasPoint  :\"+pointIndivName+\".\")\n",
    "    fo.write(\"\\n :\"+pointIndivName+\"  bf:isPointOf  :\"+assets[assetName]+\".\\n\")\n",
    "    if \"FCU\" in assetName or \"Lighting\" in assetType:\n",
    "      fo.write(\"\\n :\"+assets[assetName]+\"  bf:feeds  :\"+locations[loc]+\".\")\n",
    "      fo.write(\"\\n :\"+locations[loc]+\"  bf:isFedBy   :\"+assets[assetName]+\".\")"
   ]
  },
  {
   "cell_type": "code",
   "execution_count": 37,
   "metadata": {
    "collapsed": false
   },
   "outputs": [],
   "source": [
    "fo.close()"
   ]
  },
  {
   "cell_type": "code",
   "execution_count": 38,
   "metadata": {
    "collapsed": false
   },
   "outputs": [],
   "source": [
    "g = rdflib.Graph()\n",
    "result = g.parse(exampleName+'.ttl', format='n3')\n",
    "g.serialize(destination=exampleName+'.ttl', format='turtle')"
   ]
  },
  {
   "cell_type": "code",
   "execution_count": 39,
   "metadata": {
    "collapsed": false
   },
   "outputs": [
    {
     "name": "stdout",
     "output_type": "stream",
     "text": [
      "14074\n"
     ]
    }
   ],
   "source": [
    "qres = g.query(\"\"\"SELECT DISTINCT ?a ?b WHERE {  ?a bf:hasPoint ?b . }\"\"\")\n",
    "ln=len(qres)\n",
    "qres = g.query(\"\"\"SELECT DISTINCT ?a ?b WHERE {  ?a bf:isPointOf ?b . }\"\"\")\n",
    "ln+=len(qres)\n",
    "qres = g.query(\"\"\"SELECT DISTINCT ?a ?b WHERE {  ?a bf:isFedBy ?b . }\"\"\")\n",
    "ln+=len(qres)\n",
    "qres = g.query(\"\"\"SELECT DISTINCT ?a ?b WHERE {  ?a bf:feeds ?b . }\"\"\")\n",
    "ln+=len(qres)\n",
    "qres = g.query(\"\"\"SELECT DISTINCT ?a ?b WHERE {  ?a bf:isPartOf ?b . }\"\"\")\n",
    "ln+=len(qres)\n",
    "qres = g.query(\"\"\"SELECT DISTINCT ?a ?b WHERE {  ?a bf:hasPart ?b . }\"\"\")\n",
    "ln+=len(qres)\n",
    "qres = g.query(\"\"\"SELECT DISTINCT ?a ?b WHERE {  ?a bf:isLocatedIn ?b . }\"\"\")\n",
    "ln+=len(qres)\n",
    "print(ln)"
   ]
  },
  {
   "cell_type": "code",
   "execution_count": null,
   "metadata": {
    "collapsed": true
   },
   "outputs": [],
   "source": []
  }
 ],
 "metadata": {
  "anaconda-cloud": {},
  "kernelspec": {
   "display_name": "Python [Root]",
   "language": "python",
   "name": "Python [Root]"
  },
  "language_info": {
   "codemirror_mode": {
    "name": "ipython",
    "version": 3
   },
   "file_extension": ".py",
   "mimetype": "text/x-python",
   "name": "python",
   "nbconvert_exporter": "python",
   "pygments_lexer": "ipython3",
   "version": "3.5.2"
  }
 },
 "nbformat": 4,
 "nbformat_minor": 0
}
