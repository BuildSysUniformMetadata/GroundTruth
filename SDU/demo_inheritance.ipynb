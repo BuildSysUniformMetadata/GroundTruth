{
 "cells": [
  {
   "cell_type": "code",
   "execution_count": 1,
   "metadata": {
    "collapsed": true
   },
   "outputs": [],
   "source": [
    "#!/usr/bin/env python\n",
    "\n",
    "from rdflib import Graph, Namespace, URIRef, Literal\n",
    "import rdflib"
   ]
  },
  {
   "cell_type": "code",
   "execution_count": null,
   "metadata": {
    "collapsed": true
   },
   "outputs": [],
   "source": []
  },
  {
   "cell_type": "code",
   "execution_count": 6,
   "metadata": {
    "collapsed": false
   },
   "outputs": [
    {
     "name": "stdout",
     "output_type": "stream",
     "text": [
      "13448\n"
     ]
    }
   ],
   "source": [
    "RDF = Namespace('http://www.w3.org/1999/02/22-rdf-syntax-ns#')\n",
    "RDFS = Namespace('http://www.w3.org/2000/01/rdf-schema#')\n",
    "BF = rdflib.Namespace('http://buildsys.org/ontologies/BrickFrame#')\n",
    "TAGS   = rdflib.Namespace('http://buildsys.org/ontologies/BrickTag#')\n",
    "TS     = rdflib.Namespace('http://buildsys.org/ontologies/Brick#')\n",
    "\n",
    "g = rdflib.Graph()\n",
    "g.bind( 'rdf', RDF)\n",
    "g.bind('rdfs', RDFS)\n",
    "g.bind( 'bf', BF)\n",
    "g.bind('tag', TAGS)\n",
    "g.bind( 'ts', TS)\n",
    "result = g.parse('../BuildingSchema/BrickFrame.ttl', format='n3')\n",
    "result = g.parse('../BuildingSchema/BrickTag.ttl', format='n3')\n",
    "result = g.parse('../BuildingSchema/Brick.ttl', format='n3')\n",
    "print(len(g))"
   ]
  },
  {
   "cell_type": "code",
   "execution_count": 7,
   "metadata": {
    "collapsed": true
   },
   "outputs": [],
   "source": [
    "MyNS = rdflib.Namespace('http://buildsys.org/ontologies/examples/CollingTower#')\n",
    "g.bind(':', MyNS)"
   ]
  },
  {
   "cell_type": "code",
   "execution_count": null,
   "metadata": {
    "collapsed": false
   },
   "outputs": [],
   "source": []
  },
  {
   "cell_type": "code",
   "execution_count": 8,
   "metadata": {
    "collapsed": false
   },
   "outputs": [
    {
     "name": "stdout",
     "output_type": "stream",
     "text": [
      "          [TagSet]\n",
      "              ^\n",
      "              |\n",
      "      +-------+------+ inherits\n",
      "      |              |\n",
      "[Cooling_Tower] [Chilled_Water_Pump]\n",
      "      |              |\n",
      "      | instance     | instance\n",
      "      |              |\n",
      "    (ct) --feeds--> (wp)\n",
      "\n"
     ]
    }
   ],
   "source": [
    "cooling_tower = URIRef('ct')\n",
    "g.add( (cooling_tower, RDF.type, TS['Cooling_Tower']) )\n",
    "\n",
    "water_pump = URIRef('wp')\n",
    "g.add( (water_pump, RDF.type, TS['Chilled_Water_Pump']) )\n",
    "\n",
    "g.add( (cooling_tower, BF.feeds, water_pump) )\n",
    "\n",
    "cooling_tower = URIRef('ct')\n",
    "g.add( (cooling_tower, RDF.type, TS['Cooling_Tower']) )\n",
    "\n",
    "water_pump = URIRef('wp')\n",
    "g.add( (water_pump, RDF.type, TS['Chilled_Water_Pump']) )\n",
    "\n",
    "g.add( (cooling_tower, BF.feeds, water_pump) )\n",
    "\n",
    "print('          [TagSet]')\n",
    "print('              ^')\n",
    "print('              |')\n",
    "print('      +-------+------+ inherits')\n",
    "print('      |              |')\n",
    "print('[Cooling_Tower] [Chilled_Water_Pump]')\n",
    "print('      |              |')\n",
    "print('      | instance     | instance')\n",
    "print('      |              |')\n",
    "print('    (ct) --feeds--> (wp)')\n",
    "print('')"
   ]
  },
  {
   "cell_type": "code",
   "execution_count": 9,
   "metadata": {
    "collapsed": false
   },
   "outputs": [
    {
     "name": "stdout",
     "output_type": "stream",
     "text": [
      "Matches for [(?) feeds (?)]:\n",
      "  ct -> wp\n",
      "total: 1\n",
      "\n"
     ]
    }
   ],
   "source": [
    "r = g.query(\"\"\"SELECT DISTINCT ?ct ?wp \n",
    "    WHERE { \n",
    "      ?ct bf:feeds ?wp .  \n",
    "    }\"\"\")\n",
    "\n",
    "print('Matches for [(?) feeds (?)]:')\n",
    "for pair in r:\n",
    "    print('  %s -> %s' % pair)\n",
    "print('total: '+str(len(r)) )\n",
    "print('')"
   ]
  },
  {
   "cell_type": "code",
   "execution_count": 10,
   "metadata": {
    "collapsed": false
   },
   "outputs": [
    {
     "name": "stdout",
     "output_type": "stream",
     "text": [
      "Matches for [Cooling_Tower feeds Water_Pump]:\n",
      "  ct -> wp\n",
      "total: 1\n",
      "\n"
     ]
    }
   ],
   "source": [
    "r = g.query(\"\"\"SELECT DISTINCT ?ct ?wp \n",
    "    WHERE { \n",
    "      ?ct a ts:Cooling_Tower .  \n",
    "      ?wp a ts:Chilled_Water_Pump .  \n",
    "      ?ct bf:feeds ?wp .  \n",
    "    }\"\"\")\n",
    "\n",
    "print('Matches for [Cooling_Tower feeds Water_Pump]:')\n",
    "for pair in r:\n",
    "    print('  %s -> %s' % pair)\n",
    "print('total: '+str(len(r)) )\n",
    "print('')"
   ]
  },
  {
   "cell_type": "code",
   "execution_count": 11,
   "metadata": {
    "collapsed": false
   },
   "outputs": [
    {
     "name": "stdout",
     "output_type": "stream",
     "text": [
      "Matches for [Cooling_Tower feeds TagSet]:\n",
      "total: 0\n",
      "\n"
     ]
    }
   ],
   "source": [
    "r = g.query(\n",
    "    \"\"\"SELECT DISTINCT ?ct ?wp\n",
    "       WHERE {\n",
    "          ?ct a ts:Cooling_Tower .\n",
    "          ?wp a bf:TagSet .\n",
    "          ?ct bf:feeds ?wp .\n",
    "       }\"\"\")\n",
    "\n",
    "print('Matches for [Cooling_Tower feeds TagSet]:')\n",
    "for pair in r:\n",
    "    print('  %s -> %s' % pair)\n",
    "print('total: '+str(len(r)))\n",
    "print('')"
   ]
  },
  {
   "cell_type": "code",
   "execution_count": 12,
   "metadata": {
    "collapsed": false
   },
   "outputs": [
    {
     "name": "stdout",
     "output_type": "stream",
     "text": [
      "Matches for [Cooling_Tower feeds (?) rdfs:subClassOf* bs:TagSet]:\n",
      "  ct -> http://buildsys.org/ontologies/Brick#Chilled_Water_Pump -> wp\n",
      "total: 1\n",
      "\n"
     ]
    }
   ],
   "source": [
    "r = g.query(\n",
    "    \"\"\"SELECT DISTINCT ?ct ?someclass ?wp\n",
    "       WHERE {\n",
    "          ?ct bf:feeds ?wp .\n",
    "          ?ct a ts:Cooling_Tower .\n",
    "          ?wp a ?someclass .\n",
    "          ?someclass rdfs:subClassOf* bf:TagSet .\n",
    "       }\"\"\")\n",
    "\n",
    "print('Matches for [Cooling_Tower feeds (?) rdfs:subClassOf* bs:TagSet]:')\n",
    "for pair in r:\n",
    "    print('  %s -> %s -> %s' % pair)\n",
    "print('total: '+str(len(r)) )\n",
    "print('')"
   ]
  },
  {
   "cell_type": "code",
   "execution_count": null,
   "metadata": {
    "collapsed": true
   },
   "outputs": [],
   "source": []
  }
 ],
 "metadata": {
  "kernelspec": {
   "display_name": "Python 3",
   "language": "python",
   "name": "python3"
  },
  "language_info": {
   "codemirror_mode": {
    "name": "ipython",
    "version": 3
   },
   "file_extension": ".py",
   "mimetype": "text/x-python",
   "name": "python",
   "nbconvert_exporter": "python",
   "pygments_lexer": "ipython3",
   "version": "3.5.1"
  }
 },
 "nbformat": 4,
 "nbformat_minor": 0
}
